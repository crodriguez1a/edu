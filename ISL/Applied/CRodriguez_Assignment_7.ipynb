{
 "cells": [
  {
   "cell_type": "code",
   "execution_count": 519,
   "id": "1fc7590b",
   "metadata": {},
   "outputs": [],
   "source": [
    "library(ISLR)\n",
    "data(\"Weekly\")"
   ]
  },
  {
   "cell_type": "markdown",
   "id": "30e337ca",
   "metadata": {},
   "source": [
    "# 10a) \n",
    "\n",
    "Produce some numerical and graphical summaries of the Weekly data. Do there appear to be any patterns?\n",
    " - Year and volume appear to have a positive association and are highly correlated."
   ]
  },
  {
   "cell_type": "code",
   "execution_count": 520,
   "id": "f10c43f3",
   "metadata": {},
   "outputs": [
    {
     "data": {
      "text/plain": [
       "      Year           Lag1               Lag2               Lag3         \n",
       " Min.   :1990   Min.   :-18.1950   Min.   :-18.1950   Min.   :-18.1950  \n",
       " 1st Qu.:1995   1st Qu.: -1.1540   1st Qu.: -1.1540   1st Qu.: -1.1580  \n",
       " Median :2000   Median :  0.2410   Median :  0.2410   Median :  0.2410  \n",
       " Mean   :2000   Mean   :  0.1506   Mean   :  0.1511   Mean   :  0.1472  \n",
       " 3rd Qu.:2005   3rd Qu.:  1.4050   3rd Qu.:  1.4090   3rd Qu.:  1.4090  \n",
       " Max.   :2010   Max.   : 12.0260   Max.   : 12.0260   Max.   : 12.0260  \n",
       "      Lag4               Lag5              Volume            Today         \n",
       " Min.   :-18.1950   Min.   :-18.1950   Min.   :0.08747   Min.   :-18.1950  \n",
       " 1st Qu.: -1.1580   1st Qu.: -1.1660   1st Qu.:0.33202   1st Qu.: -1.1540  \n",
       " Median :  0.2380   Median :  0.2340   Median :1.00268   Median :  0.2410  \n",
       " Mean   :  0.1458   Mean   :  0.1399   Mean   :1.57462   Mean   :  0.1499  \n",
       " 3rd Qu.:  1.4090   3rd Qu.:  1.4050   3rd Qu.:2.05373   3rd Qu.:  1.4050  \n",
       " Max.   : 12.0260   Max.   : 12.0260   Max.   :9.32821   Max.   : 12.0260  \n",
       " Direction \n",
       " Down:484  \n",
       " Up  :605  \n",
       "           \n",
       "           \n",
       "           \n",
       "           "
      ]
     },
     "metadata": {},
     "output_type": "display_data"
    }
   ],
   "source": [
    "summary(Weekly)"
   ]
  },
  {
   "cell_type": "code",
   "execution_count": 521,
   "id": "5d621ae9",
   "metadata": {},
   "outputs": [
    {
     "data": {
      "text/html": [
       "1089"
      ],
      "text/latex": [
       "1089"
      ],
      "text/markdown": [
       "1089"
      ],
      "text/plain": [
       "[1] 1089"
      ]
     },
     "metadata": {},
     "output_type": "display_data"
    }
   ],
   "source": [
    "length(Weekly$Year)"
   ]
  },
  {
   "cell_type": "code",
   "execution_count": 522,
   "id": "e019b238",
   "metadata": {},
   "outputs": [
    {
     "data": {
      "text/html": [
       "<table class=\"dataframe\">\n",
       "<caption>A matrix: 8 × 8 of type dbl</caption>\n",
       "<thead>\n",
       "\t<tr><th></th><th scope=col>Year</th><th scope=col>Lag1</th><th scope=col>Lag2</th><th scope=col>Lag3</th><th scope=col>Lag4</th><th scope=col>Lag5</th><th scope=col>Volume</th><th scope=col>Today</th></tr>\n",
       "</thead>\n",
       "<tbody>\n",
       "\t<tr><th scope=row>Year</th><td> 1.00000000</td><td>-0.032289274</td><td>-0.03339001</td><td>-0.03000649</td><td>-0.031127923</td><td>-0.030519101</td><td> 0.84194162</td><td>-0.032459894</td></tr>\n",
       "\t<tr><th scope=row>Lag1</th><td>-0.03228927</td><td> 1.000000000</td><td>-0.07485305</td><td> 0.05863568</td><td>-0.071273876</td><td>-0.008183096</td><td>-0.06495131</td><td>-0.075031842</td></tr>\n",
       "\t<tr><th scope=row>Lag2</th><td>-0.03339001</td><td>-0.074853051</td><td> 1.00000000</td><td>-0.07572091</td><td> 0.058381535</td><td>-0.072499482</td><td>-0.08551314</td><td> 0.059166717</td></tr>\n",
       "\t<tr><th scope=row>Lag3</th><td>-0.03000649</td><td> 0.058635682</td><td>-0.07572091</td><td> 1.00000000</td><td>-0.075395865</td><td> 0.060657175</td><td>-0.06928771</td><td>-0.071243639</td></tr>\n",
       "\t<tr><th scope=row>Lag4</th><td>-0.03112792</td><td>-0.071273876</td><td> 0.05838153</td><td>-0.07539587</td><td> 1.000000000</td><td>-0.075675027</td><td>-0.06107462</td><td>-0.007825873</td></tr>\n",
       "\t<tr><th scope=row>Lag5</th><td>-0.03051910</td><td>-0.008183096</td><td>-0.07249948</td><td> 0.06065717</td><td>-0.075675027</td><td> 1.000000000</td><td>-0.05851741</td><td> 0.011012698</td></tr>\n",
       "\t<tr><th scope=row>Volume</th><td> 0.84194162</td><td>-0.064951313</td><td>-0.08551314</td><td>-0.06928771</td><td>-0.061074617</td><td>-0.058517414</td><td> 1.00000000</td><td>-0.033077783</td></tr>\n",
       "\t<tr><th scope=row>Today</th><td>-0.03245989</td><td>-0.075031842</td><td> 0.05916672</td><td>-0.07124364</td><td>-0.007825873</td><td> 0.011012698</td><td>-0.03307778</td><td> 1.000000000</td></tr>\n",
       "</tbody>\n",
       "</table>\n"
      ],
      "text/latex": [
       "A matrix: 8 × 8 of type dbl\n",
       "\\begin{tabular}{r|llllllll}\n",
       "  & Year & Lag1 & Lag2 & Lag3 & Lag4 & Lag5 & Volume & Today\\\\\n",
       "\\hline\n",
       "\tYear &  1.00000000 & -0.032289274 & -0.03339001 & -0.03000649 & -0.031127923 & -0.030519101 &  0.84194162 & -0.032459894\\\\\n",
       "\tLag1 & -0.03228927 &  1.000000000 & -0.07485305 &  0.05863568 & -0.071273876 & -0.008183096 & -0.06495131 & -0.075031842\\\\\n",
       "\tLag2 & -0.03339001 & -0.074853051 &  1.00000000 & -0.07572091 &  0.058381535 & -0.072499482 & -0.08551314 &  0.059166717\\\\\n",
       "\tLag3 & -0.03000649 &  0.058635682 & -0.07572091 &  1.00000000 & -0.075395865 &  0.060657175 & -0.06928771 & -0.071243639\\\\\n",
       "\tLag4 & -0.03112792 & -0.071273876 &  0.05838153 & -0.07539587 &  1.000000000 & -0.075675027 & -0.06107462 & -0.007825873\\\\\n",
       "\tLag5 & -0.03051910 & -0.008183096 & -0.07249948 &  0.06065717 & -0.075675027 &  1.000000000 & -0.05851741 &  0.011012698\\\\\n",
       "\tVolume &  0.84194162 & -0.064951313 & -0.08551314 & -0.06928771 & -0.061074617 & -0.058517414 &  1.00000000 & -0.033077783\\\\\n",
       "\tToday & -0.03245989 & -0.075031842 &  0.05916672 & -0.07124364 & -0.007825873 &  0.011012698 & -0.03307778 &  1.000000000\\\\\n",
       "\\end{tabular}\n"
      ],
      "text/markdown": [
       "\n",
       "A matrix: 8 × 8 of type dbl\n",
       "\n",
       "| <!--/--> | Year | Lag1 | Lag2 | Lag3 | Lag4 | Lag5 | Volume | Today |\n",
       "|---|---|---|---|---|---|---|---|---|\n",
       "| Year |  1.00000000 | -0.032289274 | -0.03339001 | -0.03000649 | -0.031127923 | -0.030519101 |  0.84194162 | -0.032459894 |\n",
       "| Lag1 | -0.03228927 |  1.000000000 | -0.07485305 |  0.05863568 | -0.071273876 | -0.008183096 | -0.06495131 | -0.075031842 |\n",
       "| Lag2 | -0.03339001 | -0.074853051 |  1.00000000 | -0.07572091 |  0.058381535 | -0.072499482 | -0.08551314 |  0.059166717 |\n",
       "| Lag3 | -0.03000649 |  0.058635682 | -0.07572091 |  1.00000000 | -0.075395865 |  0.060657175 | -0.06928771 | -0.071243639 |\n",
       "| Lag4 | -0.03112792 | -0.071273876 |  0.05838153 | -0.07539587 |  1.000000000 | -0.075675027 | -0.06107462 | -0.007825873 |\n",
       "| Lag5 | -0.03051910 | -0.008183096 | -0.07249948 |  0.06065717 | -0.075675027 |  1.000000000 | -0.05851741 |  0.011012698 |\n",
       "| Volume |  0.84194162 | -0.064951313 | -0.08551314 | -0.06928771 | -0.061074617 | -0.058517414 |  1.00000000 | -0.033077783 |\n",
       "| Today | -0.03245989 | -0.075031842 |  0.05916672 | -0.07124364 | -0.007825873 |  0.011012698 | -0.03307778 |  1.000000000 |\n",
       "\n"
      ],
      "text/plain": [
       "       Year        Lag1         Lag2        Lag3        Lag4        \n",
       "Year    1.00000000 -0.032289274 -0.03339001 -0.03000649 -0.031127923\n",
       "Lag1   -0.03228927  1.000000000 -0.07485305  0.05863568 -0.071273876\n",
       "Lag2   -0.03339001 -0.074853051  1.00000000 -0.07572091  0.058381535\n",
       "Lag3   -0.03000649  0.058635682 -0.07572091  1.00000000 -0.075395865\n",
       "Lag4   -0.03112792 -0.071273876  0.05838153 -0.07539587  1.000000000\n",
       "Lag5   -0.03051910 -0.008183096 -0.07249948  0.06065717 -0.075675027\n",
       "Volume  0.84194162 -0.064951313 -0.08551314 -0.06928771 -0.061074617\n",
       "Today  -0.03245989 -0.075031842  0.05916672 -0.07124364 -0.007825873\n",
       "       Lag5         Volume      Today       \n",
       "Year   -0.030519101  0.84194162 -0.032459894\n",
       "Lag1   -0.008183096 -0.06495131 -0.075031842\n",
       "Lag2   -0.072499482 -0.08551314  0.059166717\n",
       "Lag3    0.060657175 -0.06928771 -0.071243639\n",
       "Lag4   -0.075675027 -0.06107462 -0.007825873\n",
       "Lag5    1.000000000 -0.05851741  0.011012698\n",
       "Volume -0.058517414  1.00000000 -0.033077783\n",
       "Today   0.011012698 -0.03307778  1.000000000"
      ]
     },
     "metadata": {},
     "output_type": "display_data"
    }
   ],
   "source": [
    "cor(Weekly[, -9])"
   ]
  },
  {
   "cell_type": "code",
   "execution_count": 523,
   "id": "d7daafbd",
   "metadata": {},
   "outputs": [
    {
     "data": {
      "image/png": "[encoded data removed]",
      "text/plain": [
       "plot without title"
      ]
     },
     "metadata": {
      "image/png": {
       "height": 420,
       "width": 420
      }
     },
     "output_type": "display_data"
    }
   ],
   "source": [
    "plot(Weekly)"
   ]
  },
  {
   "cell_type": "markdown",
   "id": "40aaf16c",
   "metadata": {},
   "source": [
    "# 10b) \n",
    "\n",
    "Use the full data set to perform a logistic regression with Direction as the response and the five lag variables plush Volume as predictors. Use the summary function to print the results. Do any of the predictors appear to be statistically significant? If so, which ones?\n",
    "\n",
    "  - Only lag 2 appears to be statistically significant."
   ]
  },
  {
   "cell_type": "code",
   "execution_count": 524,
   "id": "0a565947",
   "metadata": {},
   "outputs": [],
   "source": [
    "options(scipen = 999)"
   ]
  },
  {
   "cell_type": "code",
   "execution_count": 525,
   "id": "15cc850a",
   "metadata": {},
   "outputs": [
    {
     "data": {
      "text/plain": [
       "\n",
       "Call:\n",
       "glm(formula = Direction ~ Lag1 + Lag2 + Lag3 + Lag4 + Lag5 + \n",
       "    Volume, family = binomial, data = Weekly)\n",
       "\n",
       "Deviance Residuals: \n",
       "    Min       1Q   Median       3Q      Max  \n",
       "-1.6949  -1.2565   0.9913   1.0849   1.4579  \n",
       "\n",
       "Coefficients:\n",
       "            Estimate Std. Error z value Pr(>|z|)   \n",
       "(Intercept)  0.26686    0.08593   3.106   0.0019 **\n",
       "Lag1        -0.04127    0.02641  -1.563   0.1181   \n",
       "Lag2         0.05844    0.02686   2.175   0.0296 * \n",
       "Lag3        -0.01606    0.02666  -0.602   0.5469   \n",
       "Lag4        -0.02779    0.02646  -1.050   0.2937   \n",
       "Lag5        -0.01447    0.02638  -0.549   0.5833   \n",
       "Volume      -0.02274    0.03690  -0.616   0.5377   \n",
       "---\n",
       "Signif. codes:  0 '***' 0.001 '**' 0.01 '*' 0.05 '.' 0.1 ' ' 1\n",
       "\n",
       "(Dispersion parameter for binomial family taken to be 1)\n",
       "\n",
       "    Null deviance: 1496.2  on 1088  degrees of freedom\n",
       "Residual deviance: 1486.4  on 1082  degrees of freedom\n",
       "AIC: 1500.4\n",
       "\n",
       "Number of Fisher Scoring iterations: 4\n"
      ]
     },
     "metadata": {},
     "output_type": "display_data"
    }
   ],
   "source": [
    "# ref: p158\n",
    "glm.fit = glm(Direction ~ Lag1 + Lag2 + Lag3 + Lag4 + Lag5 + Volume, data=Weekly, family=binomial)\n",
    "summary(glm.fit)\n",
    "\n",
    "glm.prob = predict(glm.fit, type=\"response\")\n",
    "glm.pred = rep(\"Down\", length(Weekly$Direction))\n",
    "glm.pred[glm.prob > 0.5] = \"Up\""
   ]
  },
  {
   "cell_type": "markdown",
   "id": "2b4235e8",
   "metadata": {},
   "source": [
    "# 10c)\n",
    "\n",
    "Compute the confusion matrix and overall fraction of correct predictions. Explain what the confusion matrix is telling you about the types of mistakes made by logistic regression. \n",
    "  - The fraction of correction predictions is ~56.1%\n",
    "  - Type I error - the model has good specificity (~92%), incorrectly predicting the upward trend at a rate of 8% (FPR) \n",
    "  - Type II error - the model has poor sensitivity (~11%), incorrectly predicting the downward trend 89% of the time (FNR) \n",
    "  "
   ]
  },
  {
   "cell_type": "code",
   "execution_count": 529,
   "id": "41cb4851",
   "metadata": {},
   "outputs": [
    {
     "data": {
      "text/plain": [
       "      y_true\n",
       "y_pred Down  Up\n",
       "  Down   54  48\n",
       "  Up    430 557"
      ]
     },
     "metadata": {},
     "output_type": "display_data"
    },
    {
     "data": {
      "text/html": [
       "0.561065197428834"
      ],
      "text/latex": [
       "0.561065197428834"
      ],
      "text/markdown": [
       "0.561065197428834"
      ],
      "text/plain": [
       "[1] 0.5610652"
      ]
     },
     "metadata": {},
     "output_type": "display_data"
    }
   ],
   "source": [
    "y_pred <- glm.pred\n",
    "y_true <- Weekly$Direction\n",
    "    \n",
    "cm = table(y_pred, y_true)\n",
    "cm\n",
    "mean(y_pred==y_true)"
   ]
  },
  {
   "cell_type": "code",
   "execution_count": 530,
   "id": "92fe97a5",
   "metadata": {
    "scrolled": true
   },
   "outputs": [
    {
     "data": {
      "text/html": [
       "0.438934802571166"
      ],
      "text/latex": [
       "0.438934802571166"
      ],
      "text/markdown": [
       "0.438934802571166"
      ],
      "text/plain": [
       "[1] 0.4389348"
      ]
     },
     "metadata": {},
     "output_type": "display_data"
    },
    {
     "data": {
      "text/html": [
       "0.438934802571166"
      ],
      "text/latex": [
       "0.438934802571166"
      ],
      "text/markdown": [
       "0.438934802571166"
      ],
      "text/plain": [
       "[1] 0.4389348"
      ]
     },
     "metadata": {},
     "output_type": "display_data"
    }
   ],
   "source": [
    "TP = cm[1]\n",
    "FN = cm[2] # Type II\n",
    "FP = cm[3] # Type I\n",
    "TN = cm[4]\n",
    "\n",
    "err = (FP + FN)/(TP+TN+FN+FP)\n",
    "err\n",
    "\n",
    "mean(y_pred!=y_true)"
   ]
  },
  {
   "cell_type": "code",
   "execution_count": 531,
   "id": "c666865b",
   "metadata": {},
   "outputs": [
    {
     "data": {
      "text/html": [
       "0.111570247933884"
      ],
      "text/latex": [
       "0.111570247933884"
      ],
      "text/markdown": [
       "0.111570247933884"
      ],
      "text/plain": [
       "[1] 0.1115702"
      ]
     },
     "metadata": {},
     "output_type": "display_data"
    },
    {
     "data": {
      "text/html": [
       "0.888429752066116"
      ],
      "text/latex": [
       "0.888429752066116"
      ],
      "text/markdown": [
       "0.888429752066116"
      ],
      "text/plain": [
       "[1] 0.8884298"
      ]
     },
     "metadata": {},
     "output_type": "display_data"
    }
   ],
   "source": [
    "sensitivity = TP/(FN+TP) # recall\n",
    "FNR = FN/(TP+FN)\n",
    "\n",
    "sensitivity; FNR"
   ]
  },
  {
   "cell_type": "code",
   "execution_count": 532,
   "id": "c2834cd0",
   "metadata": {},
   "outputs": [
    {
     "data": {
      "text/html": [
       "0.920661157024793"
      ],
      "text/latex": [
       "0.920661157024793"
      ],
      "text/markdown": [
       "0.920661157024793"
      ],
      "text/plain": [
       "[1] 0.9206612"
      ]
     },
     "metadata": {},
     "output_type": "display_data"
    },
    {
     "data": {
      "text/html": [
       "0.0793388429752066"
      ],
      "text/latex": [
       "0.0793388429752066"
      ],
      "text/markdown": [
       "0.0793388429752066"
      ],
      "text/plain": [
       "[1] 0.07933884"
      ]
     },
     "metadata": {},
     "output_type": "display_data"
    }
   ],
   "source": [
    "specificity = TN/(TN+FP)\n",
    "FPR = FP/(FP+TN)\n",
    "\n",
    "specificity; FPR"
   ]
  },
  {
   "cell_type": "markdown",
   "id": "f620658b",
   "metadata": {},
   "source": [
    "# 10d)\n",
    "\n",
    "Now fit the logistic regression model using a training data period from 1990 to 2008 with Lag2 as the only predictor. Compute the confusion matrix and the overall fraction of the correct predictions for the held out data (that is, the data from 2009 and 2010)"
   ]
  },
  {
   "cell_type": "code",
   "execution_count": 533,
   "id": "ee806e88",
   "metadata": {},
   "outputs": [],
   "source": [
    "# ref p159\n",
    "X_train = (Weekly$Year<=2008)\n",
    "holdout = !X_train\n",
    "X_test = Weekly[holdout,]\n",
    "y_test = Weekly$Direction[holdout]"
   ]
  },
  {
   "cell_type": "code",
   "execution_count": 534,
   "id": "5ced1095",
   "metadata": {},
   "outputs": [
    {
     "data": {
      "text/plain": [
       "\n",
       "Call:\n",
       "glm(formula = Direction ~ Lag2, family = binomial, data = Weekly, \n",
       "    subset = X_train)\n",
       "\n",
       "Deviance Residuals: \n",
       "   Min      1Q  Median      3Q     Max  \n",
       "-1.536  -1.264   1.021   1.091   1.368  \n",
       "\n",
       "Coefficients:\n",
       "            Estimate Std. Error z value Pr(>|z|)   \n",
       "(Intercept)  0.20326    0.06428   3.162  0.00157 **\n",
       "Lag2         0.05810    0.02870   2.024  0.04298 * \n",
       "---\n",
       "Signif. codes:  0 '***' 0.001 '**' 0.01 '*' 0.05 '.' 0.1 ' ' 1\n",
       "\n",
       "(Dispersion parameter for binomial family taken to be 1)\n",
       "\n",
       "    Null deviance: 1354.7  on 984  degrees of freedom\n",
       "Residual deviance: 1350.5  on 983  degrees of freedom\n",
       "AIC: 1354.5\n",
       "\n",
       "Number of Fisher Scoring iterations: 4\n"
      ]
     },
     "metadata": {},
     "output_type": "display_data"
    }
   ],
   "source": [
    "glm.fit = glm(formula=Direction~Lag2, data=Weekly, family=binomial, subset=X_train)\n",
    "summary(glm.fit)"
   ]
  },
  {
   "cell_type": "code",
   "execution_count": 535,
   "id": "645570ba",
   "metadata": {},
   "outputs": [
    {
     "data": {
      "text/plain": [
       "        y_test\n",
       "glm.pred Down Up\n",
       "    Down    9  5\n",
       "    Up     34 56"
      ]
     },
     "metadata": {},
     "output_type": "display_data"
    },
    {
     "data": {
      "text/html": [
       "0.625"
      ],
      "text/latex": [
       "0.625"
      ],
      "text/markdown": [
       "0.625"
      ],
      "text/plain": [
       "[1] 0.625"
      ]
     },
     "metadata": {},
     "output_type": "display_data"
    },
    {
     "data": {
      "text/html": [
       "0.375"
      ],
      "text/latex": [
       "0.375"
      ],
      "text/markdown": [
       "0.375"
      ],
      "text/plain": [
       "[1] 0.375"
      ]
     },
     "metadata": {},
     "output_type": "display_data"
    }
   ],
   "source": [
    "glm.probs = predict(glm.fit, X_test, type=\"response\")\n",
    "glm.pred = rep(\"Down\", length(y_test))\n",
    "glm.pred[glm.probs > 0.5] = \"Up\"\n",
    "\n",
    "glm.cm = table(glm.pred, y_test)\n",
    "glm.cm\n",
    "mean(glm.pred == y_test)\n",
    "mean(glm.pred != y_test)"
   ]
  },
  {
   "cell_type": "markdown",
   "id": "de9bf220",
   "metadata": {},
   "source": [
    "# 10e)\n",
    "\n",
    "Repeat (d) using LDA"
   ]
  },
  {
   "cell_type": "code",
   "execution_count": 536,
   "id": "4d2699bb",
   "metadata": {},
   "outputs": [],
   "source": [
    "library('MASS')"
   ]
  },
  {
   "cell_type": "code",
   "execution_count": 537,
   "id": "50662d84",
   "metadata": {},
   "outputs": [
    {
     "data": {
      "text/plain": [
       "        y_test\n",
       "lda.pred Down Up\n",
       "    Down    9  5\n",
       "    Up     34 56"
      ]
     },
     "metadata": {},
     "output_type": "display_data"
    },
    {
     "data": {
      "text/html": [
       "0.625"
      ],
      "text/latex": [
       "0.625"
      ],
      "text/markdown": [
       "0.625"
      ],
      "text/plain": [
       "[1] 0.625"
      ]
     },
     "metadata": {},
     "output_type": "display_data"
    },
    {
     "data": {
      "text/html": [
       "0.375"
      ],
      "text/latex": [
       "0.375"
      ],
      "text/markdown": [
       "0.375"
      ],
      "text/plain": [
       "[1] 0.375"
      ]
     },
     "metadata": {},
     "output_type": "display_data"
    }
   ],
   "source": [
    "# ref p161\n",
    "lda.fit = lda(Direction ~ Lag2, data=Weekly, subset=X_train)\n",
    "lda.pred = predict(lda.fit, X_test)$class\n",
    "\n",
    "lda.cm = table(lda.pred, y_test)\n",
    "lda.cm\n",
    "\n",
    "mean(lda.pred == y_test)\n",
    "mean(lda.pred != y_test)"
   ]
  },
  {
   "cell_type": "markdown",
   "id": "582293c6",
   "metadata": {},
   "source": [
    "# 10f)\n",
    "\n",
    "Repeat (d) using QDA"
   ]
  },
  {
   "cell_type": "code",
   "execution_count": 538,
   "id": "d939b7fa",
   "metadata": {},
   "outputs": [
    {
     "data": {
      "text/plain": [
       "        y_test\n",
       "qda.pred Down Up\n",
       "    Down    0  0\n",
       "    Up     43 61"
      ]
     },
     "metadata": {},
     "output_type": "display_data"
    },
    {
     "data": {
      "text/html": [
       "0.586538461538462"
      ],
      "text/latex": [
       "0.586538461538462"
      ],
      "text/markdown": [
       "0.586538461538462"
      ],
      "text/plain": [
       "[1] 0.5865385"
      ]
     },
     "metadata": {},
     "output_type": "display_data"
    },
    {
     "data": {
      "text/html": [
       "0.413461538461538"
      ],
      "text/latex": [
       "0.413461538461538"
      ],
      "text/markdown": [
       "0.413461538461538"
      ],
      "text/plain": [
       "[1] 0.4134615"
      ]
     },
     "metadata": {},
     "output_type": "display_data"
    }
   ],
   "source": [
    "qda.fit = qda(Direction ~ Lag2, data=Weekly, subset=X_train)\n",
    "qda.pred = predict(qda.fit, X_test)$class\n",
    "\n",
    "qda.cm = table(qda.pred, y_test)\n",
    "qda.cm\n",
    "\n",
    "mean(qda.pred == y_test)\n",
    "mean(qda.pred != y_test)"
   ]
  },
  {
   "cell_type": "markdown",
   "id": "5572999e",
   "metadata": {},
   "source": [
    "# 10g)\n",
    "\n",
    "Repeat (d) using KNN with K=1"
   ]
  },
  {
   "cell_type": "code",
   "execution_count": 539,
   "id": "be688478",
   "metadata": {},
   "outputs": [
    {
     "data": {
      "text/plain": [
       "        test.Direction\n",
       "knn.pred Down Up\n",
       "    Down   18 29\n",
       "    Up     25 32"
      ]
     },
     "metadata": {},
     "output_type": "display_data"
    },
    {
     "data": {
      "text/html": [
       "0.480769230769231"
      ],
      "text/latex": [
       "0.480769230769231"
      ],
      "text/markdown": [
       "0.480769230769231"
      ],
      "text/plain": [
       "[1] 0.4807692"
      ]
     },
     "metadata": {},
     "output_type": "display_data"
    },
    {
     "data": {
      "text/html": [
       "0.519230769230769"
      ],
      "text/latex": [
       "0.519230769230769"
      ],
      "text/markdown": [
       "0.519230769230769"
      ],
      "text/plain": [
       "[1] 0.5192308"
      ]
     },
     "metadata": {},
     "output_type": "display_data"
    }
   ],
   "source": [
    "# ref p164\n",
    "library(class)\n",
    "\n",
    "set.seed(1) # random seed\n",
    "\n",
    "train.X = cbind(Weekly$Lag1, Weekly$Lag2)[X_train ,]\n",
    "test.X = cbind(Weekly$Lag1, Weekly$Lag2)[!X_train ,]\n",
    "train.Direction = Weekly$Direction[X_train]\n",
    "test.Direction = Weekly$Direction[!X_train]\n",
    "\n",
    "knn.pred = knn(train.X, test.X, train.Direction, k=1)\n",
    "\n",
    "knn.cm = table(knn.pred, test.Direction)\n",
    "knn.cm\n",
    "\n",
    "mean(knn.pred == test.Direction)\n",
    "mean(knn.pred != test.Direction)"
   ]
  },
  {
   "cell_type": "markdown",
   "id": "72025813",
   "metadata": {},
   "source": [
    "# 10h)\n",
    "\n",
    "Which of these methods appears to provide the best results on this data?\n",
    "\n",
    "  - In this case, the generalized linear model and LDA produce identical results. Both have a smaller error rate and higher overall correct prediction rate compared to the QDA and KNN models."
   ]
  },
  {
   "cell_type": "markdown",
   "id": "942e1493",
   "metadata": {},
   "source": [
    "# 10i)\n",
    "Experiment with different combinations of predictions, including possible transformations and interactions, for each of the methods. Report the variables, method and associated confusion matrix that appears to provide the best results on the held out data. Note that you should also experiment with values for K in the KNN classifier.\n",
    "\n",
    " - Considering that only lag2 was significant, it is unlikely that other combinations of attributes will improve performance. As such, exploring the more flexible non-parametric approach has promise. Search for values for K, we find a comparable (slightly better) model when k=29 "
   ]
  },
  {
   "cell_type": "markdown",
   "id": "1256fd27",
   "metadata": {},
   "source": [
    "### Experiment 1 - Best value for K"
   ]
  },
  {
   "cell_type": "code",
   "execution_count": 540,
   "id": "a88384ad",
   "metadata": {},
   "outputs": [
    {
     "data": {
      "text/html": [
       "33"
      ],
      "text/latex": [
       "33"
      ],
      "text/markdown": [
       "33"
      ],
      "text/plain": [
       "[1] 33"
      ]
     },
     "metadata": {},
     "output_type": "display_data"
    }
   ],
   "source": [
    "# square root method\n",
    "sqrt(length(Weekly$Direction))"
   ]
  },
  {
   "cell_type": "code",
   "execution_count": 541,
   "id": "417d7306",
   "metadata": {},
   "outputs": [
    {
     "data": {
      "text/html": [
       "0.375"
      ],
      "text/latex": [
       "0.375"
      ],
      "text/markdown": [
       "0.375"
      ],
      "text/plain": [
       "[1] 0.375"
      ]
     },
     "metadata": {},
     "output_type": "display_data"
    },
    {
     "data": {
      "text/html": [
       "26"
      ],
      "text/latex": [
       "26"
      ],
      "text/markdown": [
       "26"
      ],
      "text/plain": [
       "[1] 26"
      ]
     },
     "metadata": {},
     "output_type": "display_data"
    },
    {
     "data": {
      "text/html": [
       "0.625"
      ],
      "text/latex": [
       "0.625"
      ],
      "text/markdown": [
       "0.625"
      ],
      "text/plain": [
       "[1] 0.625"
      ]
     },
     "metadata": {},
     "output_type": "display_data"
    },
    {
     "data": {
      "text/html": [
       "26"
      ],
      "text/latex": [
       "26"
      ],
      "text/markdown": [
       "26"
      ],
      "text/plain": [
       "[1] 26"
      ]
     },
     "metadata": {},
     "output_type": "display_data"
    }
   ],
   "source": [
    "errs = c(Inf)\n",
    "cprs = c(0)\n",
    "for(k in 1:99) {  \n",
    "    knn.pred = knn(train.X, test.X, train.Direction, k=k)\n",
    "    knn.cm = table(knn.pred, test.Direction)\n",
    "\n",
    "    cpr = mean(knn.pred == test.Direction)\n",
    "    err = mean(knn.pred != test.Direction)\n",
    "    \n",
    "    errs[[length(errs) + 1]] <- c(k=err)\n",
    "    cprs[[length(cprs) + 1]] <- c(k=cpr)   \n",
    "}\n",
    "\n",
    "\n",
    "min(errs)\n",
    "match(min(errs), errs)\n",
    "\n",
    "max(cprs)\n",
    "match(max(cprs), cprs)"
   ]
  },
  {
   "cell_type": "markdown",
   "id": "2f5f2884",
   "metadata": {},
   "source": [
    "# 11a)\n",
    "\n",
    "Create a binary variable, mpg01, that contains a 1 if mpg contains a value above its median, and a 0 if mpg contains a value below its median. You can compute the median using the median() function. Note you may find it helpful to use the data.frame() function to create a single data set containing both mpg01 and the other Auto variables."
   ]
  },
  {
   "cell_type": "code",
   "execution_count": 542,
   "id": "a8424625",
   "metadata": {},
   "outputs": [],
   "source": [
    "mpg01 = rep(0, length(Auto$mpg))\n",
    "mpg01[Auto$mpg > median(Auto$mpg)] = 1\n",
    "\n",
    "df = data.frame(Auto, mpg01)"
   ]
  },
  {
   "cell_type": "markdown",
   "id": "99cd9b6c",
   "metadata": {},
   "source": [
    "# 11b)\n",
    "\n",
    "Explore the data graphically in order to investigate the association between mpg01 and the other features. Which of the other features seem most likely to be useful in predicting mpg01? Scatterplots and boxplots may be useful tools to answer this question. Describe your findings.\n",
    "  - Visually, we can see that displacement, horsepower, and weight, have some directionality and association. Additionally, we can see that three are likely monotonically linked to one another. The relationships are clearly displayed when we boxplot mpg01 against each feature, respectively. "
   ]
  },
  {
   "cell_type": "code",
   "execution_count": 543,
   "id": "59a47761",
   "metadata": {},
   "outputs": [
    {
     "data": {
      "image/png": "[encoded data removed]",
      "text/plain": [
       "plot without title"
      ]
     },
     "metadata": {
      "image/png": {
       "height": 420,
       "width": 420
      }
     },
     "output_type": "display_data"
    }
   ],
   "source": [
    "plot(df)"
   ]
  },
  {
   "cell_type": "code",
   "execution_count": 544,
   "id": "597e019e",
   "metadata": {},
   "outputs": [
    {
     "data": {
      "image/png": "[encoded data removed]",
      "text/plain": [
       "plot without title"
      ]
     },
     "metadata": {
      "image/png": {
       "height": 420,
       "width": 420
      }
     },
     "output_type": "display_data"
    },
    {
     "data": {
      "image/png": "[encoded data removed]",
      "text/plain": [
       "plot without title"
      ]
     },
     "metadata": {
      "image/png": {
       "height": 420,
       "width": 420
      }
     },
     "output_type": "display_data"
    },
    {
     "data": {
      "image/png": "[encoded data removed]",
      "text/plain": [
       "plot without title"
      ]
     },
     "metadata": {
      "image/png": {
       "height": 420,
       "width": 420
      }
     },
     "output_type": "display_data"
    }
   ],
   "source": [
    "boxplot(displacement ~ mpg01, data=df)\n",
    "boxplot(horsepower ~ mpg01, data=df)\n",
    "boxplot(weight ~ mpg01, data=df)"
   ]
  },
  {
   "cell_type": "markdown",
   "id": "f7188909",
   "metadata": {},
   "source": [
    "# 11c)\n",
    "\n",
    "Split the data into a training set and a test set."
   ]
  },
  {
   "cell_type": "code",
   "execution_count": 583,
   "id": "d48b5d98",
   "metadata": {},
   "outputs": [],
   "source": [
    "# ref p191\n",
    "set.seed (123)\n",
    "\n",
    "# 80/20\n",
    "len = length(df$mpg01)\n",
    "train = sample(len, (len * .8))\n",
    "X_train = df[train,]\n",
    "\n",
    "X_test = df[-train, ]\n",
    "y_test = df$mpg01[-train]"
   ]
  },
  {
   "cell_type": "markdown",
   "id": "78076c61",
   "metadata": {},
   "source": [
    "# 11d)\n",
    "\n",
    "Perform LDA on the training data in order to predict mpg01 using the variables that seemed most associated with mpg01 in (b). What is the test error of the model obtained?\n",
    "  - The test error is ~14%"
   ]
  },
  {
   "cell_type": "code",
   "execution_count": 582,
   "id": "60833981",
   "metadata": {},
   "outputs": [
    {
     "data": {
      "text/plain": [
       "        y_test\n",
       "lda.pred  0  1\n",
       "       0 34  3\n",
       "       1  8 34"
      ]
     },
     "metadata": {},
     "output_type": "display_data"
    },
    {
     "data": {
      "text/html": [
       "0.139240506329114"
      ],
      "text/latex": [
       "0.139240506329114"
      ],
      "text/markdown": [
       "0.139240506329114"
      ],
      "text/plain": [
       "[1] 0.1392405"
      ]
     },
     "metadata": {},
     "output_type": "display_data"
    }
   ],
   "source": [
    "lda.fit = lda(mpg01 ~ displacement + horsepower + weight, data=X_train)\n",
    "\n",
    "lda.pred = predict(lda.fit, X_test)$class\n",
    "\n",
    "table(lda.pred, y_test)\n",
    "mean(lda.pred != y_test)"
   ]
  },
  {
   "cell_type": "markdown",
   "id": "12cb23fb",
   "metadata": {},
   "source": [
    "# 11e)\n",
    "\n",
    "Perform QDA on the training data in order to predict mpg01 using the variables that seemed most associated with mpg01 in (b). What is the test error of the model obtained?\n",
    "\n",
    "  - The test error is ~11.4%"
   ]
  },
  {
   "cell_type": "code",
   "execution_count": 550,
   "id": "8bf349db",
   "metadata": {},
   "outputs": [
    {
     "data": {
      "text/plain": [
       "        y_test\n",
       "qda.pred  0  1\n",
       "       0 37  4\n",
       "       1  5 33"
      ]
     },
     "metadata": {},
     "output_type": "display_data"
    },
    {
     "data": {
      "text/html": [
       "0.113924050632911"
      ],
      "text/latex": [
       "0.113924050632911"
      ],
      "text/markdown": [
       "0.113924050632911"
      ],
      "text/plain": [
       "[1] 0.1139241"
      ]
     },
     "metadata": {},
     "output_type": "display_data"
    }
   ],
   "source": [
    "qda.fit = qda(mpg01 ~ displacement + horsepower + weight, data=X_train)\n",
    "\n",
    "qda.pred = predict(qda.fit, X_test)$class\n",
    "\n",
    "table(qda.pred, y_test)\n",
    "mean(qda.pred != y_test)"
   ]
  },
  {
   "cell_type": "markdown",
   "id": "f53c1954",
   "metadata": {},
   "source": [
    "# 11f)\n",
    "\n",
    "Perform logistic regression on the training data in order to predict mpg01 using the variables that seemed most associated with mpg01 in (b). What is the test error of the model obtained?\n",
    "\n",
    "  - The error obtained is ~13.9%"
   ]
  },
  {
   "cell_type": "code",
   "execution_count": 567,
   "id": "5c175844",
   "metadata": {},
   "outputs": [
    {
     "data": {
      "text/plain": [
       "        y_test\n",
       "glm.pred  0  1\n",
       "       0 34  3\n",
       "       1  8 34"
      ]
     },
     "metadata": {},
     "output_type": "display_data"
    },
    {
     "data": {
      "text/html": [
       "0.139240506329114"
      ],
      "text/latex": [
       "0.139240506329114"
      ],
      "text/markdown": [
       "0.139240506329114"
      ],
      "text/plain": [
       "[1] 0.1392405"
      ]
     },
     "metadata": {},
     "output_type": "display_data"
    }
   ],
   "source": [
    "glm.fit = glm(mpg01 ~ displacement + horsepower + weight, data=X_train)\n",
    "\n",
    "glm.prob = predict(glm.fit, X_test, type=\"response\")\n",
    "glm.pred = rep(0, length(y_test))\n",
    "glm.pred[glm.prob > 0.5] = 1\n",
    "\n",
    "table(glm.pred, y_test)\n",
    "mean(glm.pred != y_test)"
   ]
  },
  {
   "cell_type": "markdown",
   "id": "0a15eb7a",
   "metadata": {},
   "source": [
    "# 11g)\n",
    "\n",
    "Perform KNN on the training data, with several values of K, in order to predict mpg01. Use only the variables that seemed most\n",
    "associated with mpg01 in (b). What test errors do you obtain? Which value of K seems to perform the best on this data set?\n",
    " - The minimum test error obtained occurs at K=10 and is ~12.7%"
   ]
  },
  {
   "cell_type": "code",
   "execution_count": 576,
   "id": "7766d808",
   "metadata": {},
   "outputs": [
    {
     "data": {
      "text/html": [
       "0.126582278481013"
      ],
      "text/latex": [
       "0.126582278481013"
      ],
      "text/markdown": [
       "0.126582278481013"
      ],
      "text/plain": [
       "[1] 0.1265823"
      ]
     },
     "metadata": {},
     "output_type": "display_data"
    },
    {
     "data": {
      "text/html": [
       "10"
      ],
      "text/latex": [
       "10"
      ],
      "text/markdown": [
       "10"
      ],
      "text/plain": [
       "[1] 10"
      ]
     },
     "metadata": {},
     "output_type": "display_data"
    }
   ],
   "source": [
    "train.X = cbind(X_train$displacement, X_train$horsepower, X_train$weight)\n",
    "test.X = cbind(X_test$displacement, X_test$horsepower, X_test$weight)\n",
    "train.mpg01 = X_train$mpg01\n",
    "test.mpg01 = X_test$mpg01\n",
    "\n",
    "errs = c(Inf)\n",
    "for(k in 1:99) {  \n",
    "    knn.pred = knn(train.X, test.X, train.mpg01, k=k)\n",
    "    err = mean(knn.pred != test.mpg01)\n",
    "    \n",
    "    errs[[length(errs) + 1]] <- c(k=err)\n",
    "    \n",
    "    # print(k)\n",
    "    # print(err)\n",
    "}\n",
    "\n",
    "\n",
    "min(errs)\n",
    "match(min(errs), errs)"
   ]
  },
  {
   "cell_type": "code",
   "execution_count": 577,
   "id": "190368a0",
   "metadata": {},
   "outputs": [
    {
     "data": {
      "image/png": "[encoded data removed]",
      "text/plain": [
       "plot without title"
      ]
     },
     "metadata": {
      "image/png": {
       "height": 420,
       "width": 420
      }
     },
     "output_type": "display_data"
    }
   ],
   "source": [
    "plot(errs)"
   ]
  },
  {
   "cell_type": "code",
   "execution_count": null,
   "id": "2212ba9d",
   "metadata": {},
   "outputs": [],
   "source": []
  }
 ],
 "metadata": {
  "kernelspec": {
   "display_name": "R",
   "language": "R",
   "name": "ir"
  },
  "language_info": {
   "codemirror_mode": "r",
   "file_extension": ".r",
   "mimetype": "text/x-r-source",
   "name": "R",
   "pygments_lexer": "r",
   "version": "4.2.1"
  }
 },
 "nbformat": 4,
 "nbformat_minor": 5
}
