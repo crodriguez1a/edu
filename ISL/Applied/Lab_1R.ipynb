{
 "cells": [
  {
   "cell_type": "markdown",
   "id": "informal-leave",
   "metadata": {},
   "source": [
    "# Lab Ch. 2 - 9,10\n",
    "\n",
    "This exercise involves the Auto data set studied in the lab. Make sure\n",
    "that the missing values have been removed from the data.\n",
    "\n",
    "- [x] (a) Which of the predictors are quantitative, and which are qualitative?\n",
    "    - origin, and name are qualitative, all others are quantitative\n",
    "    - year can be ambigous but in this case, year is a proxy to age of vehicle which is quantitative"
   ]
  },
  {
   "cell_type": "code",
   "execution_count": 1,
   "id": "after-oklahoma",
   "metadata": {},
   "outputs": [
    {
     "name": "stderr",
     "output_type": "stream",
     "text": [
      "Warning message:\n",
      "\"package 'Auto' is not available (for R version 3.6.1)\""
     ]
    }
   ],
   "source": [
    "install.packages(\"Auto\")"
   ]
  },
  {
   "cell_type": "code",
   "execution_count": 2,
   "id": "ruled-fairy",
   "metadata": {},
   "outputs": [
    {
     "data": {
      "text/html": [
       "<table>\n",
       "<thead><tr><th scope=col>mpg</th><th scope=col>cylinders</th><th scope=col>displacement</th><th scope=col>horsepower</th><th scope=col>weight</th><th scope=col>acceleration</th><th scope=col>year</th><th scope=col>origin</th><th scope=col>name</th></tr></thead>\n",
       "<tbody>\n",
       "\t<tr><td>18                          </td><td>8                           </td><td>307                         </td><td>130                         </td><td>3504                        </td><td>12.0                        </td><td>70                          </td><td>1                           </td><td>chevrolet chevelle malibu   </td></tr>\n",
       "\t<tr><td>15                          </td><td>8                           </td><td>350                         </td><td>165                         </td><td>3693                        </td><td>11.5                        </td><td>70                          </td><td>1                           </td><td>buick skylark 320           </td></tr>\n",
       "\t<tr><td>18                          </td><td>8                           </td><td>318                         </td><td>150                         </td><td>3436                        </td><td>11.0                        </td><td>70                          </td><td>1                           </td><td>plymouth satellite          </td></tr>\n",
       "\t<tr><td>16                          </td><td>8                           </td><td>304                         </td><td>150                         </td><td>3433                        </td><td>12.0                        </td><td>70                          </td><td>1                           </td><td>amc rebel sst               </td></tr>\n",
       "\t<tr><td>17                          </td><td>8                           </td><td>302                         </td><td>140                         </td><td>3449                        </td><td>10.5                        </td><td>70                          </td><td>1                           </td><td>ford torino                 </td></tr>\n",
       "\t<tr><td>15                          </td><td>8                           </td><td>429                         </td><td>198                         </td><td>4341                        </td><td>10.0                        </td><td>70                          </td><td>1                           </td><td>ford galaxie 500            </td></tr>\n",
       "\t<tr><td>14                          </td><td>8                           </td><td>454                         </td><td>220                         </td><td>4354                        </td><td> 9.0                        </td><td>70                          </td><td>1                           </td><td>chevrolet impala            </td></tr>\n",
       "\t<tr><td>14                          </td><td>8                           </td><td>440                         </td><td>215                         </td><td>4312                        </td><td> 8.5                        </td><td>70                          </td><td>1                           </td><td>plymouth fury iii           </td></tr>\n",
       "\t<tr><td>14                          </td><td>8                           </td><td>455                         </td><td>225                         </td><td>4425                        </td><td>10.0                        </td><td>70                          </td><td>1                           </td><td>pontiac catalina            </td></tr>\n",
       "\t<tr><td>15                          </td><td>8                           </td><td>390                         </td><td>190                         </td><td>3850                        </td><td> 8.5                        </td><td>70                          </td><td>1                           </td><td>amc ambassador dpl          </td></tr>\n",
       "\t<tr><td>15                          </td><td>8                           </td><td>383                         </td><td>170                         </td><td>3563                        </td><td>10.0                        </td><td>70                          </td><td>1                           </td><td>dodge challenger se         </td></tr>\n",
       "\t<tr><td>14                          </td><td>8                           </td><td>340                         </td><td>160                         </td><td>3609                        </td><td> 8.0                        </td><td>70                          </td><td>1                           </td><td>plymouth 'cuda 340          </td></tr>\n",
       "\t<tr><td>15                          </td><td>8                           </td><td>400                         </td><td>150                         </td><td>3761                        </td><td> 9.5                        </td><td>70                          </td><td>1                           </td><td>chevrolet monte carlo       </td></tr>\n",
       "\t<tr><td>14                          </td><td>8                           </td><td>455                         </td><td>225                         </td><td>3086                        </td><td>10.0                        </td><td>70                          </td><td>1                           </td><td>buick estate wagon (sw)     </td></tr>\n",
       "\t<tr><td>24                          </td><td>4                           </td><td>113                         </td><td> 95                         </td><td>2372                        </td><td>15.0                        </td><td>70                          </td><td>3                           </td><td>toyota corona mark ii       </td></tr>\n",
       "\t<tr><td>22                          </td><td>6                           </td><td>198                         </td><td> 95                         </td><td>2833                        </td><td>15.5                        </td><td>70                          </td><td>1                           </td><td>plymouth duster             </td></tr>\n",
       "\t<tr><td>18                          </td><td>6                           </td><td>199                         </td><td> 97                         </td><td>2774                        </td><td>15.5                        </td><td>70                          </td><td>1                           </td><td>amc hornet                  </td></tr>\n",
       "\t<tr><td>21                          </td><td>6                           </td><td>200                         </td><td> 85                         </td><td>2587                        </td><td>16.0                        </td><td>70                          </td><td>1                           </td><td>ford maverick               </td></tr>\n",
       "\t<tr><td>27                          </td><td>4                           </td><td> 97                         </td><td> 88                         </td><td>2130                        </td><td>14.5                        </td><td>70                          </td><td>3                           </td><td>datsun pl510                </td></tr>\n",
       "\t<tr><td>26                          </td><td>4                           </td><td> 97                         </td><td> 46                         </td><td>1835                        </td><td>20.5                        </td><td>70                          </td><td>2                           </td><td>volkswagen 1131 deluxe sedan</td></tr>\n",
       "\t<tr><td>25                          </td><td>4                           </td><td>110                         </td><td> 87                         </td><td>2672                        </td><td>17.5                        </td><td>70                          </td><td>2                           </td><td>peugeot 504                 </td></tr>\n",
       "\t<tr><td>24                          </td><td>4                           </td><td>107                         </td><td> 90                         </td><td>2430                        </td><td>14.5                        </td><td>70                          </td><td>2                           </td><td>audi 100 ls                 </td></tr>\n",
       "\t<tr><td>25                          </td><td>4                           </td><td>104                         </td><td> 95                         </td><td>2375                        </td><td>17.5                        </td><td>70                          </td><td>2                           </td><td>saab 99e                    </td></tr>\n",
       "\t<tr><td>26                          </td><td>4                           </td><td>121                         </td><td>113                         </td><td>2234                        </td><td>12.5                        </td><td>70                          </td><td>2                           </td><td>bmw 2002                    </td></tr>\n",
       "\t<tr><td>21                          </td><td>6                           </td><td>199                         </td><td> 90                         </td><td>2648                        </td><td>15.0                        </td><td>70                          </td><td>1                           </td><td>amc gremlin                 </td></tr>\n",
       "\t<tr><td>10                          </td><td>8                           </td><td>360                         </td><td>215                         </td><td>4615                        </td><td>14.0                        </td><td>70                          </td><td>1                           </td><td>ford f250                   </td></tr>\n",
       "\t<tr><td>10                          </td><td>8                           </td><td>307                         </td><td>200                         </td><td>4376                        </td><td>15.0                        </td><td>70                          </td><td>1                           </td><td>chevy c20                   </td></tr>\n",
       "\t<tr><td>11                          </td><td>8                           </td><td>318                         </td><td>210                         </td><td>4382                        </td><td>13.5                        </td><td>70                          </td><td>1                           </td><td>dodge d200                  </td></tr>\n",
       "\t<tr><td> 9                          </td><td>8                           </td><td>304                         </td><td>193                         </td><td>4732                        </td><td>18.5                        </td><td>70                          </td><td>1                           </td><td>hi 1200d                    </td></tr>\n",
       "\t<tr><td>27                          </td><td>4                           </td><td> 97                         </td><td> 88                         </td><td>2130                        </td><td>14.5                        </td><td>71                          </td><td>3                           </td><td>datsun pl510                </td></tr>\n",
       "\t<tr><td>...</td><td>...</td><td>...</td><td>...</td><td>...</td><td>...</td><td>...</td><td>...</td><td>...</td></tr>\n",
       "\t<tr><td>28                               </td><td>4                                </td><td>112                              </td><td> 88                              </td><td>2605                             </td><td>19.6                             </td><td>82                               </td><td>1                                </td><td>chevrolet cavalier               </td></tr>\n",
       "\t<tr><td>27                               </td><td>4                                </td><td>112                              </td><td> 88                              </td><td>2640                             </td><td>18.6                             </td><td>82                               </td><td>1                                </td><td>chevrolet cavalier wagon         </td></tr>\n",
       "\t<tr><td>34                               </td><td>4                                </td><td>112                              </td><td> 88                              </td><td>2395                             </td><td>18.0                             </td><td>82                               </td><td>1                                </td><td>chevrolet cavalier 2-door        </td></tr>\n",
       "\t<tr><td>31                               </td><td>4                                </td><td>112                              </td><td> 85                              </td><td>2575                             </td><td>16.2                             </td><td>82                               </td><td>1                                </td><td>pontiac j2000 se hatchback       </td></tr>\n",
       "\t<tr><td>29                               </td><td>4                                </td><td>135                              </td><td> 84                              </td><td>2525                             </td><td>16.0                             </td><td>82                               </td><td>1                                </td><td>dodge aries se                   </td></tr>\n",
       "\t<tr><td>27                               </td><td>4                                </td><td>151                              </td><td> 90                              </td><td>2735                             </td><td>18.0                             </td><td>82                               </td><td>1                                </td><td>pontiac phoenix                  </td></tr>\n",
       "\t<tr><td>24                               </td><td>4                                </td><td>140                              </td><td> 92                              </td><td>2865                             </td><td>16.4                             </td><td>82                               </td><td>1                                </td><td>ford fairmont futura             </td></tr>\n",
       "\t<tr><td>36                               </td><td>4                                </td><td>105                              </td><td> 74                              </td><td>1980                             </td><td>15.3                             </td><td>82                               </td><td>2                                </td><td>volkswagen rabbit l              </td></tr>\n",
       "\t<tr><td>37                               </td><td>4                                </td><td> 91                              </td><td> 68                              </td><td>2025                             </td><td>18.2                             </td><td>82                               </td><td>3                                </td><td>mazda glc custom l               </td></tr>\n",
       "\t<tr><td>31                               </td><td>4                                </td><td> 91                              </td><td> 68                              </td><td>1970                             </td><td>17.6                             </td><td>82                               </td><td>3                                </td><td>mazda glc custom                 </td></tr>\n",
       "\t<tr><td>38                               </td><td>4                                </td><td>105                              </td><td> 63                              </td><td>2125                             </td><td>14.7                             </td><td>82                               </td><td>1                                </td><td>plymouth horizon miser           </td></tr>\n",
       "\t<tr><td>36                               </td><td>4                                </td><td> 98                              </td><td> 70                              </td><td>2125                             </td><td>17.3                             </td><td>82                               </td><td>1                                </td><td>mercury lynx l                   </td></tr>\n",
       "\t<tr><td>36                               </td><td>4                                </td><td>120                              </td><td> 88                              </td><td>2160                             </td><td>14.5                             </td><td>82                               </td><td>3                                </td><td>nissan stanza xe                 </td></tr>\n",
       "\t<tr><td>36                               </td><td>4                                </td><td>107                              </td><td> 75                              </td><td>2205                             </td><td>14.5                             </td><td>82                               </td><td>3                                </td><td>honda accord                     </td></tr>\n",
       "\t<tr><td>34                               </td><td>4                                </td><td>108                              </td><td> 70                              </td><td>2245                             </td><td>16.9                             </td><td>82                               </td><td>3                                </td><td>toyota corolla                   </td></tr>\n",
       "\t<tr><td>38                               </td><td>4                                </td><td> 91                              </td><td> 67                              </td><td>1965                             </td><td>15.0                             </td><td>82                               </td><td>3                                </td><td>honda civic                      </td></tr>\n",
       "\t<tr><td>32                               </td><td>4                                </td><td> 91                              </td><td> 67                              </td><td>1965                             </td><td>15.7                             </td><td>82                               </td><td>3                                </td><td>honda civic (auto)               </td></tr>\n",
       "\t<tr><td>38                               </td><td>4                                </td><td> 91                              </td><td> 67                              </td><td>1995                             </td><td>16.2                             </td><td>82                               </td><td>3                                </td><td>datsun 310 gx                    </td></tr>\n",
       "\t<tr><td>25                               </td><td>6                                </td><td>181                              </td><td>110                              </td><td>2945                             </td><td>16.4                             </td><td>82                               </td><td>1                                </td><td>buick century limited            </td></tr>\n",
       "\t<tr><td>38                               </td><td>6                                </td><td>262                              </td><td> 85                              </td><td>3015                             </td><td>17.0                             </td><td>82                               </td><td>1                                </td><td>oldsmobile cutlass ciera (diesel)</td></tr>\n",
       "\t<tr><td>26                               </td><td>4                                </td><td>156                              </td><td> 92                              </td><td>2585                             </td><td>14.5                             </td><td>82                               </td><td>1                                </td><td>chrysler lebaron medallion       </td></tr>\n",
       "\t<tr><td>22                               </td><td>6                                </td><td>232                              </td><td>112                              </td><td>2835                             </td><td>14.7                             </td><td>82                               </td><td>1                                </td><td>ford granada l                   </td></tr>\n",
       "\t<tr><td>32                               </td><td>4                                </td><td>144                              </td><td> 96                              </td><td>2665                             </td><td>13.9                             </td><td>82                               </td><td>3                                </td><td>toyota celica gt                 </td></tr>\n",
       "\t<tr><td>36                               </td><td>4                                </td><td>135                              </td><td> 84                              </td><td>2370                             </td><td>13.0                             </td><td>82                               </td><td>1                                </td><td>dodge charger 2.2                </td></tr>\n",
       "\t<tr><td>27                               </td><td>4                                </td><td>151                              </td><td> 90                              </td><td>2950                             </td><td>17.3                             </td><td>82                               </td><td>1                                </td><td>chevrolet camaro                 </td></tr>\n",
       "\t<tr><td>27                               </td><td>4                                </td><td>140                              </td><td> 86                              </td><td>2790                             </td><td>15.6                             </td><td>82                               </td><td>1                                </td><td>ford mustang gl                  </td></tr>\n",
       "\t<tr><td>44                               </td><td>4                                </td><td> 97                              </td><td> 52                              </td><td>2130                             </td><td>24.6                             </td><td>82                               </td><td>2                                </td><td>vw pickup                        </td></tr>\n",
       "\t<tr><td>32                               </td><td>4                                </td><td>135                              </td><td> 84                              </td><td>2295                             </td><td>11.6                             </td><td>82                               </td><td>1                                </td><td>dodge rampage                    </td></tr>\n",
       "\t<tr><td>28                               </td><td>4                                </td><td>120                              </td><td> 79                              </td><td>2625                             </td><td>18.6                             </td><td>82                               </td><td>1                                </td><td>ford ranger                      </td></tr>\n",
       "\t<tr><td>31                               </td><td>4                                </td><td>119                              </td><td> 82                              </td><td>2720                             </td><td>19.4                             </td><td>82                               </td><td>1                                </td><td>chevy s-10                       </td></tr>\n",
       "</tbody>\n",
       "</table>\n"
      ],
      "text/latex": [
       "\\begin{tabular}{r|lllllllll}\n",
       " mpg & cylinders & displacement & horsepower & weight & acceleration & year & origin & name\\\\\n",
       "\\hline\n",
       "\t 18                           & 8                            & 307                          & 130                          & 3504                         & 12.0                         & 70                           & 1                            & chevrolet chevelle malibu   \\\\\n",
       "\t 15                           & 8                            & 350                          & 165                          & 3693                         & 11.5                         & 70                           & 1                            & buick skylark 320           \\\\\n",
       "\t 18                           & 8                            & 318                          & 150                          & 3436                         & 11.0                         & 70                           & 1                            & plymouth satellite          \\\\\n",
       "\t 16                           & 8                            & 304                          & 150                          & 3433                         & 12.0                         & 70                           & 1                            & amc rebel sst               \\\\\n",
       "\t 17                           & 8                            & 302                          & 140                          & 3449                         & 10.5                         & 70                           & 1                            & ford torino                 \\\\\n",
       "\t 15                           & 8                            & 429                          & 198                          & 4341                         & 10.0                         & 70                           & 1                            & ford galaxie 500            \\\\\n",
       "\t 14                           & 8                            & 454                          & 220                          & 4354                         &  9.0                         & 70                           & 1                            & chevrolet impala            \\\\\n",
       "\t 14                           & 8                            & 440                          & 215                          & 4312                         &  8.5                         & 70                           & 1                            & plymouth fury iii           \\\\\n",
       "\t 14                           & 8                            & 455                          & 225                          & 4425                         & 10.0                         & 70                           & 1                            & pontiac catalina            \\\\\n",
       "\t 15                           & 8                            & 390                          & 190                          & 3850                         &  8.5                         & 70                           & 1                            & amc ambassador dpl          \\\\\n",
       "\t 15                           & 8                            & 383                          & 170                          & 3563                         & 10.0                         & 70                           & 1                            & dodge challenger se         \\\\\n",
       "\t 14                           & 8                            & 340                          & 160                          & 3609                         &  8.0                         & 70                           & 1                            & plymouth 'cuda 340          \\\\\n",
       "\t 15                           & 8                            & 400                          & 150                          & 3761                         &  9.5                         & 70                           & 1                            & chevrolet monte carlo       \\\\\n",
       "\t 14                           & 8                            & 455                          & 225                          & 3086                         & 10.0                         & 70                           & 1                            & buick estate wagon (sw)     \\\\\n",
       "\t 24                           & 4                            & 113                          &  95                          & 2372                         & 15.0                         & 70                           & 3                            & toyota corona mark ii       \\\\\n",
       "\t 22                           & 6                            & 198                          &  95                          & 2833                         & 15.5                         & 70                           & 1                            & plymouth duster             \\\\\n",
       "\t 18                           & 6                            & 199                          &  97                          & 2774                         & 15.5                         & 70                           & 1                            & amc hornet                  \\\\\n",
       "\t 21                           & 6                            & 200                          &  85                          & 2587                         & 16.0                         & 70                           & 1                            & ford maverick               \\\\\n",
       "\t 27                           & 4                            &  97                          &  88                          & 2130                         & 14.5                         & 70                           & 3                            & datsun pl510                \\\\\n",
       "\t 26                           & 4                            &  97                          &  46                          & 1835                         & 20.5                         & 70                           & 2                            & volkswagen 1131 deluxe sedan\\\\\n",
       "\t 25                           & 4                            & 110                          &  87                          & 2672                         & 17.5                         & 70                           & 2                            & peugeot 504                 \\\\\n",
       "\t 24                           & 4                            & 107                          &  90                          & 2430                         & 14.5                         & 70                           & 2                            & audi 100 ls                 \\\\\n",
       "\t 25                           & 4                            & 104                          &  95                          & 2375                         & 17.5                         & 70                           & 2                            & saab 99e                    \\\\\n",
       "\t 26                           & 4                            & 121                          & 113                          & 2234                         & 12.5                         & 70                           & 2                            & bmw 2002                    \\\\\n",
       "\t 21                           & 6                            & 199                          &  90                          & 2648                         & 15.0                         & 70                           & 1                            & amc gremlin                 \\\\\n",
       "\t 10                           & 8                            & 360                          & 215                          & 4615                         & 14.0                         & 70                           & 1                            & ford f250                   \\\\\n",
       "\t 10                           & 8                            & 307                          & 200                          & 4376                         & 15.0                         & 70                           & 1                            & chevy c20                   \\\\\n",
       "\t 11                           & 8                            & 318                          & 210                          & 4382                         & 13.5                         & 70                           & 1                            & dodge d200                  \\\\\n",
       "\t  9                           & 8                            & 304                          & 193                          & 4732                         & 18.5                         & 70                           & 1                            & hi 1200d                    \\\\\n",
       "\t 27                           & 4                            &  97                          &  88                          & 2130                         & 14.5                         & 71                           & 3                            & datsun pl510                \\\\\n",
       "\t ... & ... & ... & ... & ... & ... & ... & ... & ...\\\\\n",
       "\t 28                                & 4                                 & 112                               &  88                               & 2605                              & 19.6                              & 82                                & 1                                 & chevrolet cavalier               \\\\\n",
       "\t 27                                & 4                                 & 112                               &  88                               & 2640                              & 18.6                              & 82                                & 1                                 & chevrolet cavalier wagon         \\\\\n",
       "\t 34                                & 4                                 & 112                               &  88                               & 2395                              & 18.0                              & 82                                & 1                                 & chevrolet cavalier 2-door        \\\\\n",
       "\t 31                                & 4                                 & 112                               &  85                               & 2575                              & 16.2                              & 82                                & 1                                 & pontiac j2000 se hatchback       \\\\\n",
       "\t 29                                & 4                                 & 135                               &  84                               & 2525                              & 16.0                              & 82                                & 1                                 & dodge aries se                   \\\\\n",
       "\t 27                                & 4                                 & 151                               &  90                               & 2735                              & 18.0                              & 82                                & 1                                 & pontiac phoenix                  \\\\\n",
       "\t 24                                & 4                                 & 140                               &  92                               & 2865                              & 16.4                              & 82                                & 1                                 & ford fairmont futura             \\\\\n",
       "\t 36                                & 4                                 & 105                               &  74                               & 1980                              & 15.3                              & 82                                & 2                                 & volkswagen rabbit l              \\\\\n",
       "\t 37                                & 4                                 &  91                               &  68                               & 2025                              & 18.2                              & 82                                & 3                                 & mazda glc custom l               \\\\\n",
       "\t 31                                & 4                                 &  91                               &  68                               & 1970                              & 17.6                              & 82                                & 3                                 & mazda glc custom                 \\\\\n",
       "\t 38                                & 4                                 & 105                               &  63                               & 2125                              & 14.7                              & 82                                & 1                                 & plymouth horizon miser           \\\\\n",
       "\t 36                                & 4                                 &  98                               &  70                               & 2125                              & 17.3                              & 82                                & 1                                 & mercury lynx l                   \\\\\n",
       "\t 36                                & 4                                 & 120                               &  88                               & 2160                              & 14.5                              & 82                                & 3                                 & nissan stanza xe                 \\\\\n",
       "\t 36                                & 4                                 & 107                               &  75                               & 2205                              & 14.5                              & 82                                & 3                                 & honda accord                     \\\\\n",
       "\t 34                                & 4                                 & 108                               &  70                               & 2245                              & 16.9                              & 82                                & 3                                 & toyota corolla                   \\\\\n",
       "\t 38                                & 4                                 &  91                               &  67                               & 1965                              & 15.0                              & 82                                & 3                                 & honda civic                      \\\\\n",
       "\t 32                                & 4                                 &  91                               &  67                               & 1965                              & 15.7                              & 82                                & 3                                 & honda civic (auto)               \\\\\n",
       "\t 38                                & 4                                 &  91                               &  67                               & 1995                              & 16.2                              & 82                                & 3                                 & datsun 310 gx                    \\\\\n",
       "\t 25                                & 6                                 & 181                               & 110                               & 2945                              & 16.4                              & 82                                & 1                                 & buick century limited            \\\\\n",
       "\t 38                                & 6                                 & 262                               &  85                               & 3015                              & 17.0                              & 82                                & 1                                 & oldsmobile cutlass ciera (diesel)\\\\\n",
       "\t 26                                & 4                                 & 156                               &  92                               & 2585                              & 14.5                              & 82                                & 1                                 & chrysler lebaron medallion       \\\\\n",
       "\t 22                                & 6                                 & 232                               & 112                               & 2835                              & 14.7                              & 82                                & 1                                 & ford granada l                   \\\\\n",
       "\t 32                                & 4                                 & 144                               &  96                               & 2665                              & 13.9                              & 82                                & 3                                 & toyota celica gt                 \\\\\n",
       "\t 36                                & 4                                 & 135                               &  84                               & 2370                              & 13.0                              & 82                                & 1                                 & dodge charger 2.2                \\\\\n",
       "\t 27                                & 4                                 & 151                               &  90                               & 2950                              & 17.3                              & 82                                & 1                                 & chevrolet camaro                 \\\\\n",
       "\t 27                                & 4                                 & 140                               &  86                               & 2790                              & 15.6                              & 82                                & 1                                 & ford mustang gl                  \\\\\n",
       "\t 44                                & 4                                 &  97                               &  52                               & 2130                              & 24.6                              & 82                                & 2                                 & vw pickup                        \\\\\n",
       "\t 32                                & 4                                 & 135                               &  84                               & 2295                              & 11.6                              & 82                                & 1                                 & dodge rampage                    \\\\\n",
       "\t 28                                & 4                                 & 120                               &  79                               & 2625                              & 18.6                              & 82                                & 1                                 & ford ranger                      \\\\\n",
       "\t 31                                & 4                                 & 119                               &  82                               & 2720                              & 19.4                              & 82                                & 1                                 & chevy s-10                       \\\\\n",
       "\\end{tabular}\n"
      ],
      "text/markdown": [
       "\n",
       "| mpg | cylinders | displacement | horsepower | weight | acceleration | year | origin | name |\n",
       "|---|---|---|---|---|---|---|---|---|\n",
       "| 18                           | 8                            | 307                          | 130                          | 3504                         | 12.0                         | 70                           | 1                            | chevrolet chevelle malibu    |\n",
       "| 15                           | 8                            | 350                          | 165                          | 3693                         | 11.5                         | 70                           | 1                            | buick skylark 320            |\n",
       "| 18                           | 8                            | 318                          | 150                          | 3436                         | 11.0                         | 70                           | 1                            | plymouth satellite           |\n",
       "| 16                           | 8                            | 304                          | 150                          | 3433                         | 12.0                         | 70                           | 1                            | amc rebel sst                |\n",
       "| 17                           | 8                            | 302                          | 140                          | 3449                         | 10.5                         | 70                           | 1                            | ford torino                  |\n",
       "| 15                           | 8                            | 429                          | 198                          | 4341                         | 10.0                         | 70                           | 1                            | ford galaxie 500             |\n",
       "| 14                           | 8                            | 454                          | 220                          | 4354                         |  9.0                         | 70                           | 1                            | chevrolet impala             |\n",
       "| 14                           | 8                            | 440                          | 215                          | 4312                         |  8.5                         | 70                           | 1                            | plymouth fury iii            |\n",
       "| 14                           | 8                            | 455                          | 225                          | 4425                         | 10.0                         | 70                           | 1                            | pontiac catalina             |\n",
       "| 15                           | 8                            | 390                          | 190                          | 3850                         |  8.5                         | 70                           | 1                            | amc ambassador dpl           |\n",
       "| 15                           | 8                            | 383                          | 170                          | 3563                         | 10.0                         | 70                           | 1                            | dodge challenger se          |\n",
       "| 14                           | 8                            | 340                          | 160                          | 3609                         |  8.0                         | 70                           | 1                            | plymouth 'cuda 340           |\n",
       "| 15                           | 8                            | 400                          | 150                          | 3761                         |  9.5                         | 70                           | 1                            | chevrolet monte carlo        |\n",
       "| 14                           | 8                            | 455                          | 225                          | 3086                         | 10.0                         | 70                           | 1                            | buick estate wagon (sw)      |\n",
       "| 24                           | 4                            | 113                          |  95                          | 2372                         | 15.0                         | 70                           | 3                            | toyota corona mark ii        |\n",
       "| 22                           | 6                            | 198                          |  95                          | 2833                         | 15.5                         | 70                           | 1                            | plymouth duster              |\n",
       "| 18                           | 6                            | 199                          |  97                          | 2774                         | 15.5                         | 70                           | 1                            | amc hornet                   |\n",
       "| 21                           | 6                            | 200                          |  85                          | 2587                         | 16.0                         | 70                           | 1                            | ford maverick                |\n",
       "| 27                           | 4                            |  97                          |  88                          | 2130                         | 14.5                         | 70                           | 3                            | datsun pl510                 |\n",
       "| 26                           | 4                            |  97                          |  46                          | 1835                         | 20.5                         | 70                           | 2                            | volkswagen 1131 deluxe sedan |\n",
       "| 25                           | 4                            | 110                          |  87                          | 2672                         | 17.5                         | 70                           | 2                            | peugeot 504                  |\n",
       "| 24                           | 4                            | 107                          |  90                          | 2430                         | 14.5                         | 70                           | 2                            | audi 100 ls                  |\n",
       "| 25                           | 4                            | 104                          |  95                          | 2375                         | 17.5                         | 70                           | 2                            | saab 99e                     |\n",
       "| 26                           | 4                            | 121                          | 113                          | 2234                         | 12.5                         | 70                           | 2                            | bmw 2002                     |\n",
       "| 21                           | 6                            | 199                          |  90                          | 2648                         | 15.0                         | 70                           | 1                            | amc gremlin                  |\n",
       "| 10                           | 8                            | 360                          | 215                          | 4615                         | 14.0                         | 70                           | 1                            | ford f250                    |\n",
       "| 10                           | 8                            | 307                          | 200                          | 4376                         | 15.0                         | 70                           | 1                            | chevy c20                    |\n",
       "| 11                           | 8                            | 318                          | 210                          | 4382                         | 13.5                         | 70                           | 1                            | dodge d200                   |\n",
       "|  9                           | 8                            | 304                          | 193                          | 4732                         | 18.5                         | 70                           | 1                            | hi 1200d                     |\n",
       "| 27                           | 4                            |  97                          |  88                          | 2130                         | 14.5                         | 71                           | 3                            | datsun pl510                 |\n",
       "| ... | ... | ... | ... | ... | ... | ... | ... | ... |\n",
       "| 28                                | 4                                 | 112                               |  88                               | 2605                              | 19.6                              | 82                                | 1                                 | chevrolet cavalier                |\n",
       "| 27                                | 4                                 | 112                               |  88                               | 2640                              | 18.6                              | 82                                | 1                                 | chevrolet cavalier wagon          |\n",
       "| 34                                | 4                                 | 112                               |  88                               | 2395                              | 18.0                              | 82                                | 1                                 | chevrolet cavalier 2-door         |\n",
       "| 31                                | 4                                 | 112                               |  85                               | 2575                              | 16.2                              | 82                                | 1                                 | pontiac j2000 se hatchback        |\n",
       "| 29                                | 4                                 | 135                               |  84                               | 2525                              | 16.0                              | 82                                | 1                                 | dodge aries se                    |\n",
       "| 27                                | 4                                 | 151                               |  90                               | 2735                              | 18.0                              | 82                                | 1                                 | pontiac phoenix                   |\n",
       "| 24                                | 4                                 | 140                               |  92                               | 2865                              | 16.4                              | 82                                | 1                                 | ford fairmont futura              |\n",
       "| 36                                | 4                                 | 105                               |  74                               | 1980                              | 15.3                              | 82                                | 2                                 | volkswagen rabbit l               |\n",
       "| 37                                | 4                                 |  91                               |  68                               | 2025                              | 18.2                              | 82                                | 3                                 | mazda glc custom l                |\n",
       "| 31                                | 4                                 |  91                               |  68                               | 1970                              | 17.6                              | 82                                | 3                                 | mazda glc custom                  |\n",
       "| 38                                | 4                                 | 105                               |  63                               | 2125                              | 14.7                              | 82                                | 1                                 | plymouth horizon miser            |\n",
       "| 36                                | 4                                 |  98                               |  70                               | 2125                              | 17.3                              | 82                                | 1                                 | mercury lynx l                    |\n",
       "| 36                                | 4                                 | 120                               |  88                               | 2160                              | 14.5                              | 82                                | 3                                 | nissan stanza xe                  |\n",
       "| 36                                | 4                                 | 107                               |  75                               | 2205                              | 14.5                              | 82                                | 3                                 | honda accord                      |\n",
       "| 34                                | 4                                 | 108                               |  70                               | 2245                              | 16.9                              | 82                                | 3                                 | toyota corolla                    |\n",
       "| 38                                | 4                                 |  91                               |  67                               | 1965                              | 15.0                              | 82                                | 3                                 | honda civic                       |\n",
       "| 32                                | 4                                 |  91                               |  67                               | 1965                              | 15.7                              | 82                                | 3                                 | honda civic (auto)                |\n",
       "| 38                                | 4                                 |  91                               |  67                               | 1995                              | 16.2                              | 82                                | 3                                 | datsun 310 gx                     |\n",
       "| 25                                | 6                                 | 181                               | 110                               | 2945                              | 16.4                              | 82                                | 1                                 | buick century limited             |\n",
       "| 38                                | 6                                 | 262                               |  85                               | 3015                              | 17.0                              | 82                                | 1                                 | oldsmobile cutlass ciera (diesel) |\n",
       "| 26                                | 4                                 | 156                               |  92                               | 2585                              | 14.5                              | 82                                | 1                                 | chrysler lebaron medallion        |\n",
       "| 22                                | 6                                 | 232                               | 112                               | 2835                              | 14.7                              | 82                                | 1                                 | ford granada l                    |\n",
       "| 32                                | 4                                 | 144                               |  96                               | 2665                              | 13.9                              | 82                                | 3                                 | toyota celica gt                  |\n",
       "| 36                                | 4                                 | 135                               |  84                               | 2370                              | 13.0                              | 82                                | 1                                 | dodge charger 2.2                 |\n",
       "| 27                                | 4                                 | 151                               |  90                               | 2950                              | 17.3                              | 82                                | 1                                 | chevrolet camaro                  |\n",
       "| 27                                | 4                                 | 140                               |  86                               | 2790                              | 15.6                              | 82                                | 1                                 | ford mustang gl                   |\n",
       "| 44                                | 4                                 |  97                               |  52                               | 2130                              | 24.6                              | 82                                | 2                                 | vw pickup                         |\n",
       "| 32                                | 4                                 | 135                               |  84                               | 2295                              | 11.6                              | 82                                | 1                                 | dodge rampage                     |\n",
       "| 28                                | 4                                 | 120                               |  79                               | 2625                              | 18.6                              | 82                                | 1                                 | ford ranger                       |\n",
       "| 31                                | 4                                 | 119                               |  82                               | 2720                              | 19.4                              | 82                                | 1                                 | chevy s-10                        |\n",
       "\n"
      ],
      "text/plain": [
       "    mpg cylinders displacement horsepower weight acceleration year origin\n",
       "1   18  8         307          130        3504   12.0         70   1     \n",
       "2   15  8         350          165        3693   11.5         70   1     \n",
       "3   18  8         318          150        3436   11.0         70   1     \n",
       "4   16  8         304          150        3433   12.0         70   1     \n",
       "5   17  8         302          140        3449   10.5         70   1     \n",
       "6   15  8         429          198        4341   10.0         70   1     \n",
       "7   14  8         454          220        4354    9.0         70   1     \n",
       "8   14  8         440          215        4312    8.5         70   1     \n",
       "9   14  8         455          225        4425   10.0         70   1     \n",
       "10  15  8         390          190        3850    8.5         70   1     \n",
       "11  15  8         383          170        3563   10.0         70   1     \n",
       "12  14  8         340          160        3609    8.0         70   1     \n",
       "13  15  8         400          150        3761    9.5         70   1     \n",
       "14  14  8         455          225        3086   10.0         70   1     \n",
       "15  24  4         113           95        2372   15.0         70   3     \n",
       "16  22  6         198           95        2833   15.5         70   1     \n",
       "17  18  6         199           97        2774   15.5         70   1     \n",
       "18  21  6         200           85        2587   16.0         70   1     \n",
       "19  27  4          97           88        2130   14.5         70   3     \n",
       "20  26  4          97           46        1835   20.5         70   2     \n",
       "21  25  4         110           87        2672   17.5         70   2     \n",
       "22  24  4         107           90        2430   14.5         70   2     \n",
       "23  25  4         104           95        2375   17.5         70   2     \n",
       "24  26  4         121          113        2234   12.5         70   2     \n",
       "25  21  6         199           90        2648   15.0         70   1     \n",
       "26  10  8         360          215        4615   14.0         70   1     \n",
       "27  10  8         307          200        4376   15.0         70   1     \n",
       "28  11  8         318          210        4382   13.5         70   1     \n",
       "29   9  8         304          193        4732   18.5         70   1     \n",
       "30  27  4          97           88        2130   14.5         71   3     \n",
       "... ... ...       ...          ...        ...    ...          ...  ...   \n",
       "363 28  4         112           88        2605   19.6         82   1     \n",
       "364 27  4         112           88        2640   18.6         82   1     \n",
       "365 34  4         112           88        2395   18.0         82   1     \n",
       "366 31  4         112           85        2575   16.2         82   1     \n",
       "367 29  4         135           84        2525   16.0         82   1     \n",
       "368 27  4         151           90        2735   18.0         82   1     \n",
       "369 24  4         140           92        2865   16.4         82   1     \n",
       "370 36  4         105           74        1980   15.3         82   2     \n",
       "371 37  4          91           68        2025   18.2         82   3     \n",
       "372 31  4          91           68        1970   17.6         82   3     \n",
       "373 38  4         105           63        2125   14.7         82   1     \n",
       "374 36  4          98           70        2125   17.3         82   1     \n",
       "375 36  4         120           88        2160   14.5         82   3     \n",
       "376 36  4         107           75        2205   14.5         82   3     \n",
       "377 34  4         108           70        2245   16.9         82   3     \n",
       "378 38  4          91           67        1965   15.0         82   3     \n",
       "379 32  4          91           67        1965   15.7         82   3     \n",
       "380 38  4          91           67        1995   16.2         82   3     \n",
       "381 25  6         181          110        2945   16.4         82   1     \n",
       "382 38  6         262           85        3015   17.0         82   1     \n",
       "383 26  4         156           92        2585   14.5         82   1     \n",
       "384 22  6         232          112        2835   14.7         82   1     \n",
       "385 32  4         144           96        2665   13.9         82   3     \n",
       "386 36  4         135           84        2370   13.0         82   1     \n",
       "387 27  4         151           90        2950   17.3         82   1     \n",
       "388 27  4         140           86        2790   15.6         82   1     \n",
       "389 44  4          97           52        2130   24.6         82   2     \n",
       "390 32  4         135           84        2295   11.6         82   1     \n",
       "391 28  4         120           79        2625   18.6         82   1     \n",
       "392 31  4         119           82        2720   19.4         82   1     \n",
       "    name                             \n",
       "1   chevrolet chevelle malibu        \n",
       "2   buick skylark 320                \n",
       "3   plymouth satellite               \n",
       "4   amc rebel sst                    \n",
       "5   ford torino                      \n",
       "6   ford galaxie 500                 \n",
       "7   chevrolet impala                 \n",
       "8   plymouth fury iii                \n",
       "9   pontiac catalina                 \n",
       "10  amc ambassador dpl               \n",
       "11  dodge challenger se              \n",
       "12  plymouth 'cuda 340               \n",
       "13  chevrolet monte carlo            \n",
       "14  buick estate wagon (sw)          \n",
       "15  toyota corona mark ii            \n",
       "16  plymouth duster                  \n",
       "17  amc hornet                       \n",
       "18  ford maverick                    \n",
       "19  datsun pl510                     \n",
       "20  volkswagen 1131 deluxe sedan     \n",
       "21  peugeot 504                      \n",
       "22  audi 100 ls                      \n",
       "23  saab 99e                         \n",
       "24  bmw 2002                         \n",
       "25  amc gremlin                      \n",
       "26  ford f250                        \n",
       "27  chevy c20                        \n",
       "28  dodge d200                       \n",
       "29  hi 1200d                         \n",
       "30  datsun pl510                     \n",
       "... ...                              \n",
       "363 chevrolet cavalier               \n",
       "364 chevrolet cavalier wagon         \n",
       "365 chevrolet cavalier 2-door        \n",
       "366 pontiac j2000 se hatchback       \n",
       "367 dodge aries se                   \n",
       "368 pontiac phoenix                  \n",
       "369 ford fairmont futura             \n",
       "370 volkswagen rabbit l              \n",
       "371 mazda glc custom l               \n",
       "372 mazda glc custom                 \n",
       "373 plymouth horizon miser           \n",
       "374 mercury lynx l                   \n",
       "375 nissan stanza xe                 \n",
       "376 honda accord                     \n",
       "377 toyota corolla                   \n",
       "378 honda civic                      \n",
       "379 honda civic (auto)               \n",
       "380 datsun 310 gx                    \n",
       "381 buick century limited            \n",
       "382 oldsmobile cutlass ciera (diesel)\n",
       "383 chrysler lebaron medallion       \n",
       "384 ford granada l                   \n",
       "385 toyota celica gt                 \n",
       "386 dodge charger 2.2                \n",
       "387 chevrolet camaro                 \n",
       "388 ford mustang gl                  \n",
       "389 vw pickup                        \n",
       "390 dodge rampage                    \n",
       "391 ford ranger                      \n",
       "392 chevy s-10                       "
      ]
     },
     "metadata": {},
     "output_type": "display_data"
    }
   ],
   "source": [
    "Auto = read.table(\"data/dataset-38913.csv\", header=T, sep=\",\")\n",
    "Auto = na.omit(Auto)\n",
    "Auto"
   ]
  },
  {
   "cell_type": "markdown",
   "id": "driving-castle",
   "metadata": {},
   "source": [
    "- (f) Suppose that we wish to predict gas mileage (mpg) on the basis of the other variables. Do your plots suggest that any of the other variables might be useful in predicting mpg? Justify your answer."
   ]
  },
  {
   "cell_type": "markdown",
   "id": "suspected-retro",
   "metadata": {},
   "source": [
    "- [x] (b) What is the range of each quantitative predictor? You can answer this using the range() function.range()"
   ]
  },
  {
   "cell_type": "code",
   "execution_count": 3,
   "id": "irish-adaptation",
   "metadata": {},
   "outputs": [
    {
     "name": "stdout",
     "output_type": "stream",
     "text": [
      "[1]  9.0 46.6\n",
      "[1] 3 8\n",
      "[1]  68 455\n",
      "[1]  46 230\n",
      "[1] 1613 5140\n",
      "[1]  8.0 24.8\n",
      "[1] 70 82\n"
     ]
    }
   ],
   "source": [
    "quant = Auto[c('mpg', 'cylinders', 'displacement', 'horsepower', 'weight', 'acceleration', 'year')]\n",
    "for (item in quant) {\n",
    "    print(range(item, na.rm=TRUE))\n",
    "}"
   ]
  },
  {
   "cell_type": "markdown",
   "id": "personalized-broadcast",
   "metadata": {},
   "source": [
    "- [x] (c) What is the mean and standard deviation of each quantitative predictor?"
   ]
  },
  {
   "cell_type": "code",
   "execution_count": 4,
   "id": "collected-samba",
   "metadata": {},
   "outputs": [
    {
     "data": {
      "text/html": [
       "<dl class=dl-horizontal>\n",
       "\t<dt>mpg</dt>\n",
       "\t\t<dd>23.4459183673469</dd>\n",
       "\t<dt>cylinders</dt>\n",
       "\t\t<dd>5.4719387755102</dd>\n",
       "\t<dt>displacement</dt>\n",
       "\t\t<dd>194.411989795918</dd>\n",
       "\t<dt>horsepower</dt>\n",
       "\t\t<dd>104.469387755102</dd>\n",
       "\t<dt>weight</dt>\n",
       "\t\t<dd>2977.58418367347</dd>\n",
       "\t<dt>acceleration</dt>\n",
       "\t\t<dd>15.5413265306122</dd>\n",
       "\t<dt>year</dt>\n",
       "\t\t<dd>75.9795918367347</dd>\n",
       "</dl>\n"
      ],
      "text/latex": [
       "\\begin{description*}\n",
       "\\item[mpg] 23.4459183673469\n",
       "\\item[cylinders] 5.4719387755102\n",
       "\\item[displacement] 194.411989795918\n",
       "\\item[horsepower] 104.469387755102\n",
       "\\item[weight] 2977.58418367347\n",
       "\\item[acceleration] 15.5413265306122\n",
       "\\item[year] 75.9795918367347\n",
       "\\end{description*}\n"
      ],
      "text/markdown": [
       "mpg\n",
       ":   23.4459183673469cylinders\n",
       ":   5.4719387755102displacement\n",
       ":   194.411989795918horsepower\n",
       ":   104.469387755102weight\n",
       ":   2977.58418367347acceleration\n",
       ":   15.5413265306122year\n",
       ":   75.9795918367347\n",
       "\n"
      ],
      "text/plain": [
       "         mpg    cylinders displacement   horsepower       weight acceleration \n",
       "   23.445918     5.471939   194.411990   104.469388  2977.584184    15.541327 \n",
       "        year \n",
       "   75.979592 "
      ]
     },
     "metadata": {},
     "output_type": "display_data"
    }
   ],
   "source": [
    "# mean\n",
    "sapply(quant, mean, na.rm=TRUE)"
   ]
  },
  {
   "cell_type": "code",
   "execution_count": 5,
   "id": "recreational-hepatitis",
   "metadata": {},
   "outputs": [
    {
     "data": {
      "text/html": [
       "<dl class=dl-horizontal>\n",
       "\t<dt>mpg</dt>\n",
       "\t\t<dd>7.8050074865718</dd>\n",
       "\t<dt>cylinders</dt>\n",
       "\t\t<dd>1.70578324745278</dd>\n",
       "\t<dt>displacement</dt>\n",
       "\t\t<dd>104.644003908905</dd>\n",
       "\t<dt>horsepower</dt>\n",
       "\t\t<dd>38.4911599328285</dd>\n",
       "\t<dt>weight</dt>\n",
       "\t\t<dd>849.402560042949</dd>\n",
       "\t<dt>acceleration</dt>\n",
       "\t\t<dd>2.75886411918808</dd>\n",
       "\t<dt>year</dt>\n",
       "\t\t<dd>3.68373654357783</dd>\n",
       "</dl>\n"
      ],
      "text/latex": [
       "\\begin{description*}\n",
       "\\item[mpg] 7.8050074865718\n",
       "\\item[cylinders] 1.70578324745278\n",
       "\\item[displacement] 104.644003908905\n",
       "\\item[horsepower] 38.4911599328285\n",
       "\\item[weight] 849.402560042949\n",
       "\\item[acceleration] 2.75886411918808\n",
       "\\item[year] 3.68373654357783\n",
       "\\end{description*}\n"
      ],
      "text/markdown": [
       "mpg\n",
       ":   7.8050074865718cylinders\n",
       ":   1.70578324745278displacement\n",
       ":   104.644003908905horsepower\n",
       ":   38.4911599328285weight\n",
       ":   849.402560042949acceleration\n",
       ":   2.75886411918808year\n",
       ":   3.68373654357783\n",
       "\n"
      ],
      "text/plain": [
       "         mpg    cylinders displacement   horsepower       weight acceleration \n",
       "    7.805007     1.705783   104.644004    38.491160   849.402560     2.758864 \n",
       "        year \n",
       "    3.683737 "
      ]
     },
     "metadata": {},
     "output_type": "display_data"
    }
   ],
   "source": [
    "# standard deviation\n",
    "sapply(quant, sd, na.rm=TRUE)"
   ]
  },
  {
   "cell_type": "markdown",
   "id": "pressing-bunch",
   "metadata": {},
   "source": [
    "- [x] (d) Now remove the 10th through 85th observations. What is the range, mean, and standard deviation of each predictor in the subset of the data that remains?"
   ]
  },
  {
   "cell_type": "code",
   "execution_count": 6,
   "id": "twelve-champion",
   "metadata": {},
   "outputs": [],
   "source": [
    "slice = quant[-c(10:85), ]"
   ]
  },
  {
   "cell_type": "code",
   "execution_count": 7,
   "id": "entire-lewis",
   "metadata": {},
   "outputs": [
    {
     "data": {
      "text/html": [
       "<table>\n",
       "<thead><tr><th scope=col>mpg</th><th scope=col>cylinders</th><th scope=col>displacement</th><th scope=col>horsepower</th><th scope=col>weight</th><th scope=col>acceleration</th><th scope=col>year</th></tr></thead>\n",
       "<tbody>\n",
       "\t<tr><td>11.0</td><td>3   </td><td> 68 </td><td> 46 </td><td>1649</td><td> 8.5</td><td>70  </td></tr>\n",
       "\t<tr><td>46.6</td><td>8   </td><td>455 </td><td>230 </td><td>4997</td><td>24.8</td><td>82  </td></tr>\n",
       "</tbody>\n",
       "</table>\n"
      ],
      "text/latex": [
       "\\begin{tabular}{lllllll}\n",
       " mpg & cylinders & displacement & horsepower & weight & acceleration & year\\\\\n",
       "\\hline\n",
       "\t 11.0 & 3    &  68  &  46  & 1649 &  8.5 & 70  \\\\\n",
       "\t 46.6 & 8    & 455  & 230  & 4997 & 24.8 & 82  \\\\\n",
       "\\end{tabular}\n"
      ],
      "text/markdown": [
       "\n",
       "| mpg | cylinders | displacement | horsepower | weight | acceleration | year |\n",
       "|---|---|---|---|---|---|---|\n",
       "| 11.0 | 3    |  68  |  46  | 1649 |  8.5 | 70   |\n",
       "| 46.6 | 8    | 455  | 230  | 4997 | 24.8 | 82   |\n",
       "\n"
      ],
      "text/plain": [
       "     mpg  cylinders displacement horsepower weight acceleration year\n",
       "[1,] 11.0 3          68           46        1649    8.5         70  \n",
       "[2,] 46.6 8         455          230        4997   24.8         82  "
      ]
     },
     "metadata": {},
     "output_type": "display_data"
    }
   ],
   "source": [
    "# range\n",
    "sapply(slice, range, na.rm=TRUE)"
   ]
  },
  {
   "cell_type": "code",
   "execution_count": 8,
   "id": "broke-stationery",
   "metadata": {},
   "outputs": [
    {
     "data": {
      "text/html": [
       "<dl class=dl-horizontal>\n",
       "\t<dt>mpg</dt>\n",
       "\t\t<dd>24.4044303797468</dd>\n",
       "\t<dt>cylinders</dt>\n",
       "\t\t<dd>5.37341772151899</dd>\n",
       "\t<dt>displacement</dt>\n",
       "\t\t<dd>187.240506329114</dd>\n",
       "\t<dt>horsepower</dt>\n",
       "\t\t<dd>100.721518987342</dd>\n",
       "\t<dt>weight</dt>\n",
       "\t\t<dd>2935.97151898734</dd>\n",
       "\t<dt>acceleration</dt>\n",
       "\t\t<dd>15.7268987341772</dd>\n",
       "\t<dt>year</dt>\n",
       "\t\t<dd>77.1455696202532</dd>\n",
       "</dl>\n"
      ],
      "text/latex": [
       "\\begin{description*}\n",
       "\\item[mpg] 24.4044303797468\n",
       "\\item[cylinders] 5.37341772151899\n",
       "\\item[displacement] 187.240506329114\n",
       "\\item[horsepower] 100.721518987342\n",
       "\\item[weight] 2935.97151898734\n",
       "\\item[acceleration] 15.7268987341772\n",
       "\\item[year] 77.1455696202532\n",
       "\\end{description*}\n"
      ],
      "text/markdown": [
       "mpg\n",
       ":   24.4044303797468cylinders\n",
       ":   5.37341772151899displacement\n",
       ":   187.240506329114horsepower\n",
       ":   100.721518987342weight\n",
       ":   2935.97151898734acceleration\n",
       ":   15.7268987341772year\n",
       ":   77.1455696202532\n",
       "\n"
      ],
      "text/plain": [
       "         mpg    cylinders displacement   horsepower       weight acceleration \n",
       "   24.404430     5.373418   187.240506   100.721519  2935.971519    15.726899 \n",
       "        year \n",
       "   77.145570 "
      ]
     },
     "metadata": {},
     "output_type": "display_data"
    }
   ],
   "source": [
    "# mean\n",
    "sapply(slice, mean, na.rm=TRUE)"
   ]
  },
  {
   "cell_type": "code",
   "execution_count": 9,
   "id": "played-improvement",
   "metadata": {},
   "outputs": [
    {
     "data": {
      "text/html": [
       "<dl class=dl-horizontal>\n",
       "\t<dt>mpg</dt>\n",
       "\t\t<dd>7.86728282443069</dd>\n",
       "\t<dt>cylinders</dt>\n",
       "\t\t<dd>1.65417865185607</dd>\n",
       "\t<dt>displacement</dt>\n",
       "\t\t<dd>99.6783672303628</dd>\n",
       "\t<dt>horsepower</dt>\n",
       "\t\t<dd>35.7088532738003</dd>\n",
       "\t<dt>weight</dt>\n",
       "\t\t<dd>811.30020815829</dd>\n",
       "\t<dt>acceleration</dt>\n",
       "\t\t<dd>2.69372071752036</dd>\n",
       "\t<dt>year</dt>\n",
       "\t\t<dd>3.10621690872137</dd>\n",
       "</dl>\n"
      ],
      "text/latex": [
       "\\begin{description*}\n",
       "\\item[mpg] 7.86728282443069\n",
       "\\item[cylinders] 1.65417865185607\n",
       "\\item[displacement] 99.6783672303628\n",
       "\\item[horsepower] 35.7088532738003\n",
       "\\item[weight] 811.30020815829\n",
       "\\item[acceleration] 2.69372071752036\n",
       "\\item[year] 3.10621690872137\n",
       "\\end{description*}\n"
      ],
      "text/markdown": [
       "mpg\n",
       ":   7.86728282443069cylinders\n",
       ":   1.65417865185607displacement\n",
       ":   99.6783672303628horsepower\n",
       ":   35.7088532738003weight\n",
       ":   811.30020815829acceleration\n",
       ":   2.69372071752036year\n",
       ":   3.10621690872137\n",
       "\n"
      ],
      "text/plain": [
       "         mpg    cylinders displacement   horsepower       weight acceleration \n",
       "    7.867283     1.654179    99.678367    35.708853   811.300208     2.693721 \n",
       "        year \n",
       "    3.106217 "
      ]
     },
     "metadata": {},
     "output_type": "display_data"
    }
   ],
   "source": [
    "# standard deviation\n",
    "sapply(slice, sd, na.rm=TRUE)"
   ]
  },
  {
   "cell_type": "markdown",
   "id": "innocent-while",
   "metadata": {},
   "source": [
    "- [x] (e) Using the full data set, investigate the predictors graphically, using scatterplots or other tools of your choice. Create some plots highlighting the relationships among the predictors. Comment on your findings."
   ]
  },
  {
   "cell_type": "code",
   "execution_count": 10,
   "id": "mineral-ending",
   "metadata": {},
   "outputs": [
    {
     "data": {
      "image/png": "[encoded data removed]",
      "text/plain": [
       "plot without title"
      ]
     },
     "metadata": {},
     "output_type": "display_data"
    }
   ],
   "source": [
    "x = 'acceleration'\n",
    "y = 'horsepower'\n",
    "plot(Auto[,c(x)], Auto[,c(y)], xlab=x, ylab=y)\n",
    "\n",
    "# An apparent negative linear relationship between acceleration and horsepower."
   ]
  },
  {
   "cell_type": "code",
   "execution_count": 11,
   "id": "smart-charter",
   "metadata": {},
   "outputs": [
    {
     "data": {
      "image/png": "[encoded data removed]",
      "text/plain": [
       "plot without title"
      ]
     },
     "metadata": {},
     "output_type": "display_data"
    }
   ],
   "source": [
    "x = 'weight'\n",
    "y = 'mpg'\n",
    "plot(Auto[,c(x)], Auto[,c(y)], xlab=x, ylab=y)\n",
    "\n",
    "# A clearly negative linear relationship between weight and mpg"
   ]
  },
  {
   "cell_type": "code",
   "execution_count": 12,
   "id": "further-subcommittee",
   "metadata": {},
   "outputs": [
    {
     "data": {
      "image/png": "[encoded data removed]",
      "text/plain": [
       "Plot with title \"Histogram of Auto$year\""
      ]
     },
     "metadata": {},
     "output_type": "display_data"
    }
   ],
   "source": [
    "hist(Auto$year)\n",
    "\n",
    "# distribution of years"
   ]
  },
  {
   "cell_type": "code",
   "execution_count": 13,
   "id": "narrow-temple",
   "metadata": {},
   "outputs": [
    {
     "data": {
      "image/png": "[encoded data removed]",
      "text/plain": [
       "plot without title"
      ]
     },
     "metadata": {},
     "output_type": "display_data"
    }
   ],
   "source": [
    "# visual assessment of outliers with boxplot\n",
    "boxplot(Auto$mpg)"
   ]
  },
  {
   "cell_type": "markdown",
   "id": "controversial-consortium",
   "metadata": {},
   "source": [
    "This exercise involves the Boston housing data set.\n",
    "(a) To begin, load in the Boston data set. The Boston data set is\n",
    "part of the MASS library in R."
   ]
  },
  {
   "cell_type": "code",
   "execution_count": 14,
   "id": "conservative-knowing",
   "metadata": {},
   "outputs": [
    {
     "name": "stdout",
     "output_type": "stream",
     "text": [
      "\n",
      "  There is a binary version available but the source version is later:\n",
      "     binary   source needs_compilation\n",
      "MASS 7.3-54 7.3-58.1              TRUE\n",
      "\n",
      "  Binaries will be installed\n",
      "package 'MASS' successfully unpacked and MD5 sums checked\n",
      "\n",
      "The downloaded binary packages are in\n",
      "\tC:\\Users\\crodr\\AppData\\Local\\Temp\\RtmpSEjNLU\\downloaded_packages\n"
     ]
    }
   ],
   "source": [
    "install.packages(\"MASS\")\n",
    "\n",
    "# NOTE The Boston housing prices dataset has an ethical problem (Source: Sklearn)."
   ]
  },
  {
   "cell_type": "code",
   "execution_count": 15,
   "id": "secure-accreditation",
   "metadata": {},
   "outputs": [
    {
     "name": "stderr",
     "output_type": "stream",
     "text": [
      "Warning message:\n",
      "\"package 'MASS' was built under R version 3.6.3\""
     ]
    }
   ],
   "source": [
    "library(MASS)"
   ]
  },
  {
   "cell_type": "markdown",
   "id": "packed-prime",
   "metadata": {},
   "source": [
    "Now the data set is contained in the object Boston."
   ]
  },
  {
   "cell_type": "code",
   "execution_count": 16,
   "id": "selective-spectacular",
   "metadata": {},
   "outputs": [
    {
     "data": {
      "text/html": [
       "<table>\n",
       "<thead><tr><th scope=col>crim</th><th scope=col>zn</th><th scope=col>indus</th><th scope=col>chas</th><th scope=col>nox</th><th scope=col>rm</th><th scope=col>age</th><th scope=col>dis</th><th scope=col>rad</th><th scope=col>tax</th><th scope=col>ptratio</th><th scope=col>black</th><th scope=col>lstat</th><th scope=col>medv</th></tr></thead>\n",
       "<tbody>\n",
       "\t<tr><td>0.00632</td><td>18.0   </td><td>2.31   </td><td>0      </td><td>0.538  </td><td>6.575  </td><td> 65.2  </td><td>4.0900 </td><td>1      </td><td>296    </td><td>15.3   </td><td>396.90 </td><td> 4.98  </td><td>24.0   </td></tr>\n",
       "\t<tr><td>0.02731</td><td> 0.0   </td><td>7.07   </td><td>0      </td><td>0.469  </td><td>6.421  </td><td> 78.9  </td><td>4.9671 </td><td>2      </td><td>242    </td><td>17.8   </td><td>396.90 </td><td> 9.14  </td><td>21.6   </td></tr>\n",
       "\t<tr><td>0.02729</td><td> 0.0   </td><td>7.07   </td><td>0      </td><td>0.469  </td><td>7.185  </td><td> 61.1  </td><td>4.9671 </td><td>2      </td><td>242    </td><td>17.8   </td><td>392.83 </td><td> 4.03  </td><td>34.7   </td></tr>\n",
       "\t<tr><td>0.03237</td><td> 0.0   </td><td>2.18   </td><td>0      </td><td>0.458  </td><td>6.998  </td><td> 45.8  </td><td>6.0622 </td><td>3      </td><td>222    </td><td>18.7   </td><td>394.63 </td><td> 2.94  </td><td>33.4   </td></tr>\n",
       "\t<tr><td>0.06905</td><td> 0.0   </td><td>2.18   </td><td>0      </td><td>0.458  </td><td>7.147  </td><td> 54.2  </td><td>6.0622 </td><td>3      </td><td>222    </td><td>18.7   </td><td>396.90 </td><td> 5.33  </td><td>36.2   </td></tr>\n",
       "\t<tr><td>0.02985</td><td> 0.0   </td><td>2.18   </td><td>0      </td><td>0.458  </td><td>6.430  </td><td> 58.7  </td><td>6.0622 </td><td>3      </td><td>222    </td><td>18.7   </td><td>394.12 </td><td> 5.21  </td><td>28.7   </td></tr>\n",
       "\t<tr><td>0.08829</td><td>12.5   </td><td>7.87   </td><td>0      </td><td>0.524  </td><td>6.012  </td><td> 66.6  </td><td>5.5605 </td><td>5      </td><td>311    </td><td>15.2   </td><td>395.60 </td><td>12.43  </td><td>22.9   </td></tr>\n",
       "\t<tr><td>0.14455</td><td>12.5   </td><td>7.87   </td><td>0      </td><td>0.524  </td><td>6.172  </td><td> 96.1  </td><td>5.9505 </td><td>5      </td><td>311    </td><td>15.2   </td><td>396.90 </td><td>19.15  </td><td>27.1   </td></tr>\n",
       "\t<tr><td>0.21124</td><td>12.5   </td><td>7.87   </td><td>0      </td><td>0.524  </td><td>5.631  </td><td>100.0  </td><td>6.0821 </td><td>5      </td><td>311    </td><td>15.2   </td><td>386.63 </td><td>29.93  </td><td>16.5   </td></tr>\n",
       "\t<tr><td>0.17004</td><td>12.5   </td><td>7.87   </td><td>0      </td><td>0.524  </td><td>6.004  </td><td> 85.9  </td><td>6.5921 </td><td>5      </td><td>311    </td><td>15.2   </td><td>386.71 </td><td>17.10  </td><td>18.9   </td></tr>\n",
       "\t<tr><td>0.22489</td><td>12.5   </td><td>7.87   </td><td>0      </td><td>0.524  </td><td>6.377  </td><td> 94.3  </td><td>6.3467 </td><td>5      </td><td>311    </td><td>15.2   </td><td>392.52 </td><td>20.45  </td><td>15.0   </td></tr>\n",
       "\t<tr><td>0.11747</td><td>12.5   </td><td>7.87   </td><td>0      </td><td>0.524  </td><td>6.009  </td><td> 82.9  </td><td>6.2267 </td><td>5      </td><td>311    </td><td>15.2   </td><td>396.90 </td><td>13.27  </td><td>18.9   </td></tr>\n",
       "\t<tr><td>0.09378</td><td>12.5   </td><td>7.87   </td><td>0      </td><td>0.524  </td><td>5.889  </td><td> 39.0  </td><td>5.4509 </td><td>5      </td><td>311    </td><td>15.2   </td><td>390.50 </td><td>15.71  </td><td>21.7   </td></tr>\n",
       "\t<tr><td>0.62976</td><td> 0.0   </td><td>8.14   </td><td>0      </td><td>0.538  </td><td>5.949  </td><td> 61.8  </td><td>4.7075 </td><td>4      </td><td>307    </td><td>21.0   </td><td>396.90 </td><td> 8.26  </td><td>20.4   </td></tr>\n",
       "\t<tr><td>0.63796</td><td> 0.0   </td><td>8.14   </td><td>0      </td><td>0.538  </td><td>6.096  </td><td> 84.5  </td><td>4.4619 </td><td>4      </td><td>307    </td><td>21.0   </td><td>380.02 </td><td>10.26  </td><td>18.2   </td></tr>\n",
       "\t<tr><td>0.62739</td><td> 0.0   </td><td>8.14   </td><td>0      </td><td>0.538  </td><td>5.834  </td><td> 56.5  </td><td>4.4986 </td><td>4      </td><td>307    </td><td>21.0   </td><td>395.62 </td><td> 8.47  </td><td>19.9   </td></tr>\n",
       "\t<tr><td>1.05393</td><td> 0.0   </td><td>8.14   </td><td>0      </td><td>0.538  </td><td>5.935  </td><td> 29.3  </td><td>4.4986 </td><td>4      </td><td>307    </td><td>21.0   </td><td>386.85 </td><td> 6.58  </td><td>23.1   </td></tr>\n",
       "\t<tr><td>0.78420</td><td> 0.0   </td><td>8.14   </td><td>0      </td><td>0.538  </td><td>5.990  </td><td> 81.7  </td><td>4.2579 </td><td>4      </td><td>307    </td><td>21.0   </td><td>386.75 </td><td>14.67  </td><td>17.5   </td></tr>\n",
       "\t<tr><td>0.80271</td><td> 0.0   </td><td>8.14   </td><td>0      </td><td>0.538  </td><td>5.456  </td><td> 36.6  </td><td>3.7965 </td><td>4      </td><td>307    </td><td>21.0   </td><td>288.99 </td><td>11.69  </td><td>20.2   </td></tr>\n",
       "\t<tr><td>0.72580</td><td> 0.0   </td><td>8.14   </td><td>0      </td><td>0.538  </td><td>5.727  </td><td> 69.5  </td><td>3.7965 </td><td>4      </td><td>307    </td><td>21.0   </td><td>390.95 </td><td>11.28  </td><td>18.2   </td></tr>\n",
       "\t<tr><td>1.25179</td><td> 0.0   </td><td>8.14   </td><td>0      </td><td>0.538  </td><td>5.570  </td><td> 98.1  </td><td>3.7979 </td><td>4      </td><td>307    </td><td>21.0   </td><td>376.57 </td><td>21.02  </td><td>13.6   </td></tr>\n",
       "\t<tr><td>0.85204</td><td> 0.0   </td><td>8.14   </td><td>0      </td><td>0.538  </td><td>5.965  </td><td> 89.2  </td><td>4.0123 </td><td>4      </td><td>307    </td><td>21.0   </td><td>392.53 </td><td>13.83  </td><td>19.6   </td></tr>\n",
       "\t<tr><td>1.23247</td><td> 0.0   </td><td>8.14   </td><td>0      </td><td>0.538  </td><td>6.142  </td><td> 91.7  </td><td>3.9769 </td><td>4      </td><td>307    </td><td>21.0   </td><td>396.90 </td><td>18.72  </td><td>15.2   </td></tr>\n",
       "\t<tr><td>0.98843</td><td> 0.0   </td><td>8.14   </td><td>0      </td><td>0.538  </td><td>5.813  </td><td>100.0  </td><td>4.0952 </td><td>4      </td><td>307    </td><td>21.0   </td><td>394.54 </td><td>19.88  </td><td>14.5   </td></tr>\n",
       "\t<tr><td>0.75026</td><td> 0.0   </td><td>8.14   </td><td>0      </td><td>0.538  </td><td>5.924  </td><td> 94.1  </td><td>4.3996 </td><td>4      </td><td>307    </td><td>21.0   </td><td>394.33 </td><td>16.30  </td><td>15.6   </td></tr>\n",
       "\t<tr><td>0.84054</td><td> 0.0   </td><td>8.14   </td><td>0      </td><td>0.538  </td><td>5.599  </td><td> 85.7  </td><td>4.4546 </td><td>4      </td><td>307    </td><td>21.0   </td><td>303.42 </td><td>16.51  </td><td>13.9   </td></tr>\n",
       "\t<tr><td>0.67191</td><td> 0.0   </td><td>8.14   </td><td>0      </td><td>0.538  </td><td>5.813  </td><td> 90.3  </td><td>4.6820 </td><td>4      </td><td>307    </td><td>21.0   </td><td>376.88 </td><td>14.81  </td><td>16.6   </td></tr>\n",
       "\t<tr><td>0.95577</td><td> 0.0   </td><td>8.14   </td><td>0      </td><td>0.538  </td><td>6.047  </td><td> 88.8  </td><td>4.4534 </td><td>4      </td><td>307    </td><td>21.0   </td><td>306.38 </td><td>17.28  </td><td>14.8   </td></tr>\n",
       "\t<tr><td>0.77299</td><td> 0.0   </td><td>8.14   </td><td>0      </td><td>0.538  </td><td>6.495  </td><td> 94.4  </td><td>4.4547 </td><td>4      </td><td>307    </td><td>21.0   </td><td>387.94 </td><td>12.80  </td><td>18.4   </td></tr>\n",
       "\t<tr><td>1.00245</td><td> 0.0   </td><td>8.14   </td><td>0      </td><td>0.538  </td><td>6.674  </td><td> 87.3  </td><td>4.2390 </td><td>4      </td><td>307    </td><td>21.0   </td><td>380.23 </td><td>11.98  </td><td>21.0   </td></tr>\n",
       "\t<tr><td>...</td><td>...</td><td>...</td><td>...</td><td>...</td><td>...</td><td>...</td><td>...</td><td>...</td><td>...</td><td>...</td><td>...</td><td>...</td><td>...</td></tr>\n",
       "\t<tr><td> 4.87141</td><td>0       </td><td>18.10   </td><td>0       </td><td>0.614   </td><td>6.484   </td><td>93.6    </td><td>2.3053  </td><td>24      </td><td>666     </td><td>20.2    </td><td>396.21  </td><td>18.68   </td><td>16.7    </td></tr>\n",
       "\t<tr><td>15.02340</td><td>0       </td><td>18.10   </td><td>0       </td><td>0.614   </td><td>5.304   </td><td>97.3    </td><td>2.1007  </td><td>24      </td><td>666     </td><td>20.2    </td><td>349.48  </td><td>24.91   </td><td>12.0    </td></tr>\n",
       "\t<tr><td>10.23300</td><td>0       </td><td>18.10   </td><td>0       </td><td>0.614   </td><td>6.185   </td><td>96.7    </td><td>2.1705  </td><td>24      </td><td>666     </td><td>20.2    </td><td>379.70  </td><td>18.03   </td><td>14.6    </td></tr>\n",
       "\t<tr><td>14.33370</td><td>0       </td><td>18.10   </td><td>0       </td><td>0.614   </td><td>6.229   </td><td>88.0    </td><td>1.9512  </td><td>24      </td><td>666     </td><td>20.2    </td><td>383.32  </td><td>13.11   </td><td>21.4    </td></tr>\n",
       "\t<tr><td> 5.82401</td><td>0       </td><td>18.10   </td><td>0       </td><td>0.532   </td><td>6.242   </td><td>64.7    </td><td>3.4242  </td><td>24      </td><td>666     </td><td>20.2    </td><td>396.90  </td><td>10.74   </td><td>23.0    </td></tr>\n",
       "\t<tr><td> 5.70818</td><td>0       </td><td>18.10   </td><td>0       </td><td>0.532   </td><td>6.750   </td><td>74.9    </td><td>3.3317  </td><td>24      </td><td>666     </td><td>20.2    </td><td>393.07  </td><td> 7.74   </td><td>23.7    </td></tr>\n",
       "\t<tr><td> 5.73116</td><td>0       </td><td>18.10   </td><td>0       </td><td>0.532   </td><td>7.061   </td><td>77.0    </td><td>3.4106  </td><td>24      </td><td>666     </td><td>20.2    </td><td>395.28  </td><td> 7.01   </td><td>25.0    </td></tr>\n",
       "\t<tr><td> 2.81838</td><td>0       </td><td>18.10   </td><td>0       </td><td>0.532   </td><td>5.762   </td><td>40.3    </td><td>4.0983  </td><td>24      </td><td>666     </td><td>20.2    </td><td>392.92  </td><td>10.42   </td><td>21.8    </td></tr>\n",
       "\t<tr><td> 2.37857</td><td>0       </td><td>18.10   </td><td>0       </td><td>0.583   </td><td>5.871   </td><td>41.9    </td><td>3.7240  </td><td>24      </td><td>666     </td><td>20.2    </td><td>370.73  </td><td>13.34   </td><td>20.6    </td></tr>\n",
       "\t<tr><td> 3.67367</td><td>0       </td><td>18.10   </td><td>0       </td><td>0.583   </td><td>6.312   </td><td>51.9    </td><td>3.9917  </td><td>24      </td><td>666     </td><td>20.2    </td><td>388.62  </td><td>10.58   </td><td>21.2    </td></tr>\n",
       "\t<tr><td> 5.69175</td><td>0       </td><td>18.10   </td><td>0       </td><td>0.583   </td><td>6.114   </td><td>79.8    </td><td>3.5459  </td><td>24      </td><td>666     </td><td>20.2    </td><td>392.68  </td><td>14.98   </td><td>19.1    </td></tr>\n",
       "\t<tr><td> 4.83567</td><td>0       </td><td>18.10   </td><td>0       </td><td>0.583   </td><td>5.905   </td><td>53.2    </td><td>3.1523  </td><td>24      </td><td>666     </td><td>20.2    </td><td>388.22  </td><td>11.45   </td><td>20.6    </td></tr>\n",
       "\t<tr><td> 0.15086</td><td>0       </td><td>27.74   </td><td>0       </td><td>0.609   </td><td>5.454   </td><td>92.7    </td><td>1.8209  </td><td> 4      </td><td>711     </td><td>20.1    </td><td>395.09  </td><td>18.06   </td><td>15.2    </td></tr>\n",
       "\t<tr><td> 0.18337</td><td>0       </td><td>27.74   </td><td>0       </td><td>0.609   </td><td>5.414   </td><td>98.3    </td><td>1.7554  </td><td> 4      </td><td>711     </td><td>20.1    </td><td>344.05  </td><td>23.97   </td><td> 7.0    </td></tr>\n",
       "\t<tr><td> 0.20746</td><td>0       </td><td>27.74   </td><td>0       </td><td>0.609   </td><td>5.093   </td><td>98.0    </td><td>1.8226  </td><td> 4      </td><td>711     </td><td>20.1    </td><td>318.43  </td><td>29.68   </td><td> 8.1    </td></tr>\n",
       "\t<tr><td> 0.10574</td><td>0       </td><td>27.74   </td><td>0       </td><td>0.609   </td><td>5.983   </td><td>98.8    </td><td>1.8681  </td><td> 4      </td><td>711     </td><td>20.1    </td><td>390.11  </td><td>18.07   </td><td>13.6    </td></tr>\n",
       "\t<tr><td> 0.11132</td><td>0       </td><td>27.74   </td><td>0       </td><td>0.609   </td><td>5.983   </td><td>83.5    </td><td>2.1099  </td><td> 4      </td><td>711     </td><td>20.1    </td><td>396.90  </td><td>13.35   </td><td>20.1    </td></tr>\n",
       "\t<tr><td> 0.17331</td><td>0       </td><td> 9.69   </td><td>0       </td><td>0.585   </td><td>5.707   </td><td>54.0    </td><td>2.3817  </td><td> 6      </td><td>391     </td><td>19.2    </td><td>396.90  </td><td>12.01   </td><td>21.8    </td></tr>\n",
       "\t<tr><td> 0.27957</td><td>0       </td><td> 9.69   </td><td>0       </td><td>0.585   </td><td>5.926   </td><td>42.6    </td><td>2.3817  </td><td> 6      </td><td>391     </td><td>19.2    </td><td>396.90  </td><td>13.59   </td><td>24.5    </td></tr>\n",
       "\t<tr><td> 0.17899</td><td>0       </td><td> 9.69   </td><td>0       </td><td>0.585   </td><td>5.670   </td><td>28.8    </td><td>2.7986  </td><td> 6      </td><td>391     </td><td>19.2    </td><td>393.29  </td><td>17.60   </td><td>23.1    </td></tr>\n",
       "\t<tr><td> 0.28960</td><td>0       </td><td> 9.69   </td><td>0       </td><td>0.585   </td><td>5.390   </td><td>72.9    </td><td>2.7986  </td><td> 6      </td><td>391     </td><td>19.2    </td><td>396.90  </td><td>21.14   </td><td>19.7    </td></tr>\n",
       "\t<tr><td> 0.26838</td><td>0       </td><td> 9.69   </td><td>0       </td><td>0.585   </td><td>5.794   </td><td>70.6    </td><td>2.8927  </td><td> 6      </td><td>391     </td><td>19.2    </td><td>396.90  </td><td>14.10   </td><td>18.3    </td></tr>\n",
       "\t<tr><td> 0.23912</td><td>0       </td><td> 9.69   </td><td>0       </td><td>0.585   </td><td>6.019   </td><td>65.3    </td><td>2.4091  </td><td> 6      </td><td>391     </td><td>19.2    </td><td>396.90  </td><td>12.92   </td><td>21.2    </td></tr>\n",
       "\t<tr><td> 0.17783</td><td>0       </td><td> 9.69   </td><td>0       </td><td>0.585   </td><td>5.569   </td><td>73.5    </td><td>2.3999  </td><td> 6      </td><td>391     </td><td>19.2    </td><td>395.77  </td><td>15.10   </td><td>17.5    </td></tr>\n",
       "\t<tr><td> 0.22438</td><td>0       </td><td> 9.69   </td><td>0       </td><td>0.585   </td><td>6.027   </td><td>79.7    </td><td>2.4982  </td><td> 6      </td><td>391     </td><td>19.2    </td><td>396.90  </td><td>14.33   </td><td>16.8    </td></tr>\n",
       "\t<tr><td> 0.06263</td><td>0       </td><td>11.93   </td><td>0       </td><td>0.573   </td><td>6.593   </td><td>69.1    </td><td>2.4786  </td><td> 1      </td><td>273     </td><td>21.0    </td><td>391.99  </td><td> 9.67   </td><td>22.4    </td></tr>\n",
       "\t<tr><td> 0.04527</td><td>0       </td><td>11.93   </td><td>0       </td><td>0.573   </td><td>6.120   </td><td>76.7    </td><td>2.2875  </td><td> 1      </td><td>273     </td><td>21.0    </td><td>396.90  </td><td> 9.08   </td><td>20.6    </td></tr>\n",
       "\t<tr><td> 0.06076</td><td>0       </td><td>11.93   </td><td>0       </td><td>0.573   </td><td>6.976   </td><td>91.0    </td><td>2.1675  </td><td> 1      </td><td>273     </td><td>21.0    </td><td>396.90  </td><td> 5.64   </td><td>23.9    </td></tr>\n",
       "\t<tr><td> 0.10959</td><td>0       </td><td>11.93   </td><td>0       </td><td>0.573   </td><td>6.794   </td><td>89.3    </td><td>2.3889  </td><td> 1      </td><td>273     </td><td>21.0    </td><td>393.45  </td><td> 6.48   </td><td>22.0    </td></tr>\n",
       "\t<tr><td> 0.04741</td><td>0       </td><td>11.93   </td><td>0       </td><td>0.573   </td><td>6.030   </td><td>80.8    </td><td>2.5050  </td><td> 1      </td><td>273     </td><td>21.0    </td><td>396.90  </td><td> 7.88   </td><td>11.9    </td></tr>\n",
       "</tbody>\n",
       "</table>\n"
      ],
      "text/latex": [
       "\\begin{tabular}{r|llllllllllllll}\n",
       " crim & zn & indus & chas & nox & rm & age & dis & rad & tax & ptratio & black & lstat & medv\\\\\n",
       "\\hline\n",
       "\t 0.00632 & 18.0    & 2.31    & 0       & 0.538   & 6.575   &  65.2   & 4.0900  & 1       & 296     & 15.3    & 396.90  &  4.98   & 24.0   \\\\\n",
       "\t 0.02731 &  0.0    & 7.07    & 0       & 0.469   & 6.421   &  78.9   & 4.9671  & 2       & 242     & 17.8    & 396.90  &  9.14   & 21.6   \\\\\n",
       "\t 0.02729 &  0.0    & 7.07    & 0       & 0.469   & 7.185   &  61.1   & 4.9671  & 2       & 242     & 17.8    & 392.83  &  4.03   & 34.7   \\\\\n",
       "\t 0.03237 &  0.0    & 2.18    & 0       & 0.458   & 6.998   &  45.8   & 6.0622  & 3       & 222     & 18.7    & 394.63  &  2.94   & 33.4   \\\\\n",
       "\t 0.06905 &  0.0    & 2.18    & 0       & 0.458   & 7.147   &  54.2   & 6.0622  & 3       & 222     & 18.7    & 396.90  &  5.33   & 36.2   \\\\\n",
       "\t 0.02985 &  0.0    & 2.18    & 0       & 0.458   & 6.430   &  58.7   & 6.0622  & 3       & 222     & 18.7    & 394.12  &  5.21   & 28.7   \\\\\n",
       "\t 0.08829 & 12.5    & 7.87    & 0       & 0.524   & 6.012   &  66.6   & 5.5605  & 5       & 311     & 15.2    & 395.60  & 12.43   & 22.9   \\\\\n",
       "\t 0.14455 & 12.5    & 7.87    & 0       & 0.524   & 6.172   &  96.1   & 5.9505  & 5       & 311     & 15.2    & 396.90  & 19.15   & 27.1   \\\\\n",
       "\t 0.21124 & 12.5    & 7.87    & 0       & 0.524   & 5.631   & 100.0   & 6.0821  & 5       & 311     & 15.2    & 386.63  & 29.93   & 16.5   \\\\\n",
       "\t 0.17004 & 12.5    & 7.87    & 0       & 0.524   & 6.004   &  85.9   & 6.5921  & 5       & 311     & 15.2    & 386.71  & 17.10   & 18.9   \\\\\n",
       "\t 0.22489 & 12.5    & 7.87    & 0       & 0.524   & 6.377   &  94.3   & 6.3467  & 5       & 311     & 15.2    & 392.52  & 20.45   & 15.0   \\\\\n",
       "\t 0.11747 & 12.5    & 7.87    & 0       & 0.524   & 6.009   &  82.9   & 6.2267  & 5       & 311     & 15.2    & 396.90  & 13.27   & 18.9   \\\\\n",
       "\t 0.09378 & 12.5    & 7.87    & 0       & 0.524   & 5.889   &  39.0   & 5.4509  & 5       & 311     & 15.2    & 390.50  & 15.71   & 21.7   \\\\\n",
       "\t 0.62976 &  0.0    & 8.14    & 0       & 0.538   & 5.949   &  61.8   & 4.7075  & 4       & 307     & 21.0    & 396.90  &  8.26   & 20.4   \\\\\n",
       "\t 0.63796 &  0.0    & 8.14    & 0       & 0.538   & 6.096   &  84.5   & 4.4619  & 4       & 307     & 21.0    & 380.02  & 10.26   & 18.2   \\\\\n",
       "\t 0.62739 &  0.0    & 8.14    & 0       & 0.538   & 5.834   &  56.5   & 4.4986  & 4       & 307     & 21.0    & 395.62  &  8.47   & 19.9   \\\\\n",
       "\t 1.05393 &  0.0    & 8.14    & 0       & 0.538   & 5.935   &  29.3   & 4.4986  & 4       & 307     & 21.0    & 386.85  &  6.58   & 23.1   \\\\\n",
       "\t 0.78420 &  0.0    & 8.14    & 0       & 0.538   & 5.990   &  81.7   & 4.2579  & 4       & 307     & 21.0    & 386.75  & 14.67   & 17.5   \\\\\n",
       "\t 0.80271 &  0.0    & 8.14    & 0       & 0.538   & 5.456   &  36.6   & 3.7965  & 4       & 307     & 21.0    & 288.99  & 11.69   & 20.2   \\\\\n",
       "\t 0.72580 &  0.0    & 8.14    & 0       & 0.538   & 5.727   &  69.5   & 3.7965  & 4       & 307     & 21.0    & 390.95  & 11.28   & 18.2   \\\\\n",
       "\t 1.25179 &  0.0    & 8.14    & 0       & 0.538   & 5.570   &  98.1   & 3.7979  & 4       & 307     & 21.0    & 376.57  & 21.02   & 13.6   \\\\\n",
       "\t 0.85204 &  0.0    & 8.14    & 0       & 0.538   & 5.965   &  89.2   & 4.0123  & 4       & 307     & 21.0    & 392.53  & 13.83   & 19.6   \\\\\n",
       "\t 1.23247 &  0.0    & 8.14    & 0       & 0.538   & 6.142   &  91.7   & 3.9769  & 4       & 307     & 21.0    & 396.90  & 18.72   & 15.2   \\\\\n",
       "\t 0.98843 &  0.0    & 8.14    & 0       & 0.538   & 5.813   & 100.0   & 4.0952  & 4       & 307     & 21.0    & 394.54  & 19.88   & 14.5   \\\\\n",
       "\t 0.75026 &  0.0    & 8.14    & 0       & 0.538   & 5.924   &  94.1   & 4.3996  & 4       & 307     & 21.0    & 394.33  & 16.30   & 15.6   \\\\\n",
       "\t 0.84054 &  0.0    & 8.14    & 0       & 0.538   & 5.599   &  85.7   & 4.4546  & 4       & 307     & 21.0    & 303.42  & 16.51   & 13.9   \\\\\n",
       "\t 0.67191 &  0.0    & 8.14    & 0       & 0.538   & 5.813   &  90.3   & 4.6820  & 4       & 307     & 21.0    & 376.88  & 14.81   & 16.6   \\\\\n",
       "\t 0.95577 &  0.0    & 8.14    & 0       & 0.538   & 6.047   &  88.8   & 4.4534  & 4       & 307     & 21.0    & 306.38  & 17.28   & 14.8   \\\\\n",
       "\t 0.77299 &  0.0    & 8.14    & 0       & 0.538   & 6.495   &  94.4   & 4.4547  & 4       & 307     & 21.0    & 387.94  & 12.80   & 18.4   \\\\\n",
       "\t 1.00245 &  0.0    & 8.14    & 0       & 0.538   & 6.674   &  87.3   & 4.2390  & 4       & 307     & 21.0    & 380.23  & 11.98   & 21.0   \\\\\n",
       "\t ... & ... & ... & ... & ... & ... & ... & ... & ... & ... & ... & ... & ... & ...\\\\\n",
       "\t  4.87141 & 0        & 18.10    & 0        & 0.614    & 6.484    & 93.6     & 2.3053   & 24       & 666      & 20.2     & 396.21   & 18.68    & 16.7    \\\\\n",
       "\t 15.02340 & 0        & 18.10    & 0        & 0.614    & 5.304    & 97.3     & 2.1007   & 24       & 666      & 20.2     & 349.48   & 24.91    & 12.0    \\\\\n",
       "\t 10.23300 & 0        & 18.10    & 0        & 0.614    & 6.185    & 96.7     & 2.1705   & 24       & 666      & 20.2     & 379.70   & 18.03    & 14.6    \\\\\n",
       "\t 14.33370 & 0        & 18.10    & 0        & 0.614    & 6.229    & 88.0     & 1.9512   & 24       & 666      & 20.2     & 383.32   & 13.11    & 21.4    \\\\\n",
       "\t  5.82401 & 0        & 18.10    & 0        & 0.532    & 6.242    & 64.7     & 3.4242   & 24       & 666      & 20.2     & 396.90   & 10.74    & 23.0    \\\\\n",
       "\t  5.70818 & 0        & 18.10    & 0        & 0.532    & 6.750    & 74.9     & 3.3317   & 24       & 666      & 20.2     & 393.07   &  7.74    & 23.7    \\\\\n",
       "\t  5.73116 & 0        & 18.10    & 0        & 0.532    & 7.061    & 77.0     & 3.4106   & 24       & 666      & 20.2     & 395.28   &  7.01    & 25.0    \\\\\n",
       "\t  2.81838 & 0        & 18.10    & 0        & 0.532    & 5.762    & 40.3     & 4.0983   & 24       & 666      & 20.2     & 392.92   & 10.42    & 21.8    \\\\\n",
       "\t  2.37857 & 0        & 18.10    & 0        & 0.583    & 5.871    & 41.9     & 3.7240   & 24       & 666      & 20.2     & 370.73   & 13.34    & 20.6    \\\\\n",
       "\t  3.67367 & 0        & 18.10    & 0        & 0.583    & 6.312    & 51.9     & 3.9917   & 24       & 666      & 20.2     & 388.62   & 10.58    & 21.2    \\\\\n",
       "\t  5.69175 & 0        & 18.10    & 0        & 0.583    & 6.114    & 79.8     & 3.5459   & 24       & 666      & 20.2     & 392.68   & 14.98    & 19.1    \\\\\n",
       "\t  4.83567 & 0        & 18.10    & 0        & 0.583    & 5.905    & 53.2     & 3.1523   & 24       & 666      & 20.2     & 388.22   & 11.45    & 20.6    \\\\\n",
       "\t  0.15086 & 0        & 27.74    & 0        & 0.609    & 5.454    & 92.7     & 1.8209   &  4       & 711      & 20.1     & 395.09   & 18.06    & 15.2    \\\\\n",
       "\t  0.18337 & 0        & 27.74    & 0        & 0.609    & 5.414    & 98.3     & 1.7554   &  4       & 711      & 20.1     & 344.05   & 23.97    &  7.0    \\\\\n",
       "\t  0.20746 & 0        & 27.74    & 0        & 0.609    & 5.093    & 98.0     & 1.8226   &  4       & 711      & 20.1     & 318.43   & 29.68    &  8.1    \\\\\n",
       "\t  0.10574 & 0        & 27.74    & 0        & 0.609    & 5.983    & 98.8     & 1.8681   &  4       & 711      & 20.1     & 390.11   & 18.07    & 13.6    \\\\\n",
       "\t  0.11132 & 0        & 27.74    & 0        & 0.609    & 5.983    & 83.5     & 2.1099   &  4       & 711      & 20.1     & 396.90   & 13.35    & 20.1    \\\\\n",
       "\t  0.17331 & 0        &  9.69    & 0        & 0.585    & 5.707    & 54.0     & 2.3817   &  6       & 391      & 19.2     & 396.90   & 12.01    & 21.8    \\\\\n",
       "\t  0.27957 & 0        &  9.69    & 0        & 0.585    & 5.926    & 42.6     & 2.3817   &  6       & 391      & 19.2     & 396.90   & 13.59    & 24.5    \\\\\n",
       "\t  0.17899 & 0        &  9.69    & 0        & 0.585    & 5.670    & 28.8     & 2.7986   &  6       & 391      & 19.2     & 393.29   & 17.60    & 23.1    \\\\\n",
       "\t  0.28960 & 0        &  9.69    & 0        & 0.585    & 5.390    & 72.9     & 2.7986   &  6       & 391      & 19.2     & 396.90   & 21.14    & 19.7    \\\\\n",
       "\t  0.26838 & 0        &  9.69    & 0        & 0.585    & 5.794    & 70.6     & 2.8927   &  6       & 391      & 19.2     & 396.90   & 14.10    & 18.3    \\\\\n",
       "\t  0.23912 & 0        &  9.69    & 0        & 0.585    & 6.019    & 65.3     & 2.4091   &  6       & 391      & 19.2     & 396.90   & 12.92    & 21.2    \\\\\n",
       "\t  0.17783 & 0        &  9.69    & 0        & 0.585    & 5.569    & 73.5     & 2.3999   &  6       & 391      & 19.2     & 395.77   & 15.10    & 17.5    \\\\\n",
       "\t  0.22438 & 0        &  9.69    & 0        & 0.585    & 6.027    & 79.7     & 2.4982   &  6       & 391      & 19.2     & 396.90   & 14.33    & 16.8    \\\\\n",
       "\t  0.06263 & 0        & 11.93    & 0        & 0.573    & 6.593    & 69.1     & 2.4786   &  1       & 273      & 21.0     & 391.99   &  9.67    & 22.4    \\\\\n",
       "\t  0.04527 & 0        & 11.93    & 0        & 0.573    & 6.120    & 76.7     & 2.2875   &  1       & 273      & 21.0     & 396.90   &  9.08    & 20.6    \\\\\n",
       "\t  0.06076 & 0        & 11.93    & 0        & 0.573    & 6.976    & 91.0     & 2.1675   &  1       & 273      & 21.0     & 396.90   &  5.64    & 23.9    \\\\\n",
       "\t  0.10959 & 0        & 11.93    & 0        & 0.573    & 6.794    & 89.3     & 2.3889   &  1       & 273      & 21.0     & 393.45   &  6.48    & 22.0    \\\\\n",
       "\t  0.04741 & 0        & 11.93    & 0        & 0.573    & 6.030    & 80.8     & 2.5050   &  1       & 273      & 21.0     & 396.90   &  7.88    & 11.9    \\\\\n",
       "\\end{tabular}\n"
      ],
      "text/markdown": [
       "\n",
       "| crim | zn | indus | chas | nox | rm | age | dis | rad | tax | ptratio | black | lstat | medv |\n",
       "|---|---|---|---|---|---|---|---|---|---|---|---|---|---|\n",
       "| 0.00632 | 18.0    | 2.31    | 0       | 0.538   | 6.575   |  65.2   | 4.0900  | 1       | 296     | 15.3    | 396.90  |  4.98   | 24.0    |\n",
       "| 0.02731 |  0.0    | 7.07    | 0       | 0.469   | 6.421   |  78.9   | 4.9671  | 2       | 242     | 17.8    | 396.90  |  9.14   | 21.6    |\n",
       "| 0.02729 |  0.0    | 7.07    | 0       | 0.469   | 7.185   |  61.1   | 4.9671  | 2       | 242     | 17.8    | 392.83  |  4.03   | 34.7    |\n",
       "| 0.03237 |  0.0    | 2.18    | 0       | 0.458   | 6.998   |  45.8   | 6.0622  | 3       | 222     | 18.7    | 394.63  |  2.94   | 33.4    |\n",
       "| 0.06905 |  0.0    | 2.18    | 0       | 0.458   | 7.147   |  54.2   | 6.0622  | 3       | 222     | 18.7    | 396.90  |  5.33   | 36.2    |\n",
       "| 0.02985 |  0.0    | 2.18    | 0       | 0.458   | 6.430   |  58.7   | 6.0622  | 3       | 222     | 18.7    | 394.12  |  5.21   | 28.7    |\n",
       "| 0.08829 | 12.5    | 7.87    | 0       | 0.524   | 6.012   |  66.6   | 5.5605  | 5       | 311     | 15.2    | 395.60  | 12.43   | 22.9    |\n",
       "| 0.14455 | 12.5    | 7.87    | 0       | 0.524   | 6.172   |  96.1   | 5.9505  | 5       | 311     | 15.2    | 396.90  | 19.15   | 27.1    |\n",
       "| 0.21124 | 12.5    | 7.87    | 0       | 0.524   | 5.631   | 100.0   | 6.0821  | 5       | 311     | 15.2    | 386.63  | 29.93   | 16.5    |\n",
       "| 0.17004 | 12.5    | 7.87    | 0       | 0.524   | 6.004   |  85.9   | 6.5921  | 5       | 311     | 15.2    | 386.71  | 17.10   | 18.9    |\n",
       "| 0.22489 | 12.5    | 7.87    | 0       | 0.524   | 6.377   |  94.3   | 6.3467  | 5       | 311     | 15.2    | 392.52  | 20.45   | 15.0    |\n",
       "| 0.11747 | 12.5    | 7.87    | 0       | 0.524   | 6.009   |  82.9   | 6.2267  | 5       | 311     | 15.2    | 396.90  | 13.27   | 18.9    |\n",
       "| 0.09378 | 12.5    | 7.87    | 0       | 0.524   | 5.889   |  39.0   | 5.4509  | 5       | 311     | 15.2    | 390.50  | 15.71   | 21.7    |\n",
       "| 0.62976 |  0.0    | 8.14    | 0       | 0.538   | 5.949   |  61.8   | 4.7075  | 4       | 307     | 21.0    | 396.90  |  8.26   | 20.4    |\n",
       "| 0.63796 |  0.0    | 8.14    | 0       | 0.538   | 6.096   |  84.5   | 4.4619  | 4       | 307     | 21.0    | 380.02  | 10.26   | 18.2    |\n",
       "| 0.62739 |  0.0    | 8.14    | 0       | 0.538   | 5.834   |  56.5   | 4.4986  | 4       | 307     | 21.0    | 395.62  |  8.47   | 19.9    |\n",
       "| 1.05393 |  0.0    | 8.14    | 0       | 0.538   | 5.935   |  29.3   | 4.4986  | 4       | 307     | 21.0    | 386.85  |  6.58   | 23.1    |\n",
       "| 0.78420 |  0.0    | 8.14    | 0       | 0.538   | 5.990   |  81.7   | 4.2579  | 4       | 307     | 21.0    | 386.75  | 14.67   | 17.5    |\n",
       "| 0.80271 |  0.0    | 8.14    | 0       | 0.538   | 5.456   |  36.6   | 3.7965  | 4       | 307     | 21.0    | 288.99  | 11.69   | 20.2    |\n",
       "| 0.72580 |  0.0    | 8.14    | 0       | 0.538   | 5.727   |  69.5   | 3.7965  | 4       | 307     | 21.0    | 390.95  | 11.28   | 18.2    |\n",
       "| 1.25179 |  0.0    | 8.14    | 0       | 0.538   | 5.570   |  98.1   | 3.7979  | 4       | 307     | 21.0    | 376.57  | 21.02   | 13.6    |\n",
       "| 0.85204 |  0.0    | 8.14    | 0       | 0.538   | 5.965   |  89.2   | 4.0123  | 4       | 307     | 21.0    | 392.53  | 13.83   | 19.6    |\n",
       "| 1.23247 |  0.0    | 8.14    | 0       | 0.538   | 6.142   |  91.7   | 3.9769  | 4       | 307     | 21.0    | 396.90  | 18.72   | 15.2    |\n",
       "| 0.98843 |  0.0    | 8.14    | 0       | 0.538   | 5.813   | 100.0   | 4.0952  | 4       | 307     | 21.0    | 394.54  | 19.88   | 14.5    |\n",
       "| 0.75026 |  0.0    | 8.14    | 0       | 0.538   | 5.924   |  94.1   | 4.3996  | 4       | 307     | 21.0    | 394.33  | 16.30   | 15.6    |\n",
       "| 0.84054 |  0.0    | 8.14    | 0       | 0.538   | 5.599   |  85.7   | 4.4546  | 4       | 307     | 21.0    | 303.42  | 16.51   | 13.9    |\n",
       "| 0.67191 |  0.0    | 8.14    | 0       | 0.538   | 5.813   |  90.3   | 4.6820  | 4       | 307     | 21.0    | 376.88  | 14.81   | 16.6    |\n",
       "| 0.95577 |  0.0    | 8.14    | 0       | 0.538   | 6.047   |  88.8   | 4.4534  | 4       | 307     | 21.0    | 306.38  | 17.28   | 14.8    |\n",
       "| 0.77299 |  0.0    | 8.14    | 0       | 0.538   | 6.495   |  94.4   | 4.4547  | 4       | 307     | 21.0    | 387.94  | 12.80   | 18.4    |\n",
       "| 1.00245 |  0.0    | 8.14    | 0       | 0.538   | 6.674   |  87.3   | 4.2390  | 4       | 307     | 21.0    | 380.23  | 11.98   | 21.0    |\n",
       "| ... | ... | ... | ... | ... | ... | ... | ... | ... | ... | ... | ... | ... | ... |\n",
       "|  4.87141 | 0        | 18.10    | 0        | 0.614    | 6.484    | 93.6     | 2.3053   | 24       | 666      | 20.2     | 396.21   | 18.68    | 16.7     |\n",
       "| 15.02340 | 0        | 18.10    | 0        | 0.614    | 5.304    | 97.3     | 2.1007   | 24       | 666      | 20.2     | 349.48   | 24.91    | 12.0     |\n",
       "| 10.23300 | 0        | 18.10    | 0        | 0.614    | 6.185    | 96.7     | 2.1705   | 24       | 666      | 20.2     | 379.70   | 18.03    | 14.6     |\n",
       "| 14.33370 | 0        | 18.10    | 0        | 0.614    | 6.229    | 88.0     | 1.9512   | 24       | 666      | 20.2     | 383.32   | 13.11    | 21.4     |\n",
       "|  5.82401 | 0        | 18.10    | 0        | 0.532    | 6.242    | 64.7     | 3.4242   | 24       | 666      | 20.2     | 396.90   | 10.74    | 23.0     |\n",
       "|  5.70818 | 0        | 18.10    | 0        | 0.532    | 6.750    | 74.9     | 3.3317   | 24       | 666      | 20.2     | 393.07   |  7.74    | 23.7     |\n",
       "|  5.73116 | 0        | 18.10    | 0        | 0.532    | 7.061    | 77.0     | 3.4106   | 24       | 666      | 20.2     | 395.28   |  7.01    | 25.0     |\n",
       "|  2.81838 | 0        | 18.10    | 0        | 0.532    | 5.762    | 40.3     | 4.0983   | 24       | 666      | 20.2     | 392.92   | 10.42    | 21.8     |\n",
       "|  2.37857 | 0        | 18.10    | 0        | 0.583    | 5.871    | 41.9     | 3.7240   | 24       | 666      | 20.2     | 370.73   | 13.34    | 20.6     |\n",
       "|  3.67367 | 0        | 18.10    | 0        | 0.583    | 6.312    | 51.9     | 3.9917   | 24       | 666      | 20.2     | 388.62   | 10.58    | 21.2     |\n",
       "|  5.69175 | 0        | 18.10    | 0        | 0.583    | 6.114    | 79.8     | 3.5459   | 24       | 666      | 20.2     | 392.68   | 14.98    | 19.1     |\n",
       "|  4.83567 | 0        | 18.10    | 0        | 0.583    | 5.905    | 53.2     | 3.1523   | 24       | 666      | 20.2     | 388.22   | 11.45    | 20.6     |\n",
       "|  0.15086 | 0        | 27.74    | 0        | 0.609    | 5.454    | 92.7     | 1.8209   |  4       | 711      | 20.1     | 395.09   | 18.06    | 15.2     |\n",
       "|  0.18337 | 0        | 27.74    | 0        | 0.609    | 5.414    | 98.3     | 1.7554   |  4       | 711      | 20.1     | 344.05   | 23.97    |  7.0     |\n",
       "|  0.20746 | 0        | 27.74    | 0        | 0.609    | 5.093    | 98.0     | 1.8226   |  4       | 711      | 20.1     | 318.43   | 29.68    |  8.1     |\n",
       "|  0.10574 | 0        | 27.74    | 0        | 0.609    | 5.983    | 98.8     | 1.8681   |  4       | 711      | 20.1     | 390.11   | 18.07    | 13.6     |\n",
       "|  0.11132 | 0        | 27.74    | 0        | 0.609    | 5.983    | 83.5     | 2.1099   |  4       | 711      | 20.1     | 396.90   | 13.35    | 20.1     |\n",
       "|  0.17331 | 0        |  9.69    | 0        | 0.585    | 5.707    | 54.0     | 2.3817   |  6       | 391      | 19.2     | 396.90   | 12.01    | 21.8     |\n",
       "|  0.27957 | 0        |  9.69    | 0        | 0.585    | 5.926    | 42.6     | 2.3817   |  6       | 391      | 19.2     | 396.90   | 13.59    | 24.5     |\n",
       "|  0.17899 | 0        |  9.69    | 0        | 0.585    | 5.670    | 28.8     | 2.7986   |  6       | 391      | 19.2     | 393.29   | 17.60    | 23.1     |\n",
       "|  0.28960 | 0        |  9.69    | 0        | 0.585    | 5.390    | 72.9     | 2.7986   |  6       | 391      | 19.2     | 396.90   | 21.14    | 19.7     |\n",
       "|  0.26838 | 0        |  9.69    | 0        | 0.585    | 5.794    | 70.6     | 2.8927   |  6       | 391      | 19.2     | 396.90   | 14.10    | 18.3     |\n",
       "|  0.23912 | 0        |  9.69    | 0        | 0.585    | 6.019    | 65.3     | 2.4091   |  6       | 391      | 19.2     | 396.90   | 12.92    | 21.2     |\n",
       "|  0.17783 | 0        |  9.69    | 0        | 0.585    | 5.569    | 73.5     | 2.3999   |  6       | 391      | 19.2     | 395.77   | 15.10    | 17.5     |\n",
       "|  0.22438 | 0        |  9.69    | 0        | 0.585    | 6.027    | 79.7     | 2.4982   |  6       | 391      | 19.2     | 396.90   | 14.33    | 16.8     |\n",
       "|  0.06263 | 0        | 11.93    | 0        | 0.573    | 6.593    | 69.1     | 2.4786   |  1       | 273      | 21.0     | 391.99   |  9.67    | 22.4     |\n",
       "|  0.04527 | 0        | 11.93    | 0        | 0.573    | 6.120    | 76.7     | 2.2875   |  1       | 273      | 21.0     | 396.90   |  9.08    | 20.6     |\n",
       "|  0.06076 | 0        | 11.93    | 0        | 0.573    | 6.976    | 91.0     | 2.1675   |  1       | 273      | 21.0     | 396.90   |  5.64    | 23.9     |\n",
       "|  0.10959 | 0        | 11.93    | 0        | 0.573    | 6.794    | 89.3     | 2.3889   |  1       | 273      | 21.0     | 393.45   |  6.48    | 22.0     |\n",
       "|  0.04741 | 0        | 11.93    | 0        | 0.573    | 6.030    | 80.8     | 2.5050   |  1       | 273      | 21.0     | 396.90   |  7.88    | 11.9     |\n",
       "\n"
      ],
      "text/plain": [
       "    crim     zn   indus chas nox   rm    age   dis    rad tax ptratio black \n",
       "1   0.00632  18.0 2.31  0    0.538 6.575  65.2 4.0900 1   296 15.3    396.90\n",
       "2   0.02731   0.0 7.07  0    0.469 6.421  78.9 4.9671 2   242 17.8    396.90\n",
       "3   0.02729   0.0 7.07  0    0.469 7.185  61.1 4.9671 2   242 17.8    392.83\n",
       "4   0.03237   0.0 2.18  0    0.458 6.998  45.8 6.0622 3   222 18.7    394.63\n",
       "5   0.06905   0.0 2.18  0    0.458 7.147  54.2 6.0622 3   222 18.7    396.90\n",
       "6   0.02985   0.0 2.18  0    0.458 6.430  58.7 6.0622 3   222 18.7    394.12\n",
       "7   0.08829  12.5 7.87  0    0.524 6.012  66.6 5.5605 5   311 15.2    395.60\n",
       "8   0.14455  12.5 7.87  0    0.524 6.172  96.1 5.9505 5   311 15.2    396.90\n",
       "9   0.21124  12.5 7.87  0    0.524 5.631 100.0 6.0821 5   311 15.2    386.63\n",
       "10  0.17004  12.5 7.87  0    0.524 6.004  85.9 6.5921 5   311 15.2    386.71\n",
       "11  0.22489  12.5 7.87  0    0.524 6.377  94.3 6.3467 5   311 15.2    392.52\n",
       "12  0.11747  12.5 7.87  0    0.524 6.009  82.9 6.2267 5   311 15.2    396.90\n",
       "13  0.09378  12.5 7.87  0    0.524 5.889  39.0 5.4509 5   311 15.2    390.50\n",
       "14  0.62976   0.0 8.14  0    0.538 5.949  61.8 4.7075 4   307 21.0    396.90\n",
       "15  0.63796   0.0 8.14  0    0.538 6.096  84.5 4.4619 4   307 21.0    380.02\n",
       "16  0.62739   0.0 8.14  0    0.538 5.834  56.5 4.4986 4   307 21.0    395.62\n",
       "17  1.05393   0.0 8.14  0    0.538 5.935  29.3 4.4986 4   307 21.0    386.85\n",
       "18  0.78420   0.0 8.14  0    0.538 5.990  81.7 4.2579 4   307 21.0    386.75\n",
       "19  0.80271   0.0 8.14  0    0.538 5.456  36.6 3.7965 4   307 21.0    288.99\n",
       "20  0.72580   0.0 8.14  0    0.538 5.727  69.5 3.7965 4   307 21.0    390.95\n",
       "21  1.25179   0.0 8.14  0    0.538 5.570  98.1 3.7979 4   307 21.0    376.57\n",
       "22  0.85204   0.0 8.14  0    0.538 5.965  89.2 4.0123 4   307 21.0    392.53\n",
       "23  1.23247   0.0 8.14  0    0.538 6.142  91.7 3.9769 4   307 21.0    396.90\n",
       "24  0.98843   0.0 8.14  0    0.538 5.813 100.0 4.0952 4   307 21.0    394.54\n",
       "25  0.75026   0.0 8.14  0    0.538 5.924  94.1 4.3996 4   307 21.0    394.33\n",
       "26  0.84054   0.0 8.14  0    0.538 5.599  85.7 4.4546 4   307 21.0    303.42\n",
       "27  0.67191   0.0 8.14  0    0.538 5.813  90.3 4.6820 4   307 21.0    376.88\n",
       "28  0.95577   0.0 8.14  0    0.538 6.047  88.8 4.4534 4   307 21.0    306.38\n",
       "29  0.77299   0.0 8.14  0    0.538 6.495  94.4 4.4547 4   307 21.0    387.94\n",
       "30  1.00245   0.0 8.14  0    0.538 6.674  87.3 4.2390 4   307 21.0    380.23\n",
       "... ...      ...  ...   ...  ...   ...   ...   ...    ... ... ...     ...   \n",
       "477  4.87141 0    18.10 0    0.614 6.484 93.6  2.3053 24  666 20.2    396.21\n",
       "478 15.02340 0    18.10 0    0.614 5.304 97.3  2.1007 24  666 20.2    349.48\n",
       "479 10.23300 0    18.10 0    0.614 6.185 96.7  2.1705 24  666 20.2    379.70\n",
       "480 14.33370 0    18.10 0    0.614 6.229 88.0  1.9512 24  666 20.2    383.32\n",
       "481  5.82401 0    18.10 0    0.532 6.242 64.7  3.4242 24  666 20.2    396.90\n",
       "482  5.70818 0    18.10 0    0.532 6.750 74.9  3.3317 24  666 20.2    393.07\n",
       "483  5.73116 0    18.10 0    0.532 7.061 77.0  3.4106 24  666 20.2    395.28\n",
       "484  2.81838 0    18.10 0    0.532 5.762 40.3  4.0983 24  666 20.2    392.92\n",
       "485  2.37857 0    18.10 0    0.583 5.871 41.9  3.7240 24  666 20.2    370.73\n",
       "486  3.67367 0    18.10 0    0.583 6.312 51.9  3.9917 24  666 20.2    388.62\n",
       "487  5.69175 0    18.10 0    0.583 6.114 79.8  3.5459 24  666 20.2    392.68\n",
       "488  4.83567 0    18.10 0    0.583 5.905 53.2  3.1523 24  666 20.2    388.22\n",
       "489  0.15086 0    27.74 0    0.609 5.454 92.7  1.8209  4  711 20.1    395.09\n",
       "490  0.18337 0    27.74 0    0.609 5.414 98.3  1.7554  4  711 20.1    344.05\n",
       "491  0.20746 0    27.74 0    0.609 5.093 98.0  1.8226  4  711 20.1    318.43\n",
       "492  0.10574 0    27.74 0    0.609 5.983 98.8  1.8681  4  711 20.1    390.11\n",
       "493  0.11132 0    27.74 0    0.609 5.983 83.5  2.1099  4  711 20.1    396.90\n",
       "494  0.17331 0     9.69 0    0.585 5.707 54.0  2.3817  6  391 19.2    396.90\n",
       "495  0.27957 0     9.69 0    0.585 5.926 42.6  2.3817  6  391 19.2    396.90\n",
       "496  0.17899 0     9.69 0    0.585 5.670 28.8  2.7986  6  391 19.2    393.29\n",
       "497  0.28960 0     9.69 0    0.585 5.390 72.9  2.7986  6  391 19.2    396.90\n",
       "498  0.26838 0     9.69 0    0.585 5.794 70.6  2.8927  6  391 19.2    396.90\n",
       "499  0.23912 0     9.69 0    0.585 6.019 65.3  2.4091  6  391 19.2    396.90\n",
       "500  0.17783 0     9.69 0    0.585 5.569 73.5  2.3999  6  391 19.2    395.77\n",
       "501  0.22438 0     9.69 0    0.585 6.027 79.7  2.4982  6  391 19.2    396.90\n",
       "502  0.06263 0    11.93 0    0.573 6.593 69.1  2.4786  1  273 21.0    391.99\n",
       "503  0.04527 0    11.93 0    0.573 6.120 76.7  2.2875  1  273 21.0    396.90\n",
       "504  0.06076 0    11.93 0    0.573 6.976 91.0  2.1675  1  273 21.0    396.90\n",
       "505  0.10959 0    11.93 0    0.573 6.794 89.3  2.3889  1  273 21.0    393.45\n",
       "506  0.04741 0    11.93 0    0.573 6.030 80.8  2.5050  1  273 21.0    396.90\n",
       "    lstat medv\n",
       "1    4.98 24.0\n",
       "2    9.14 21.6\n",
       "3    4.03 34.7\n",
       "4    2.94 33.4\n",
       "5    5.33 36.2\n",
       "6    5.21 28.7\n",
       "7   12.43 22.9\n",
       "8   19.15 27.1\n",
       "9   29.93 16.5\n",
       "10  17.10 18.9\n",
       "11  20.45 15.0\n",
       "12  13.27 18.9\n",
       "13  15.71 21.7\n",
       "14   8.26 20.4\n",
       "15  10.26 18.2\n",
       "16   8.47 19.9\n",
       "17   6.58 23.1\n",
       "18  14.67 17.5\n",
       "19  11.69 20.2\n",
       "20  11.28 18.2\n",
       "21  21.02 13.6\n",
       "22  13.83 19.6\n",
       "23  18.72 15.2\n",
       "24  19.88 14.5\n",
       "25  16.30 15.6\n",
       "26  16.51 13.9\n",
       "27  14.81 16.6\n",
       "28  17.28 14.8\n",
       "29  12.80 18.4\n",
       "30  11.98 21.0\n",
       "... ...   ... \n",
       "477 18.68 16.7\n",
       "478 24.91 12.0\n",
       "479 18.03 14.6\n",
       "480 13.11 21.4\n",
       "481 10.74 23.0\n",
       "482  7.74 23.7\n",
       "483  7.01 25.0\n",
       "484 10.42 21.8\n",
       "485 13.34 20.6\n",
       "486 10.58 21.2\n",
       "487 14.98 19.1\n",
       "488 11.45 20.6\n",
       "489 18.06 15.2\n",
       "490 23.97  7.0\n",
       "491 29.68  8.1\n",
       "492 18.07 13.6\n",
       "493 13.35 20.1\n",
       "494 12.01 21.8\n",
       "495 13.59 24.5\n",
       "496 17.60 23.1\n",
       "497 21.14 19.7\n",
       "498 14.10 18.3\n",
       "499 12.92 21.2\n",
       "500 15.10 17.5\n",
       "501 14.33 16.8\n",
       "502  9.67 22.4\n",
       "503  9.08 20.6\n",
       "504  5.64 23.9\n",
       "505  6.48 22.0\n",
       "506  7.88 11.9"
      ]
     },
     "metadata": {},
     "output_type": "display_data"
    }
   ],
   "source": [
    "Boston"
   ]
  },
  {
   "cell_type": "markdown",
   "id": "prepared-thought",
   "metadata": {},
   "source": [
    "Read about the data set:"
   ]
  },
  {
   "cell_type": "code",
   "execution_count": 17,
   "id": "material-hostel",
   "metadata": {},
   "outputs": [],
   "source": [
    "?Boston"
   ]
  },
  {
   "cell_type": "markdown",
   "id": "indian-bones",
   "metadata": {},
   "source": [
    "How many rows are in this data set? How many columns? What\n",
    "do the rows and columns represent?\n",
    "\n",
    "- The Boston data frame has 506 rows and 14 columns.\n",
    "\n",
    "- crim\n",
    "    - per capita crime rate by town.\n",
    "- zn\n",
    "    - proportion of residential land zoned for lots over 25,000 sq.ft.\n",
    "\n",
    "- indus\n",
    "    - proportion of non-retail business acres per town.\n",
    "\n",
    "- chas\n",
    "    - Charles River dummy variable (= 1 if tract bounds river; 0 otherwise).\n",
    "\n",
    "- nox\n",
    "    - nitrogen oxides concentration (parts per 10 million).\n",
    "\n",
    "- rm\n",
    "    - average number of rooms per dwelling.\n",
    "\n",
    "- age\n",
    "    - proportion of owner-occupied units built prior to 1940.\n",
    "\n",
    "- dis\n",
    "    - weighted mean of distances to five Boston employment centres.\n",
    "\n",
    "- rad\n",
    "    - index of accessibility to radial highways.\n",
    "\n",
    "- tax\n",
    "    - full-value property-tax rate per $10,000.\n",
    "\n",
    "- ptratio\n",
    "    - pupil-teacher ratio by town.\n",
    "\n",
    "- black\n",
    "    - 1000(𝐵𝑘−0.63)2 where 𝐵𝑘 is the proportion of blacks by town.\n",
    "\n",
    "- lstat\n",
    "    - lower status of the population (percent).\n",
    "\n",
    "- medv\n",
    "    - median value of owner-occupied homes in $1000s."
   ]
  },
  {
   "cell_type": "markdown",
   "id": "industrial-gospel",
   "metadata": {},
   "source": [
    "(b) Make some pairwise scatterplots of the predictors (columns) in\n",
    "this data set. Describe your findings."
   ]
  },
  {
   "cell_type": "code",
   "execution_count": 18,
   "id": "premier-caution",
   "metadata": {},
   "outputs": [
    {
     "data": {
      "image/png": "[encoded data removed]",
      "text/plain": [
       "plot without title"
      ]
     },
     "metadata": {},
     "output_type": "display_data"
    }
   ],
   "source": [
    "pairs(Boston)"
   ]
  },
  {
   "cell_type": "code",
   "execution_count": 19,
   "id": "elementary-organic",
   "metadata": {},
   "outputs": [
    {
     "data": {
      "image/png": "[encoded data removed]",
      "text/plain": [
       "plot without title"
      ]
     },
     "metadata": {},
     "output_type": "display_data"
    }
   ],
   "source": [
    "x = 'lstat'; y = 'medv'\n",
    "plot(Boston[,c(x)], Boston[,c(y)], xlab=x, ylab=y)\n",
    "# linear relationship between social status and median value"
   ]
  },
  {
   "cell_type": "markdown",
   "id": "distributed-landing",
   "metadata": {},
   "source": [
    "- (c) Are any of the predictors associated with per capita crime rate?\n",
    "If so, explain the relationship.\n",
    "    - **There are no meaningful directional relationships**"
   ]
  },
  {
   "cell_type": "code",
   "execution_count": 43,
   "id": "numerous-indonesia",
   "metadata": {},
   "outputs": [
    {
     "data": {
      "image/png": "[encoded data removed]",
      "text/plain": [
       "plot without title"
      ]
     },
     "metadata": {},
     "output_type": "display_data"
    },
    {
     "data": {
      "image/png": "[encoded data removed]",
      "text/plain": [
       "plot without title"
      ]
     },
     "metadata": {},
     "output_type": "display_data"
    },
    {
     "data": {
      "image/png": "[encoded data removed]",
      "text/plain": [
       "plot without title"
      ]
     },
     "metadata": {},
     "output_type": "display_data"
    },
    {
     "data": {
      "image/png": "[encoded data removed]",
      "text/plain": [
       "plot without title"
      ]
     },
     "metadata": {},
     "output_type": "display_data"
    },
    {
     "data": {
      "image/png": "[encoded data removed]",
      "text/plain": [
       "plot without title"
      ]
     },
     "metadata": {},
     "output_type": "display_data"
    },
    {
     "data": {
      "image/png": "[encoded data removed]",
      "text/plain": [
       "plot without title"
      ]
     },
     "metadata": {},
     "output_type": "display_data"
    },
    {
     "data": {
      "image/png": "[encoded data removed]",
      "text/plain": [
       "plot without title"
      ]
     },
     "metadata": {},
     "output_type": "display_data"
    },
    {
     "data": {
      "image/png": "[encoded data removed]",
      "text/plain": [
       "plot without title"
      ]
     },
     "metadata": {},
     "output_type": "display_data"
    },
    {
     "data": {
      "image/png": "[encoded data removed]",
      "text/plain": [
       "plot without title"
      ]
     },
     "metadata": {},
     "output_type": "display_data"
    },
    {
     "data": {
      "image/png": "[encoded data removed]",
      "text/plain": [
       "plot without title"
      ]
     },
     "metadata": {},
     "output_type": "display_data"
    },
    {
     "data": {
      "image/png": "[encoded data removed]",
      "text/plain": [
       "plot without title"
      ]
     },
     "metadata": {},
     "output_type": "display_data"
    },
    {
     "data": {
      "image/png": "[encoded data removed]",
      "text/plain": [
       "plot without title"
      ]
     },
     "metadata": {},
     "output_type": "display_data"
    },
    {
     "data": {
      "image/png": "[encoded data removed]",
      "text/plain": [
       "plot without title"
      ]
     },
     "metadata": {},
     "output_type": "display_data"
    }
   ],
   "source": [
    "y = 'crim'\n",
    "Xs = colnames(Boston)\n",
    "Xs <- Xs[Xs != \"crim\"]\n",
    "\n",
    "for (x in Xs) {\n",
    "    plot(Boston[,c(x)], Boston[,c(y)], xlab=x, ylab=y)\n",
    "}"
   ]
  },
  {
   "cell_type": "code",
   "execution_count": 48,
   "id": "cutting-guarantee",
   "metadata": {},
   "outputs": [
    {
     "data": {
      "image/png": "[encoded data removed]",
      "text/plain": [
       "plot without title"
      ]
     },
     "metadata": {},
     "output_type": "display_data"
    }
   ],
   "source": [
    "pairs(~ crim + lstat, data = Boston)"
   ]
  },
  {
   "cell_type": "code",
   "execution_count": 79,
   "id": "continent-founder",
   "metadata": {},
   "outputs": [],
   "source": [
    "?Boston"
   ]
  },
  {
   "cell_type": "markdown",
   "id": "retired-hayes",
   "metadata": {},
   "source": [
    "(d) Do any of the suburbs of Boston appear to have particularly\n",
    "high crime rates? Tax rates? Pupil-teacher ratios? Comment on\n",
    "the range of each predictor.\n",
    "   - No. The majority of suburbs have a rate between 0 and 4% per capita\n",
    "   - Yes, suburbs in third quartile pay twice the mean in taxes\n",
    "   - pupil-teacher ratios are highest in the towns with the lowest median value\n",
    "   - ranges of crime rate and age of property are particurlary wide"
   ]
  },
  {
   "cell_type": "code",
   "execution_count": 76,
   "id": "simple-supply",
   "metadata": {},
   "outputs": [
    {
     "data": {
      "text/plain": [
       "    Min.  1st Qu.   Median     Mean  3rd Qu.     Max. \n",
       " 0.00632  0.08204  0.25651  3.61352  3.67708 88.97620 "
      ]
     },
     "metadata": {},
     "output_type": "display_data"
    }
   ],
   "source": [
    "summary(Boston$crim)"
   ]
  },
  {
   "cell_type": "code",
   "execution_count": 64,
   "id": "compound-taylor",
   "metadata": {},
   "outputs": [
    {
     "data": {
      "image/png": "[encoded data removed]",
      "text/plain": [
       "Plot with title \"Histogram of Boston$crim\""
      ]
     },
     "metadata": {},
     "output_type": "display_data"
    }
   ],
   "source": [
    "hist(Boston$crim, breaks=10)"
   ]
  },
  {
   "cell_type": "code",
   "execution_count": 78,
   "id": "sized-chinese",
   "metadata": {},
   "outputs": [
    {
     "data": {
      "text/plain": [
       "   Min. 1st Qu.  Median    Mean 3rd Qu.    Max. \n",
       "  187.0   279.0   330.0   408.2   666.0   711.0 "
      ]
     },
     "metadata": {},
     "output_type": "display_data"
    }
   ],
   "source": [
    "summary(Boston$tax)"
   ]
  },
  {
   "cell_type": "code",
   "execution_count": 66,
   "id": "prospective-arthritis",
   "metadata": {},
   "outputs": [
    {
     "data": {
      "image/png": "[encoded data removed]",
      "text/plain": [
       "Plot with title \"Histogram of Boston$tax\""
      ]
     },
     "metadata": {},
     "output_type": "display_data"
    }
   ],
   "source": [
    "hist(Boston$tax, breaks=10)"
   ]
  },
  {
   "cell_type": "code",
   "execution_count": 80,
   "id": "purple-landscape",
   "metadata": {},
   "outputs": [
    {
     "data": {
      "text/plain": [
       "   Min. 1st Qu.  Median    Mean 3rd Qu.    Max. \n",
       "  12.60   17.40   19.05   18.46   20.20   22.00 "
      ]
     },
     "metadata": {},
     "output_type": "display_data"
    }
   ],
   "source": [
    "summary(Boston$ptratio)"
   ]
  },
  {
   "cell_type": "code",
   "execution_count": 104,
   "id": "bizarre-regular",
   "metadata": {},
   "outputs": [
    {
     "data": {
      "text/plain": [
       "      crim               zn             indus            chas       \n",
       " Min.   : 0.0136   Min.   : 0.000   Min.   : 1.91   Min.   :0.0000  \n",
       " 1st Qu.: 0.7842   1st Qu.: 0.000   1st Qu.:18.10   1st Qu.:0.0000  \n",
       " Median : 5.6664   Median : 0.000   Median :18.10   Median :0.0000  \n",
       " Mean   : 8.5455   Mean   : 1.169   Mean   :16.11   Mean   :0.0398  \n",
       " 3rd Qu.:10.8342   3rd Qu.: 0.000   3rd Qu.:18.10   3rd Qu.:0.0000  \n",
       " Max.   :88.9762   Max.   :80.000   Max.   :27.74   Max.   :1.0000  \n",
       "      nox               rm             age              dis        \n",
       " Min.   :0.4100   Min.   :3.561   Min.   : 19.50   Min.   : 1.130  \n",
       " 1st Qu.:0.5730   1st Qu.:5.759   1st Qu.: 83.40   1st Qu.: 1.755  \n",
       " Median :0.6240   Median :6.096   Median : 92.70   Median : 2.122  \n",
       " Mean   :0.6315   Mean   :6.026   Mean   : 86.44   Mean   : 2.565  \n",
       " 3rd Qu.:0.7000   3rd Qu.:6.398   3rd Qu.: 98.10   3rd Qu.: 2.802  \n",
       " Max.   :0.7700   Max.   :8.780   Max.   :100.00   Max.   :10.586  \n",
       "      rad             tax           ptratio          black       \n",
       " Min.   : 1.00   Min.   :224.0   Min.   :20.10   Min.   :  0.32  \n",
       " 1st Qu.: 5.00   1st Qu.:437.0   1st Qu.:20.20   1st Qu.:316.03  \n",
       " Median :24.00   Median :666.0   Median :20.20   Median :386.73  \n",
       " Mean   :17.15   Mean   :563.7   Mean   :20.44   Mean   :317.59  \n",
       " 3rd Qu.:24.00   3rd Qu.:666.0   3rd Qu.:20.90   3rd Qu.:395.58  \n",
       " Max.   :24.00   Max.   :711.0   Max.   :22.00   Max.   :396.90  \n",
       "     lstat            medv      \n",
       " Min.   : 2.96   Min.   : 5.00  \n",
       " 1st Qu.:12.60   1st Qu.:12.80  \n",
       " Median :16.74   Median :16.30  \n",
       " Mean   :17.11   Mean   :16.94  \n",
       " 3rd Qu.:21.02   3rd Qu.:20.10  \n",
       " Max.   :37.97   Max.   :50.00  "
      ]
     },
     "metadata": {},
     "output_type": "display_data"
    }
   ],
   "source": [
    "summary(Boston[Boston$ptratio>20, ])"
   ]
  },
  {
   "cell_type": "code",
   "execution_count": 116,
   "id": "married-planning",
   "metadata": {},
   "outputs": [
    {
     "data": {
      "image/png": "[encoded data removed]",
      "text/plain": [
       "plot without title"
      ]
     },
     "metadata": {},
     "output_type": "display_data"
    }
   ],
   "source": [
    "# \n",
    "\n",
    "x = 'medv'; y = 'ptratio'\n",
    "plot(Boston[,c(x)], Boston[,c(y)], xlab=x, ylab=y)"
   ]
  },
  {
   "cell_type": "code",
   "execution_count": 124,
   "id": "extraordinary-knitting",
   "metadata": {},
   "outputs": [],
   "source": [
    "?Boston"
   ]
  },
  {
   "cell_type": "code",
   "execution_count": 49,
   "id": "heard-jones",
   "metadata": {},
   "outputs": [
    {
     "data": {
      "text/html": [
       "<table>\n",
       "<thead><tr><th scope=col>crim</th><th scope=col>zn</th><th scope=col>indus</th><th scope=col>chas</th><th scope=col>nox</th><th scope=col>rm</th><th scope=col>age</th><th scope=col>dis</th><th scope=col>rad</th><th scope=col>tax</th><th scope=col>ptratio</th><th scope=col>black</th><th scope=col>lstat</th><th scope=col>medv</th></tr></thead>\n",
       "<tbody>\n",
       "\t<tr><td> 0.00632</td><td>  0     </td><td> 0.46   </td><td>0       </td><td>0.385   </td><td>3.561   </td><td>  2.9   </td><td> 1.1296 </td><td> 1      </td><td>187     </td><td>12.6    </td><td>  0.32  </td><td> 1.73   </td><td> 5      </td></tr>\n",
       "\t<tr><td>88.97620</td><td>100     </td><td>27.74   </td><td>1       </td><td>0.871   </td><td>8.780   </td><td>100.0   </td><td>12.1265 </td><td>24      </td><td>711     </td><td>22.0    </td><td>396.90  </td><td>37.97   </td><td>50      </td></tr>\n",
       "</tbody>\n",
       "</table>\n"
      ],
      "text/latex": [
       "\\begin{tabular}{llllllllllllll}\n",
       " crim & zn & indus & chas & nox & rm & age & dis & rad & tax & ptratio & black & lstat & medv\\\\\n",
       "\\hline\n",
       "\t  0.00632 &   0      &  0.46    & 0        & 0.385    & 3.561    &   2.9    &  1.1296  &  1       & 187      & 12.6     &   0.32   &  1.73    &  5      \\\\\n",
       "\t 88.97620 & 100      & 27.74    & 1        & 0.871    & 8.780    & 100.0    & 12.1265  & 24       & 711      & 22.0     & 396.90   & 37.97    & 50      \\\\\n",
       "\\end{tabular}\n"
      ],
      "text/markdown": [
       "\n",
       "| crim | zn | indus | chas | nox | rm | age | dis | rad | tax | ptratio | black | lstat | medv |\n",
       "|---|---|---|---|---|---|---|---|---|---|---|---|---|---|\n",
       "|  0.00632 |   0      |  0.46    | 0        | 0.385    | 3.561    |   2.9    |  1.1296  |  1       | 187      | 12.6     |   0.32   |  1.73    |  5       |\n",
       "| 88.97620 | 100      | 27.74    | 1        | 0.871    | 8.780    | 100.0    | 12.1265  | 24       | 711      | 22.0     | 396.90   | 37.97    | 50       |\n",
       "\n"
      ],
      "text/plain": [
       "     crim     zn  indus chas nox   rm    age   dis     rad tax ptratio black \n",
       "[1,]  0.00632   0  0.46 0    0.385 3.561   2.9  1.1296  1  187 12.6      0.32\n",
       "[2,] 88.97620 100 27.74 1    0.871 8.780 100.0 12.1265 24  711 22.0    396.90\n",
       "     lstat medv\n",
       "[1,]  1.73  5  \n",
       "[2,] 37.97 50  "
      ]
     },
     "metadata": {},
     "output_type": "display_data"
    }
   ],
   "source": [
    "sapply(Boston, range, na.rm=TRUE)"
   ]
  },
  {
   "cell_type": "markdown",
   "id": "appreciated-weight",
   "metadata": {},
   "source": [
    "(e) How many of the suburbs in this data set bound the Charles\n",
    "river?"
   ]
  },
  {
   "cell_type": "code",
   "execution_count": 147,
   "id": "psychological-essay",
   "metadata": {},
   "outputs": [
    {
     "data": {
      "text/html": [
       "35"
      ],
      "text/latex": [
       "35"
      ],
      "text/markdown": [
       "35"
      ],
      "text/plain": [
       "[1] 35"
      ]
     },
     "metadata": {},
     "output_type": "display_data"
    }
   ],
   "source": [
    "nrow(Boston[Boston$chas==1,])"
   ]
  },
  {
   "cell_type": "markdown",
   "id": "lesser-aggregate",
   "metadata": {},
   "source": [
    "(f) What is the median pupil-teacher ratio among the towns in this\n",
    "data set?"
   ]
  },
  {
   "cell_type": "code",
   "execution_count": 129,
   "id": "compliant-grass",
   "metadata": {},
   "outputs": [
    {
     "data": {
      "text/html": [
       "<strong>ptratio:</strong> 19.05"
      ],
      "text/latex": [
       "\\textbf{ptratio:} 19.05"
      ],
      "text/markdown": [
       "**ptratio:** 19.05"
      ],
      "text/plain": [
       "ptratio \n",
       "  19.05 "
      ]
     },
     "metadata": {},
     "output_type": "display_data"
    }
   ],
   "source": [
    "sapply(Boston[c('ptratio')], median, na.rm=TRUE)"
   ]
  },
  {
   "cell_type": "markdown",
   "id": "changing-fishing",
   "metadata": {},
   "source": [
    "(g) Which suburb of Boston has lowest median value of owneroccupied\n",
    "homes? What are the values of the other predictors\n",
    "for that suburb, and how do those values compare to the overall\n",
    "ranges for those predictors? Comment on your findings.\n",
    " - Compared to overall ranges, these two surburbs tend have values towards the very top of the range for nearly each predictor, respectively"
   ]
  },
  {
   "cell_type": "code",
   "execution_count": 132,
   "id": "greek-cinema",
   "metadata": {},
   "outputs": [
    {
     "data": {
      "text/html": [
       "<strong>medv:</strong> 5"
      ],
      "text/latex": [
       "\\textbf{medv:} 5"
      ],
      "text/markdown": [
       "**medv:** 5"
      ],
      "text/plain": [
       "medv \n",
       "   5 "
      ]
     },
     "metadata": {},
     "output_type": "display_data"
    }
   ],
   "source": [
    "sapply(Boston[c('medv')], min, na.rm=TRUE)"
   ]
  },
  {
   "cell_type": "code",
   "execution_count": 163,
   "id": "attached-judgment",
   "metadata": {},
   "outputs": [
    {
     "data": {
      "text/html": [
       "<table>\n",
       "<thead><tr><th scope=col>crim</th><th scope=col>zn</th><th scope=col>indus</th><th scope=col>chas</th><th scope=col>nox</th><th scope=col>rm</th><th scope=col>age</th><th scope=col>dis</th><th scope=col>rad</th><th scope=col>tax</th><th scope=col>ptratio</th><th scope=col>black</th><th scope=col>lstat</th><th scope=col>medv</th></tr></thead>\n",
       "<tbody>\n",
       "\t<tr><td>38.3518</td><td>0      </td><td>18.1   </td><td>0      </td><td>0.693  </td><td>5.453  </td><td>100    </td><td>1.4254 </td><td>24     </td><td>666    </td><td>20.2   </td><td>384.97 </td><td>22.98  </td><td>5      </td></tr>\n",
       "\t<tr><td>67.9208</td><td>0      </td><td>18.1   </td><td>0      </td><td>0.693  </td><td>5.683  </td><td>100    </td><td>1.4896 </td><td>24     </td><td>666    </td><td>20.2   </td><td>396.90 </td><td>30.59  </td><td>5      </td></tr>\n",
       "</tbody>\n",
       "</table>\n"
      ],
      "text/latex": [
       "\\begin{tabular}{llllllllllllll}\n",
       " crim & zn & indus & chas & nox & rm & age & dis & rad & tax & ptratio & black & lstat & medv\\\\\n",
       "\\hline\n",
       "\t 38.3518 & 0       & 18.1    & 0       & 0.693   & 5.453   & 100     & 1.4254  & 24      & 666     & 20.2    & 384.97  & 22.98   & 5      \\\\\n",
       "\t 67.9208 & 0       & 18.1    & 0       & 0.693   & 5.683   & 100     & 1.4896  & 24      & 666     & 20.2    & 396.90  & 30.59   & 5      \\\\\n",
       "\\end{tabular}\n"
      ],
      "text/markdown": [
       "\n",
       "| crim | zn | indus | chas | nox | rm | age | dis | rad | tax | ptratio | black | lstat | medv |\n",
       "|---|---|---|---|---|---|---|---|---|---|---|---|---|---|\n",
       "| 38.3518 | 0       | 18.1    | 0       | 0.693   | 5.453   | 100     | 1.4254  | 24      | 666     | 20.2    | 384.97  | 22.98   | 5       |\n",
       "| 67.9208 | 0       | 18.1    | 0       | 0.693   | 5.683   | 100     | 1.4896  | 24      | 666     | 20.2    | 396.90  | 30.59   | 5       |\n",
       "\n"
      ],
      "text/plain": [
       "     crim    zn indus chas nox   rm    age dis    rad tax ptratio black  lstat\n",
       "[1,] 38.3518 0  18.1  0    0.693 5.453 100 1.4254 24  666 20.2    384.97 22.98\n",
       "[2,] 67.9208 0  18.1  0    0.693 5.683 100 1.4896 24  666 20.2    396.90 30.59\n",
       "     medv\n",
       "[1,] 5   \n",
       "[2,] 5   "
      ]
     },
     "metadata": {},
     "output_type": "display_data"
    }
   ],
   "source": [
    "sapply(Boston[Boston$medv==5,], range)"
   ]
  },
  {
   "cell_type": "code",
   "execution_count": 137,
   "id": "driven-brighton",
   "metadata": {},
   "outputs": [
    {
     "data": {
      "text/html": [
       "<table>\n",
       "<thead><tr><th scope=col>crim</th><th scope=col>zn</th><th scope=col>indus</th><th scope=col>chas</th><th scope=col>nox</th><th scope=col>rm</th><th scope=col>age</th><th scope=col>dis</th><th scope=col>rad</th><th scope=col>tax</th><th scope=col>ptratio</th><th scope=col>black</th><th scope=col>lstat</th><th scope=col>medv</th></tr></thead>\n",
       "<tbody>\n",
       "\t<tr><td> 0.00632</td><td>  0     </td><td> 0.46   </td><td>0       </td><td>0.385   </td><td>3.561   </td><td>  2.9   </td><td> 1.1296 </td><td> 1      </td><td>187     </td><td>12.6    </td><td>  0.32  </td><td> 1.73   </td><td> 5      </td></tr>\n",
       "\t<tr><td>88.97620</td><td>100     </td><td>27.74   </td><td>1       </td><td>0.871   </td><td>8.780   </td><td>100.0   </td><td>12.1265 </td><td>24      </td><td>711     </td><td>22.0    </td><td>396.90  </td><td>37.97   </td><td>50      </td></tr>\n",
       "</tbody>\n",
       "</table>\n"
      ],
      "text/latex": [
       "\\begin{tabular}{llllllllllllll}\n",
       " crim & zn & indus & chas & nox & rm & age & dis & rad & tax & ptratio & black & lstat & medv\\\\\n",
       "\\hline\n",
       "\t  0.00632 &   0      &  0.46    & 0        & 0.385    & 3.561    &   2.9    &  1.1296  &  1       & 187      & 12.6     &   0.32   &  1.73    &  5      \\\\\n",
       "\t 88.97620 & 100      & 27.74    & 1        & 0.871    & 8.780    & 100.0    & 12.1265  & 24       & 711      & 22.0     & 396.90   & 37.97    & 50      \\\\\n",
       "\\end{tabular}\n"
      ],
      "text/markdown": [
       "\n",
       "| crim | zn | indus | chas | nox | rm | age | dis | rad | tax | ptratio | black | lstat | medv |\n",
       "|---|---|---|---|---|---|---|---|---|---|---|---|---|---|\n",
       "|  0.00632 |   0      |  0.46    | 0        | 0.385    | 3.561    |   2.9    |  1.1296  |  1       | 187      | 12.6     |   0.32   |  1.73    |  5       |\n",
       "| 88.97620 | 100      | 27.74    | 1        | 0.871    | 8.780    | 100.0    | 12.1265  | 24       | 711      | 22.0     | 396.90   | 37.97    | 50       |\n",
       "\n"
      ],
      "text/plain": [
       "     crim     zn  indus chas nox   rm    age   dis     rad tax ptratio black \n",
       "[1,]  0.00632   0  0.46 0    0.385 3.561   2.9  1.1296  1  187 12.6      0.32\n",
       "[2,] 88.97620 100 27.74 1    0.871 8.780 100.0 12.1265 24  711 22.0    396.90\n",
       "     lstat medv\n",
       "[1,]  1.73  5  \n",
       "[2,] 37.97 50  "
      ]
     },
     "metadata": {},
     "output_type": "display_data"
    }
   ],
   "source": [
    "sapply(Boston, range, na.rm=TRUE)"
   ]
  },
  {
   "cell_type": "markdown",
   "id": "professional-testament",
   "metadata": {},
   "source": [
    "(h) In this data set, how many of the suburbs average more than\n",
    "seven rooms per dwelling? More than eight rooms per dwelling?\n",
    "Comment on the suburbs that average more than eight rooms\n",
    "per dwelling.\n",
    "    - Homes with more than 8 dwellings tend be concentrated in African American communities\n",
    "    - Median values tend to be slightly higher\n",
    "    - Homes are generally older"
   ]
  },
  {
   "cell_type": "code",
   "execution_count": 173,
   "id": "level-pollution",
   "metadata": {},
   "outputs": [],
   "source": [
    "?Boston"
   ]
  },
  {
   "cell_type": "code",
   "execution_count": 154,
   "id": "cathedral-belle",
   "metadata": {},
   "outputs": [
    {
     "data": {
      "text/html": [
       "64"
      ],
      "text/latex": [
       "64"
      ],
      "text/markdown": [
       "64"
      ],
      "text/plain": [
       "[1] 64"
      ]
     },
     "metadata": {},
     "output_type": "display_data"
    },
    {
     "data": {
      "text/html": [
       "13"
      ],
      "text/latex": [
       "13"
      ],
      "text/markdown": [
       "13"
      ],
      "text/plain": [
       "[1] 13"
      ]
     },
     "metadata": {},
     "output_type": "display_data"
    }
   ],
   "source": [
    "nrow(Boston[Boston$rm>7,]); nrow(Boston[Boston$rm>8,])"
   ]
  },
  {
   "cell_type": "code",
   "execution_count": 164,
   "id": "dirty-hampton",
   "metadata": {},
   "outputs": [
    {
     "data": {
      "text/html": [
       "<table>\n",
       "<thead><tr><th scope=col>crim</th><th scope=col>zn</th><th scope=col>indus</th><th scope=col>chas</th><th scope=col>nox</th><th scope=col>rm</th><th scope=col>age</th><th scope=col>dis</th><th scope=col>rad</th><th scope=col>tax</th><th scope=col>ptratio</th><th scope=col>black</th><th scope=col>lstat</th><th scope=col>medv</th></tr></thead>\n",
       "<tbody>\n",
       "\t<tr><td>0.02009</td><td> 0     </td><td> 2.68  </td><td>0      </td><td>0.4161 </td><td>8.034  </td><td> 8.4   </td><td>1.8010 </td><td> 2     </td><td>224    </td><td>13.0   </td><td>354.55 </td><td>2.47   </td><td>21.9   </td></tr>\n",
       "\t<tr><td>3.47428</td><td>95     </td><td>19.58  </td><td>1      </td><td>0.7180 </td><td>8.780  </td><td>93.9   </td><td>8.9067 </td><td>24     </td><td>666    </td><td>20.2   </td><td>396.90 </td><td>7.44   </td><td>50.0   </td></tr>\n",
       "</tbody>\n",
       "</table>\n"
      ],
      "text/latex": [
       "\\begin{tabular}{llllllllllllll}\n",
       " crim & zn & indus & chas & nox & rm & age & dis & rad & tax & ptratio & black & lstat & medv\\\\\n",
       "\\hline\n",
       "\t 0.02009 &  0      &  2.68   & 0       & 0.4161  & 8.034   &  8.4    & 1.8010  &  2      & 224     & 13.0    & 354.55  & 2.47    & 21.9   \\\\\n",
       "\t 3.47428 & 95      & 19.58   & 1       & 0.7180  & 8.780   & 93.9    & 8.9067  & 24      & 666     & 20.2    & 396.90  & 7.44    & 50.0   \\\\\n",
       "\\end{tabular}\n"
      ],
      "text/markdown": [
       "\n",
       "| crim | zn | indus | chas | nox | rm | age | dis | rad | tax | ptratio | black | lstat | medv |\n",
       "|---|---|---|---|---|---|---|---|---|---|---|---|---|---|\n",
       "| 0.02009 |  0      |  2.68   | 0       | 0.4161  | 8.034   |  8.4    | 1.8010  |  2      | 224     | 13.0    | 354.55  | 2.47    | 21.9    |\n",
       "| 3.47428 | 95      | 19.58   | 1       | 0.7180  | 8.780   | 93.9    | 8.9067  | 24      | 666     | 20.2    | 396.90  | 7.44    | 50.0    |\n",
       "\n"
      ],
      "text/plain": [
       "     crim    zn indus chas nox    rm    age  dis    rad tax ptratio black \n",
       "[1,] 0.02009  0  2.68 0    0.4161 8.034  8.4 1.8010  2  224 13.0    354.55\n",
       "[2,] 3.47428 95 19.58 1    0.7180 8.780 93.9 8.9067 24  666 20.2    396.90\n",
       "     lstat medv\n",
       "[1,] 2.47  21.9\n",
       "[2,] 7.44  50.0"
      ]
     },
     "metadata": {},
     "output_type": "display_data"
    }
   ],
   "source": [
    "sapply(Boston[Boston$rm>8,], range)"
   ]
  },
  {
   "cell_type": "code",
   "execution_count": 169,
   "id": "meaning-methodology",
   "metadata": {},
   "outputs": [
    {
     "data": {
      "text/html": [
       "<dl class=dl-horizontal>\n",
       "\t<dt>crim</dt>\n",
       "\t\t<dd>0.718795384615385</dd>\n",
       "\t<dt>zn</dt>\n",
       "\t\t<dd>13.6153846153846</dd>\n",
       "\t<dt>indus</dt>\n",
       "\t\t<dd>7.07846153846154</dd>\n",
       "\t<dt>chas</dt>\n",
       "\t\t<dd>0.153846153846154</dd>\n",
       "\t<dt>nox</dt>\n",
       "\t\t<dd>0.539238461538462</dd>\n",
       "\t<dt>rm</dt>\n",
       "\t\t<dd>8.34853846153846</dd>\n",
       "\t<dt>age</dt>\n",
       "\t\t<dd>71.5384615384615</dd>\n",
       "\t<dt>dis</dt>\n",
       "\t\t<dd>3.43019230769231</dd>\n",
       "\t<dt>rad</dt>\n",
       "\t\t<dd>7.46153846153846</dd>\n",
       "\t<dt>tax</dt>\n",
       "\t\t<dd>325.076923076923</dd>\n",
       "\t<dt>ptratio</dt>\n",
       "\t\t<dd>16.3615384615385</dd>\n",
       "\t<dt>black</dt>\n",
       "\t\t<dd>385.210769230769</dd>\n",
       "\t<dt>lstat</dt>\n",
       "\t\t<dd>4.31</dd>\n",
       "\t<dt>medv</dt>\n",
       "\t\t<dd>44.2</dd>\n",
       "</dl>\n"
      ],
      "text/latex": [
       "\\begin{description*}\n",
       "\\item[crim] 0.718795384615385\n",
       "\\item[zn] 13.6153846153846\n",
       "\\item[indus] 7.07846153846154\n",
       "\\item[chas] 0.153846153846154\n",
       "\\item[nox] 0.539238461538462\n",
       "\\item[rm] 8.34853846153846\n",
       "\\item[age] 71.5384615384615\n",
       "\\item[dis] 3.43019230769231\n",
       "\\item[rad] 7.46153846153846\n",
       "\\item[tax] 325.076923076923\n",
       "\\item[ptratio] 16.3615384615385\n",
       "\\item[black] 385.210769230769\n",
       "\\item[lstat] 4.31\n",
       "\\item[medv] 44.2\n",
       "\\end{description*}\n"
      ],
      "text/markdown": [
       "crim\n",
       ":   0.718795384615385zn\n",
       ":   13.6153846153846indus\n",
       ":   7.07846153846154chas\n",
       ":   0.153846153846154nox\n",
       ":   0.539238461538462rm\n",
       ":   8.34853846153846age\n",
       ":   71.5384615384615dis\n",
       ":   3.43019230769231rad\n",
       ":   7.46153846153846tax\n",
       ":   325.076923076923ptratio\n",
       ":   16.3615384615385black\n",
       ":   385.210769230769lstat\n",
       ":   4.31medv\n",
       ":   44.2\n",
       "\n"
      ],
      "text/plain": [
       "       crim          zn       indus        chas         nox          rm \n",
       "  0.7187954  13.6153846   7.0784615   0.1538462   0.5392385   8.3485385 \n",
       "        age         dis         rad         tax     ptratio       black \n",
       " 71.5384615   3.4301923   7.4615385 325.0769231  16.3615385 385.2107692 \n",
       "      lstat        medv \n",
       "  4.3100000  44.2000000 "
      ]
     },
     "metadata": {},
     "output_type": "display_data"
    }
   ],
   "source": [
    "sapply(Boston[Boston$rm>8,], mean)"
   ]
  },
  {
   "cell_type": "code",
   "execution_count": 170,
   "id": "published-closing",
   "metadata": {},
   "outputs": [
    {
     "data": {
      "text/html": [
       "<dl class=dl-horizontal>\n",
       "\t<dt>crim</dt>\n",
       "\t\t<dd>3.61352355731225</dd>\n",
       "\t<dt>zn</dt>\n",
       "\t\t<dd>11.3636363636364</dd>\n",
       "\t<dt>indus</dt>\n",
       "\t\t<dd>11.1367786561265</dd>\n",
       "\t<dt>chas</dt>\n",
       "\t\t<dd>0.0691699604743083</dd>\n",
       "\t<dt>nox</dt>\n",
       "\t\t<dd>0.554695059288538</dd>\n",
       "\t<dt>rm</dt>\n",
       "\t\t<dd>6.28463438735178</dd>\n",
       "\t<dt>age</dt>\n",
       "\t\t<dd>68.5749011857708</dd>\n",
       "\t<dt>dis</dt>\n",
       "\t\t<dd>3.79504268774704</dd>\n",
       "\t<dt>rad</dt>\n",
       "\t\t<dd>9.54940711462451</dd>\n",
       "\t<dt>tax</dt>\n",
       "\t\t<dd>408.237154150198</dd>\n",
       "\t<dt>ptratio</dt>\n",
       "\t\t<dd>18.4555335968379</dd>\n",
       "\t<dt>black</dt>\n",
       "\t\t<dd>356.674031620553</dd>\n",
       "\t<dt>lstat</dt>\n",
       "\t\t<dd>12.6530632411067</dd>\n",
       "\t<dt>medv</dt>\n",
       "\t\t<dd>22.5328063241107</dd>\n",
       "</dl>\n"
      ],
      "text/latex": [
       "\\begin{description*}\n",
       "\\item[crim] 3.61352355731225\n",
       "\\item[zn] 11.3636363636364\n",
       "\\item[indus] 11.1367786561265\n",
       "\\item[chas] 0.0691699604743083\n",
       "\\item[nox] 0.554695059288538\n",
       "\\item[rm] 6.28463438735178\n",
       "\\item[age] 68.5749011857708\n",
       "\\item[dis] 3.79504268774704\n",
       "\\item[rad] 9.54940711462451\n",
       "\\item[tax] 408.237154150198\n",
       "\\item[ptratio] 18.4555335968379\n",
       "\\item[black] 356.674031620553\n",
       "\\item[lstat] 12.6530632411067\n",
       "\\item[medv] 22.5328063241107\n",
       "\\end{description*}\n"
      ],
      "text/markdown": [
       "crim\n",
       ":   3.61352355731225zn\n",
       ":   11.3636363636364indus\n",
       ":   11.1367786561265chas\n",
       ":   0.0691699604743083nox\n",
       ":   0.554695059288538rm\n",
       ":   6.28463438735178age\n",
       ":   68.5749011857708dis\n",
       ":   3.79504268774704rad\n",
       ":   9.54940711462451tax\n",
       ":   408.237154150198ptratio\n",
       ":   18.4555335968379black\n",
       ":   356.674031620553lstat\n",
       ":   12.6530632411067medv\n",
       ":   22.5328063241107\n",
       "\n"
      ],
      "text/plain": [
       "        crim           zn        indus         chas          nox           rm \n",
       "  3.61352356  11.36363636  11.13677866   0.06916996   0.55469506   6.28463439 \n",
       "         age          dis          rad          tax      ptratio        black \n",
       " 68.57490119   3.79504269   9.54940711 408.23715415  18.45553360 356.67403162 \n",
       "       lstat         medv \n",
       " 12.65306324  22.53280632 "
      ]
     },
     "metadata": {},
     "output_type": "display_data"
    }
   ],
   "source": [
    "sapply(Boston, mean)"
   ]
  },
  {
   "cell_type": "code",
   "execution_count": null,
   "id": "impressed-collar",
   "metadata": {},
   "outputs": [],
   "source": []
  }
 ],
 "metadata": {
  "kernelspec": {
   "display_name": "R",
   "language": "R",
   "name": "ir"
  },
  "language_info": {
   "codemirror_mode": "r",
   "file_extension": ".r",
   "mimetype": "text/x-r-source",
   "name": "R",
   "pygments_lexer": "r",
   "version": "3.6.1"
  }
 },
 "nbformat": 4,
 "nbformat_minor": 5
}
