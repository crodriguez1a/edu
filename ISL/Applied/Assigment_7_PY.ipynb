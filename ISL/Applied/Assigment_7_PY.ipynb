{
 "cells": [
  {
   "cell_type": "code",
   "execution_count": 30,
   "id": "8b9a60a8",
   "metadata": {},
   "outputs": [
    {
     "name": "stdout",
     "output_type": "stream",
     "text": [
      "-0.5\n"
     ]
    },
    {
     "data": {
      "text/plain": [
       "'0.37754'"
      ]
     },
     "execution_count": 30,
     "metadata": {},
     "output_type": "execute_result"
    }
   ],
   "source": [
    "import math\n",
    "\n",
    "β0 = -6\n",
    "β1 = 0.05\n",
    "β2 = 1.\n",
    "\n",
    "X1, X2 = (40, 3.5)\n",
    "\n",
    "c = β0 + β1*X1 + β2*X2\n",
    "print(c)\n",
    "\n",
    "pX = (math.e**c)/(1+(math.e**c))\n",
    "f'{pX:.5f}'"
   ]
  },
  {
   "cell_type": "markdown",
   "id": "fc695f5a",
   "metadata": {},
   "source": [
    "$$ .5 = \\frac{e^{-6 + 0.05*X1 + 1*3.5}}{1+e^{-6 + 0.05*X1 + 1*3.5}}$$"
   ]
  },
  {
   "cell_type": "markdown",
   "id": "4554853e",
   "metadata": {},
   "source": [
    "$$ ({1+e^{-6 + 0.05*X1 + 1*3.5}}).5 = \\frac{e^{-6 + 0.05*X1 + 1*3.5}}{1+e^{-6 + 0.05*X1 + 1*3.5}} ( {1+e^{-6 + 0.05*X1 + 1*3.5}})$$"
   ]
  },
  {
   "cell_type": "markdown",
   "id": "998f32fe",
   "metadata": {},
   "source": [
    "$$ e^{0.05X1-2.5} = 0.5 + 0.5e^{0.05*X1-2.5}$$"
   ]
  },
  {
   "cell_type": "markdown",
   "id": "559977da",
   "metadata": {},
   "source": [
    "$$ e^{0.05X1-2.5} = 1$$"
   ]
  },
  {
   "cell_type": "markdown",
   "id": "e3d44928",
   "metadata": {},
   "source": [
    "$$ 0.5X1-2.5 = 0$$"
   ]
  },
  {
   "cell_type": "markdown",
   "id": "7ff07036",
   "metadata": {},
   "source": [
    "$$ X1 = 50$$"
   ]
  },
  {
   "cell_type": "code",
   "execution_count": 31,
   "id": "83ea968c",
   "metadata": {},
   "outputs": [
    {
     "data": {
      "text/plain": [
       "-2.7857999999999983"
      ]
     },
     "execution_count": 31,
     "metadata": {},
     "output_type": "execute_result"
    }
   ],
   "source": [
    "c = -10.869+0.00574*1500 + 0.003*40 - 0.6468*1\n",
    "c"
   ]
  },
  {
   "cell_type": "code",
   "execution_count": 18,
   "id": "f7417f5f",
   "metadata": {},
   "outputs": [
    {
     "data": {
      "text/plain": [
       "0.05809635808791225"
      ]
     },
     "execution_count": 18,
     "metadata": {},
     "output_type": "execute_result"
    }
   ],
   "source": [
    "(math.e**c)/(1+(math.e**c))"
   ]
  },
  {
   "cell_type": "code",
   "execution_count": 33,
   "id": "70b82eb4",
   "metadata": {},
   "outputs": [
    {
     "data": {
      "text/plain": [
       "36"
      ]
     },
     "execution_count": 33,
     "metadata": {},
     "output_type": "execute_result"
    }
   ],
   "source": [
    "18*2"
   ]
  },
  {
   "cell_type": "code",
   "execution_count": 34,
   "id": "bb595f65",
   "metadata": {},
   "outputs": [
    {
     "data": {
      "text/plain": [
       "0.27007299270072993"
      ]
     },
     "execution_count": 34,
     "metadata": {},
     "output_type": "execute_result"
    }
   ],
   "source": [
    "# To convert from odds to a probability, divide the odds by one plus the odds. \n",
    "0.37 / 1.37"
   ]
  },
  {
   "cell_type": "code",
   "execution_count": 36,
   "id": "645af742",
   "metadata": {},
   "outputs": [
    {
     "data": {
      "text/plain": [
       "0.1904761904761905"
      ]
     },
     "execution_count": 36,
     "metadata": {},
     "output_type": "execute_result"
    }
   ],
   "source": [
    "# To convert from a probability to odds, divide the probability by one minus that probability\n",
    "0.16/(1-0.16)"
   ]
  },
  {
   "cell_type": "code",
   "execution_count": null,
   "id": "47cb9077",
   "metadata": {},
   "outputs": [],
   "source": []
  }
 ],
 "metadata": {
  "kernelspec": {
   "display_name": "Python 3 (ipykernel)",
   "language": "python",
   "name": "python3"
  },
  "language_info": {
   "codemirror_mode": {
    "name": "ipython",
    "version": 3
   },
   "file_extension": ".py",
   "mimetype": "text/x-python",
   "name": "python",
   "nbconvert_exporter": "python",
   "pygments_lexer": "ipython3",
   "version": "3.10.7"
  }
 },
 "nbformat": 4,
 "nbformat_minor": 5
}
