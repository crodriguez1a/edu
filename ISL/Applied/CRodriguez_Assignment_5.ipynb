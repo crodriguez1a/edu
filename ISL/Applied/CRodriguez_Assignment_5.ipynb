{
 "cells": [
  {
   "cell_type": "code",
   "execution_count": 34,
   "id": "competent-cowboy",
   "metadata": {},
   "outputs": [],
   "source": [
    "Y = lambda GPA, IQ, Gender: 50 + (20*GPA) + (0.07*IQ) + (35*Gender) + (0.01*(GPA*IQ)) - (10* (GPA*Gender))"
   ]
  },
  {
   "cell_type": "code",
   "execution_count": 35,
   "id": "therapeutic-pharmaceutical",
   "metadata": {},
   "outputs": [
    {
     "data": {
      "text/plain": [
       "137.1"
      ]
     },
     "execution_count": 35,
     "metadata": {},
     "output_type": "execute_result"
    }
   ],
   "source": [
    "Y(4., 110, 1)"
   ]
  },
  {
   "cell_type": "code",
   "execution_count": 54,
   "id": "adverse-incentive",
   "metadata": {},
   "outputs": [
    {
     "data": {
      "text/plain": [
       "142.1"
      ]
     },
     "execution_count": 54,
     "metadata": {},
     "output_type": "execute_result"
    }
   ],
   "source": [
    "Y(4., 110, 0)"
   ]
  },
  {
   "cell_type": "code",
   "execution_count": 52,
   "id": "indie-hotel",
   "metadata": {},
   "outputs": [
    {
     "name": "stdout",
     "output_type": "stream",
     "text": [
      "Male, Female\n",
      "\n",
      "2.0\n",
      "99.9 114.89999999999998\n",
      "\n",
      "2.25\n",
      "105.175 117.67499999999998\n",
      "\n",
      "2.5\n",
      "110.45 120.44999999999999\n",
      "\n",
      "2.75\n",
      "115.72500000000001 123.225\n",
      "\n",
      "3.0\n",
      "121.0 126.0\n",
      "\n",
      "3.25\n",
      "126.275 128.77499999999998\n",
      "\n",
      "3.5\n",
      "131.55 131.54999999999998\n",
      "\n",
      "3.75\n",
      "136.825 134.325\n",
      "\n",
      "4.0\n",
      "142.1 137.1\n"
     ]
    }
   ],
   "source": [
    "import numpy as np\n",
    "\n",
    "print(\"Male, Female\")\n",
    "for gpa in np.arange(2., 4.25, 0.25):\n",
    "    print(\"\")\n",
    "    print(gpa)\n",
    "    print(Y(gpa, 110, 0), Y(gpa, 110, 1))"
   ]
  },
  {
   "cell_type": "code",
   "execution_count": 40,
   "id": "grand-double",
   "metadata": {},
   "outputs": [],
   "source": [
    "# 0 Males, 1 Females"
   ]
  },
  {
   "cell_type": "code",
   "execution_count": 53,
   "id": "useful-terrorism",
   "metadata": {},
   "outputs": [
    {
     "data": {
      "text/plain": [
       "(137.88, 134.88)"
      ]
     },
     "execution_count": 53,
     "metadata": {},
     "output_type": "execute_result"
    }
   ],
   "source": [
    "Y(3.8, 110, 0), Y(3.8, 110, 1)"
   ]
  },
  {
   "cell_type": "code",
   "execution_count": null,
   "id": "bright-course",
   "metadata": {},
   "outputs": [],
   "source": []
  }
 ],
 "metadata": {
  "kernelspec": {
   "display_name": "Python 3",
   "language": "python",
   "name": "python3"
  },
  "language_info": {
   "codemirror_mode": {
    "name": "ipython",
    "version": 3
   },
   "file_extension": ".py",
   "mimetype": "text/x-python",
   "name": "python",
   "nbconvert_exporter": "python",
   "pygments_lexer": "ipython3",
   "version": "3.7.6"
  }
 },
 "nbformat": 4,
 "nbformat_minor": 5
}
