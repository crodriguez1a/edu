{
 "cells": [
  {
   "cell_type": "code",
   "execution_count": 2,
   "id": "ad17772e",
   "metadata": {},
   "outputs": [],
   "source": [
    "# install.packages(c(\"tidyverse\", \"ISLR\", \"ggpubr\"))"
   ]
  },
  {
   "cell_type": "code",
   "execution_count": 84,
   "id": "da51dca4",
   "metadata": {},
   "outputs": [],
   "source": [
    "library(ISLR)\n",
    "data(\"Auto\")\n",
    "data(\"Carseats\")"
   ]
  },
  {
   "cell_type": "code",
   "execution_count": 57,
   "id": "0a78a11e",
   "metadata": {},
   "outputs": [],
   "source": [
    "model <- lm(formula = mpg~horsepower, data=Auto)"
   ]
  },
  {
   "cell_type": "code",
   "execution_count": 58,
   "id": "acquired-channel",
   "metadata": {},
   "outputs": [],
   "source": [
    "options(scipen = 999)"
   ]
  },
  {
   "cell_type": "code",
   "execution_count": 59,
   "id": "devoted-values",
   "metadata": {},
   "outputs": [
    {
     "data": {
      "text/plain": [
       "             Df Sum Sq Mean Sq F value              Pr(>F)    \n",
       "horsepower    1  14433   14433   599.7 <0.0000000000000002 ***\n",
       "Residuals   390   9386      24                                \n",
       "---\n",
       "Signif. codes:  0 '***' 0.001 '**' 0.01 '*' 0.05 '.' 0.1 ' ' 1"
      ]
     },
     "metadata": {},
     "output_type": "display_data"
    }
   ],
   "source": [
    "one.way <- aov(mpg~horsepower, data = Auto)\n",
    "summary(one.way)"
   ]
  },
  {
   "cell_type": "code",
   "execution_count": 60,
   "id": "a7c0ba54",
   "metadata": {},
   "outputs": [
    {
     "data": {
      "text/plain": [
       "\n",
       "Call:\n",
       "lm(formula = mpg ~ horsepower, data = Auto)\n",
       "\n",
       "Residuals:\n",
       "     Min       1Q   Median       3Q      Max \n",
       "-13.5710  -3.2592  -0.3435   2.7630  16.9240 \n",
       "\n",
       "Coefficients:\n",
       "             Estimate Std. Error t value            Pr(>|t|)    \n",
       "(Intercept) 39.935861   0.717499   55.66 <0.0000000000000002 ***\n",
       "horsepower  -0.157845   0.006446  -24.49 <0.0000000000000002 ***\n",
       "---\n",
       "Signif. codes:  0 '***' 0.001 '**' 0.01 '*' 0.05 '.' 0.1 ' ' 1\n",
       "\n",
       "Residual standard error: 4.906 on 390 degrees of freedom\n",
       "Multiple R-squared:  0.6059,\tAdjusted R-squared:  0.6049 \n",
       "F-statistic: 599.7 on 1 and 390 DF,  p-value: < 0.00000000000000022\n"
      ]
     },
     "metadata": {},
     "output_type": "display_data"
    }
   ],
   "source": [
    "summary(model)"
   ]
  },
  {
   "cell_type": "code",
   "execution_count": 61,
   "id": "distant-portable",
   "metadata": {},
   "outputs": [],
   "source": [
    "# boxplot(model[['residuals']], main='Boxplot: Residuals', ylab='residual value')"
   ]
  },
  {
   "cell_type": "code",
   "execution_count": 63,
   "id": "australian-decimal",
   "metadata": {},
   "outputs": [
    {
     "data": {
      "text/html": [
       "-0.778426783897776"
      ],
      "text/latex": [
       "-0.778426783897776"
      ],
      "text/markdown": [
       "-0.778426783897776"
      ],
      "text/plain": [
       "[1] -0.7784268"
      ]
     },
     "metadata": {},
     "output_type": "display_data"
    }
   ],
   "source": [
    "cor(Auto$mpg, Auto$horsepower, method='pearson')"
   ]
  },
  {
   "cell_type": "code",
   "execution_count": 64,
   "id": "structured-pleasure",
   "metadata": {},
   "outputs": [
    {
     "data": {
      "text/html": [
       "<table>\n",
       "<thead><tr><th scope=col>fit</th><th scope=col>lwr</th><th scope=col>upr</th></tr></thead>\n",
       "<tbody>\n",
       "\t<tr><td>24.46708</td><td>23.97308</td><td>24.96108</td></tr>\n",
       "</tbody>\n",
       "</table>\n"
      ],
      "text/latex": [
       "\\begin{tabular}{r|lll}\n",
       " fit & lwr & upr\\\\\n",
       "\\hline\n",
       "\t 24.46708 & 23.97308 & 24.96108\\\\\n",
       "\\end{tabular}\n"
      ],
      "text/markdown": [
       "\n",
       "| fit | lwr | upr |\n",
       "|---|---|---|\n",
       "| 24.46708 | 23.97308 | 24.96108 |\n",
       "\n"
      ],
      "text/plain": [
       "  fit      lwr      upr     \n",
       "1 24.46708 23.97308 24.96108"
      ]
     },
     "metadata": {},
     "output_type": "display_data"
    }
   ],
   "source": [
    "hp <- data.frame(horsepower = c(98))\n",
    "mpg_c = predict(model, newdata=hp, interval='confidence')\n",
    "mpg_c"
   ]
  },
  {
   "cell_type": "code",
   "execution_count": 65,
   "id": "arbitrary-diary",
   "metadata": {},
   "outputs": [
    {
     "data": {
      "text/html": [
       "<table>\n",
       "<thead><tr><th scope=col>fit</th><th scope=col>lwr</th><th scope=col>upr</th></tr></thead>\n",
       "<tbody>\n",
       "\t<tr><td>24.46708</td><td>14.8094 </td><td>34.12476</td></tr>\n",
       "</tbody>\n",
       "</table>\n"
      ],
      "text/latex": [
       "\\begin{tabular}{r|lll}\n",
       " fit & lwr & upr\\\\\n",
       "\\hline\n",
       "\t 24.46708 & 14.8094  & 34.12476\\\\\n",
       "\\end{tabular}\n"
      ],
      "text/markdown": [
       "\n",
       "| fit | lwr | upr |\n",
       "|---|---|---|\n",
       "| 24.46708 | 14.8094  | 34.12476 |\n",
       "\n"
      ],
      "text/plain": [
       "  fit      lwr     upr     \n",
       "1 24.46708 14.8094 34.12476"
      ]
     },
     "metadata": {},
     "output_type": "display_data"
    }
   ],
   "source": [
    "mpg_p = predict(model, newdata=hp, interval='prediction')\n",
    "mpg_p"
   ]
  },
  {
   "cell_type": "markdown",
   "id": "surprised-oxide",
   "metadata": {},
   "source": [
    "# 8a)"
   ]
  },
  {
   "cell_type": "markdown",
   "id": "empirical-rover",
   "metadata": {},
   "source": [
    "i. There is sufficient evidence to suggest a relationship between the predictor and the response. Several of the metrics describe a the strength of the relationship:\n",
    "    \n",
    "   - Residuals follow a Gaussian distribution with a median around 0\n",
    "   - R-squared tells us that roughly 61% of the variance in the dependent variable (response) can be explained by the independent variable (or predictor)\n",
    "   - The F-Statistic is the output of the one-way anova test which compares variability across groups (Diez et al, 2019). A large F value and low p-value indicates strong enough evidence to reject the null hypothesis that variability between the two groups is due to chance. Instead, we can conclude that mpg is related to changes in horsepower.\n",
    "    \n",
    "ii. Again, we can quantify using R-squared which indicates that ~61% of variance in mpg is explained by changes in horsepower\n",
    "\n",
    "iii. The relationship is negative. MPG worsens with increased horsepower. Specifically, the variables are -78% negatively correlated.\n",
    "\n",
    "iv. Using a horsepower of 98, mpg is 24.5 miles/gallon. The confidence interval is 23.93 to 24.96 with 95% confidence. The prediction interval is (14.8, 34.1)"
   ]
  },
  {
   "cell_type": "markdown",
   "id": "radical-occasions",
   "metadata": {},
   "source": [
    "# 8b)"
   ]
  },
  {
   "cell_type": "code",
   "execution_count": 81,
   "id": "liked-speed",
   "metadata": {},
   "outputs": [
    {
     "data": {
      "image/png": "[encoded data removed]",
      "text/plain": [
       "plot without title"
      ]
     },
     "metadata": {},
     "output_type": "display_data"
    }
   ],
   "source": [
    "plot(Auto$horsepower, Auto$mpg)                     # Create plot without lines\n",
    "abline(model, col='red')"
   ]
  },
  {
   "cell_type": "code",
   "execution_count": 82,
   "id": "widespread-mobility",
   "metadata": {},
   "outputs": [],
   "source": [
    "?plot"
   ]
  },
  {
   "cell_type": "markdown",
   "id": "higher-model",
   "metadata": {},
   "source": [
    "# 8c)\n",
    "\n",
    "- The parabolic shape of the residuals in plot indicates the relationship may not be exactly linear.\n",
    "- The distribution in the standardize residual should be normal and follow a straight path, but it deviates in the two quantile extremeties\n",
    "- The Scale-Location plot approximates the spread of residuals. The spread points are well-spaced and equal. The line should is closer to horizontal. The plot suggests there exists equal variance among residuals (homoscedasticity). \n",
    "- Although the points are clustered, they appear to be within Cook's distance (dotted red line) indicating that those points do not necessarily merit removal.\n",
    "\n",
    "Overall, the first two graphs indicate further analysis is required related to the linearity assumption and the distribution of residuals."
   ]
  },
  {
   "cell_type": "code",
   "execution_count": 62,
   "id": "smaller-contents",
   "metadata": {},
   "outputs": [
    {
     "data": {
      "image/png": "[encoded data removed]",
      "text/plain": [
       "Plot with title \"\""
      ]
     },
     "metadata": {},
     "output_type": "display_data"
    },
    {
     "data": {
      "image/png": "[encoded data removed]",
      "text/plain": [
       "Plot with title \"\""
      ]
     },
     "metadata": {},
     "output_type": "display_data"
    },
    {
     "data": {
      "image/png": "[encoded data removed]",
      "text/plain": [
       "Plot with title \"\""
      ]
     },
     "metadata": {},
     "output_type": "display_data"
    },
    {
     "data": {
      "image/png": "[encoded data removed]",
      "text/plain": [
       "Plot with title \"\""
      ]
     },
     "metadata": {},
     "output_type": "display_data"
    }
   ],
   "source": [
    "plot(model)"
   ]
  },
  {
   "cell_type": "markdown",
   "id": "seven-lloyd",
   "metadata": {},
   "source": [
    "# 10a)"
   ]
  },
  {
   "cell_type": "code",
   "execution_count": 94,
   "id": "preliminary-waste",
   "metadata": {},
   "outputs": [],
   "source": [
    "model2 = lm('Sales~Price+Urban+US', data=Carseats)"
   ]
  },
  {
   "cell_type": "code",
   "execution_count": 95,
   "id": "ranging-priority",
   "metadata": {},
   "outputs": [
    {
     "data": {
      "text/plain": [
       "\n",
       "Call:\n",
       "lm(formula = \"Sales~Price+Urban+US\", data = Carseats)\n",
       "\n",
       "Residuals:\n",
       "    Min      1Q  Median      3Q     Max \n",
       "-6.9206 -1.6220 -0.0564  1.5786  7.0581 \n",
       "\n",
       "Coefficients:\n",
       "             Estimate Std. Error t value             Pr(>|t|)    \n",
       "(Intercept) 13.043469   0.651012  20.036 < 0.0000000000000002 ***\n",
       "Price       -0.054459   0.005242 -10.389 < 0.0000000000000002 ***\n",
       "UrbanYes    -0.021916   0.271650  -0.081                0.936    \n",
       "USYes        1.200573   0.259042   4.635           0.00000486 ***\n",
       "---\n",
       "Signif. codes:  0 '***' 0.001 '**' 0.01 '*' 0.05 '.' 0.1 ' ' 1\n",
       "\n",
       "Residual standard error: 2.472 on 396 degrees of freedom\n",
       "Multiple R-squared:  0.2393,\tAdjusted R-squared:  0.2335 \n",
       "F-statistic: 41.52 on 3 and 396 DF,  p-value: < 0.00000000000000022\n"
      ]
     },
     "metadata": {},
     "output_type": "display_data"
    }
   ],
   "source": [
    "summary(model2)"
   ]
  },
  {
   "cell_type": "markdown",
   "id": "defined-classic",
   "metadata": {},
   "source": [
    "# 10b)\n",
    "\n",
    "- Price: The p-value tells us the coefficent cannot be zero (relationship exists). Price is negatively correlated to Sales.\n",
    "- UrbanYes: The p-value indicates we cannot reject the null hypothesis that Beta_2=0. There is not a significant relationship.\n",
    "- USYes: Here we find the attribute is associated and positively correlated"
   ]
  },
  {
   "cell_type": "markdown",
   "id": "confidential-gazette",
   "metadata": {},
   "source": [
    "# 10c)\n",
    "\n",
    "$$A = Price, B = UrbanYes, C = USYes$$\n",
    "$$Sales = 13.04\\ + (-0.05A) \\ + (-0.02B) \\ + (1.20C)$$ "
   ]
  },
  {
   "cell_type": "markdown",
   "id": "loaded-leather",
   "metadata": {},
   "source": [
    "# 10d)\n",
    "\n",
    "As discussed in 10b, we cannot reject the null hypothesis for UrbanYes"
   ]
  },
  {
   "cell_type": "markdown",
   "id": "owned-greensboro",
   "metadata": {},
   "source": [
    "# 10e)"
   ]
  },
  {
   "cell_type": "code",
   "execution_count": 97,
   "id": "bibliographic-evans",
   "metadata": {},
   "outputs": [],
   "source": [
    "model2a = lm('Sales~Price+US', data=Carseats)"
   ]
  },
  {
   "cell_type": "code",
   "execution_count": 99,
   "id": "powered-salmon",
   "metadata": {},
   "outputs": [
    {
     "data": {
      "text/plain": [
       "\n",
       "Call:\n",
       "lm(formula = \"Sales~Price+US\", data = Carseats)\n",
       "\n",
       "Residuals:\n",
       "    Min      1Q  Median      3Q     Max \n",
       "-6.9269 -1.6286 -0.0574  1.5766  7.0515 \n",
       "\n",
       "Coefficients:\n",
       "            Estimate Std. Error t value             Pr(>|t|)    \n",
       "(Intercept) 13.03079    0.63098  20.652 < 0.0000000000000002 ***\n",
       "Price       -0.05448    0.00523 -10.416 < 0.0000000000000002 ***\n",
       "USYes        1.19964    0.25846   4.641           0.00000471 ***\n",
       "---\n",
       "Signif. codes:  0 '***' 0.001 '**' 0.01 '*' 0.05 '.' 0.1 ' ' 1\n",
       "\n",
       "Residual standard error: 2.469 on 397 degrees of freedom\n",
       "Multiple R-squared:  0.2393,\tAdjusted R-squared:  0.2354 \n",
       "F-statistic: 62.43 on 2 and 397 DF,  p-value: < 0.00000000000000022\n"
      ]
     },
     "metadata": {},
     "output_type": "display_data"
    }
   ],
   "source": [
    "summary(model2a)"
   ]
  },
  {
   "cell_type": "markdown",
   "id": "artistic-designation",
   "metadata": {},
   "source": [
    "# 10f)"
   ]
  },
  {
   "cell_type": "markdown",
   "id": "still-effect",
   "metadata": {},
   "source": [
    "Although residual error and R-square are similar for both values. The F-stastic in *e* is slightly higher indicating a more tightly coupled relationship between predictors and Sales. The covariate UrbanYes had very little impact on the model overall. As such, removing it makes the model more parsimonious but does not greatly change performance."
   ]
  },
  {
   "cell_type": "markdown",
   "id": "expensive-animation",
   "metadata": {},
   "source": [
    "# 10g)"
   ]
  },
  {
   "cell_type": "code",
   "execution_count": 102,
   "id": "operational-tracker",
   "metadata": {},
   "outputs": [
    {
     "data": {
      "text/html": [
       "<table>\n",
       "<thead><tr><th scope=col>fit</th><th scope=col>lwr</th><th scope=col>upr</th></tr></thead>\n",
       "<tbody>\n",
       "\t<tr><td> 7.693120</td><td>7.389103 </td><td> 7.997137</td></tr>\n",
       "\t<tr><td> 9.708792</td><td>9.248135 </td><td>10.169450</td></tr>\n",
       "\t<tr><td> 9.872225</td><td>9.387866 </td><td>10.356585</td></tr>\n",
       "\t<tr><td> 8.946105</td><td>8.581632 </td><td> 9.310578</td></tr>\n",
       "\t<tr><td> 6.057656</td><td>5.625403 </td><td> 6.489909</td></tr>\n",
       "\t<tr><td>10.308046</td><td>9.757013 </td><td>10.859079</td></tr>\n",
       "\t<tr><td> 7.147208</td><td>6.735240 </td><td> 7.559177</td></tr>\n",
       "\t<tr><td> 7.693120</td><td>7.389103 </td><td> 7.997137</td></tr>\n",
       "\t<tr><td> 6.275566</td><td>5.855267 </td><td> 6.695866</td></tr>\n",
       "\t<tr><td> 7.475209</td><td>7.164057 </td><td> 7.786362</td></tr>\n",
       "\t<tr><td> 8.782672</td><td>8.434498 </td><td> 9.130847</td></tr>\n",
       "\t<tr><td> 9.109538</td><td>8.726970 </td><td> 9.492106</td></tr>\n",
       "\t<tr><td> 5.621835</td><td>5.155600 </td><td> 6.088069</td></tr>\n",
       "\t<tr><td> 9.545359</td><td>9.107513 </td><td> 9.983206</td></tr>\n",
       "\t<tr><td> 7.802075</td><td>7.499585 </td><td> 8.104565</td></tr>\n",
       "\t<tr><td> 5.186014</td><td>4.674703 </td><td> 5.697325</td></tr>\n",
       "\t<tr><td> 7.038253</td><td>6.628833 </td><td> 7.447673</td></tr>\n",
       "\t<tr><td> 7.093866</td><td>6.758250 </td><td> 7.429482</td></tr>\n",
       "\t<tr><td>10.525957</td><td>9.940099 </td><td>11.111814</td></tr>\n",
       "\t<tr><td> 7.638642</td><td>7.333345 </td><td> 7.943939</td></tr>\n",
       "\t<tr><td> 7.093866</td><td>6.758250 </td><td> 7.429482</td></tr>\n",
       "\t<tr><td> 8.292374</td><td>7.979645 </td><td> 8.605102</td></tr>\n",
       "\t<tr><td> 5.512879</td><td>5.036306 </td><td> 5.989453</td></tr>\n",
       "\t<tr><td> 7.092731</td><td>6.682163 </td><td> 7.503299</td></tr>\n",
       "\t<tr><td> 8.074463</td><td>7.769693 </td><td> 8.379234</td></tr>\n",
       "\t<tr><td> 8.563627</td><td>8.040270 </td><td> 9.086984</td></tr>\n",
       "\t<tr><td> 7.093866</td><td>6.758250 </td><td> 7.429482</td></tr>\n",
       "\t<tr><td> 7.201686</td><td>6.788065 </td><td> 7.615307</td></tr>\n",
       "\t<tr><td> 8.946105</td><td>8.581632 </td><td> 9.310578</td></tr>\n",
       "\t<tr><td> 8.673717</td><td>8.335280 </td><td> 9.012154</td></tr>\n",
       "\t<tr><td>...</td><td>...</td><td>...</td></tr>\n",
       "\t<tr><td>7.747597 </td><td>7.444518 </td><td> 8.050677</td></tr>\n",
       "\t<tr><td>6.166611 </td><td>5.740789 </td><td> 6.592433</td></tr>\n",
       "\t<tr><td>7.691985 </td><td>7.252811 </td><td> 8.131158</td></tr>\n",
       "\t<tr><td>6.711387 </td><td>6.303443 </td><td> 7.119332</td></tr>\n",
       "\t<tr><td>7.802075 </td><td>7.499585 </td><td> 8.104565</td></tr>\n",
       "\t<tr><td>6.275566 </td><td>5.855267 </td><td> 6.695866</td></tr>\n",
       "\t<tr><td>9.218494 </td><td>8.822984 </td><td> 9.614003</td></tr>\n",
       "\t<tr><td>6.221089 </td><td>5.798144 </td><td> 6.644033</td></tr>\n",
       "\t<tr><td>7.747597 </td><td>7.444518 </td><td> 8.050677</td></tr>\n",
       "\t<tr><td>7.201686 </td><td>6.788065 </td><td> 7.615307</td></tr>\n",
       "\t<tr><td>9.381926 </td><td>8.965853 </td><td> 9.798000</td></tr>\n",
       "\t<tr><td>6.004313 </td><td>5.540701 </td><td> 6.467925</td></tr>\n",
       "\t<tr><td>7.638642 </td><td>7.333345 </td><td> 7.943939</td></tr>\n",
       "\t<tr><td>9.326314 </td><td>8.702449 </td><td> 9.950178</td></tr>\n",
       "\t<tr><td>8.128941 </td><td>7.822679 </td><td> 8.435203</td></tr>\n",
       "\t<tr><td>7.039388 </td><td>6.699176 </td><td> 7.379600</td></tr>\n",
       "\t<tr><td>4.314372 </td><td>3.689739 </td><td> 4.939004</td></tr>\n",
       "\t<tr><td>7.965508 </td><td>7.662693 </td><td> 8.268323</td></tr>\n",
       "\t<tr><td>9.981180 </td><td>9.480587 </td><td>10.481774</td></tr>\n",
       "\t<tr><td>8.401329 </td><td>8.082699 </td><td> 8.719959</td></tr>\n",
       "\t<tr><td>8.183418 </td><td>7.875329 </td><td> 8.491508</td></tr>\n",
       "\t<tr><td>6.275566 </td><td>5.855267 </td><td> 6.695866</td></tr>\n",
       "\t<tr><td>7.148343 </td><td>6.817068 </td><td> 7.479619</td></tr>\n",
       "\t<tr><td>7.693120 </td><td>7.389103 </td><td> 7.997137</td></tr>\n",
       "\t<tr><td>6.658045 </td><td>6.279352 </td><td> 7.036737</td></tr>\n",
       "\t<tr><td>7.257299 </td><td>6.933897 </td><td> 7.580700</td></tr>\n",
       "\t<tr><td>7.693120 </td><td>7.389103 </td><td> 7.997137</td></tr>\n",
       "\t<tr><td>5.568492 </td><td>5.039779 </td><td> 6.097205</td></tr>\n",
       "\t<tr><td>9.055061 </td><td>8.678708 </td><td> 9.431413</td></tr>\n",
       "\t<tr><td>7.693120 </td><td>7.389103 </td><td> 7.997137</td></tr>\n",
       "</tbody>\n",
       "</table>\n"
      ],
      "text/latex": [
       "\\begin{tabular}{r|lll}\n",
       " fit & lwr & upr\\\\\n",
       "\\hline\n",
       "\t  7.693120 & 7.389103  &  7.997137\\\\\n",
       "\t  9.708792 & 9.248135  & 10.169450\\\\\n",
       "\t  9.872225 & 9.387866  & 10.356585\\\\\n",
       "\t  8.946105 & 8.581632  &  9.310578\\\\\n",
       "\t  6.057656 & 5.625403  &  6.489909\\\\\n",
       "\t 10.308046 & 9.757013  & 10.859079\\\\\n",
       "\t  7.147208 & 6.735240  &  7.559177\\\\\n",
       "\t  7.693120 & 7.389103  &  7.997137\\\\\n",
       "\t  6.275566 & 5.855267  &  6.695866\\\\\n",
       "\t  7.475209 & 7.164057  &  7.786362\\\\\n",
       "\t  8.782672 & 8.434498  &  9.130847\\\\\n",
       "\t  9.109538 & 8.726970  &  9.492106\\\\\n",
       "\t  5.621835 & 5.155600  &  6.088069\\\\\n",
       "\t  9.545359 & 9.107513  &  9.983206\\\\\n",
       "\t  7.802075 & 7.499585  &  8.104565\\\\\n",
       "\t  5.186014 & 4.674703  &  5.697325\\\\\n",
       "\t  7.038253 & 6.628833  &  7.447673\\\\\n",
       "\t  7.093866 & 6.758250  &  7.429482\\\\\n",
       "\t 10.525957 & 9.940099  & 11.111814\\\\\n",
       "\t  7.638642 & 7.333345  &  7.943939\\\\\n",
       "\t  7.093866 & 6.758250  &  7.429482\\\\\n",
       "\t  8.292374 & 7.979645  &  8.605102\\\\\n",
       "\t  5.512879 & 5.036306  &  5.989453\\\\\n",
       "\t  7.092731 & 6.682163  &  7.503299\\\\\n",
       "\t  8.074463 & 7.769693  &  8.379234\\\\\n",
       "\t  8.563627 & 8.040270  &  9.086984\\\\\n",
       "\t  7.093866 & 6.758250  &  7.429482\\\\\n",
       "\t  7.201686 & 6.788065  &  7.615307\\\\\n",
       "\t  8.946105 & 8.581632  &  9.310578\\\\\n",
       "\t  8.673717 & 8.335280  &  9.012154\\\\\n",
       "\t ... & ... & ...\\\\\n",
       "\t 7.747597  & 7.444518  &  8.050677\\\\\n",
       "\t 6.166611  & 5.740789  &  6.592433\\\\\n",
       "\t 7.691985  & 7.252811  &  8.131158\\\\\n",
       "\t 6.711387  & 6.303443  &  7.119332\\\\\n",
       "\t 7.802075  & 7.499585  &  8.104565\\\\\n",
       "\t 6.275566  & 5.855267  &  6.695866\\\\\n",
       "\t 9.218494  & 8.822984  &  9.614003\\\\\n",
       "\t 6.221089  & 5.798144  &  6.644033\\\\\n",
       "\t 7.747597  & 7.444518  &  8.050677\\\\\n",
       "\t 7.201686  & 6.788065  &  7.615307\\\\\n",
       "\t 9.381926  & 8.965853  &  9.798000\\\\\n",
       "\t 6.004313  & 5.540701  &  6.467925\\\\\n",
       "\t 7.638642  & 7.333345  &  7.943939\\\\\n",
       "\t 9.326314  & 8.702449  &  9.950178\\\\\n",
       "\t 8.128941  & 7.822679  &  8.435203\\\\\n",
       "\t 7.039388  & 6.699176  &  7.379600\\\\\n",
       "\t 4.314372  & 3.689739  &  4.939004\\\\\n",
       "\t 7.965508  & 7.662693  &  8.268323\\\\\n",
       "\t 9.981180  & 9.480587  & 10.481774\\\\\n",
       "\t 8.401329  & 8.082699  &  8.719959\\\\\n",
       "\t 8.183418  & 7.875329  &  8.491508\\\\\n",
       "\t 6.275566  & 5.855267  &  6.695866\\\\\n",
       "\t 7.148343  & 6.817068  &  7.479619\\\\\n",
       "\t 7.693120  & 7.389103  &  7.997137\\\\\n",
       "\t 6.658045  & 6.279352  &  7.036737\\\\\n",
       "\t 7.257299  & 6.933897  &  7.580700\\\\\n",
       "\t 7.693120  & 7.389103  &  7.997137\\\\\n",
       "\t 5.568492  & 5.039779  &  6.097205\\\\\n",
       "\t 9.055061  & 8.678708  &  9.431413\\\\\n",
       "\t 7.693120  & 7.389103  &  7.997137\\\\\n",
       "\\end{tabular}\n"
      ],
      "text/markdown": [
       "\n",
       "| fit | lwr | upr |\n",
       "|---|---|---|\n",
       "|  7.693120 | 7.389103  |  7.997137 |\n",
       "|  9.708792 | 9.248135  | 10.169450 |\n",
       "|  9.872225 | 9.387866  | 10.356585 |\n",
       "|  8.946105 | 8.581632  |  9.310578 |\n",
       "|  6.057656 | 5.625403  |  6.489909 |\n",
       "| 10.308046 | 9.757013  | 10.859079 |\n",
       "|  7.147208 | 6.735240  |  7.559177 |\n",
       "|  7.693120 | 7.389103  |  7.997137 |\n",
       "|  6.275566 | 5.855267  |  6.695866 |\n",
       "|  7.475209 | 7.164057  |  7.786362 |\n",
       "|  8.782672 | 8.434498  |  9.130847 |\n",
       "|  9.109538 | 8.726970  |  9.492106 |\n",
       "|  5.621835 | 5.155600  |  6.088069 |\n",
       "|  9.545359 | 9.107513  |  9.983206 |\n",
       "|  7.802075 | 7.499585  |  8.104565 |\n",
       "|  5.186014 | 4.674703  |  5.697325 |\n",
       "|  7.038253 | 6.628833  |  7.447673 |\n",
       "|  7.093866 | 6.758250  |  7.429482 |\n",
       "| 10.525957 | 9.940099  | 11.111814 |\n",
       "|  7.638642 | 7.333345  |  7.943939 |\n",
       "|  7.093866 | 6.758250  |  7.429482 |\n",
       "|  8.292374 | 7.979645  |  8.605102 |\n",
       "|  5.512879 | 5.036306  |  5.989453 |\n",
       "|  7.092731 | 6.682163  |  7.503299 |\n",
       "|  8.074463 | 7.769693  |  8.379234 |\n",
       "|  8.563627 | 8.040270  |  9.086984 |\n",
       "|  7.093866 | 6.758250  |  7.429482 |\n",
       "|  7.201686 | 6.788065  |  7.615307 |\n",
       "|  8.946105 | 8.581632  |  9.310578 |\n",
       "|  8.673717 | 8.335280  |  9.012154 |\n",
       "| ... | ... | ... |\n",
       "| 7.747597  | 7.444518  |  8.050677 |\n",
       "| 6.166611  | 5.740789  |  6.592433 |\n",
       "| 7.691985  | 7.252811  |  8.131158 |\n",
       "| 6.711387  | 6.303443  |  7.119332 |\n",
       "| 7.802075  | 7.499585  |  8.104565 |\n",
       "| 6.275566  | 5.855267  |  6.695866 |\n",
       "| 9.218494  | 8.822984  |  9.614003 |\n",
       "| 6.221089  | 5.798144  |  6.644033 |\n",
       "| 7.747597  | 7.444518  |  8.050677 |\n",
       "| 7.201686  | 6.788065  |  7.615307 |\n",
       "| 9.381926  | 8.965853  |  9.798000 |\n",
       "| 6.004313  | 5.540701  |  6.467925 |\n",
       "| 7.638642  | 7.333345  |  7.943939 |\n",
       "| 9.326314  | 8.702449  |  9.950178 |\n",
       "| 8.128941  | 7.822679  |  8.435203 |\n",
       "| 7.039388  | 6.699176  |  7.379600 |\n",
       "| 4.314372  | 3.689739  |  4.939004 |\n",
       "| 7.965508  | 7.662693  |  8.268323 |\n",
       "| 9.981180  | 9.480587  | 10.481774 |\n",
       "| 8.401329  | 8.082699  |  8.719959 |\n",
       "| 8.183418  | 7.875329  |  8.491508 |\n",
       "| 6.275566  | 5.855267  |  6.695866 |\n",
       "| 7.148343  | 6.817068  |  7.479619 |\n",
       "| 7.693120  | 7.389103  |  7.997137 |\n",
       "| 6.658045  | 6.279352  |  7.036737 |\n",
       "| 7.257299  | 6.933897  |  7.580700 |\n",
       "| 7.693120  | 7.389103  |  7.997137 |\n",
       "| 5.568492  | 5.039779  |  6.097205 |\n",
       "| 9.055061  | 8.678708  |  9.431413 |\n",
       "| 7.693120  | 7.389103  |  7.997137 |\n",
       "\n"
      ],
      "text/plain": [
       "    fit       lwr      upr      \n",
       "1    7.693120 7.389103  7.997137\n",
       "2    9.708792 9.248135 10.169450\n",
       "3    9.872225 9.387866 10.356585\n",
       "4    8.946105 8.581632  9.310578\n",
       "5    6.057656 5.625403  6.489909\n",
       "6   10.308046 9.757013 10.859079\n",
       "7    7.147208 6.735240  7.559177\n",
       "8    7.693120 7.389103  7.997137\n",
       "9    6.275566 5.855267  6.695866\n",
       "10   7.475209 7.164057  7.786362\n",
       "11   8.782672 8.434498  9.130847\n",
       "12   9.109538 8.726970  9.492106\n",
       "13   5.621835 5.155600  6.088069\n",
       "14   9.545359 9.107513  9.983206\n",
       "15   7.802075 7.499585  8.104565\n",
       "16   5.186014 4.674703  5.697325\n",
       "17   7.038253 6.628833  7.447673\n",
       "18   7.093866 6.758250  7.429482\n",
       "19  10.525957 9.940099 11.111814\n",
       "20   7.638642 7.333345  7.943939\n",
       "21   7.093866 6.758250  7.429482\n",
       "22   8.292374 7.979645  8.605102\n",
       "23   5.512879 5.036306  5.989453\n",
       "24   7.092731 6.682163  7.503299\n",
       "25   8.074463 7.769693  8.379234\n",
       "26   8.563627 8.040270  9.086984\n",
       "27   7.093866 6.758250  7.429482\n",
       "28   7.201686 6.788065  7.615307\n",
       "29   8.946105 8.581632  9.310578\n",
       "30   8.673717 8.335280  9.012154\n",
       "... ...       ...      ...      \n",
       "371 7.747597  7.444518  8.050677\n",
       "372 6.166611  5.740789  6.592433\n",
       "373 7.691985  7.252811  8.131158\n",
       "374 6.711387  6.303443  7.119332\n",
       "375 7.802075  7.499585  8.104565\n",
       "376 6.275566  5.855267  6.695866\n",
       "377 9.218494  8.822984  9.614003\n",
       "378 6.221089  5.798144  6.644033\n",
       "379 7.747597  7.444518  8.050677\n",
       "380 7.201686  6.788065  7.615307\n",
       "381 9.381926  8.965853  9.798000\n",
       "382 6.004313  5.540701  6.467925\n",
       "383 7.638642  7.333345  7.943939\n",
       "384 9.326314  8.702449  9.950178\n",
       "385 8.128941  7.822679  8.435203\n",
       "386 7.039388  6.699176  7.379600\n",
       "387 4.314372  3.689739  4.939004\n",
       "388 7.965508  7.662693  8.268323\n",
       "389 9.981180  9.480587 10.481774\n",
       "390 8.401329  8.082699  8.719959\n",
       "391 8.183418  7.875329  8.491508\n",
       "392 6.275566  5.855267  6.695866\n",
       "393 7.148343  6.817068  7.479619\n",
       "394 7.693120  7.389103  7.997137\n",
       "395 6.658045  6.279352  7.036737\n",
       "396 7.257299  6.933897  7.580700\n",
       "397 7.693120  7.389103  7.997137\n",
       "398 5.568492  5.039779  6.097205\n",
       "399 9.055061  8.678708  9.431413\n",
       "400 7.693120  7.389103  7.997137"
      ]
     },
     "metadata": {},
     "output_type": "display_data"
    }
   ],
   "source": [
    "predict(model2a, interval='confidence')"
   ]
  },
  {
   "cell_type": "markdown",
   "id": "cultural-cemetery",
   "metadata": {},
   "source": [
    "# 10h)\n",
    "\n",
    "There is no evidence of outliers or high-leverage observations"
   ]
  },
  {
   "cell_type": "code",
   "execution_count": 146,
   "id": "positive-vitamin",
   "metadata": {},
   "outputs": [
    {
     "data": {
      "image/png": "[encoded data removed]",
      "text/plain": [
       "Plot with title \"\""
      ]
     },
     "metadata": {},
     "output_type": "display_data"
    }
   ],
   "source": [
    "par(mfrow=(c(2,2)))\n",
    "plot(model2a)"
   ]
  },
  {
   "cell_type": "markdown",
   "id": "operational-precipitation",
   "metadata": {},
   "source": [
    "# 14 a)\n",
    "\n",
    "The coefficients are 2 and 2 and 0.3\n",
    "$$y = 2 + 2X_1 + 0.3X_2 + \\epsilon$$"
   ]
  },
  {
   "cell_type": "code",
   "execution_count": 106,
   "id": "proper-easter",
   "metadata": {},
   "outputs": [],
   "source": [
    "set.seed(1)\n",
    "x1=runif(100)\n",
    "x2=0.5*x1+rnorm(100)/10\n",
    "y=2+2*x1+0.3*x2+rnorm(100)"
   ]
  },
  {
   "cell_type": "markdown",
   "id": "veterinary-chrome",
   "metadata": {},
   "source": [
    "# 14b)"
   ]
  },
  {
   "cell_type": "code",
   "execution_count": 111,
   "id": "valuable-wagon",
   "metadata": {},
   "outputs": [
    {
     "data": {
      "text/html": [
       "0.835121242463113"
      ],
      "text/latex": [
       "0.835121242463113"
      ],
      "text/markdown": [
       "0.835121242463113"
      ],
      "text/plain": [
       "[1] 0.8351212"
      ]
     },
     "metadata": {},
     "output_type": "display_data"
    }
   ],
   "source": [
    "cor(x1, x2)"
   ]
  },
  {
   "cell_type": "code",
   "execution_count": 114,
   "id": "meaningful-input",
   "metadata": {},
   "outputs": [
    {
     "data": {
      "image/png": "[encoded data removed]",
      "text/plain": [
       "plot without title"
      ]
     },
     "metadata": {},
     "output_type": "display_data"
    }
   ],
   "source": [
    "plot(x2,x2)"
   ]
  },
  {
   "cell_type": "markdown",
   "id": "chief-chancellor",
   "metadata": {},
   "source": [
    "# 14c)\n",
    "\n",
    "The coefficients are close to the true values, however we cannot reject the null hypothesis for x2 as its p-value is higher than alpha. "
   ]
  },
  {
   "cell_type": "code",
   "execution_count": 117,
   "id": "ruled-gather",
   "metadata": {},
   "outputs": [
    {
     "data": {
      "text/plain": [
       "\n",
       "Call:\n",
       "lm(formula = y ~ x1 + x2)\n",
       "\n",
       "Residuals:\n",
       "    Min      1Q  Median      3Q     Max \n",
       "-2.8311 -0.7273 -0.0537  0.6338  2.3359 \n",
       "\n",
       "Coefficients:\n",
       "            Estimate Std. Error t value            Pr(>|t|)    \n",
       "(Intercept)   2.1305     0.2319   9.188 0.00000000000000761 ***\n",
       "x1            1.4396     0.7212   1.996              0.0487 *  \n",
       "x2            1.0097     1.1337   0.891              0.3754    \n",
       "---\n",
       "Signif. codes:  0 '***' 0.001 '**' 0.01 '*' 0.05 '.' 0.1 ' ' 1\n",
       "\n",
       "Residual standard error: 1.056 on 97 degrees of freedom\n",
       "Multiple R-squared:  0.2088,\tAdjusted R-squared:  0.1925 \n",
       "F-statistic:  12.8 on 2 and 97 DF,  p-value: 0.00001164\n"
      ]
     },
     "metadata": {},
     "output_type": "display_data"
    }
   ],
   "source": [
    "model14 = lm(y~x1+x2)\n",
    "summary(model14)"
   ]
  },
  {
   "cell_type": "markdown",
   "id": "focal-television",
   "metadata": {},
   "source": [
    "# 14d)\n",
    "\n",
    "Model *d* has an f-statistic which double that of *c* with similar degrees of freedom. Also, the coeficients are now effectively identical to the true values. We can reject the null hypothesis for beta_0 in this case."
   ]
  },
  {
   "cell_type": "code",
   "execution_count": 118,
   "id": "following-determination",
   "metadata": {},
   "outputs": [
    {
     "data": {
      "text/plain": [
       "\n",
       "Call:\n",
       "lm(formula = y ~ x1)\n",
       "\n",
       "Residuals:\n",
       "     Min       1Q   Median       3Q      Max \n",
       "-2.89495 -0.66874 -0.07785  0.59221  2.45560 \n",
       "\n",
       "Coefficients:\n",
       "            Estimate Std. Error t value            Pr(>|t|)    \n",
       "(Intercept)   2.1124     0.2307   9.155 0.00000000000000827 ***\n",
       "x1            1.9759     0.3963   4.986 0.00000266057947097 ***\n",
       "---\n",
       "Signif. codes:  0 '***' 0.001 '**' 0.01 '*' 0.05 '.' 0.1 ' ' 1\n",
       "\n",
       "Residual standard error: 1.055 on 98 degrees of freedom\n",
       "Multiple R-squared:  0.2024,\tAdjusted R-squared:  0.1942 \n",
       "F-statistic: 24.86 on 1 and 98 DF,  p-value: 0.000002661\n"
      ]
     },
     "metadata": {},
     "output_type": "display_data"
    }
   ],
   "source": [
    "model14d = lm(y~x1)\n",
    "summary(model14d)"
   ]
  },
  {
   "cell_type": "markdown",
   "id": "operating-chinese",
   "metadata": {},
   "source": [
    "# 14e)\n",
    "\n",
    "Using only x2, we can reject the null hypothesis for beta_1=0. Our *e* model performed very similar to *d*."
   ]
  },
  {
   "cell_type": "code",
   "execution_count": 119,
   "id": "coated-swedish",
   "metadata": {},
   "outputs": [
    {
     "data": {
      "text/plain": [
       "\n",
       "Call:\n",
       "lm(formula = y ~ x2)\n",
       "\n",
       "Residuals:\n",
       "     Min       1Q   Median       3Q      Max \n",
       "-2.62687 -0.75156 -0.03598  0.72383  2.44890 \n",
       "\n",
       "Coefficients:\n",
       "            Estimate Std. Error t value             Pr(>|t|)    \n",
       "(Intercept)   2.3899     0.1949   12.26 < 0.0000000000000002 ***\n",
       "x2            2.8996     0.6330    4.58            0.0000137 ***\n",
       "---\n",
       "Signif. codes:  0 '***' 0.001 '**' 0.01 '*' 0.05 '.' 0.1 ' ' 1\n",
       "\n",
       "Residual standard error: 1.072 on 98 degrees of freedom\n",
       "Multiple R-squared:  0.1763,\tAdjusted R-squared:  0.1679 \n",
       "F-statistic: 20.98 on 1 and 98 DF,  p-value: 0.00001366\n"
      ]
     },
     "metadata": {},
     "output_type": "display_data"
    }
   ],
   "source": [
    "model14e = lm(y~x2)\n",
    "summary(model14e)"
   ]
  },
  {
   "cell_type": "markdown",
   "id": "ruled-magazine",
   "metadata": {},
   "source": [
    "# 14f)\n",
    "\n",
    "The models behave similarly because x1 and x2 are 84% correlated. The colinearity ambiguates the true effect of the covariates. "
   ]
  },
  {
   "cell_type": "markdown",
   "id": "peaceful-world",
   "metadata": {},
   "source": [
    "# 14g)\n",
    "\n",
    "With each model, we find point 101 to be an abnormal. However, it is high-leverage in *c* and *e* but only an outlier in *d*. "
   ]
  },
  {
   "cell_type": "code",
   "execution_count": 120,
   "id": "young-ceiling",
   "metadata": {},
   "outputs": [],
   "source": [
    "x1 = c(x1, 0.1)\n",
    "x2 = c(x2, 0.8)\n",
    "y = c(y, 6)"
   ]
  },
  {
   "cell_type": "code",
   "execution_count": 121,
   "id": "little-point",
   "metadata": {},
   "outputs": [],
   "source": [
    "c = lm(y~x1+x2)\n",
    "d = lm(y~x1)\n",
    "e = lm(y~x2)"
   ]
  },
  {
   "cell_type": "code",
   "execution_count": 125,
   "id": "capable-houston",
   "metadata": {},
   "outputs": [
    {
     "data": {
      "text/html": [
       "0.739227891183341"
      ],
      "text/latex": [
       "0.739227891183341"
      ],
      "text/markdown": [
       "0.739227891183341"
      ],
      "text/plain": [
       "[1] 0.7392279"
      ]
     },
     "metadata": {},
     "output_type": "display_data"
    }
   ],
   "source": [
    "cor(x1, x2)"
   ]
  },
  {
   "cell_type": "code",
   "execution_count": 137,
   "id": "enclosed-regular",
   "metadata": {},
   "outputs": [
    {
     "data": {
      "text/plain": [
       "\n",
       "Call:\n",
       "lm(formula = y ~ x1 + x2)\n",
       "\n",
       "Residuals:\n",
       "     Min       1Q   Median       3Q      Max \n",
       "-2.73348 -0.69318 -0.05263  0.66385  2.30619 \n",
       "\n",
       "Coefficients:\n",
       "            Estimate Std. Error t value             Pr(>|t|)    \n",
       "(Intercept)   2.2267     0.2314   9.624 0.000000000000000791 ***\n",
       "x1            0.5394     0.5922   0.911              0.36458    \n",
       "x2            2.5146     0.8977   2.801              0.00614 ** \n",
       "---\n",
       "Signif. codes:  0 '***' 0.001 '**' 0.01 '*' 0.05 '.' 0.1 ' ' 1\n",
       "\n",
       "Residual standard error: 1.075 on 98 degrees of freedom\n",
       "Multiple R-squared:  0.2188,\tAdjusted R-squared:  0.2029 \n",
       "F-statistic: 13.72 on 2 and 98 DF,  p-value: 0.000005564\n"
      ]
     },
     "metadata": {},
     "output_type": "display_data"
    }
   ],
   "source": [
    "summary(c)"
   ]
  },
  {
   "cell_type": "code",
   "execution_count": 134,
   "id": "ambient-polyester",
   "metadata": {},
   "outputs": [
    {
     "data": {
      "image/png": "[encoded data removed]",
      "text/plain": [
       "Plot with title \"\""
      ]
     },
     "metadata": {},
     "output_type": "display_data"
    }
   ],
   "source": [
    "par(mfrow=(c(2,2)))\n",
    "plot(c)"
   ]
  },
  {
   "cell_type": "code",
   "execution_count": 123,
   "id": "conscious-sperm",
   "metadata": {},
   "outputs": [
    {
     "data": {
      "text/plain": [
       "\n",
       "Call:\n",
       "lm(formula = y ~ x1)\n",
       "\n",
       "Residuals:\n",
       "    Min      1Q  Median      3Q     Max \n",
       "-2.8897 -0.6556 -0.0909  0.5682  3.5665 \n",
       "\n",
       "Coefficients:\n",
       "            Estimate Std. Error t value            Pr(>|t|)    \n",
       "(Intercept)   2.2569     0.2390   9.445 0.00000000000000178 ***\n",
       "x1            1.7657     0.4124   4.282 0.00004294817303594 ***\n",
       "---\n",
       "Signif. codes:  0 '***' 0.001 '**' 0.01 '*' 0.05 '.' 0.1 ' ' 1\n",
       "\n",
       "Residual standard error: 1.111 on 99 degrees of freedom\n",
       "Multiple R-squared:  0.1562,\tAdjusted R-squared:  0.1477 \n",
       "F-statistic: 18.33 on 1 and 99 DF,  p-value: 0.00004295\n"
      ]
     },
     "metadata": {},
     "output_type": "display_data"
    }
   ],
   "source": [
    "summary(d)"
   ]
  },
  {
   "cell_type": "code",
   "execution_count": 135,
   "id": "printable-programmer",
   "metadata": {},
   "outputs": [
    {
     "data": {
      "image/png": "[encoded data removed]",
      "text/plain": [
       "Plot with title \"\""
      ]
     },
     "metadata": {},
     "output_type": "display_data"
    }
   ],
   "source": [
    "par(mfrow=(c(2,2)))\n",
    "plot(d)"
   ]
  },
  {
   "cell_type": "code",
   "execution_count": 124,
   "id": "innovative-contractor",
   "metadata": {},
   "outputs": [
    {
     "data": {
      "text/plain": [
       "\n",
       "Call:\n",
       "lm(formula = y ~ x2)\n",
       "\n",
       "Residuals:\n",
       "     Min       1Q   Median       3Q      Max \n",
       "-2.64729 -0.71021 -0.06899  0.72699  2.38074 \n",
       "\n",
       "Coefficients:\n",
       "            Estimate Std. Error t value             Pr(>|t|)    \n",
       "(Intercept)   2.3451     0.1912  12.264 < 0.0000000000000002 ***\n",
       "x2            3.1190     0.6040   5.164           0.00000125 ***\n",
       "---\n",
       "Signif. codes:  0 '***' 0.001 '**' 0.01 '*' 0.05 '.' 0.1 ' ' 1\n",
       "\n",
       "Residual standard error: 1.074 on 99 degrees of freedom\n",
       "Multiple R-squared:  0.2122,\tAdjusted R-squared:  0.2042 \n",
       "F-statistic: 26.66 on 1 and 99 DF,  p-value: 0.000001253\n"
      ]
     },
     "metadata": {},
     "output_type": "display_data"
    }
   ],
   "source": [
    "summary(e)"
   ]
  },
  {
   "cell_type": "code",
   "execution_count": 136,
   "id": "little-marine",
   "metadata": {},
   "outputs": [
    {
     "data": {
      "image/png": "[encoded data removed]",
      "text/plain": [
       "Plot with title \"\""
      ]
     },
     "metadata": {},
     "output_type": "display_data"
    }
   ],
   "source": [
    "par(mfrow=(c(2,2)))\n",
    "plot(e)"
   ]
  },
  {
   "cell_type": "code",
   "execution_count": 145,
   "id": "median-feature",
   "metadata": {},
   "outputs": [
    {
     "data": {
      "text/html": [],
      "text/latex": [],
      "text/markdown": [],
      "text/plain": [
       "integer(0)"
      ]
     },
     "metadata": {},
     "output_type": "display_data"
    },
    {
     "data": {
      "text/html": [],
      "text/latex": [],
      "text/markdown": [],
      "text/plain": [
       "integer(0)"
      ]
     },
     "metadata": {},
     "output_type": "display_data"
    },
    {
     "data": {
      "text/html": [],
      "text/latex": [],
      "text/markdown": [],
      "text/plain": [
       "integer(0)"
      ]
     },
     "metadata": {},
     "output_type": "display_data"
    },
    {
     "data": {
      "image/png": "[encoded data removed]",
      "text/plain": [
       "Plot with title \"Index Plot of Ratio\""
      ]
     },
     "metadata": {},
     "output_type": "display_data"
    }
   ],
   "source": [
    "# @credit: https://towardsdatascience.com/how-to-detect-unusual-observations-on-your-regression-model-with-r-de0eaa38bc5b\n",
    "\n",
    "highleverage <- function(fit) {\n",
    " p <- length(coefficients(fit))\n",
    " n <- length(fitted(fit))\n",
    " ratio <-p/n\n",
    " plot(hatvalues(fit), main='Index Plot of Ratio')\n",
    " abline(h=c(2,3)*ratio, col='red', lty=2)\n",
    " identify(1:n, hatvalues(fit), names(hatvalues(fit)))\n",
    "}\n",
    "par(mfrow=(c(1,3)))\n",
    "highleverage(c)\n",
    "highleverage(d)\n",
    "highleverage(e)"
   ]
  },
  {
   "cell_type": "code",
   "execution_count": null,
   "id": "sweet-physiology",
   "metadata": {},
   "outputs": [],
   "source": []
  }
 ],
 "metadata": {
  "kernelspec": {
   "display_name": "R",
   "language": "R",
   "name": "ir"
  },
  "language_info": {
   "codemirror_mode": "r",
   "file_extension": ".r",
   "mimetype": "text/x-r-source",
   "name": "R",
   "pygments_lexer": "r",
   "version": "4.2.1"
  }
 },
 "nbformat": 4,
 "nbformat_minor": 5
}
