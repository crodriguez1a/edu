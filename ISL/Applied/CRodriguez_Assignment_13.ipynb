{
 "cells": [
  {
   "cell_type": "markdown",
   "id": "79ce81be",
   "metadata": {},
   "source": [
    "# 2\n",
    "Suppose that we have four observations, for which we compute a\n",
    "dissimilarity matrix, given by\n",
    "\n",
    "$$\\begin{bmatrix}\n",
    "    0.0   & 0.3 & 0.4 & 0.7 \\\\\n",
    "    0.3   & 0.0 & 0.5 & 0.8 \\\\\n",
    "    0.4   & 0.5 & 0.0 & 0.45 \\\\\n",
    "    0.7   & 0.8 & 0.45 & 0.0 \n",
    "\\end{bmatrix}\n",
    "$$\n",
    "\n",
    "For instance, the dissimilarity between the first and second observations\n",
    "is 0.3, and the dissimilarity between the second and fourth\n",
    "observations is 0.8."
   ]
  },
  {
   "cell_type": "markdown",
   "id": "706dd628",
   "metadata": {},
   "source": [
    "# 2a)\n",
    "\n",
    "On the basis of this dissimilarity matrix, sketch the dendrogram\n",
    "that results from hierarchically clustering these four observations\n",
    "using complete linkage. Be sure to indicate on the plot the\n",
    "height at which each fusion occurs, as well as the observations\n",
    "corresponding to each leaf in the dendrogram."
   ]
  },
  {
   "cell_type": "code",
   "execution_count": 37,
   "id": "832d7c5d",
   "metadata": {},
   "outputs": [
    {
     "data": {
      "image/png": "[encoded data removed]",
      "text/plain": [
       "Plot with title \" Complete Linkage\""
      ]
     },
     "metadata": {
      "image/png": {
       "height": 420,
       "width": 420
      }
     },
     "output_type": "display_data"
    }
   ],
   "source": [
    "# ref p.406\n",
    "\n",
    "mat = matrix(c(0, 0.3, 0.4, 0.7, \n",
    "               0.3, 0, 0.5, 0.8,\n",
    "               0.4, 0.5, 0.0, 0.45,\n",
    "               0.7, 0.8, 0.45, 0.0), nrow = 4)\n",
    "\n",
    "dd = dist(mat)\n",
    "plot(\n",
    "    hclust(dd, method=\"complete\"), \n",
    "    main=\" Complete Linkage\", \n",
    "    xlab=\"\", \n",
    "    sub =\"\"\n",
    ")"
   ]
  },
  {
   "cell_type": "markdown",
   "id": "0132ca67",
   "metadata": {},
   "source": [
    "# (b) \n",
    "\n",
    "Repeat (a), this time using single linkage clustering."
   ]
  },
  {
   "cell_type": "code",
   "execution_count": 38,
   "id": "fecfa6ad",
   "metadata": {},
   "outputs": [
    {
     "data": {
      "image/png": "[encoded data removed]",
      "text/plain": [
       "Plot with title \" Single Linkage\""
      ]
     },
     "metadata": {
      "image/png": {
       "height": 420,
       "width": 420
      }
     },
     "output_type": "display_data"
    }
   ],
   "source": [
    "plot(\n",
    "    hclust(dd, method=\"single\"), \n",
    "    main=\" Single Linkage\", \n",
    "    xlab=\"\", \n",
    "    sub =\"\"\n",
    ")"
   ]
  },
  {
   "cell_type": "markdown",
   "id": "b288c20b",
   "metadata": {},
   "source": [
    "# c)\n",
    "\n",
    "Suppose that we cut the dendogram obtained in (a) such that\n",
    "two clusters result. Which observations are in each cluster?"
   ]
  },
  {
   "cell_type": "code",
   "execution_count": 39,
   "id": "c6032ce7",
   "metadata": {},
   "outputs": [
    {
     "data": {
      "text/plain": [
       "\n",
       "1 2 \n",
       "2 2 "
      ]
     },
     "metadata": {},
     "output_type": "display_data"
    }
   ],
   "source": [
    "# ref p.412\n",
    "table(\n",
    "    cutree(hclust(dd, method=\"complete\"), 2)\n",
    ")"
   ]
  },
  {
   "cell_type": "markdown",
   "id": "a621e77b",
   "metadata": {},
   "source": [
    "# d)\n",
    "Suppose that we cut the dendogram obtained in (b) such that\n",
    "two clusters result. Which observations are in each cluster?"
   ]
  },
  {
   "cell_type": "code",
   "execution_count": 40,
   "id": "c60445fb",
   "metadata": {},
   "outputs": [
    {
     "data": {
      "text/plain": [
       "\n",
       "1 2 \n",
       "3 1 "
      ]
     },
     "metadata": {},
     "output_type": "display_data"
    }
   ],
   "source": [
    "table(\n",
    "    cutree(hclust(dd, method=\"single\"), 2)\n",
    ")"
   ]
  },
  {
   "cell_type": "markdown",
   "id": "f988445b",
   "metadata": {},
   "source": [
    "# e)\n",
    "\n",
    "It is mentioned in the chapter that at each fusion in the dendrogram,\n",
    "the position of the two clusters being fused can be\n",
    "swapped without changing the meaning of the dendrogram. Draw\n",
    "a dendrogram that is equivalent to the dendrogram in (a), for\n",
    "which two or more of the leaves are repositioned, but for which\n",
    "the meaning of the dendrogram is the same."
   ]
  },
  {
   "cell_type": "code",
   "execution_count": 41,
   "id": "a5df1c7e",
   "metadata": {},
   "outputs": [
    {
     "data": {
      "image/png": "[encoded data removed]",
      "text/plain": [
       "Plot with title \" Complete Linkage\""
      ]
     },
     "metadata": {
      "image/png": {
       "height": 420,
       "width": 420
      }
     },
     "output_type": "display_data"
    }
   ],
   "source": [
    "plot(\n",
    "    hclust(dd, method=\"complete\"), \n",
    "    labels = c(2,1,4,3),\n",
    "    main=\" Complete Linkage\", \n",
    "    xlab=\"\", \n",
    "    sub =\"\"\n",
    ")"
   ]
  },
  {
   "cell_type": "markdown",
   "id": "449b333b",
   "metadata": {},
   "source": [
    "# 9) \n",
    "\n",
    "Consider the USArrests data. We will now perform hierarchical clustering\n",
    "on the states."
   ]
  },
  {
   "cell_type": "markdown",
   "id": "87273cfb",
   "metadata": {},
   "source": [
    "## (a) \n",
    "\n",
    "Using hierarchical clustering with **complete** linkage and\n",
    "Euclidean distance, cluster the states."
   ]
  },
  {
   "cell_type": "code",
   "execution_count": 42,
   "id": "45329c3c",
   "metadata": {},
   "outputs": [
    {
     "data": {
      "text/html": [
       "<table class=\"dataframe\">\n",
       "<caption>A data.frame: 6 × 4</caption>\n",
       "<thead>\n",
       "\t<tr><th></th><th scope=col>Murder</th><th scope=col>Assault</th><th scope=col>UrbanPop</th><th scope=col>Rape</th></tr>\n",
       "\t<tr><th></th><th scope=col>&lt;dbl&gt;</th><th scope=col>&lt;int&gt;</th><th scope=col>&lt;int&gt;</th><th scope=col>&lt;dbl&gt;</th></tr>\n",
       "</thead>\n",
       "<tbody>\n",
       "\t<tr><th scope=row>Alabama</th><td>13.2</td><td>236</td><td>58</td><td>21.2</td></tr>\n",
       "\t<tr><th scope=row>Alaska</th><td>10.0</td><td>263</td><td>48</td><td>44.5</td></tr>\n",
       "\t<tr><th scope=row>Arizona</th><td> 8.1</td><td>294</td><td>80</td><td>31.0</td></tr>\n",
       "\t<tr><th scope=row>Arkansas</th><td> 8.8</td><td>190</td><td>50</td><td>19.5</td></tr>\n",
       "\t<tr><th scope=row>California</th><td> 9.0</td><td>276</td><td>91</td><td>40.6</td></tr>\n",
       "\t<tr><th scope=row>Colorado</th><td> 7.9</td><td>204</td><td>78</td><td>38.7</td></tr>\n",
       "</tbody>\n",
       "</table>\n"
      ],
      "text/latex": [
       "A data.frame: 6 × 4\n",
       "\\begin{tabular}{r|llll}\n",
       "  & Murder & Assault & UrbanPop & Rape\\\\\n",
       "  & <dbl> & <int> & <int> & <dbl>\\\\\n",
       "\\hline\n",
       "\tAlabama & 13.2 & 236 & 58 & 21.2\\\\\n",
       "\tAlaska & 10.0 & 263 & 48 & 44.5\\\\\n",
       "\tArizona &  8.1 & 294 & 80 & 31.0\\\\\n",
       "\tArkansas &  8.8 & 190 & 50 & 19.5\\\\\n",
       "\tCalifornia &  9.0 & 276 & 91 & 40.6\\\\\n",
       "\tColorado &  7.9 & 204 & 78 & 38.7\\\\\n",
       "\\end{tabular}\n"
      ],
      "text/markdown": [
       "\n",
       "A data.frame: 6 × 4\n",
       "\n",
       "| <!--/--> | Murder &lt;dbl&gt; | Assault &lt;int&gt; | UrbanPop &lt;int&gt; | Rape &lt;dbl&gt; |\n",
       "|---|---|---|---|---|\n",
       "| Alabama | 13.2 | 236 | 58 | 21.2 |\n",
       "| Alaska | 10.0 | 263 | 48 | 44.5 |\n",
       "| Arizona |  8.1 | 294 | 80 | 31.0 |\n",
       "| Arkansas |  8.8 | 190 | 50 | 19.5 |\n",
       "| California |  9.0 | 276 | 91 | 40.6 |\n",
       "| Colorado |  7.9 | 204 | 78 | 38.7 |\n",
       "\n"
      ],
      "text/plain": [
       "           Murder Assault UrbanPop Rape\n",
       "Alabama    13.2   236     58       21.2\n",
       "Alaska     10.0   263     48       44.5\n",
       "Arizona     8.1   294     80       31.0\n",
       "Arkansas    8.8   190     50       19.5\n",
       "California  9.0   276     91       40.6\n",
       "Colorado    7.9   204     78       38.7"
      ]
     },
     "metadata": {},
     "output_type": "display_data"
    }
   ],
   "source": [
    "head(USArrests)"
   ]
  },
  {
   "cell_type": "code",
   "execution_count": 48,
   "id": "b453c663",
   "metadata": {},
   "outputs": [],
   "source": [
    "?hclust"
   ]
  },
  {
   "cell_type": "code",
   "execution_count": 71,
   "id": "02a8d9c9",
   "metadata": {},
   "outputs": [
    {
     "data": {
      "image/png": "[encoded data removed]",
      "text/plain": [
       "Plot with title \"Cluster Dendrogram\""
      ]
     },
     "metadata": {
      "image/png": {
       "height": 420,
       "width": 420
      }
     },
     "output_type": "display_data"
    }
   ],
   "source": [
    "hc.us = hclust(dist(USArrests), method=\"complete\")\n",
    "plot(\n",
    "    hc.us, \n",
    "    xlab=\"\", \n",
    "    sub =\"\"\n",
    ")"
   ]
  },
  {
   "cell_type": "markdown",
   "id": "d31bd906",
   "metadata": {},
   "source": [
    "## (b) \n",
    "\n",
    "Cut the dendrogram at a height that results in **three** distinct\n",
    "clusters. Which states belong to which clusters?"
   ]
  },
  {
   "cell_type": "code",
   "execution_count": 74,
   "id": "4dee4a74",
   "metadata": {},
   "outputs": [
    {
     "data": {
      "text/html": [
       "<table class=\"dataframe\">\n",
       "<caption>A data.frame: 50 × 1</caption>\n",
       "<thead>\n",
       "\t<tr><th></th><th scope=col>hc.us.cut</th></tr>\n",
       "\t<tr><th></th><th scope=col>&lt;int&gt;</th></tr>\n",
       "</thead>\n",
       "<tbody>\n",
       "\t<tr><th scope=row>Alabama</th><td>1</td></tr>\n",
       "\t<tr><th scope=row>Alaska</th><td>1</td></tr>\n",
       "\t<tr><th scope=row>Arizona</th><td>1</td></tr>\n",
       "\t<tr><th scope=row>Arkansas</th><td>2</td></tr>\n",
       "\t<tr><th scope=row>California</th><td>1</td></tr>\n",
       "\t<tr><th scope=row>Colorado</th><td>2</td></tr>\n",
       "\t<tr><th scope=row>Connecticut</th><td>3</td></tr>\n",
       "\t<tr><th scope=row>Delaware</th><td>1</td></tr>\n",
       "\t<tr><th scope=row>Florida</th><td>1</td></tr>\n",
       "\t<tr><th scope=row>Georgia</th><td>2</td></tr>\n",
       "\t<tr><th scope=row>Hawaii</th><td>3</td></tr>\n",
       "\t<tr><th scope=row>Idaho</th><td>3</td></tr>\n",
       "\t<tr><th scope=row>Illinois</th><td>1</td></tr>\n",
       "\t<tr><th scope=row>Indiana</th><td>3</td></tr>\n",
       "\t<tr><th scope=row>Iowa</th><td>3</td></tr>\n",
       "\t<tr><th scope=row>Kansas</th><td>3</td></tr>\n",
       "\t<tr><th scope=row>Kentucky</th><td>3</td></tr>\n",
       "\t<tr><th scope=row>Louisiana</th><td>1</td></tr>\n",
       "\t<tr><th scope=row>Maine</th><td>3</td></tr>\n",
       "\t<tr><th scope=row>Maryland</th><td>1</td></tr>\n",
       "\t<tr><th scope=row>Massachusetts</th><td>2</td></tr>\n",
       "\t<tr><th scope=row>Michigan</th><td>1</td></tr>\n",
       "\t<tr><th scope=row>Minnesota</th><td>3</td></tr>\n",
       "\t<tr><th scope=row>Mississippi</th><td>1</td></tr>\n",
       "\t<tr><th scope=row>Missouri</th><td>2</td></tr>\n",
       "\t<tr><th scope=row>Montana</th><td>3</td></tr>\n",
       "\t<tr><th scope=row>Nebraska</th><td>3</td></tr>\n",
       "\t<tr><th scope=row>Nevada</th><td>1</td></tr>\n",
       "\t<tr><th scope=row>New Hampshire</th><td>3</td></tr>\n",
       "\t<tr><th scope=row>New Jersey</th><td>2</td></tr>\n",
       "\t<tr><th scope=row>New Mexico</th><td>1</td></tr>\n",
       "\t<tr><th scope=row>New York</th><td>1</td></tr>\n",
       "\t<tr><th scope=row>North Carolina</th><td>1</td></tr>\n",
       "\t<tr><th scope=row>North Dakota</th><td>3</td></tr>\n",
       "\t<tr><th scope=row>Ohio</th><td>3</td></tr>\n",
       "\t<tr><th scope=row>Oklahoma</th><td>2</td></tr>\n",
       "\t<tr><th scope=row>Oregon</th><td>2</td></tr>\n",
       "\t<tr><th scope=row>Pennsylvania</th><td>3</td></tr>\n",
       "\t<tr><th scope=row>Rhode Island</th><td>2</td></tr>\n",
       "\t<tr><th scope=row>South Carolina</th><td>1</td></tr>\n",
       "\t<tr><th scope=row>South Dakota</th><td>3</td></tr>\n",
       "\t<tr><th scope=row>Tennessee</th><td>2</td></tr>\n",
       "\t<tr><th scope=row>Texas</th><td>2</td></tr>\n",
       "\t<tr><th scope=row>Utah</th><td>3</td></tr>\n",
       "\t<tr><th scope=row>Vermont</th><td>3</td></tr>\n",
       "\t<tr><th scope=row>Virginia</th><td>2</td></tr>\n",
       "\t<tr><th scope=row>Washington</th><td>2</td></tr>\n",
       "\t<tr><th scope=row>West Virginia</th><td>3</td></tr>\n",
       "\t<tr><th scope=row>Wisconsin</th><td>3</td></tr>\n",
       "\t<tr><th scope=row>Wyoming</th><td>2</td></tr>\n",
       "</tbody>\n",
       "</table>\n"
      ],
      "text/latex": [
       "A data.frame: 50 × 1\n",
       "\\begin{tabular}{r|l}\n",
       "  & hc.us.cut\\\\\n",
       "  & <int>\\\\\n",
       "\\hline\n",
       "\tAlabama & 1\\\\\n",
       "\tAlaska & 1\\\\\n",
       "\tArizona & 1\\\\\n",
       "\tArkansas & 2\\\\\n",
       "\tCalifornia & 1\\\\\n",
       "\tColorado & 2\\\\\n",
       "\tConnecticut & 3\\\\\n",
       "\tDelaware & 1\\\\\n",
       "\tFlorida & 1\\\\\n",
       "\tGeorgia & 2\\\\\n",
       "\tHawaii & 3\\\\\n",
       "\tIdaho & 3\\\\\n",
       "\tIllinois & 1\\\\\n",
       "\tIndiana & 3\\\\\n",
       "\tIowa & 3\\\\\n",
       "\tKansas & 3\\\\\n",
       "\tKentucky & 3\\\\\n",
       "\tLouisiana & 1\\\\\n",
       "\tMaine & 3\\\\\n",
       "\tMaryland & 1\\\\\n",
       "\tMassachusetts & 2\\\\\n",
       "\tMichigan & 1\\\\\n",
       "\tMinnesota & 3\\\\\n",
       "\tMississippi & 1\\\\\n",
       "\tMissouri & 2\\\\\n",
       "\tMontana & 3\\\\\n",
       "\tNebraska & 3\\\\\n",
       "\tNevada & 1\\\\\n",
       "\tNew Hampshire & 3\\\\\n",
       "\tNew Jersey & 2\\\\\n",
       "\tNew Mexico & 1\\\\\n",
       "\tNew York & 1\\\\\n",
       "\tNorth Carolina & 1\\\\\n",
       "\tNorth Dakota & 3\\\\\n",
       "\tOhio & 3\\\\\n",
       "\tOklahoma & 2\\\\\n",
       "\tOregon & 2\\\\\n",
       "\tPennsylvania & 3\\\\\n",
       "\tRhode Island & 2\\\\\n",
       "\tSouth Carolina & 1\\\\\n",
       "\tSouth Dakota & 3\\\\\n",
       "\tTennessee & 2\\\\\n",
       "\tTexas & 2\\\\\n",
       "\tUtah & 3\\\\\n",
       "\tVermont & 3\\\\\n",
       "\tVirginia & 2\\\\\n",
       "\tWashington & 2\\\\\n",
       "\tWest Virginia & 3\\\\\n",
       "\tWisconsin & 3\\\\\n",
       "\tWyoming & 2\\\\\n",
       "\\end{tabular}\n"
      ],
      "text/markdown": [
       "\n",
       "A data.frame: 50 × 1\n",
       "\n",
       "| <!--/--> | hc.us.cut &lt;int&gt; |\n",
       "|---|---|\n",
       "| Alabama | 1 |\n",
       "| Alaska | 1 |\n",
       "| Arizona | 1 |\n",
       "| Arkansas | 2 |\n",
       "| California | 1 |\n",
       "| Colorado | 2 |\n",
       "| Connecticut | 3 |\n",
       "| Delaware | 1 |\n",
       "| Florida | 1 |\n",
       "| Georgia | 2 |\n",
       "| Hawaii | 3 |\n",
       "| Idaho | 3 |\n",
       "| Illinois | 1 |\n",
       "| Indiana | 3 |\n",
       "| Iowa | 3 |\n",
       "| Kansas | 3 |\n",
       "| Kentucky | 3 |\n",
       "| Louisiana | 1 |\n",
       "| Maine | 3 |\n",
       "| Maryland | 1 |\n",
       "| Massachusetts | 2 |\n",
       "| Michigan | 1 |\n",
       "| Minnesota | 3 |\n",
       "| Mississippi | 1 |\n",
       "| Missouri | 2 |\n",
       "| Montana | 3 |\n",
       "| Nebraska | 3 |\n",
       "| Nevada | 1 |\n",
       "| New Hampshire | 3 |\n",
       "| New Jersey | 2 |\n",
       "| New Mexico | 1 |\n",
       "| New York | 1 |\n",
       "| North Carolina | 1 |\n",
       "| North Dakota | 3 |\n",
       "| Ohio | 3 |\n",
       "| Oklahoma | 2 |\n",
       "| Oregon | 2 |\n",
       "| Pennsylvania | 3 |\n",
       "| Rhode Island | 2 |\n",
       "| South Carolina | 1 |\n",
       "| South Dakota | 3 |\n",
       "| Tennessee | 2 |\n",
       "| Texas | 2 |\n",
       "| Utah | 3 |\n",
       "| Vermont | 3 |\n",
       "| Virginia | 2 |\n",
       "| Washington | 2 |\n",
       "| West Virginia | 3 |\n",
       "| Wisconsin | 3 |\n",
       "| Wyoming | 2 |\n",
       "\n"
      ],
      "text/plain": [
       "               hc.us.cut\n",
       "Alabama        1        \n",
       "Alaska         1        \n",
       "Arizona        1        \n",
       "Arkansas       2        \n",
       "California     1        \n",
       "Colorado       2        \n",
       "Connecticut    3        \n",
       "Delaware       1        \n",
       "Florida        1        \n",
       "Georgia        2        \n",
       "Hawaii         3        \n",
       "Idaho          3        \n",
       "Illinois       1        \n",
       "Indiana        3        \n",
       "Iowa           3        \n",
       "Kansas         3        \n",
       "Kentucky       3        \n",
       "Louisiana      1        \n",
       "Maine          3        \n",
       "Maryland       1        \n",
       "Massachusetts  2        \n",
       "Michigan       1        \n",
       "Minnesota      3        \n",
       "Mississippi    1        \n",
       "Missouri       2        \n",
       "Montana        3        \n",
       "Nebraska       3        \n",
       "Nevada         1        \n",
       "New Hampshire  3        \n",
       "New Jersey     2        \n",
       "New Mexico     1        \n",
       "New York       1        \n",
       "North Carolina 1        \n",
       "North Dakota   3        \n",
       "Ohio           3        \n",
       "Oklahoma       2        \n",
       "Oregon         2        \n",
       "Pennsylvania   3        \n",
       "Rhode Island   2        \n",
       "South Carolina 1        \n",
       "South Dakota   3        \n",
       "Tennessee      2        \n",
       "Texas          2        \n",
       "Utah           3        \n",
       "Vermont        3        \n",
       "Virginia       2        \n",
       "Washington     2        \n",
       "West Virginia  3        \n",
       "Wisconsin      3        \n",
       "Wyoming        2        "
      ]
     },
     "metadata": {},
     "output_type": "display_data"
    }
   ],
   "source": [
    "hc.us.cut = cutree(hc.us, 3)\n",
    "\n",
    "data.frame(hc.us.cut)"
   ]
  },
  {
   "cell_type": "markdown",
   "id": "0d51a378",
   "metadata": {},
   "source": [
    "## (c) \n",
    "\n",
    "Hierarchically cluster the states using **complete** linkage and Euclidean\n",
    "distance, after scaling the variables to have **standard deviation one**."
   ]
  },
  {
   "cell_type": "code",
   "execution_count": 82,
   "id": "7331c327",
   "metadata": {},
   "outputs": [],
   "source": [
    "?scale"
   ]
  },
  {
   "cell_type": "code",
   "execution_count": 83,
   "id": "d342fa01",
   "metadata": {},
   "outputs": [
    {
     "data": {
      "image/png": "[encoded data removed]",
      "text/plain": [
       "Plot with title \"Cluster Dendrogram\""
      ]
     },
     "metadata": {
      "image/png": {
       "height": 420,
       "width": 420
      }
     },
     "output_type": "display_data"
    }
   ],
   "source": [
    "us.scaled = scale(USArrests, scale=T, center=T)\n",
    "\n",
    "hc.us.scaled = hclust(dist(us.scaled), method=\"complete\")\n",
    "plot(hc.us.scaled)"
   ]
  },
  {
   "cell_type": "markdown",
   "id": "ce0ba6d2",
   "metadata": {},
   "source": [
    "## (d) \n",
    "\n",
    "What effect does scaling the variables have on the hierarchical\n",
    "clustering obtained? In your opinion, should the variables be\n",
    "scaled before the inter-observation dissimilarities are computed?\n",
    "Provide a justification for your answer.\n",
    "\n",
    "In this case, the variables should be scaled as the `Murder` and `Rape` variables are given in differents units than the others. As the authors describe, if the variables are scaled so that each has a standard deviation of one before calculating the distances between observations, it will ensure that each variable is given an equal weight in the hierarchical clustering. Additionally, we want to scale the variables to have\n",
    "standard deviation one if they are measured on different scales; otherwise,\n",
    "the choice of units for a particular variable\n",
    "will greatly affect the dissimilarity measure obtained (James et al., 2013)."
   ]
  },
  {
   "cell_type": "code",
   "execution_count": null,
   "id": "feb36161",
   "metadata": {},
   "outputs": [],
   "source": []
  }
 ],
 "metadata": {
  "kernelspec": {
   "display_name": "R",
   "language": "R",
   "name": "ir"
  },
  "language_info": {
   "codemirror_mode": "r",
   "file_extension": ".r",
   "mimetype": "text/x-r-source",
   "name": "R",
   "pygments_lexer": "r",
   "version": "4.2.1"
  }
 },
 "nbformat": 4,
 "nbformat_minor": 5
}
