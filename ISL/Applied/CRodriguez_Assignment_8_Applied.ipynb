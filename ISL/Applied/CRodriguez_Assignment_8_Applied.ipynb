{
 "cells": [
  {
   "cell_type": "markdown",
   "id": "81833519",
   "metadata": {},
   "source": [
    "# 5. \n",
    "\n",
    "In Chapter 4, we used logistic regression to predict the probability of default using income and balance on the Default data set. We will now estimate the test error of this logistic regression model using the validation set approach. Do not forget to set a random seed before beginning your analysis.\n"
   ]
  },
  {
   "cell_type": "code",
   "execution_count": 1,
   "id": "d361c6d9",
   "metadata": {},
   "outputs": [
    {
     "name": "stderr",
     "output_type": "stream",
     "text": [
      "Warning message:\n",
      "\"package 'ISLR' was built under R version 4.2.2\"\n"
     ]
    }
   ],
   "source": [
    "library(ISLR)\n",
    "data(\"Default\")"
   ]
  },
  {
   "cell_type": "markdown",
   "id": "cf00dcfa",
   "metadata": {},
   "source": [
    "## (a) \n",
    "Fit a logistic regression model that uses income and balance to predict default."
   ]
  },
  {
   "cell_type": "code",
   "execution_count": 2,
   "id": "63696455",
   "metadata": {},
   "outputs": [
    {
     "data": {
      "text/html": [
       "<table class=\"dataframe\">\n",
       "<caption>A data.frame: 6 × 4</caption>\n",
       "<thead>\n",
       "\t<tr><th></th><th scope=col>default</th><th scope=col>student</th><th scope=col>balance</th><th scope=col>income</th></tr>\n",
       "\t<tr><th></th><th scope=col>&lt;fct&gt;</th><th scope=col>&lt;fct&gt;</th><th scope=col>&lt;dbl&gt;</th><th scope=col>&lt;dbl&gt;</th></tr>\n",
       "</thead>\n",
       "<tbody>\n",
       "\t<tr><th scope=row>1</th><td>No</td><td>No </td><td> 729.5265</td><td>44361.625</td></tr>\n",
       "\t<tr><th scope=row>2</th><td>No</td><td>Yes</td><td> 817.1804</td><td>12106.135</td></tr>\n",
       "\t<tr><th scope=row>3</th><td>No</td><td>No </td><td>1073.5492</td><td>31767.139</td></tr>\n",
       "\t<tr><th scope=row>4</th><td>No</td><td>No </td><td> 529.2506</td><td>35704.494</td></tr>\n",
       "\t<tr><th scope=row>5</th><td>No</td><td>No </td><td> 785.6559</td><td>38463.496</td></tr>\n",
       "\t<tr><th scope=row>6</th><td>No</td><td>Yes</td><td> 919.5885</td><td> 7491.559</td></tr>\n",
       "</tbody>\n",
       "</table>\n"
      ],
      "text/latex": [
       "A data.frame: 6 × 4\n",
       "\\begin{tabular}{r|llll}\n",
       "  & default & student & balance & income\\\\\n",
       "  & <fct> & <fct> & <dbl> & <dbl>\\\\\n",
       "\\hline\n",
       "\t1 & No & No  &  729.5265 & 44361.625\\\\\n",
       "\t2 & No & Yes &  817.1804 & 12106.135\\\\\n",
       "\t3 & No & No  & 1073.5492 & 31767.139\\\\\n",
       "\t4 & No & No  &  529.2506 & 35704.494\\\\\n",
       "\t5 & No & No  &  785.6559 & 38463.496\\\\\n",
       "\t6 & No & Yes &  919.5885 &  7491.559\\\\\n",
       "\\end{tabular}\n"
      ],
      "text/markdown": [
       "\n",
       "A data.frame: 6 × 4\n",
       "\n",
       "| <!--/--> | default &lt;fct&gt; | student &lt;fct&gt; | balance &lt;dbl&gt; | income &lt;dbl&gt; |\n",
       "|---|---|---|---|---|\n",
       "| 1 | No | No  |  729.5265 | 44361.625 |\n",
       "| 2 | No | Yes |  817.1804 | 12106.135 |\n",
       "| 3 | No | No  | 1073.5492 | 31767.139 |\n",
       "| 4 | No | No  |  529.2506 | 35704.494 |\n",
       "| 5 | No | No  |  785.6559 | 38463.496 |\n",
       "| 6 | No | Yes |  919.5885 |  7491.559 |\n",
       "\n"
      ],
      "text/plain": [
       "  default student balance   income   \n",
       "1 No      No       729.5265 44361.625\n",
       "2 No      Yes      817.1804 12106.135\n",
       "3 No      No      1073.5492 31767.139\n",
       "4 No      No       529.2506 35704.494\n",
       "5 No      No       785.6559 38463.496\n",
       "6 No      Yes      919.5885  7491.559"
      ]
     },
     "metadata": {},
     "output_type": "display_data"
    }
   ],
   "source": [
    "head(Default)"
   ]
  },
  {
   "cell_type": "code",
   "execution_count": 3,
   "id": "de855c3d",
   "metadata": {},
   "outputs": [],
   "source": [
    "Default$target <- ifelse(Default$default == \"Yes\", 1, 0)\n",
    "Default$student_e <- ifelse(Default$student == \"Yes\", 1, 0)"
   ]
  },
  {
   "cell_type": "code",
   "execution_count": 4,
   "id": "aa482630",
   "metadata": {},
   "outputs": [
    {
     "data": {
      "text/html": [
       "<table class=\"dataframe\">\n",
       "<caption>A data.frame: 6 × 6</caption>\n",
       "<thead>\n",
       "\t<tr><th></th><th scope=col>default</th><th scope=col>student</th><th scope=col>balance</th><th scope=col>income</th><th scope=col>target</th><th scope=col>student_e</th></tr>\n",
       "\t<tr><th></th><th scope=col>&lt;fct&gt;</th><th scope=col>&lt;fct&gt;</th><th scope=col>&lt;dbl&gt;</th><th scope=col>&lt;dbl&gt;</th><th scope=col>&lt;dbl&gt;</th><th scope=col>&lt;dbl&gt;</th></tr>\n",
       "</thead>\n",
       "<tbody>\n",
       "\t<tr><th scope=row>1</th><td>No</td><td>No </td><td> 729.5265</td><td>44361.625</td><td>0</td><td>0</td></tr>\n",
       "\t<tr><th scope=row>2</th><td>No</td><td>Yes</td><td> 817.1804</td><td>12106.135</td><td>0</td><td>1</td></tr>\n",
       "\t<tr><th scope=row>3</th><td>No</td><td>No </td><td>1073.5492</td><td>31767.139</td><td>0</td><td>0</td></tr>\n",
       "\t<tr><th scope=row>4</th><td>No</td><td>No </td><td> 529.2506</td><td>35704.494</td><td>0</td><td>0</td></tr>\n",
       "\t<tr><th scope=row>5</th><td>No</td><td>No </td><td> 785.6559</td><td>38463.496</td><td>0</td><td>0</td></tr>\n",
       "\t<tr><th scope=row>6</th><td>No</td><td>Yes</td><td> 919.5885</td><td> 7491.559</td><td>0</td><td>1</td></tr>\n",
       "</tbody>\n",
       "</table>\n"
      ],
      "text/latex": [
       "A data.frame: 6 × 6\n",
       "\\begin{tabular}{r|llllll}\n",
       "  & default & student & balance & income & target & student\\_e\\\\\n",
       "  & <fct> & <fct> & <dbl> & <dbl> & <dbl> & <dbl>\\\\\n",
       "\\hline\n",
       "\t1 & No & No  &  729.5265 & 44361.625 & 0 & 0\\\\\n",
       "\t2 & No & Yes &  817.1804 & 12106.135 & 0 & 1\\\\\n",
       "\t3 & No & No  & 1073.5492 & 31767.139 & 0 & 0\\\\\n",
       "\t4 & No & No  &  529.2506 & 35704.494 & 0 & 0\\\\\n",
       "\t5 & No & No  &  785.6559 & 38463.496 & 0 & 0\\\\\n",
       "\t6 & No & Yes &  919.5885 &  7491.559 & 0 & 1\\\\\n",
       "\\end{tabular}\n"
      ],
      "text/markdown": [
       "\n",
       "A data.frame: 6 × 6\n",
       "\n",
       "| <!--/--> | default &lt;fct&gt; | student &lt;fct&gt; | balance &lt;dbl&gt; | income &lt;dbl&gt; | target &lt;dbl&gt; | student_e &lt;dbl&gt; |\n",
       "|---|---|---|---|---|---|---|\n",
       "| 1 | No | No  |  729.5265 | 44361.625 | 0 | 0 |\n",
       "| 2 | No | Yes |  817.1804 | 12106.135 | 0 | 1 |\n",
       "| 3 | No | No  | 1073.5492 | 31767.139 | 0 | 0 |\n",
       "| 4 | No | No  |  529.2506 | 35704.494 | 0 | 0 |\n",
       "| 5 | No | No  |  785.6559 | 38463.496 | 0 | 0 |\n",
       "| 6 | No | Yes |  919.5885 |  7491.559 | 0 | 1 |\n",
       "\n"
      ],
      "text/plain": [
       "  default student balance   income    target student_e\n",
       "1 No      No       729.5265 44361.625 0      0        \n",
       "2 No      Yes      817.1804 12106.135 0      1        \n",
       "3 No      No      1073.5492 31767.139 0      0        \n",
       "4 No      No       529.2506 35704.494 0      0        \n",
       "5 No      No       785.6559 38463.496 0      0        \n",
       "6 No      Yes      919.5885  7491.559 0      1        "
      ]
     },
     "metadata": {},
     "output_type": "display_data"
    }
   ],
   "source": [
    "head(Default)"
   ]
  },
  {
   "cell_type": "code",
   "execution_count": 5,
   "id": "f709318a",
   "metadata": {},
   "outputs": [],
   "source": [
    "options(scipen = 999)"
   ]
  },
  {
   "cell_type": "code",
   "execution_count": 6,
   "id": "d323e428",
   "metadata": {},
   "outputs": [
    {
     "data": {
      "text/plain": [
       "\n",
       "Call:\n",
       "glm(formula = target ~ income + balance, family = binomial, data = Default)\n",
       "\n",
       "Deviance Residuals: \n",
       "    Min       1Q   Median       3Q      Max  \n",
       "-2.4725  -0.1444  -0.0574  -0.0211   3.7245  \n",
       "\n",
       "Coefficients:\n",
       "                 Estimate    Std. Error z value             Pr(>|z|)    \n",
       "(Intercept) -11.540468437   0.434756357 -26.545 < 0.0000000000000002 ***\n",
       "income        0.000020809   0.000004985   4.174            0.0000299 ***\n",
       "balance       0.005647103   0.000227373  24.836 < 0.0000000000000002 ***\n",
       "---\n",
       "Signif. codes:  0 '***' 0.001 '**' 0.01 '*' 0.05 '.' 0.1 ' ' 1\n",
       "\n",
       "(Dispersion parameter for binomial family taken to be 1)\n",
       "\n",
       "    Null deviance: 2920.6  on 9999  degrees of freedom\n",
       "Residual deviance: 1579.0  on 9997  degrees of freedom\n",
       "AIC: 1585\n",
       "\n",
       "Number of Fisher Scoring iterations: 8\n"
      ]
     },
     "metadata": {},
     "output_type": "display_data"
    }
   ],
   "source": [
    "glm.fit = glm(target~income+balance, data=Default, family=binomial)\n",
    "summary(glm.fit)"
   ]
  },
  {
   "cell_type": "markdown",
   "id": "32a4fae8",
   "metadata": {},
   "source": [
    "## (b) \n",
    "Using the validation set approach, estimate the test error of this model. In order to do this, you must perform the following steps:\n",
    "- i. Split the sample set into a training set and a validation set.\n",
    "- ii. Fit a multiple logistic regression model using only the training observations.\n",
    "- iii. Obtain a prediction of default status for each individual in the validation set by computing the posterior probability of default for that individual, and classifying the individual to the default category if the posterior probability is greater than 0.5.\n",
    "- iv. Compute the validation set error, which is the fraction of the observations in the validation set that are misclassified."
   ]
  },
  {
   "cell_type": "code",
   "execution_count": 7,
   "id": "56fb2825",
   "metadata": {},
   "outputs": [],
   "source": [
    "set.seed (123)\n",
    "\n",
    "train_test_split <- function(split=0.8){\n",
    "    len = length(Default$target)\n",
    "    train = sample(len, (len * split))\n",
    "    \n",
    "    X_train = Default[train,]\n",
    "    X_test = Default[-train, ]\n",
    "    y_test = Default$target[-train]\n",
    "    \n",
    "    return (list(\n",
    "        'X_train'=X_train,\n",
    "        'X_test'=X_test,\n",
    "        'y_test'=y_test\n",
    "    ))\n",
    "}\n",
    "\n",
    "eighty_twenty = train_test_split()"
   ]
  },
  {
   "cell_type": "code",
   "execution_count": 8,
   "id": "766bedde",
   "metadata": {},
   "outputs": [
    {
     "data": {
      "text/plain": [
       "\n",
       "Call:\n",
       "glm(formula = target ~ income + balance, family = binomial, data = eighty_twenty$X_train)\n",
       "\n",
       "Deviance Residuals: \n",
       "    Min       1Q   Median       3Q      Max  \n",
       "-2.2179  -0.1417  -0.0573  -0.0207   3.7308  \n",
       "\n",
       "Coefficients:\n",
       "                 Estimate    Std. Error z value             Pr(>|z|)    \n",
       "(Intercept) -11.614900940   0.488362872  -23.78 < 0.0000000000000002 ***\n",
       "income        0.000021738   0.000005602    3.88             0.000104 ***\n",
       "balance       0.005677333   0.000254807   22.28 < 0.0000000000000002 ***\n",
       "---\n",
       "Signif. codes:  0 '***' 0.001 '**' 0.01 '*' 0.05 '.' 0.1 ' ' 1\n",
       "\n",
       "(Dispersion parameter for binomial family taken to be 1)\n",
       "\n",
       "    Null deviance: 2340.6  on 7999  degrees of freedom\n",
       "Residual deviance: 1258.1  on 7997  degrees of freedom\n",
       "AIC: 1264.1\n",
       "\n",
       "Number of Fisher Scoring iterations: 8\n"
      ]
     },
     "metadata": {},
     "output_type": "display_data"
    },
    {
     "name": "stdout",
     "output_type": "stream",
     "text": [
      "[1] 0.026\n"
     ]
    }
   ],
   "source": [
    "glm.b = glm(target~income+balance, data=eighty_twenty$X_train, family=binomial)\n",
    "summary(glm.b)\n",
    "\n",
    "\n",
    "score <- function(model, X_test, target) {\n",
    "    prob = predict(model, X_test, type=\"response\")\n",
    "    pred = rep(1, length(prob))\n",
    "    pred[prob > 0.5] = 0\n",
    "\n",
    "    y_pred <- pred\n",
    "    y_true <- target\n",
    "    \n",
    "    print(mean(y_pred==y_true))\n",
    "}\n",
    "\n",
    "score(glm.b, eighty_twenty$X_test, eighty_twenty$y_test)"
   ]
  },
  {
   "cell_type": "markdown",
   "id": "56597872",
   "metadata": {},
   "source": [
    "## (c) \n",
    "Repeat the process in (b) three times, using three different splits of the observations into a training set and a validation set. Comment on the results obtained:\n",
    "\n",
    "There is low variance across the three different splits. The standard deviation of the error rates is ~0.003."
   ]
  },
  {
   "cell_type": "code",
   "execution_count": 9,
   "id": "33ac6701",
   "metadata": {},
   "outputs": [
    {
     "data": {
      "text/plain": [
       "\n",
       "Call:\n",
       "glm(formula = target ~ income + balance, family = binomial, data = sixty_forty$X_train)\n",
       "\n",
       "Deviance Residuals: \n",
       "    Min       1Q   Median       3Q      Max  \n",
       "-2.1187  -0.1542  -0.0615  -0.0232   3.6700  \n",
       "\n",
       "Coefficients:\n",
       "                 Estimate    Std. Error z value             Pr(>|z|)    \n",
       "(Intercept) -11.146101620   0.531665250  -20.96 < 0.0000000000000002 ***\n",
       "income        0.000017941   0.000006165    2.91              0.00361 ** \n",
       "balance       0.005501280   0.000278994   19.72 < 0.0000000000000002 ***\n",
       "---\n",
       "Signif. codes:  0 '***' 0.001 '**' 0.01 '*' 0.05 '.' 0.1 ' ' 1\n",
       "\n",
       "(Dispersion parameter for binomial family taken to be 1)\n",
       "\n",
       "    Null deviance: 1840.4  on 5999  degrees of freedom\n",
       "Residual deviance: 1009.9  on 5997  degrees of freedom\n",
       "AIC: 1015.9\n",
       "\n",
       "Number of Fisher Scoring iterations: 8\n"
      ]
     },
     "metadata": {},
     "output_type": "display_data"
    },
    {
     "name": "stdout",
     "output_type": "stream",
     "text": [
      "[1] 0.02325\n"
     ]
    }
   ],
   "source": [
    "sixty_forty = train_test_split(0.6)\n",
    "glm.c1 = glm(target~income+balance, data=sixty_forty$X_train, family=binomial)\n",
    "summary(glm.c1)\n",
    "\n",
    "score(glm.c1, sixty_forty$X_test, sixty_forty$y_test)"
   ]
  },
  {
   "cell_type": "code",
   "execution_count": 10,
   "id": "4e06fd5a",
   "metadata": {},
   "outputs": [
    {
     "data": {
      "text/plain": [
       "\n",
       "Call:\n",
       "glm(formula = target ~ income + balance, family = binomial, data = fifty_fifty$X_train)\n",
       "\n",
       "Deviance Residuals: \n",
       "    Min       1Q   Median       3Q      Max  \n",
       "-1.8274  -0.1345  -0.0525  -0.0188   3.7704  \n",
       "\n",
       "Coefficients:\n",
       "                 Estimate    Std. Error z value             Pr(>|z|)    \n",
       "(Intercept) -11.831002703   0.667949490 -17.712 < 0.0000000000000002 ***\n",
       "income        0.000019471   0.000007526   2.587              0.00968 ** \n",
       "balance       0.005876903   0.000350610  16.762 < 0.0000000000000002 ***\n",
       "---\n",
       "Signif. codes:  0 '***' 0.001 '**' 0.01 '*' 0.05 '.' 0.1 ' ' 1\n",
       "\n",
       "(Dispersion parameter for binomial family taken to be 1)\n",
       "\n",
       "    Null deviance: 1347.42  on 4999  degrees of freedom\n",
       "Residual deviance:  737.22  on 4997  degrees of freedom\n",
       "AIC: 743.22\n",
       "\n",
       "Number of Fisher Scoring iterations: 8\n"
      ]
     },
     "metadata": {},
     "output_type": "display_data"
    },
    {
     "name": "stdout",
     "output_type": "stream",
     "text": [
      "[1] 0.0282\n"
     ]
    }
   ],
   "source": [
    "fifty_fifty = train_test_split(0.5)\n",
    "glm.c2 = glm(target~income+balance, data=fifty_fifty$X_train, family=binomial)\n",
    "summary(glm.c2)\n",
    "\n",
    "score(glm.c2, fifty_fifty$X_test, fifty_fifty$y_test)"
   ]
  },
  {
   "cell_type": "code",
   "execution_count": 11,
   "id": "aef8f9ae",
   "metadata": {},
   "outputs": [
    {
     "data": {
      "text/plain": [
       "\n",
       "Call:\n",
       "glm(formula = default ~ income + balance, family = binomial, \n",
       "    data = seventy_thirty$X_train)\n",
       "\n",
       "Deviance Residuals: \n",
       "    Min       1Q   Median       3Q      Max  \n",
       "-2.5241  -0.1421  -0.0557  -0.0200   3.4817  \n",
       "\n",
       "Coefficients:\n",
       "                 Estimate    Std. Error z value             Pr(>|z|)    \n",
       "(Intercept) -11.730534830   0.530341966 -22.119 < 0.0000000000000002 ***\n",
       "income        0.000023229   0.000006112   3.801             0.000144 ***\n",
       "balance       0.005732021   0.000273938  20.924 < 0.0000000000000002 ***\n",
       "---\n",
       "Signif. codes:  0 '***' 0.001 '**' 0.01 '*' 0.05 '.' 0.1 ' ' 1\n",
       "\n",
       "(Dispersion parameter for binomial family taken to be 1)\n",
       "\n",
       "    Null deviance: 2077.4  on 6999  degrees of freedom\n",
       "Residual deviance: 1102.1  on 6997  degrees of freedom\n",
       "AIC: 1108.1\n",
       "\n",
       "Number of Fisher Scoring iterations: 8\n"
      ]
     },
     "metadata": {},
     "output_type": "display_data"
    },
    {
     "name": "stdout",
     "output_type": "stream",
     "text": [
      "[1] 0.02666667\n"
     ]
    }
   ],
   "source": [
    "seventy_thirty = train_test_split(0.7)\n",
    "glm.c3 = glm(default~income+balance, data=seventy_thirty$X_train, family=binomial)\n",
    "summary(glm.c3)\n",
    "\n",
    "score(glm.c3, seventy_thirty$X_test, seventy_thirty$y_test)"
   ]
  },
  {
   "cell_type": "code",
   "execution_count": 12,
   "id": "55f9cf8c",
   "metadata": {},
   "outputs": [
    {
     "data": {
      "text/html": [
       "0.00253400982561236"
      ],
      "text/latex": [
       "0.00253400982561236"
      ],
      "text/markdown": [
       "0.00253400982561236"
      ],
      "text/plain": [
       "[1] 0.00253401"
      ]
     },
     "metadata": {},
     "output_type": "display_data"
    }
   ],
   "source": [
    " sd(c(0.02325, 0.0282, 0.02666667))"
   ]
  },
  {
   "cell_type": "code",
   "execution_count": 13,
   "id": "3fa76bf3",
   "metadata": {},
   "outputs": [
    {
     "data": {
      "text/html": [
       "0.02603889"
      ],
      "text/latex": [
       "0.02603889"
      ],
      "text/markdown": [
       "0.02603889"
      ],
      "text/plain": [
       "[1] 0.02603889"
      ]
     },
     "metadata": {},
     "output_type": "display_data"
    }
   ],
   "source": [
    "mean(c(0.02325, 0.0282, 0.02666667))"
   ]
  },
  {
   "cell_type": "markdown",
   "id": "9000510b",
   "metadata": {},
   "source": [
    "## (d) \n",
    "Now consider a logistic regression model that predicts the probability of default using income, balance, and a dummy variable for student. Estimate the test error for this model using the validation set approach. Comment on whether or not including a dummy variable for student leads to a reduction in the test error rate.\n",
    "\n",
    "Although income and student may less significate, the standard deviation of the error rates has dropped slightly. The mean error has also dropped. Accordingly, we can derive that accuracy and variance have improved."
   ]
  },
  {
   "cell_type": "code",
   "execution_count": 14,
   "id": "06f18820",
   "metadata": {},
   "outputs": [
    {
     "name": "stdout",
     "output_type": "stream",
     "text": [
      "\n",
      "Call:\n",
      "glm(formula = target ~ income + balance + student_e, family = binomial, \n",
      "    data = seventy_thirty$X_train)\n",
      "\n",
      "Deviance Residuals: \n",
      "    Min       1Q   Median       3Q      Max  \n",
      "-2.1583  -0.1409  -0.0567  -0.0205   3.7368  \n",
      "\n",
      "Coefficients:\n",
      "                 Estimate    Std. Error z value            Pr(>|z|)    \n",
      "(Intercept) -11.088952122   0.592275207 -18.723 <0.0000000000000002 ***\n",
      "income        0.000007592   0.000009799   0.775              0.4385    \n",
      "balance       0.005759887   0.000277226  20.777 <0.0000000000000002 ***\n",
      "student_e    -0.522166454   0.282758504  -1.847              0.0648 .  \n",
      "---\n",
      "Signif. codes:  0 '***' 0.001 '**' 0.01 '*' 0.05 '.' 0.1 ' ' 1\n",
      "\n",
      "(Dispersion parameter for binomial family taken to be 1)\n",
      "\n",
      "    Null deviance: 2043.8  on 6999  degrees of freedom\n",
      "Residual deviance: 1094.9  on 6996  degrees of freedom\n",
      "AIC: 1102.9\n",
      "\n",
      "Number of Fisher Scoring iterations: 8\n",
      "\n",
      "[1] 0.027\n",
      "\n",
      "Call:\n",
      "glm(formula = target ~ income + balance + student_e, family = binomial, \n",
      "    data = seventy_thirty$X_train)\n",
      "\n",
      "Deviance Residuals: \n",
      "    Min       1Q   Median       3Q      Max  \n",
      "-2.4912  -0.1342  -0.0516  -0.0184   3.6033  \n",
      "\n",
      "Coefficients:\n",
      "                 Estimate    Std. Error z value             Pr(>|z|)    \n",
      "(Intercept) -10.894770901   0.591093936 -18.432 < 0.0000000000000002 ***\n",
      "income       -0.000004201   0.000009778  -0.430              0.66743    \n",
      "balance       0.005923499   0.000287100  20.632 < 0.0000000000000002 ***\n",
      "student_e    -0.813870314   0.284489755  -2.861              0.00423 ** \n",
      "---\n",
      "Signif. codes:  0 '***' 0.001 '**' 0.01 '*' 0.05 '.' 0.1 ' ' 1\n",
      "\n",
      "(Dispersion parameter for binomial family taken to be 1)\n",
      "\n",
      "    Null deviance: 2050.5  on 6999  degrees of freedom\n",
      "Residual deviance: 1072.9  on 6996  degrees of freedom\n",
      "AIC: 1080.9\n",
      "\n",
      "Number of Fisher Scoring iterations: 8\n",
      "\n",
      "[1] 0.02733333\n",
      "\n",
      "Call:\n",
      "glm(formula = target ~ income + balance + student_e, family = binomial, \n",
      "    data = seventy_thirty$X_train)\n",
      "\n",
      "Deviance Residuals: \n",
      "    Min       1Q   Median       3Q      Max  \n",
      "-2.1691  -0.1365  -0.0517  -0.0183   3.5467  \n",
      "\n",
      "Coefficients:\n",
      "                 Estimate    Std. Error z value            Pr(>|z|)    \n",
      "(Intercept) -11.305488806   0.603728086 -18.726 <0.0000000000000002 ***\n",
      "income        0.000007889   0.000009678   0.815              0.4150    \n",
      "balance       0.005909312   0.000283935  20.812 <0.0000000000000002 ***\n",
      "student_e    -0.641041425   0.281061815  -2.281              0.0226 *  \n",
      "---\n",
      "Signif. codes:  0 '***' 0.001 '**' 0.01 '*' 0.05 '.' 0.1 ' ' 1\n",
      "\n",
      "(Dispersion parameter for binomial family taken to be 1)\n",
      "\n",
      "    Null deviance: 2090.7  on 6999  degrees of freedom\n",
      "Residual deviance: 1088.7  on 6996  degrees of freedom\n",
      "AIC: 1096.7\n",
      "\n",
      "Number of Fisher Scoring iterations: 8\n",
      "\n",
      "[1] 0.02533333\n"
     ]
    }
   ],
   "source": [
    "for (s in c(123, 345, 456)) {\n",
    "    set.seed(s)\n",
    "    seventy_thirty = train_test_split(0.7)\n",
    "\n",
    "    glm.c2 = glm(target~income+balance+student_e, data=seventy_thirty$X_train, family=binomial)\n",
    "    print(summary(glm.c2))\n",
    "\n",
    "    score(glm.c2, seventy_thirty$X_test, seventy_thirty$y_test) \n",
    "}"
   ]
  },
  {
   "cell_type": "code",
   "execution_count": 15,
   "id": "a415d9a0",
   "metadata": {},
   "outputs": [
    {
     "data": {
      "text/html": [
       "0.00107151744252407"
      ],
      "text/latex": [
       "0.00107151744252407"
      ],
      "text/markdown": [
       "0.00107151744252407"
      ],
      "text/plain": [
       "[1] 0.001071517"
      ]
     },
     "metadata": {},
     "output_type": "display_data"
    }
   ],
   "source": [
    "sd(c(0.027, 0.02733333, 0.02533333))"
   ]
  },
  {
   "cell_type": "code",
   "execution_count": 16,
   "id": "e84c755a",
   "metadata": {},
   "outputs": [
    {
     "data": {
      "text/html": [
       "0.0265555533333333"
      ],
      "text/latex": [
       "0.0265555533333333"
      ],
      "text/markdown": [
       "0.0265555533333333"
      ],
      "text/plain": [
       "[1] 0.02655555"
      ]
     },
     "metadata": {},
     "output_type": "display_data"
    }
   ],
   "source": [
    "mean(c(0.027, 0.02733333, 0.02533333))"
   ]
  },
  {
   "cell_type": "markdown",
   "id": "8226cd76",
   "metadata": {},
   "source": [
    "\n",
    "# 6. \n",
    "\n",
    "We continue to consider the use of a logistic regression model to\n",
    "predict the probability of default using income and balance on the\n",
    "Default data set. In particular, we will now compute estimates for\n",
    "the standard errors of the income and balance logistic regression coefficients\n",
    "in two different ways: \n",
    "- (1) using the bootstrap, and \n",
    "- (2) using the standard formula for computing the standard errors in the glm() function. Do not forget to set a random seed before beginning your analysis."
   ]
  },
  {
   "cell_type": "code",
   "execution_count": 17,
   "id": "794f062f",
   "metadata": {},
   "outputs": [
    {
     "data": {
      "text/plain": [
       "\n",
       "Call:\n",
       "glm(formula = default ~ income + balance, family = binomial, \n",
       "    data = seventy_thirty$X_train)\n",
       "\n",
       "Deviance Residuals: \n",
       "    Min       1Q   Median       3Q      Max  \n",
       "-2.1881  -0.1415  -0.0565  -0.0208   3.7271  \n",
       "\n",
       "Coefficients:\n",
       "                 Estimate    Std. Error z value             Pr(>|z|)    \n",
       "(Intercept) -11.584189307   0.525108677  -22.06 < 0.0000000000000002 ***\n",
       "income        0.000022286   0.000006073    3.67             0.000243 ***\n",
       "balance       0.005628427   0.000272293   20.67 < 0.0000000000000002 ***\n",
       "---\n",
       "Signif. codes:  0 '***' 0.001 '**' 0.01 '*' 0.05 '.' 0.1 ' ' 1\n",
       "\n",
       "(Dispersion parameter for binomial family taken to be 1)\n",
       "\n",
       "    Null deviance: 2010.0  on 6999  degrees of freedom\n",
       "Residual deviance: 1088.5  on 6997  degrees of freedom\n",
       "AIC: 1094.5\n",
       "\n",
       "Number of Fisher Scoring iterations: 8\n"
      ]
     },
     "metadata": {},
     "output_type": "display_data"
    },
    {
     "name": "stdout",
     "output_type": "stream",
     "text": [
      "[1] 0.02766667\n"
     ]
    }
   ],
   "source": [
    "seventy_thirty = train_test_split(0.7)\n",
    "set.seed(1234)\n",
    "glm.6 = glm(default~income+balance, data=seventy_thirty$X_train, family=binomial)\n",
    "summary(glm.6)\n",
    "\n",
    "score(glm.c3, seventy_thirty$X_test, seventy_thirty$y_test)"
   ]
  },
  {
   "cell_type": "markdown",
   "id": "5a1f6bcf",
   "metadata": {},
   "source": [
    "## (a) \n",
    "\n",
    "Using the summary() and glm() functions, determine the estimated\n",
    "standard errors for the coefficients associated with income\n",
    "and balance in a multiple logistic regression model that uses\n",
    "both predictors."
   ]
  },
  {
   "cell_type": "code",
   "execution_count": 18,
   "id": "12bc1f9f",
   "metadata": {},
   "outputs": [
    {
     "data": {
      "text/plain": [
       "\n",
       "Call:\n",
       "glm(formula = default ~ income + balance, family = binomial, \n",
       "    data = seventy_thirty$X_train)\n",
       "\n",
       "Deviance Residuals: \n",
       "    Min       1Q   Median       3Q      Max  \n",
       "-2.1881  -0.1415  -0.0565  -0.0208   3.7271  \n",
       "\n",
       "Coefficients:\n",
       "                 Estimate    Std. Error z value             Pr(>|z|)    \n",
       "(Intercept) -11.584189307   0.525108677  -22.06 < 0.0000000000000002 ***\n",
       "income        0.000022286   0.000006073    3.67             0.000243 ***\n",
       "balance       0.005628427   0.000272293   20.67 < 0.0000000000000002 ***\n",
       "---\n",
       "Signif. codes:  0 '***' 0.001 '**' 0.01 '*' 0.05 '.' 0.1 ' ' 1\n",
       "\n",
       "(Dispersion parameter for binomial family taken to be 1)\n",
       "\n",
       "    Null deviance: 2010.0  on 6999  degrees of freedom\n",
       "Residual deviance: 1088.5  on 6997  degrees of freedom\n",
       "AIC: 1094.5\n",
       "\n",
       "Number of Fisher Scoring iterations: 8\n"
      ]
     },
     "metadata": {},
     "output_type": "display_data"
    }
   ],
   "source": [
    "summary(glm.6)"
   ]
  },
  {
   "cell_type": "markdown",
   "id": "a2695ede",
   "metadata": {},
   "source": [
    "## (b) \n",
    "\n",
    "Write a function, boot.fn(), that takes as input the Default data\n",
    "set as well as an index of the observations, and that outputs\n",
    "the coefficient estimates for income and balance in the multiple\n",
    "logistic regression model."
   ]
  },
  {
   "cell_type": "code",
   "execution_count": 19,
   "id": "356a1aa5",
   "metadata": {},
   "outputs": [],
   "source": [
    "library(boot)"
   ]
  },
  {
   "cell_type": "code",
   "execution_count": 20,
   "id": "35a48c6e",
   "metadata": {},
   "outputs": [],
   "source": [
    "boot.fn = function(data, index) {\n",
    "    \n",
    "    def = data$target[index]\n",
    "    inc = data$income[index]\n",
    "    bal = data$balance[index]\n",
    "    \n",
    "    glm.6b = glm(def~inc+bal, family='binomial')\n",
    "    \n",
    "    # print(summary(glm.6b))\n",
    "    return (summary(glm.6b)$coefficients[2:3,2])\n",
    "}"
   ]
  },
  {
   "cell_type": "markdown",
   "id": "2262a89a",
   "metadata": {},
   "source": [
    "## (c) \n",
    "\n",
    "Use the boot() function together with your boot.fn() function to\n",
    "estimate the standard errors of the logistic regression coefficients\n",
    "for income and balance."
   ]
  },
  {
   "cell_type": "code",
   "execution_count": 21,
   "id": "782bb9fa",
   "metadata": {},
   "outputs": [
    {
     "data": {
      "text/plain": [
       "\n",
       "ORDINARY NONPARAMETRIC BOOTSTRAP\n",
       "\n",
       "\n",
       "Call:\n",
       "boot(data = samp, statistic = boot.fn, R = 30)\n",
       "\n",
       "\n",
       "Bootstrap Statistics :\n",
       "         original            bias        std. error\n",
       "t1* 0.00000607322 0.000000005487568 0.0000002002319\n",
       "t2* 0.00027229264 0.000001682168558 0.0000120662301"
      ]
     },
     "metadata": {},
     "output_type": "display_data"
    }
   ],
   "source": [
    "samp = seventy_thirty$X_train\n",
    "boot(samp, boot.fn, 30)"
   ]
  },
  {
   "cell_type": "markdown",
   "id": "e570ecf7",
   "metadata": {},
   "source": [
    "## (d) \n",
    "\n",
    "Comment on the estimated standard errors obtained using the\n",
    "glm() function and using your bootstrap function:\n",
    "\n",
    "The standard errors for both attributes has dropped significantly after applying the bootstrap.\n"
   ]
  },
  {
   "cell_type": "markdown",
   "id": "aa6ccb56",
   "metadata": {},
   "source": [
    "## 7. \n",
    "\n",
    "In Sections 5.3.2 and 5.3.3, we saw that the cv.glm() function can be\n",
    "used in order to compute the LOOCV test error estimate. Alternatively,\n",
    "one could compute those quantities using just the glm() and\n",
    "predict.glm() functions, and a for loop. You will now take this approach\n",
    "in order to compute the LOOCV error for a simple logistic\n",
    "regression model on the Weekly data set. Recall that in the context\n",
    "of classification problems, the LOOCV error is given in (5.4)."
   ]
  },
  {
   "cell_type": "code",
   "execution_count": 29,
   "id": "8c93e8f3",
   "metadata": {},
   "outputs": [
    {
     "data": {
      "text/html": [
       "<table class=\"dataframe\">\n",
       "<caption>A data.frame: 6 × 9</caption>\n",
       "<thead>\n",
       "\t<tr><th></th><th scope=col>Year</th><th scope=col>Lag1</th><th scope=col>Lag2</th><th scope=col>Lag3</th><th scope=col>Lag4</th><th scope=col>Lag5</th><th scope=col>Volume</th><th scope=col>Today</th><th scope=col>Direction</th></tr>\n",
       "\t<tr><th></th><th scope=col>&lt;dbl&gt;</th><th scope=col>&lt;dbl&gt;</th><th scope=col>&lt;dbl&gt;</th><th scope=col>&lt;dbl&gt;</th><th scope=col>&lt;dbl&gt;</th><th scope=col>&lt;dbl&gt;</th><th scope=col>&lt;dbl&gt;</th><th scope=col>&lt;dbl&gt;</th><th scope=col>&lt;fct&gt;</th></tr>\n",
       "</thead>\n",
       "<tbody>\n",
       "\t<tr><th scope=row>1</th><td>1990</td><td> 0.816</td><td> 1.572</td><td>-3.936</td><td>-0.229</td><td>-3.484</td><td>0.1549760</td><td>-0.270</td><td>Down</td></tr>\n",
       "\t<tr><th scope=row>2</th><td>1990</td><td>-0.270</td><td> 0.816</td><td> 1.572</td><td>-3.936</td><td>-0.229</td><td>0.1485740</td><td>-2.576</td><td>Down</td></tr>\n",
       "\t<tr><th scope=row>3</th><td>1990</td><td>-2.576</td><td>-0.270</td><td> 0.816</td><td> 1.572</td><td>-3.936</td><td>0.1598375</td><td> 3.514</td><td>Up  </td></tr>\n",
       "\t<tr><th scope=row>4</th><td>1990</td><td> 3.514</td><td>-2.576</td><td>-0.270</td><td> 0.816</td><td> 1.572</td><td>0.1616300</td><td> 0.712</td><td>Up  </td></tr>\n",
       "\t<tr><th scope=row>5</th><td>1990</td><td> 0.712</td><td> 3.514</td><td>-2.576</td><td>-0.270</td><td> 0.816</td><td>0.1537280</td><td> 1.178</td><td>Up  </td></tr>\n",
       "\t<tr><th scope=row>6</th><td>1990</td><td> 1.178</td><td> 0.712</td><td> 3.514</td><td>-2.576</td><td>-0.270</td><td>0.1544440</td><td>-1.372</td><td>Down</td></tr>\n",
       "</tbody>\n",
       "</table>\n"
      ],
      "text/latex": [
       "A data.frame: 6 × 9\n",
       "\\begin{tabular}{r|lllllllll}\n",
       "  & Year & Lag1 & Lag2 & Lag3 & Lag4 & Lag5 & Volume & Today & Direction\\\\\n",
       "  & <dbl> & <dbl> & <dbl> & <dbl> & <dbl> & <dbl> & <dbl> & <dbl> & <fct>\\\\\n",
       "\\hline\n",
       "\t1 & 1990 &  0.816 &  1.572 & -3.936 & -0.229 & -3.484 & 0.1549760 & -0.270 & Down\\\\\n",
       "\t2 & 1990 & -0.270 &  0.816 &  1.572 & -3.936 & -0.229 & 0.1485740 & -2.576 & Down\\\\\n",
       "\t3 & 1990 & -2.576 & -0.270 &  0.816 &  1.572 & -3.936 & 0.1598375 &  3.514 & Up  \\\\\n",
       "\t4 & 1990 &  3.514 & -2.576 & -0.270 &  0.816 &  1.572 & 0.1616300 &  0.712 & Up  \\\\\n",
       "\t5 & 1990 &  0.712 &  3.514 & -2.576 & -0.270 &  0.816 & 0.1537280 &  1.178 & Up  \\\\\n",
       "\t6 & 1990 &  1.178 &  0.712 &  3.514 & -2.576 & -0.270 & 0.1544440 & -1.372 & Down\\\\\n",
       "\\end{tabular}\n"
      ],
      "text/markdown": [
       "\n",
       "A data.frame: 6 × 9\n",
       "\n",
       "| <!--/--> | Year &lt;dbl&gt; | Lag1 &lt;dbl&gt; | Lag2 &lt;dbl&gt; | Lag3 &lt;dbl&gt; | Lag4 &lt;dbl&gt; | Lag5 &lt;dbl&gt; | Volume &lt;dbl&gt; | Today &lt;dbl&gt; | Direction &lt;fct&gt; |\n",
       "|---|---|---|---|---|---|---|---|---|---|\n",
       "| 1 | 1990 |  0.816 |  1.572 | -3.936 | -0.229 | -3.484 | 0.1549760 | -0.270 | Down |\n",
       "| 2 | 1990 | -0.270 |  0.816 |  1.572 | -3.936 | -0.229 | 0.1485740 | -2.576 | Down |\n",
       "| 3 | 1990 | -2.576 | -0.270 |  0.816 |  1.572 | -3.936 | 0.1598375 |  3.514 | Up   |\n",
       "| 4 | 1990 |  3.514 | -2.576 | -0.270 |  0.816 |  1.572 | 0.1616300 |  0.712 | Up   |\n",
       "| 5 | 1990 |  0.712 |  3.514 | -2.576 | -0.270 |  0.816 | 0.1537280 |  1.178 | Up   |\n",
       "| 6 | 1990 |  1.178 |  0.712 |  3.514 | -2.576 | -0.270 | 0.1544440 | -1.372 | Down |\n",
       "\n"
      ],
      "text/plain": [
       "  Year Lag1   Lag2   Lag3   Lag4   Lag5   Volume    Today  Direction\n",
       "1 1990  0.816  1.572 -3.936 -0.229 -3.484 0.1549760 -0.270 Down     \n",
       "2 1990 -0.270  0.816  1.572 -3.936 -0.229 0.1485740 -2.576 Down     \n",
       "3 1990 -2.576 -0.270  0.816  1.572 -3.936 0.1598375  3.514 Up       \n",
       "4 1990  3.514 -2.576 -0.270  0.816  1.572 0.1616300  0.712 Up       \n",
       "5 1990  0.712  3.514 -2.576 -0.270  0.816 0.1537280  1.178 Up       \n",
       "6 1990  1.178  0.712  3.514 -2.576 -0.270 0.1544440 -1.372 Down     "
      ]
     },
     "metadata": {},
     "output_type": "display_data"
    }
   ],
   "source": [
    "data('Weekly')\n",
    "\n",
    "head(Weekly)"
   ]
  },
  {
   "cell_type": "markdown",
   "id": "64c75688",
   "metadata": {},
   "source": [
    "## (a) \n",
    "\n",
    "Fit a logistic regression model that predicts Direction using Lag1 and Lag2."
   ]
  },
  {
   "cell_type": "code",
   "execution_count": 30,
   "id": "a868990e",
   "metadata": {},
   "outputs": [
    {
     "data": {
      "text/plain": [
       "\n",
       "Call:\n",
       "glm(formula = Direction ~ Lag1 + Lag2, family = binomial, data = Weekly)\n",
       "\n",
       "Deviance Residuals: \n",
       "   Min      1Q  Median      3Q     Max  \n",
       "-1.623  -1.261   1.001   1.083   1.506  \n",
       "\n",
       "Coefficients:\n",
       "            Estimate Std. Error z value Pr(>|z|)    \n",
       "(Intercept)  0.22122    0.06147   3.599 0.000319 ***\n",
       "Lag1        -0.03872    0.02622  -1.477 0.139672    \n",
       "Lag2         0.06025    0.02655   2.270 0.023232 *  \n",
       "---\n",
       "Signif. codes:  0 '***' 0.001 '**' 0.01 '*' 0.05 '.' 0.1 ' ' 1\n",
       "\n",
       "(Dispersion parameter for binomial family taken to be 1)\n",
       "\n",
       "    Null deviance: 1496.2  on 1088  degrees of freedom\n",
       "Residual deviance: 1488.2  on 1086  degrees of freedom\n",
       "AIC: 1494.2\n",
       "\n",
       "Number of Fisher Scoring iterations: 4\n"
      ]
     },
     "metadata": {},
     "output_type": "display_data"
    }
   ],
   "source": [
    "set.seed(789)\n",
    "\n",
    "glm.7 = glm(Direction ~ Lag1+Lag2, data=Weekly, family=binomial)\n",
    "summary(glm.7)"
   ]
  },
  {
   "cell_type": "markdown",
   "id": "8a7ced17",
   "metadata": {},
   "source": [
    "## (b) \n",
    "\n",
    "Fit a logistic regression model that predicts Direction using Lag1 and Lag2 using all but the first observation."
   ]
  },
  {
   "cell_type": "code",
   "execution_count": 35,
   "id": "f4e9fad6",
   "metadata": {},
   "outputs": [
    {
     "data": {
      "text/plain": [
       "\n",
       "Call:\n",
       "glm(formula = Direction ~ Lag1 + Lag2, family = binomial, data = Weekly[-c(1), \n",
       "    ])\n",
       "\n",
       "Deviance Residuals: \n",
       "    Min       1Q   Median       3Q      Max  \n",
       "-1.6258  -1.2617   0.9999   1.0819   1.5071  \n",
       "\n",
       "Coefficients:\n",
       "            Estimate Std. Error z value Pr(>|z|)    \n",
       "(Intercept)  0.22324    0.06150   3.630 0.000283 ***\n",
       "Lag1        -0.03843    0.02622  -1.466 0.142683    \n",
       "Lag2         0.06085    0.02656   2.291 0.021971 *  \n",
       "---\n",
       "Signif. codes:  0 '***' 0.001 '**' 0.01 '*' 0.05 '.' 0.1 ' ' 1\n",
       "\n",
       "(Dispersion parameter for binomial family taken to be 1)\n",
       "\n",
       "    Null deviance: 1494.6  on 1087  degrees of freedom\n",
       "Residual deviance: 1486.5  on 1085  degrees of freedom\n",
       "AIC: 1492.5\n",
       "\n",
       "Number of Fisher Scoring iterations: 4\n"
      ]
     },
     "metadata": {},
     "output_type": "display_data"
    }
   ],
   "source": [
    "glm.7b <- glm(Direction ~ Lag1+Lag2, data=Weekly[-c(1),], family=binomial)\n",
    "summary(glm.7b)"
   ]
  },
  {
   "cell_type": "markdown",
   "id": "3fc7b2f3",
   "metadata": {},
   "source": [
    "## (c) \n",
    "\n",
    "Use the model from (b) to predict the direction of the first observation.\n",
    "You can do this by predicting that the first observation\n",
    "will go up if P(Direction=\"Up\"|Lag1, Lag2) > 0.5. Was this observation\n",
    "correctly classified?\n",
    "\n",
    "The observation is not correctly classified."
   ]
  },
  {
   "cell_type": "code",
   "execution_count": 42,
   "id": "3d8af0e7",
   "metadata": {},
   "outputs": [
    {
     "data": {
      "text/html": [
       "'Up'"
      ],
      "text/latex": [
       "'Up'"
      ],
      "text/markdown": [
       "'Up'"
      ],
      "text/plain": [
       "[1] \"Up\""
      ]
     },
     "metadata": {},
     "output_type": "display_data"
    },
    {
     "data": {
      "text/html": [
       "Down\n",
       "<details>\n",
       "\t<summary style=display:list-item;cursor:pointer>\n",
       "\t\t<strong>Levels</strong>:\n",
       "\t</summary>\n",
       "\t<style>\n",
       "\t.list-inline {list-style: none; margin:0; padding: 0}\n",
       "\t.list-inline>li {display: inline-block}\n",
       "\t.list-inline>li:not(:last-child)::after {content: \"\\00b7\"; padding: 0 .5ex}\n",
       "\t</style>\n",
       "\t<ol class=list-inline><li>'Down'</li><li>'Up'</li></ol>\n",
       "</details>"
      ],
      "text/latex": [
       "Down\n",
       "\\emph{Levels}: \\begin{enumerate*}\n",
       "\\item 'Down'\n",
       "\\item 'Up'\n",
       "\\end{enumerate*}\n"
      ],
      "text/markdown": [
       "Down\n",
       "**Levels**: 1. 'Down'\n",
       "2. 'Up'\n",
       "\n",
       "\n"
      ],
      "text/plain": [
       "[1] Down\n",
       "Levels: Down Up"
      ]
     },
     "metadata": {},
     "output_type": "display_data"
    }
   ],
   "source": [
    "glm.7c = predict(glm.7b, Weekly[1,], type=\"response\")\n",
    "if(glm.7c > 0.5) \"Up\" else \"Down\"\n",
    "    \n",
    "Weekly[1,]$Direction"
   ]
  },
  {
   "cell_type": "markdown",
   "id": "9424040a",
   "metadata": {},
   "source": [
    "## (d) \n",
    "\n",
    "Write a for loop from i = 1 to i = n, where n is the number of\n",
    "observations in the data set, that performs each of the following\n",
    "steps:"
   ]
  },
  {
   "cell_type": "markdown",
   "id": "c263c636",
   "metadata": {},
   "source": [
    "- i. Fit a logistic regression model using all but the ith observation\n",
    "to predict Direction using Lag1 and Lag2.\n",
    "\n",
    "- ii. Compute the posterior probability of the market moving up\n",
    "for the ith observation.\n",
    "\n",
    "- iii. Use the posterior probability for the ith observation in order\n",
    "to predict whether or not the market moves up."
   ]
  },
  {
   "cell_type": "code",
   "execution_count": 58,
   "id": "304cf299",
   "metadata": {},
   "outputs": [
    {
     "data": {
      "text/html": [
       "0.449954086317723"
      ],
      "text/latex": [
       "0.449954086317723"
      ],
      "text/markdown": [
       "0.449954086317723"
      ],
      "text/plain": [
       "[1] 0.4499541"
      ]
     },
     "metadata": {},
     "output_type": "display_data"
    }
   ],
   "source": [
    "preds = rep('Up', length(Weekly$Direction))\n",
    "err = rep(1, length(Weekly$Direction))\n",
    "\n",
    "for (i in 1:length(Weekly$Direction)) { \n",
    "    model = glm(Direction ~ Lag1+Lag2, data=Weekly[-c(i),], family=binomial)\n",
    "    probs = predict(model, Weekly[i,], type=\"response\")\n",
    "  \n",
    "    preds[i] <- ifelse((probs > 0.5), 'Up', 'Down')    \n",
    "    err[i] <- ifelse(preds[i]==Weekly$Direction[i], 0, 1)\n",
    "}\n",
    "\n",
    "mean(err)"
   ]
  },
  {
   "cell_type": "markdown",
   "id": "9c65d97f",
   "metadata": {},
   "source": [
    "### iv. \n",
    "\n",
    "Determine whether or not an error was made in predicting\n",
    "the direction for the ith observation. If an error was made,\n",
    "then indicate this as a 1, and otherwise indicate it as a 0.\n",
    "(e) Take the average of the n numbers obtained in (d)iv in order to\n",
    "obtain the LOOCV estimate for the test error. \n",
    "\n",
    "Comment on the results:\n",
    "\n",
    "The LOOCV estimate for the test error is ~45% which tells us that predictions are correct only 55% of the time. We can conclude that model estimates are only moderately better than chance."
   ]
  },
  {
   "cell_type": "code",
   "execution_count": null,
   "id": "5f5e28e4",
   "metadata": {},
   "outputs": [],
   "source": []
  }
 ],
 "metadata": {
  "kernelspec": {
   "display_name": "R",
   "language": "R",
   "name": "ir"
  },
  "language_info": {
   "codemirror_mode": "r",
   "file_extension": ".r",
   "mimetype": "text/x-r-source",
   "name": "R",
   "pygments_lexer": "r",
   "version": "4.2.1"
  }
 },
 "nbformat": 4,
 "nbformat_minor": 5
}
