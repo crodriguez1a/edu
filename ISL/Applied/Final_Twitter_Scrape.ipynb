{
 "cells": [
  {
   "cell_type": "code",
   "execution_count": 2,
   "id": "6116857a",
   "metadata": {},
   "outputs": [],
   "source": [
    "import requests\n",
    "import pandas as pd"
   ]
  },
  {
   "cell_type": "code",
   "execution_count": 2,
   "id": "d58266b3",
   "metadata": {},
   "outputs": [
    {
     "name": "stdout",
     "output_type": "stream",
     "text": [
      "Requirement already satisfied: tqdm in c:\\users\\lenovo\\base\\lib\\site-packages (4.64.1)\n",
      "Requirement already satisfied: colorama in c:\\users\\lenovo\\base\\lib\\site-packages (from tqdm) (0.4.5)\n"
     ]
    },
    {
     "name": "stderr",
     "output_type": "stream",
     "text": [
      "\n",
      "[notice] A new release of pip available: 22.2.2 -> 22.3.1\n",
      "[notice] To update, run: python.exe -m pip install --upgrade pip\n"
     ]
    }
   ],
   "source": [
    "!python -m pip install tqdm"
   ]
  },
  {
   "cell_type": "code",
   "execution_count": 3,
   "id": "75877aa1",
   "metadata": {},
   "outputs": [],
   "source": [
    "# https://www.basketball-reference.com/friv/twitter.html\n",
    "handles = pd.read_csv('data/nba_twitter_handles.csv')\n",
    "handles = handles.dropna()[['Player', 'Twitter']]\n",
    "handles = [tuple(x) for x in handles.to_numpy()]"
   ]
  },
  {
   "cell_type": "code",
   "execution_count": 4,
   "id": "c353b7b7",
   "metadata": {},
   "outputs": [
    {
     "data": {
      "application/vnd.jupyter.widget-view+json": {
       "model_id": "b96926f2ba75431881c651617351ffd8",
       "version_major": 2,
       "version_minor": 0
      },
      "text/plain": [
       "  0%|          | 0/1941 [00:00<?, ?it/s]"
      ]
     },
     "metadata": {},
     "output_type": "display_data"
    }
   ],
   "source": [
    "import json\n",
    "from tqdm.auto import tqdm\n",
    "\n",
    "res = []\n",
    "for name, handle in tqdm(handles):\n",
    "    req = requests.get(f'https://cdn.syndication.twimg.com/widgets/followbutton/info.json?screen_names={handle}')\n",
    "    resp = json.loads(req.content)\n",
    "    if resp:\n",
    "        resp = resp[0]\n",
    "        res.append((name, resp.get('followers_count')))"
   ]
  },
  {
   "cell_type": "code",
   "execution_count": 5,
   "id": "2059107a",
   "metadata": {},
   "outputs": [
    {
     "data": {
      "text/html": [
       "<div>\n",
       "<style scoped>\n",
       "    .dataframe tbody tr th:only-of-type {\n",
       "        vertical-align: middle;\n",
       "    }\n",
       "\n",
       "    .dataframe tbody tr th {\n",
       "        vertical-align: top;\n",
       "    }\n",
       "\n",
       "    .dataframe thead th {\n",
       "        text-align: right;\n",
       "    }\n",
       "</style>\n",
       "<table border=\"1\" class=\"dataframe\">\n",
       "  <thead>\n",
       "    <tr style=\"text-align: right;\">\n",
       "      <th></th>\n",
       "      <th>PLAYER</th>\n",
       "      <th>TWITTER_FOLLOWERS</th>\n",
       "      <th>YEAR</th>\n",
       "    </tr>\n",
       "  </thead>\n",
       "  <tbody>\n",
       "    <tr>\n",
       "      <th>1290</th>\n",
       "      <td>A.C. Green</td>\n",
       "      <td>22850</td>\n",
       "      <td>2022</td>\n",
       "    </tr>\n",
       "    <tr>\n",
       "      <th>1447</th>\n",
       "      <td>A.J. Lawson</td>\n",
       "      <td>4095</td>\n",
       "      <td>2022</td>\n",
       "    </tr>\n",
       "    <tr>\n",
       "      <th>1631</th>\n",
       "      <td>A.J. Price</td>\n",
       "      <td>7914</td>\n",
       "      <td>2022</td>\n",
       "    </tr>\n",
       "    <tr>\n",
       "      <th>1645</th>\n",
       "      <td>A.J. Reeves</td>\n",
       "      <td>3745</td>\n",
       "      <td>2022</td>\n",
       "    </tr>\n",
       "    <tr>\n",
       "      <th>259</th>\n",
       "      <td>A.J. Slaughter</td>\n",
       "      <td>3942</td>\n",
       "      <td>2022</td>\n",
       "    </tr>\n",
       "    <tr>\n",
       "      <th>...</th>\n",
       "      <td>...</td>\n",
       "      <td>...</td>\n",
       "      <td>...</td>\n",
       "    </tr>\n",
       "    <tr>\n",
       "      <th>143</th>\n",
       "      <td>Álex Abrines</td>\n",
       "      <td>57950</td>\n",
       "      <td>2022</td>\n",
       "    </tr>\n",
       "    <tr>\n",
       "      <th>614</th>\n",
       "      <td>Ángel Delgado</td>\n",
       "      <td>8055</td>\n",
       "      <td>2022</td>\n",
       "    </tr>\n",
       "    <tr>\n",
       "      <th>683</th>\n",
       "      <td>Ángel Rodríguez</td>\n",
       "      <td>4807</td>\n",
       "      <td>2022</td>\n",
       "    </tr>\n",
       "    <tr>\n",
       "      <th>3</th>\n",
       "      <td>Ömer Aşık</td>\n",
       "      <td>39135</td>\n",
       "      <td>2022</td>\n",
       "    </tr>\n",
       "    <tr>\n",
       "      <th>151</th>\n",
       "      <td>İlkan Karaman</td>\n",
       "      <td>19048</td>\n",
       "      <td>2022</td>\n",
       "    </tr>\n",
       "  </tbody>\n",
       "</table>\n",
       "<p>1867 rows × 3 columns</p>\n",
       "</div>"
      ],
      "text/plain": [
       "               PLAYER  TWITTER_FOLLOWERS  YEAR\n",
       "1290       A.C. Green              22850  2022\n",
       "1447      A.J. Lawson               4095  2022\n",
       "1631       A.J. Price               7914  2022\n",
       "1645      A.J. Reeves               3745  2022\n",
       "259    A.J. Slaughter               3942  2022\n",
       "...               ...                ...   ...\n",
       "143      Álex Abrines              57950  2022\n",
       "614     Ángel Delgado               8055  2022\n",
       "683   Ángel Rodríguez               4807  2022\n",
       "3           Ömer Aşık              39135  2022\n",
       "151     İlkan Karaman              19048  2022\n",
       "\n",
       "[1867 rows x 3 columns]"
      ]
     },
     "execution_count": 5,
     "metadata": {},
     "output_type": "execute_result"
    }
   ],
   "source": [
    "df = pd.DataFrame(res)\n",
    "df.columns = ['PLAYER', 'TWITTER_FOLLOWERS']\n",
    "df['YEAR'] = 2022\n",
    "\n",
    "df.sort_values('PLAYER')"
   ]
  },
  {
   "cell_type": "code",
   "execution_count": 8,
   "id": "9d8acdae",
   "metadata": {},
   "outputs": [],
   "source": [
    "df.to_csv('data/twitter_followers.csv')"
   ]
  },
  {
   "cell_type": "code",
   "execution_count": 14,
   "id": "f4ba56e9",
   "metadata": {},
   "outputs": [
    {
     "data": {
      "text/html": [
       "<div>\n",
       "<style scoped>\n",
       "    .dataframe tbody tr th:only-of-type {\n",
       "        vertical-align: middle;\n",
       "    }\n",
       "\n",
       "    .dataframe tbody tr th {\n",
       "        vertical-align: top;\n",
       "    }\n",
       "\n",
       "    .dataframe thead th {\n",
       "        text-align: right;\n",
       "    }\n",
       "</style>\n",
       "<table border=\"1\" class=\"dataframe\">\n",
       "  <thead>\n",
       "    <tr style=\"text-align: right;\">\n",
       "      <th></th>\n",
       "      <th>Unnamed: 0</th>\n",
       "      <th>PLAYER</th>\n",
       "      <th>TWITTER_FOLLOWERS</th>\n",
       "      <th>YEAR</th>\n",
       "    </tr>\n",
       "  </thead>\n",
       "  <tbody>\n",
       "    <tr>\n",
       "      <th>0</th>\n",
       "      <td>0</td>\n",
       "      <td>Alexis Ajinça</td>\n",
       "      <td>60953</td>\n",
       "      <td>2022</td>\n",
       "    </tr>\n",
       "    <tr>\n",
       "      <th>1</th>\n",
       "      <td>1</td>\n",
       "      <td>Morris Almond</td>\n",
       "      <td>1283</td>\n",
       "      <td>2022</td>\n",
       "    </tr>\n",
       "    <tr>\n",
       "      <th>2</th>\n",
       "      <td>2</td>\n",
       "      <td>Giannis Antetokounmpo</td>\n",
       "      <td>2736494</td>\n",
       "      <td>2022</td>\n",
       "    </tr>\n",
       "    <tr>\n",
       "      <th>3</th>\n",
       "      <td>3</td>\n",
       "      <td>Ömer Aşık</td>\n",
       "      <td>39135</td>\n",
       "      <td>2022</td>\n",
       "    </tr>\n",
       "    <tr>\n",
       "      <th>4</th>\n",
       "      <td>4</td>\n",
       "      <td>Gustavo Ayón</td>\n",
       "      <td>3348</td>\n",
       "      <td>2022</td>\n",
       "    </tr>\n",
       "    <tr>\n",
       "      <th>...</th>\n",
       "      <td>...</td>\n",
       "      <td>...</td>\n",
       "      <td>...</td>\n",
       "      <td>...</td>\n",
       "    </tr>\n",
       "    <tr>\n",
       "      <th>1862</th>\n",
       "      <td>1862</td>\n",
       "      <td>Nick Young</td>\n",
       "      <td>528047</td>\n",
       "      <td>2022</td>\n",
       "    </tr>\n",
       "    <tr>\n",
       "      <th>1863</th>\n",
       "      <td>1863</td>\n",
       "      <td>Thaddeus Young</td>\n",
       "      <td>72205</td>\n",
       "      <td>2022</td>\n",
       "    </tr>\n",
       "    <tr>\n",
       "      <th>1864</th>\n",
       "      <td>1864</td>\n",
       "      <td>Marcus Zegarowski</td>\n",
       "      <td>5713</td>\n",
       "      <td>2022</td>\n",
       "    </tr>\n",
       "    <tr>\n",
       "      <th>1865</th>\n",
       "      <td>1865</td>\n",
       "      <td>Cody Zeller</td>\n",
       "      <td>141965</td>\n",
       "      <td>2022</td>\n",
       "    </tr>\n",
       "    <tr>\n",
       "      <th>1866</th>\n",
       "      <td>1866</td>\n",
       "      <td>Tyler Zeller</td>\n",
       "      <td>43493</td>\n",
       "      <td>2022</td>\n",
       "    </tr>\n",
       "  </tbody>\n",
       "</table>\n",
       "<p>1867 rows × 4 columns</p>\n",
       "</div>"
      ],
      "text/plain": [
       "      Unnamed: 0                 PLAYER  TWITTER_FOLLOWERS  YEAR\n",
       "0              0          Alexis Ajinça              60953  2022\n",
       "1              1          Morris Almond               1283  2022\n",
       "2              2  Giannis Antetokounmpo            2736494  2022\n",
       "3              3              Ömer Aşık              39135  2022\n",
       "4              4           Gustavo Ayón               3348  2022\n",
       "...          ...                    ...                ...   ...\n",
       "1862        1862             Nick Young             528047  2022\n",
       "1863        1863         Thaddeus Young              72205  2022\n",
       "1864        1864      Marcus Zegarowski               5713  2022\n",
       "1865        1865            Cody Zeller             141965  2022\n",
       "1866        1866           Tyler Zeller              43493  2022\n",
       "\n",
       "[1867 rows x 4 columns]"
      ]
     },
     "execution_count": 14,
     "metadata": {},
     "output_type": "execute_result"
    }
   ],
   "source": [
    "df = pd.read_csv('data/twitter_followers.csv')\n",
    "df"
   ]
  },
  {
   "cell_type": "code",
   "execution_count": null,
   "id": "1be12458",
   "metadata": {},
   "outputs": [],
   "source": []
  }
 ],
 "metadata": {
  "kernelspec": {
   "display_name": "Python 3 (ipykernel)",
   "language": "python",
   "name": "python3"
  },
  "language_info": {
   "codemirror_mode": {
    "name": "ipython",
    "version": 3
   },
   "file_extension": ".py",
   "mimetype": "text/x-python",
   "name": "python",
   "nbconvert_exporter": "python",
   "pygments_lexer": "ipython3",
   "version": "3.10.8"
  }
 },
 "nbformat": 4,
 "nbformat_minor": 5
}
