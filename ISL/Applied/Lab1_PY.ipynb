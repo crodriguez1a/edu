{
 "cells": [
  {
   "cell_type": "code",
   "execution_count": 1,
   "id": "electronic-salvation",
   "metadata": {},
   "outputs": [
    {
     "name": "stdout",
     "output_type": "stream",
     "text": [
      "[1] \"hello\"\n"
     ]
    }
   ],
   "source": [
    "print('hello')"
   ]
  },
  {
   "cell_type": "code",
   "execution_count": 4,
   "id": "behind-astrology",
   "metadata": {},
   "outputs": [
    {
     "data": {
      "text/html": [
       "<ol class=list-inline>\n",
       "\t<li>1</li>\n",
       "\t<li>3</li>\n",
       "\t<li>2</li>\n",
       "\t<li>4</li>\n",
       "</ol>\n"
      ],
      "text/latex": [
       "\\begin{enumerate*}\n",
       "\\item 1\n",
       "\\item 3\n",
       "\\item 2\n",
       "\\item 4\n",
       "\\end{enumerate*}\n"
      ],
      "text/markdown": [
       "1. 1\n",
       "2. 3\n",
       "3. 2\n",
       "4. 4\n",
       "\n",
       "\n"
      ],
      "text/plain": [
       "[1] 1 3 2 4"
      ]
     },
     "metadata": {},
     "output_type": "display_data"
    }
   ],
   "source": [
    "x <- c(1,3,2,4)\n",
    "x"
   ]
  },
  {
   "cell_type": "code",
   "execution_count": 11,
   "id": "novel-commissioner",
   "metadata": {},
   "outputs": [
    {
     "data": {
      "text/html": [
       "<ol class=list-inline>\n",
       "\t<li>1</li>\n",
       "\t<li>4</li>\n",
       "\t<li>3</li>\n",
       "</ol>\n"
      ],
      "text/latex": [
       "\\begin{enumerate*}\n",
       "\\item 1\n",
       "\\item 4\n",
       "\\item 3\n",
       "\\end{enumerate*}\n"
      ],
      "text/markdown": [
       "1. 1\n",
       "2. 4\n",
       "3. 3\n",
       "\n",
       "\n"
      ],
      "text/plain": [
       "[1] 1 4 3"
      ]
     },
     "metadata": {},
     "output_type": "display_data"
    }
   ],
   "source": [
    "y <- c(1,4,3)\n",
    "y"
   ]
  },
  {
   "cell_type": "code",
   "execution_count": 17,
   "id": "useful-eleven",
   "metadata": {},
   "outputs": [
    {
     "data": {
      "text/html": [
       "'double'"
      ],
      "text/latex": [
       "'double'"
      ],
      "text/markdown": [
       "'double'"
      ],
      "text/plain": [
       "[1] \"double\""
      ]
     },
     "metadata": {},
     "output_type": "display_data"
    },
    {
     "data": {
      "text/html": [
       "4"
      ],
      "text/latex": [
       "4"
      ],
      "text/markdown": [
       "4"
      ],
      "text/plain": [
       "[1] 4"
      ]
     },
     "metadata": {},
     "output_type": "display_data"
    },
    {
     "data": {
      "text/html": [
       "3"
      ],
      "text/latex": [
       "3"
      ],
      "text/markdown": [
       "3"
      ],
      "text/plain": [
       "[1] 3"
      ]
     },
     "metadata": {},
     "output_type": "display_data"
    }
   ],
   "source": [
    "typeof(x); length(x); length(y)"
   ]
  },
  {
   "cell_type": "code",
   "execution_count": 18,
   "id": "color-coffee",
   "metadata": {},
   "outputs": [
    {
     "data": {
      "text/html": [
       "<ol class=list-inline>\n",
       "\t<li>'x'</li>\n",
       "\t<li>'y'</li>\n",
       "</ol>\n"
      ],
      "text/latex": [
       "\\begin{enumerate*}\n",
       "\\item 'x'\n",
       "\\item 'y'\n",
       "\\end{enumerate*}\n"
      ],
      "text/markdown": [
       "1. 'x'\n",
       "2. 'y'\n",
       "\n",
       "\n"
      ],
      "text/plain": [
       "[1] \"x\" \"y\""
      ]
     },
     "metadata": {},
     "output_type": "display_data"
    }
   ],
   "source": [
    "ls()"
   ]
  },
  {
   "cell_type": "code",
   "execution_count": 19,
   "id": "abstract-teacher",
   "metadata": {},
   "outputs": [],
   "source": [
    "# remove objects from memory\n",
    "# rm(x)\n",
    "# rm(list=ls())"
   ]
  },
  {
   "cell_type": "code",
   "execution_count": 21,
   "id": "center-blend",
   "metadata": {},
   "outputs": [
    {
     "data": {
      "text/html": [
       "<table>\n",
       "<tbody>\n",
       "\t<tr><td>1</td><td>2</td></tr>\n",
       "\t<tr><td>3</td><td>4</td></tr>\n",
       "</tbody>\n",
       "</table>\n"
      ],
      "text/latex": [
       "\\begin{tabular}{ll}\n",
       "\t 1 & 2\\\\\n",
       "\t 3 & 4\\\\\n",
       "\\end{tabular}\n"
      ],
      "text/markdown": [
       "\n",
       "| 1 | 2 |\n",
       "| 3 | 4 |\n",
       "\n"
      ],
      "text/plain": [
       "     [,1] [,2]\n",
       "[1,] 1    2   \n",
       "[2,] 3    4   "
      ]
     },
     "metadata": {},
     "output_type": "display_data"
    }
   ],
   "source": [
    "matrix(data=x, nrow=2, ncol=2)"
   ]
  },
  {
   "cell_type": "code",
   "execution_count": 22,
   "id": "composed-drain",
   "metadata": {},
   "outputs": [
    {
     "data": {
      "text/html": [
       "<table>\n",
       "<tbody>\n",
       "\t<tr><td>1</td><td>2</td></tr>\n",
       "\t<tr><td>3</td><td>4</td></tr>\n",
       "</tbody>\n",
       "</table>\n"
      ],
      "text/latex": [
       "\\begin{tabular}{ll}\n",
       "\t 1 & 2\\\\\n",
       "\t 3 & 4\\\\\n",
       "\\end{tabular}\n"
      ],
      "text/markdown": [
       "\n",
       "| 1 | 2 |\n",
       "| 3 | 4 |\n",
       "\n"
      ],
      "text/plain": [
       "     [,1] [,2]\n",
       "[1,] 1    2   \n",
       "[2,] 3    4   "
      ]
     },
     "metadata": {},
     "output_type": "display_data"
    }
   ],
   "source": [
    "matrix(x,2,2)"
   ]
  },
  {
   "cell_type": "code",
   "execution_count": 23,
   "id": "confident-tennis",
   "metadata": {},
   "outputs": [
    {
     "data": {
      "text/html": [
       "<ol class=list-inline>\n",
       "\t<li>1</li>\n",
       "\t<li>1.73205080756888</li>\n",
       "\t<li>1.4142135623731</li>\n",
       "\t<li>2</li>\n",
       "</ol>\n"
      ],
      "text/latex": [
       "\\begin{enumerate*}\n",
       "\\item 1\n",
       "\\item 1.73205080756888\n",
       "\\item 1.4142135623731\n",
       "\\item 2\n",
       "\\end{enumerate*}\n"
      ],
      "text/markdown": [
       "1. 1\n",
       "2. 1.73205080756888\n",
       "3. 1.4142135623731\n",
       "4. 2\n",
       "\n",
       "\n"
      ],
      "text/plain": [
       "[1] 1.000000 1.732051 1.414214 2.000000"
      ]
     },
     "metadata": {},
     "output_type": "display_data"
    }
   ],
   "source": [
    "sqrt(x)"
   ]
  },
  {
   "cell_type": "code",
   "execution_count": 33,
   "id": "independent-basics",
   "metadata": {},
   "outputs": [
    {
     "data": {
      "text/html": [
       "0.995029649751335"
      ],
      "text/latex": [
       "0.995029649751335"
      ],
      "text/markdown": [
       "0.995029649751335"
      ],
      "text/plain": [
       "[1] 0.9950296"
      ]
     },
     "metadata": {},
     "output_type": "display_data"
    }
   ],
   "source": [
    "x=rnorm(50)\n",
    "y=x+rnorm(50, mean=50, sd=.1)\n",
    "cor(x,y)"
   ]
  },
  {
   "cell_type": "code",
   "execution_count": 31,
   "id": "express-gnome",
   "metadata": {},
   "outputs": [
    {
     "data": {
      "text/html": [
       "<ol class=list-inline>\n",
       "\t<li>-1.28851820062475</li>\n",
       "\t<li>-0.347689405260023</li>\n",
       "\t<li>-0.521628849214455</li>\n",
       "\t<li>1.27347316401659</li>\n",
       "\t<li>1.82452060134868</li>\n",
       "\t<li>-1.51130794100387</li>\n",
       "\t<li>0.110508045739943</li>\n",
       "\t<li>-0.760796227598105</li>\n",
       "\t<li>-0.669897017128139</li>\n",
       "\t<li>0.27451968836576</li>\n",
       "\t<li>-1.02327202024419</li>\n",
       "\t<li>-1.81939790765856</li>\n",
       "\t<li>-0.667789810820964</li>\n",
       "\t<li>-0.0592979926316426</li>\n",
       "\t<li>0.880165914775578</li>\n",
       "\t<li>0.268512916272135</li>\n",
       "\t<li>-0.0195793798812284</li>\n",
       "\t<li>-0.524946972785577</li>\n",
       "\t<li>-1.40933143199095</li>\n",
       "\t<li>-1.83398921416691</li>\n",
       "\t<li>-0.158314294229584</li>\n",
       "\t<li>0.754426571017363</li>\n",
       "\t<li>-0.912129623877029</li>\n",
       "\t<li>0.799931140198325</li>\n",
       "\t<li>1.49055300024804</li>\n",
       "\t<li>-1.09640198989762</li>\n",
       "\t<li>-0.534220686968875</li>\n",
       "\t<li>-1.42120302730805</li>\n",
       "\t<li>-1.24273830226432</li>\n",
       "\t<li>0.231936178179187</li>\n",
       "\t<li>-1.72520249568025</li>\n",
       "\t<li>0.614860698858126</li>\n",
       "\t<li>0.726875140101454</li>\n",
       "\t<li>-0.042190204196379</li>\n",
       "\t<li>0.216001796914866</li>\n",
       "\t<li>1.76973638868275</li>\n",
       "\t<li>0.220350911239156</li>\n",
       "\t<li>0.531478667787331</li>\n",
       "\t<li>2.16970096056706</li>\n",
       "\t<li>-2.93441823798351</li>\n",
       "\t<li>-0.995564634072697</li>\n",
       "\t<li>1.16955321947591</li>\n",
       "\t<li>-0.480039841600269</li>\n",
       "\t<li>-1.66886762541605</li>\n",
       "\t<li>1.13399719429222</li>\n",
       "\t<li>-0.317595831171395</li>\n",
       "\t<li>0.175857990232157</li>\n",
       "\t<li>-0.625509546118603</li>\n",
       "\t<li>-1.63952782104836</li>\n",
       "\t<li>-0.671484417381168</li>\n",
       "</ol>\n"
      ],
      "text/latex": [
       "\\begin{enumerate*}\n",
       "\\item -1.28851820062475\n",
       "\\item -0.347689405260023\n",
       "\\item -0.521628849214455\n",
       "\\item 1.27347316401659\n",
       "\\item 1.82452060134868\n",
       "\\item -1.51130794100387\n",
       "\\item 0.110508045739943\n",
       "\\item -0.760796227598105\n",
       "\\item -0.669897017128139\n",
       "\\item 0.27451968836576\n",
       "\\item -1.02327202024419\n",
       "\\item -1.81939790765856\n",
       "\\item -0.667789810820964\n",
       "\\item -0.0592979926316426\n",
       "\\item 0.880165914775578\n",
       "\\item 0.268512916272135\n",
       "\\item -0.0195793798812284\n",
       "\\item -0.524946972785577\n",
       "\\item -1.40933143199095\n",
       "\\item -1.83398921416691\n",
       "\\item -0.158314294229584\n",
       "\\item 0.754426571017363\n",
       "\\item -0.912129623877029\n",
       "\\item 0.799931140198325\n",
       "\\item 1.49055300024804\n",
       "\\item -1.09640198989762\n",
       "\\item -0.534220686968875\n",
       "\\item -1.42120302730805\n",
       "\\item -1.24273830226432\n",
       "\\item 0.231936178179187\n",
       "\\item -1.72520249568025\n",
       "\\item 0.614860698858126\n",
       "\\item 0.726875140101454\n",
       "\\item -0.042190204196379\n",
       "\\item 0.216001796914866\n",
       "\\item 1.76973638868275\n",
       "\\item 0.220350911239156\n",
       "\\item 0.531478667787331\n",
       "\\item 2.16970096056706\n",
       "\\item -2.93441823798351\n",
       "\\item -0.995564634072697\n",
       "\\item 1.16955321947591\n",
       "\\item -0.480039841600269\n",
       "\\item -1.66886762541605\n",
       "\\item 1.13399719429222\n",
       "\\item -0.317595831171395\n",
       "\\item 0.175857990232157\n",
       "\\item -0.625509546118603\n",
       "\\item -1.63952782104836\n",
       "\\item -0.671484417381168\n",
       "\\end{enumerate*}\n"
      ],
      "text/markdown": [
       "1. -1.28851820062475\n",
       "2. -0.347689405260023\n",
       "3. -0.521628849214455\n",
       "4. 1.27347316401659\n",
       "5. 1.82452060134868\n",
       "6. -1.51130794100387\n",
       "7. 0.110508045739943\n",
       "8. -0.760796227598105\n",
       "9. -0.669897017128139\n",
       "10. 0.27451968836576\n",
       "11. -1.02327202024419\n",
       "12. -1.81939790765856\n",
       "13. -0.667789810820964\n",
       "14. -0.0592979926316426\n",
       "15. 0.880165914775578\n",
       "16. 0.268512916272135\n",
       "17. -0.0195793798812284\n",
       "18. -0.524946972785577\n",
       "19. -1.40933143199095\n",
       "20. -1.83398921416691\n",
       "21. -0.158314294229584\n",
       "22. 0.754426571017363\n",
       "23. -0.912129623877029\n",
       "24. 0.799931140198325\n",
       "25. 1.49055300024804\n",
       "26. -1.09640198989762\n",
       "27. -0.534220686968875\n",
       "28. -1.42120302730805\n",
       "29. -1.24273830226432\n",
       "30. 0.231936178179187\n",
       "31. -1.72520249568025\n",
       "32. 0.614860698858126\n",
       "33. 0.726875140101454\n",
       "34. -0.042190204196379\n",
       "35. 0.216001796914866\n",
       "36. 1.76973638868275\n",
       "37. 0.220350911239156\n",
       "38. 0.531478667787331\n",
       "39. 2.16970096056706\n",
       "40. -2.93441823798351\n",
       "41. -0.995564634072697\n",
       "42. 1.16955321947591\n",
       "43. -0.480039841600269\n",
       "44. -1.66886762541605\n",
       "45. 1.13399719429222\n",
       "46. -0.317595831171395\n",
       "47. 0.175857990232157\n",
       "48. -0.625509546118603\n",
       "49. -1.63952782104836\n",
       "50. -0.671484417381168\n",
       "\n",
       "\n"
      ],
      "text/plain": [
       " [1] -1.28851820 -0.34768941 -0.52162885  1.27347316  1.82452060 -1.51130794\n",
       " [7]  0.11050805 -0.76079623 -0.66989702  0.27451969 -1.02327202 -1.81939791\n",
       "[13] -0.66778981 -0.05929799  0.88016591  0.26851292 -0.01957938 -0.52494697\n",
       "[19] -1.40933143 -1.83398921 -0.15831429  0.75442657 -0.91212962  0.79993114\n",
       "[25]  1.49055300 -1.09640199 -0.53422069 -1.42120303 -1.24273830  0.23193618\n",
       "[31] -1.72520250  0.61486070  0.72687514 -0.04219020  0.21600180  1.76973639\n",
       "[37]  0.22035091  0.53147867  2.16970096 -2.93441824 -0.99556463  1.16955322\n",
       "[43] -0.48003984 -1.66886763  1.13399719 -0.31759583  0.17585799 -0.62550955\n",
       "[49] -1.63952782 -0.67148442"
      ]
     },
     "metadata": {},
     "output_type": "display_data"
    }
   ],
   "source": [
    "set.seed(30)\n",
    "rnorm(50)"
   ]
  },
  {
   "cell_type": "code",
   "execution_count": 34,
   "id": "portuguese-candy",
   "metadata": {},
   "outputs": [
    {
     "data": {
      "text/html": [
       "-0.0753598741093677"
      ],
      "text/latex": [
       "-0.0753598741093677"
      ],
      "text/markdown": [
       "-0.0753598741093677"
      ],
      "text/plain": [
       "[1] -0.07535987"
      ]
     },
     "metadata": {},
     "output_type": "display_data"
    },
    {
     "data": {
      "text/html": [
       "1.12014855181947"
      ],
      "text/latex": [
       "1.12014855181947"
      ],
      "text/markdown": [
       "1.12014855181947"
      ],
      "text/plain": [
       "[1] 1.120149"
      ]
     },
     "metadata": {},
     "output_type": "display_data"
    },
    {
     "data": {
      "text/html": [
       "1.05837070623646"
      ],
      "text/latex": [
       "1.05837070623646"
      ],
      "text/markdown": [
       "1.05837070623646"
      ],
      "text/plain": [
       "[1] 1.058371"
      ]
     },
     "metadata": {},
     "output_type": "display_data"
    },
    {
     "data": {
      "text/html": [
       "1.05837070623646"
      ],
      "text/latex": [
       "1.05837070623646"
      ],
      "text/markdown": [
       "1.05837070623646"
      ],
      "text/plain": [
       "[1] 1.058371"
      ]
     },
     "metadata": {},
     "output_type": "display_data"
    }
   ],
   "source": [
    "set.seed(30)\n",
    "y=rnorm(100)\n",
    "mean(y); var(y); sqrt(var(y)); sd(y)"
   ]
  },
  {
   "cell_type": "code",
   "execution_count": 37,
   "id": "several-valuation",
   "metadata": {},
   "outputs": [
    {
     "data": {
      "image/png": "[encoded data removed]",
      "text/plain": [
       "Plot with title \"Plot XY\""
      ]
     },
     "metadata": {},
     "output_type": "display_data"
    }
   ],
   "source": [
    "x=rnorm(100)\n",
    "y=rnorm(100)\n",
    "plot(x,y, xlab=\"x-axis\", ylab=\"y-axis\", main=\"Plot XY\")"
   ]
  },
  {
   "cell_type": "code",
   "execution_count": 39,
   "id": "executive-illness",
   "metadata": {},
   "outputs": [
    {
     "data": {
      "text/html": [
       "<strong>png:</strong> 2"
      ],
      "text/latex": [
       "\\textbf{png:} 2"
      ],
      "text/markdown": [
       "**png:** 2"
      ],
      "text/plain": [
       "png \n",
       "  2 "
      ]
     },
     "metadata": {},
     "output_type": "display_data"
    }
   ],
   "source": [
    "pdf('figure.pdf')\n",
    "plot(x,y, col='green')\n",
    "dev.off()"
   ]
  },
  {
   "cell_type": "code",
   "execution_count": 44,
   "id": "expired-confusion",
   "metadata": {},
   "outputs": [
    {
     "data": {
      "text/html": [
       "<ol class=list-inline>\n",
       "\t<li>1</li>\n",
       "\t<li>1.5</li>\n",
       "\t<li>2</li>\n",
       "\t<li>2.5</li>\n",
       "\t<li>3</li>\n",
       "\t<li>3.5</li>\n",
       "\t<li>4</li>\n",
       "\t<li>4.5</li>\n",
       "\t<li>5</li>\n",
       "\t<li>5.5</li>\n",
       "\t<li>6</li>\n",
       "\t<li>6.5</li>\n",
       "\t<li>7</li>\n",
       "\t<li>7.5</li>\n",
       "\t<li>8</li>\n",
       "\t<li>8.5</li>\n",
       "\t<li>9</li>\n",
       "\t<li>9.5</li>\n",
       "\t<li>10</li>\n",
       "</ol>\n"
      ],
      "text/latex": [
       "\\begin{enumerate*}\n",
       "\\item 1\n",
       "\\item 1.5\n",
       "\\item 2\n",
       "\\item 2.5\n",
       "\\item 3\n",
       "\\item 3.5\n",
       "\\item 4\n",
       "\\item 4.5\n",
       "\\item 5\n",
       "\\item 5.5\n",
       "\\item 6\n",
       "\\item 6.5\n",
       "\\item 7\n",
       "\\item 7.5\n",
       "\\item 8\n",
       "\\item 8.5\n",
       "\\item 9\n",
       "\\item 9.5\n",
       "\\item 10\n",
       "\\end{enumerate*}\n"
      ],
      "text/markdown": [
       "1. 1\n",
       "2. 1.5\n",
       "3. 2\n",
       "4. 2.5\n",
       "5. 3\n",
       "6. 3.5\n",
       "7. 4\n",
       "8. 4.5\n",
       "9. 5\n",
       "10. 5.5\n",
       "11. 6\n",
       "12. 6.5\n",
       "13. 7\n",
       "14. 7.5\n",
       "15. 8\n",
       "16. 8.5\n",
       "17. 9\n",
       "18. 9.5\n",
       "19. 10\n",
       "\n",
       "\n"
      ],
      "text/plain": [
       " [1]  1.0  1.5  2.0  2.5  3.0  3.5  4.0  4.5  5.0  5.5  6.0  6.5  7.0  7.5  8.0\n",
       "[16]  8.5  9.0  9.5 10.0"
      ]
     },
     "metadata": {},
     "output_type": "display_data"
    }
   ],
   "source": [
    "x = seq(1,10, 0.5)\n",
    "x"
   ]
  },
  {
   "cell_type": "code",
   "execution_count": 43,
   "id": "cathedral-despite",
   "metadata": {},
   "outputs": [
    {
     "data": {
      "text/html": [
       "<ol class=list-inline>\n",
       "\t<li>1</li>\n",
       "\t<li>2</li>\n",
       "\t<li>3</li>\n",
       "\t<li>4</li>\n",
       "\t<li>5</li>\n",
       "\t<li>6</li>\n",
       "\t<li>7</li>\n",
       "\t<li>8</li>\n",
       "\t<li>9</li>\n",
       "\t<li>10</li>\n",
       "</ol>\n"
      ],
      "text/latex": [
       "\\begin{enumerate*}\n",
       "\\item 1\n",
       "\\item 2\n",
       "\\item 3\n",
       "\\item 4\n",
       "\\item 5\n",
       "\\item 6\n",
       "\\item 7\n",
       "\\item 8\n",
       "\\item 9\n",
       "\\item 10\n",
       "\\end{enumerate*}\n"
      ],
      "text/markdown": [
       "1. 1\n",
       "2. 2\n",
       "3. 3\n",
       "4. 4\n",
       "5. 5\n",
       "6. 6\n",
       "7. 7\n",
       "8. 8\n",
       "9. 9\n",
       "10. 10\n",
       "\n",
       "\n"
      ],
      "text/plain": [
       " [1]  1  2  3  4  5  6  7  8  9 10"
      ]
     },
     "metadata": {},
     "output_type": "display_data"
    }
   ],
   "source": [
    "x = 1:10\n",
    "x"
   ]
  },
  {
   "cell_type": "code",
   "execution_count": 4,
   "id": "bacterial-toilet",
   "metadata": {},
   "outputs": [],
   "source": [
    "?contour"
   ]
  },
  {
   "cell_type": "code",
   "execution_count": 47,
   "id": "convinced-weather",
   "metadata": {},
   "outputs": [
    {
     "data": {
      "image/png": "[encoded data removed]",
      "text/plain": [
       "plot without title"
      ]
     },
     "metadata": {},
     "output_type": "display_data"
    }
   ],
   "source": [
    "y=x\n",
    "f=outer(x,y, function(x,y)cos(y)/(1+x^2))\n",
    "contour(x,y,f)"
   ]
  },
  {
   "cell_type": "code",
   "execution_count": 48,
   "id": "dietary-seventh",
   "metadata": {},
   "outputs": [
    {
     "data": {
      "image/png": "[encoded data removed]",
      "text/plain": [
       "plot without title"
      ]
     },
     "metadata": {},
     "output_type": "display_data"
    }
   ],
   "source": [
    "image(x,y,f)"
   ]
  },
  {
   "cell_type": "code",
   "execution_count": 51,
   "id": "aerial-hebrew",
   "metadata": {},
   "outputs": [
    {
     "data": {
      "image/png": "[encoded data removed]",
      "text/plain": [
       "plot without title"
      ]
     },
     "metadata": {},
     "output_type": "display_data"
    }
   ],
   "source": [
    "persp(x,y,f,theta=30, phi=20)"
   ]
  },
  {
   "cell_type": "code",
   "execution_count": 52,
   "id": "governmental-ethiopia",
   "metadata": {},
   "outputs": [
    {
     "data": {
      "text/html": [
       "10"
      ],
      "text/latex": [
       "10"
      ],
      "text/markdown": [
       "10"
      ],
      "text/plain": [
       "[1] 10"
      ]
     },
     "metadata": {},
     "output_type": "display_data"
    }
   ],
   "source": [
    "# indexing data\n",
    "\n",
    "A = matrix(1:16,4,4)\n",
    "A[2,3] # 2nd row, 3rd col"
   ]
  },
  {
   "cell_type": "code",
   "execution_count": 53,
   "id": "color-minnesota",
   "metadata": {},
   "outputs": [
    {
     "data": {
      "text/html": [
       "<table>\n",
       "<tbody>\n",
       "\t<tr><td>1 </td><td>5 </td><td> 9</td><td>13</td></tr>\n",
       "\t<tr><td>2 </td><td>6 </td><td>10</td><td>14</td></tr>\n",
       "\t<tr><td>3 </td><td>7 </td><td>11</td><td>15</td></tr>\n",
       "\t<tr><td>4 </td><td>8 </td><td>12</td><td>16</td></tr>\n",
       "</tbody>\n",
       "</table>\n"
      ],
      "text/latex": [
       "\\begin{tabular}{llll}\n",
       "\t 1  & 5  &  9 & 13\\\\\n",
       "\t 2  & 6  & 10 & 14\\\\\n",
       "\t 3  & 7  & 11 & 15\\\\\n",
       "\t 4  & 8  & 12 & 16\\\\\n",
       "\\end{tabular}\n"
      ],
      "text/markdown": [
       "\n",
       "| 1  | 5  |  9 | 13 |\n",
       "| 2  | 6  | 10 | 14 |\n",
       "| 3  | 7  | 11 | 15 |\n",
       "| 4  | 8  | 12 | 16 |\n",
       "\n"
      ],
      "text/plain": [
       "     [,1] [,2] [,3] [,4]\n",
       "[1,] 1    5     9   13  \n",
       "[2,] 2    6    10   14  \n",
       "[3,] 3    7    11   15  \n",
       "[4,] 4    8    12   16  "
      ]
     },
     "metadata": {},
     "output_type": "display_data"
    }
   ],
   "source": [
    "A"
   ]
  },
  {
   "cell_type": "code",
   "execution_count": 54,
   "id": "static-pennsylvania",
   "metadata": {},
   "outputs": [
    {
     "data": {
      "text/html": [
       "<table>\n",
       "<tbody>\n",
       "\t<tr><td>5 </td><td>13</td></tr>\n",
       "\t<tr><td>7 </td><td>15</td></tr>\n",
       "</tbody>\n",
       "</table>\n"
      ],
      "text/latex": [
       "\\begin{tabular}{ll}\n",
       "\t 5  & 13\\\\\n",
       "\t 7  & 15\\\\\n",
       "\\end{tabular}\n"
      ],
      "text/markdown": [
       "\n",
       "| 5  | 13 |\n",
       "| 7  | 15 |\n",
       "\n"
      ],
      "text/plain": [
       "     [,1] [,2]\n",
       "[1,] 5    13  \n",
       "[2,] 7    15  "
      ]
     },
     "metadata": {},
     "output_type": "display_data"
    }
   ],
   "source": [
    "# vectors as indices\n",
    "A[c(1,3), c(2,4)] # row 1 & 3, col 2 & 4"
   ]
  },
  {
   "cell_type": "code",
   "execution_count": 55,
   "id": "incoming-fountain",
   "metadata": {},
   "outputs": [
    {
     "data": {
      "text/html": [
       "<ol class=list-inline>\n",
       "\t<li>2</li>\n",
       "\t<li>4</li>\n",
       "\t<li>5</li>\n",
       "\t<li>6</li>\n",
       "\t<li>7</li>\n",
       "\t<li>8</li>\n",
       "\t<li>9</li>\n",
       "\t<li>10</li>\n",
       "\t<li>11</li>\n",
       "\t<li>12</li>\n",
       "\t<li>13</li>\n",
       "\t<li>14</li>\n",
       "\t<li>15</li>\n",
       "\t<li>16</li>\n",
       "</ol>\n"
      ],
      "text/latex": [
       "\\begin{enumerate*}\n",
       "\\item 2\n",
       "\\item 4\n",
       "\\item 5\n",
       "\\item 6\n",
       "\\item 7\n",
       "\\item 8\n",
       "\\item 9\n",
       "\\item 10\n",
       "\\item 11\n",
       "\\item 12\n",
       "\\item 13\n",
       "\\item 14\n",
       "\\item 15\n",
       "\\item 16\n",
       "\\end{enumerate*}\n"
      ],
      "text/markdown": [
       "1. 2\n",
       "2. 4\n",
       "3. 5\n",
       "4. 6\n",
       "5. 7\n",
       "6. 8\n",
       "7. 9\n",
       "8. 10\n",
       "9. 11\n",
       "10. 12\n",
       "11. 13\n",
       "12. 14\n",
       "13. 15\n",
       "14. 16\n",
       "\n",
       "\n"
      ],
      "text/plain": [
       " [1]  2  4  5  6  7  8  9 10 11 12 13 14 15 16"
      ]
     },
     "metadata": {},
     "output_type": "display_data"
    }
   ],
   "source": [
    "# exclude\n",
    "A[-c(1,3)]"
   ]
  },
  {
   "cell_type": "code",
   "execution_count": 78,
   "id": "breathing-capital",
   "metadata": {},
   "outputs": [],
   "source": [
    "# loading data\n",
    "Auto = read.table(\"data/Auto.data\") # load data\n",
    "fix(Auto) # view as spreadsheet"
   ]
  },
  {
   "cell_type": "code",
   "execution_count": 83,
   "id": "brave-purple",
   "metadata": {},
   "outputs": [
    {
     "data": {
      "text/html": [
       "<ol class=list-inline>\n",
       "\t<li>0</li>\n",
       "\t<li>1</li>\n",
       "</ol>\n"
      ],
      "text/latex": [
       "\\begin{enumerate*}\n",
       "\\item 0\n",
       "\\item 1\n",
       "\\end{enumerate*}\n"
      ],
      "text/markdown": [
       "1. 0\n",
       "2. 1\n",
       "\n",
       "\n"
      ],
      "text/plain": [
       "[1] 0 1"
      ]
     },
     "metadata": {},
     "output_type": "display_data"
    }
   ],
   "source": [
    "Auto = read.table(\"data/Auto.csv\", header=T, na.strings=\"?\")\n",
    "dim(Auto)"
   ]
  },
  {
   "cell_type": "code",
   "execution_count": 84,
   "id": "exclusive-arnold",
   "metadata": {},
   "outputs": [
    {
     "data": {
      "text/html": [
       "<table>\n",
       "<thead><tr><th scope=col>hello</th></tr></thead>\n",
       "<tbody>\n",
       "</tbody>\n",
       "</table>\n"
      ],
      "text/latex": [
       "\\begin{tabular}{r|l}\n",
       " hello\\\\\n",
       "\\hline\n",
       "\\end{tabular}\n"
      ],
      "text/markdown": [
       "\n",
       "| hello |\n",
       "|---|\n",
       "\n"
      ],
      "text/plain": [
       "     hello"
      ]
     },
     "metadata": {},
     "output_type": "display_data"
    }
   ],
   "source": [
    "Auto"
   ]
  },
  {
   "cell_type": "code",
   "execution_count": 3,
   "id": "alien-flash",
   "metadata": {},
   "outputs": [
    {
     "ename": "ERROR",
     "evalue": "Error in na.omit(Auto): object 'Auto' not found\n",
     "output_type": "error",
     "traceback": [
      "Error in na.omit(Auto): object 'Auto' not found\nTraceback:\n",
      "1. na.omit(Auto)"
     ]
    }
   ],
   "source": [
    "# ignore null values\n",
    "Auto = na.omit(Auto)"
   ]
  },
  {
   "cell_type": "code",
   "execution_count": 2,
   "id": "personalized-agenda",
   "metadata": {},
   "outputs": [
    {
     "ename": "ERROR",
     "evalue": "Error in eval(expr, envir, enclos): object 'Auto' not found\n",
     "output_type": "error",
     "traceback": [
      "Error in eval(expr, envir, enclos): object 'Auto' not found\nTraceback:\n"
     ]
    }
   ],
   "source": [
    "Auto"
   ]
  },
  {
   "cell_type": "code",
   "execution_count": 87,
   "id": "cognitive-korea",
   "metadata": {},
   "outputs": [
    {
     "data": {
      "text/html": [
       "'hello'"
      ],
      "text/latex": [
       "'hello'"
      ],
      "text/markdown": [
       "'hello'"
      ],
      "text/plain": [
       "[1] \"hello\""
      ]
     },
     "metadata": {},
     "output_type": "display_data"
    }
   ],
   "source": [
    "# column names\n",
    "names(Auto)"
   ]
  },
  {
   "cell_type": "code",
   "execution_count": 88,
   "id": "hydraulic-bouquet",
   "metadata": {},
   "outputs": [],
   "source": [
    "?identify # identify points in a scatter plot"
   ]
  },
  {
   "cell_type": "code",
   "execution_count": 89,
   "id": "republican-workshop",
   "metadata": {},
   "outputs": [],
   "source": [
    "?summary # univariate summary"
   ]
  },
  {
   "cell_type": "code",
   "execution_count": 1,
   "id": "dangerous-retro",
   "metadata": {},
   "outputs": [
    {
     "ename": "ERROR",
     "evalue": "Error in eval(expr, envir, enclos): object 'Auto.summary' not found\n",
     "output_type": "error",
     "traceback": [
      "Error in eval(expr, envir, enclos): object 'Auto.summary' not found\nTraceback:\n"
     ]
    }
   ],
   "source": [
    "Auto.summary"
   ]
  },
  {
   "cell_type": "code",
   "execution_count": null,
   "id": "immune-rates",
   "metadata": {},
   "outputs": [],
   "source": []
  }
 ],
 "metadata": {
  "kernelspec": {
   "display_name": "R",
   "language": "R",
   "name": "ir"
  },
  "language_info": {
   "codemirror_mode": "r",
   "file_extension": ".r",
   "mimetype": "text/x-r-source",
   "name": "R",
   "pygments_lexer": "r",
   "version": "3.6.1"
  }
 },
 "nbformat": 4,
 "nbformat_minor": 5
}
