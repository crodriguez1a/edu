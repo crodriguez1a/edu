{
 "cells": [
  {
   "cell_type": "code",
   "execution_count": null,
   "id": "cee6917c",
   "metadata": {},
   "outputs": [],
   "source": [
    "library(Information)\n",
    "library(gridExtra)\n",
    "\n",
    "options(scipen=10)\n",
    "\n",
    "### Ranking variables using penalized IV  \n",
    "IV <- create_infotables(data=train[,!(names(train) %in% c('stud_resids'))],\n",
    "                   valid=test,\n",
    "                   y=\"estperf\")\n",
    "\n",
    "grid.table(head(IV$Summary), rows=NULL)"
   ]
  }
 ],
 "metadata": {
  "kernelspec": {
   "display_name": "Python 3 (ipykernel)",
   "language": "python",
   "name": "python3"
  },
  "language_info": {
   "codemirror_mode": {
    "name": "ipython",
    "version": 3
   },
   "file_extension": ".py",
   "mimetype": "text/x-python",
   "name": "python",
   "nbconvert_exporter": "python",
   "pygments_lexer": "ipython3",
   "version": "3.10.8"
  }
 },
 "nbformat": 4,
 "nbformat_minor": 5
}
