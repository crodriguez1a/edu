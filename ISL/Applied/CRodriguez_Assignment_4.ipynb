{
 "cells": [
  {
   "cell_type": "markdown",
   "id": "honey-kingston",
   "metadata": {},
   "source": [
    "# 1 Create:\n",
    "a)  An atomic vector of your own choice"
   ]
  },
  {
   "cell_type": "code",
   "execution_count": 16,
   "id": "polar-chile",
   "metadata": {},
   "outputs": [
    {
     "data": {
      "text/html": [
       "'integer'"
      ],
      "text/latex": [
       "'integer'"
      ],
      "text/markdown": [
       "'integer'"
      ],
      "text/plain": [
       "[1] \"integer\""
      ]
     },
     "metadata": {},
     "output_type": "display_data"
    },
    {
     "data": {
      "text/html": [
       "<ol class=list-inline>\n",
       "\t<li>1</li>\n",
       "\t<li>2</li>\n",
       "\t<li>3</li>\n",
       "\t<li>4</li>\n",
       "\t<li>5</li>\n",
       "\t<li>6</li>\n",
       "\t<li>7</li>\n",
       "\t<li>8</li>\n",
       "\t<li>9</li>\n",
       "\t<li>10</li>\n",
       "</ol>\n"
      ],
      "text/latex": [
       "\\begin{enumerate*}\n",
       "\\item 1\n",
       "\\item 2\n",
       "\\item 3\n",
       "\\item 4\n",
       "\\item 5\n",
       "\\item 6\n",
       "\\item 7\n",
       "\\item 8\n",
       "\\item 9\n",
       "\\item 10\n",
       "\\end{enumerate*}\n"
      ],
      "text/markdown": [
       "1. 1\n",
       "2. 2\n",
       "3. 3\n",
       "4. 4\n",
       "5. 5\n",
       "6. 6\n",
       "7. 7\n",
       "8. 8\n",
       "9. 9\n",
       "10. 10\n",
       "\n",
       "\n"
      ],
      "text/plain": [
       " [1]  1  2  3  4  5  6  7  8  9 10"
      ]
     },
     "metadata": {},
     "output_type": "display_data"
    },
    {
     "data": {
      "text/html": [
       "10"
      ],
      "text/latex": [
       "10"
      ],
      "text/markdown": [
       "10"
      ],
      "text/plain": [
       "[1] 10"
      ]
     },
     "metadata": {},
     "output_type": "display_data"
    }
   ],
   "source": [
    "vec <- 1:10\n",
    "typeof(vec); vec; length(vec)"
   ]
  },
  {
   "cell_type": "markdown",
   "id": "needed-highlight",
   "metadata": {},
   "source": [
    "b) A list of your own choice"
   ]
  },
  {
   "cell_type": "code",
   "execution_count": 15,
   "id": "occasional-petite",
   "metadata": {},
   "outputs": [
    {
     "data": {
      "text/html": [
       "'list'"
      ],
      "text/latex": [
       "'list'"
      ],
      "text/markdown": [
       "'list'"
      ],
      "text/plain": [
       "[1] \"list\""
      ]
     },
     "metadata": {},
     "output_type": "display_data"
    },
    {
     "data": {
      "text/html": [
       "<ol>\n",
       "\t<li><ol class=list-inline>\n",
       "\t<li>1</li>\n",
       "\t<li>2</li>\n",
       "\t<li>3</li>\n",
       "\t<li>4</li>\n",
       "\t<li>5</li>\n",
       "\t<li>6</li>\n",
       "\t<li>7</li>\n",
       "\t<li>8</li>\n",
       "\t<li>9</li>\n",
       "\t<li>10</li>\n",
       "</ol>\n",
       "</li>\n",
       "</ol>\n"
      ],
      "text/latex": [
       "\\begin{enumerate}\n",
       "\\item \\begin{enumerate*}\n",
       "\\item 1\n",
       "\\item 2\n",
       "\\item 3\n",
       "\\item 4\n",
       "\\item 5\n",
       "\\item 6\n",
       "\\item 7\n",
       "\\item 8\n",
       "\\item 9\n",
       "\\item 10\n",
       "\\end{enumerate*}\n",
       "\n",
       "\\end{enumerate}\n"
      ],
      "text/markdown": [
       "1. 1. 1\n",
       "2. 2\n",
       "3. 3\n",
       "4. 4\n",
       "5. 5\n",
       "6. 6\n",
       "7. 7\n",
       "8. 8\n",
       "9. 9\n",
       "10. 10\n",
       "\n",
       "\n",
       "\n",
       "\n",
       "\n"
      ],
      "text/plain": [
       "[[1]]\n",
       " [1]  1  2  3  4  5  6  7  8  9 10\n"
      ]
     },
     "metadata": {},
     "output_type": "display_data"
    },
    {
     "data": {
      "text/html": [
       "1"
      ],
      "text/latex": [
       "1"
      ],
      "text/markdown": [
       "1"
      ],
      "text/plain": [
       "[1] 1"
      ]
     },
     "metadata": {},
     "output_type": "display_data"
    }
   ],
   "source": [
    "lst <- list(1:10)\n",
    "typeof(lst); lst; length(lst)"
   ]
  },
  {
   "cell_type": "markdown",
   "id": "bacterial-effects",
   "metadata": {},
   "source": [
    "c)  An augmented vector of your own choice (You’ll use the attr()) function for this, or create an object that\n",
    "has attributes associated with it by default"
   ]
  },
  {
   "cell_type": "code",
   "execution_count": 30,
   "id": "actual-ground",
   "metadata": {},
   "outputs": [
    {
     "data": {
      "text/html": [
       "<strong>$dim</strong> = <ol class=list-inline>\n",
       "\t<li>2</li>\n",
       "\t<li>5</li>\n",
       "</ol>\n"
      ],
      "text/latex": [
       "\\textbf{\\$dim} = \\begin{enumerate*}\n",
       "\\item 2\n",
       "\\item 5\n",
       "\\end{enumerate*}\n"
      ],
      "text/markdown": [
       "**$dim** = 1. 2\n",
       "2. 5\n",
       "\n",
       "\n"
      ],
      "text/plain": [
       "$dim\n",
       "[1] 2 5\n"
      ]
     },
     "metadata": {},
     "output_type": "display_data"
    }
   ],
   "source": [
    "x <- 1:10\n",
    "\n",
    "attr(x,\"dim\") <- c(2, 5)\n",
    "\n",
    "attributes(x)"
   ]
  },
  {
   "cell_type": "markdown",
   "id": "realistic-distance",
   "metadata": {},
   "source": [
    "2)  Create a function called summ2() to be used as argument FUN to function apply() in order to obtain\n",
    "the minimum, maximum, mean, median, and standard deviation for each of the columns of a matrix.\n",
    "Demonstrate using this function on a 100 by 5 matrix of standard normal variables (you’ll need function\n",
    "rnorm() for this). Your answer should be a 5 by 5 matrix."
   ]
  },
  {
   "cell_type": "code",
   "execution_count": 81,
   "id": "joined-benefit",
   "metadata": {},
   "outputs": [],
   "source": [
    "?apply"
   ]
  },
  {
   "cell_type": "code",
   "execution_count": 93,
   "id": "fantastic-thing",
   "metadata": {},
   "outputs": [
    {
     "data": {
      "text/html": [
       "<table>\n",
       "<tbody>\n",
       "\t<tr><td>-2.1497247 </td><td>-1.74338286</td><td>-2.1429158 </td><td>-2.12656363</td><td>-1.7986844 </td></tr>\n",
       "\t<tr><td> 1.3268316 </td><td> 1.50376236</td><td> 2.0833872 </td><td> 1.43098804</td><td> 2.6013578 </td></tr>\n",
       "\t<tr><td>-0.1968025 </td><td>-0.02171044</td><td>-0.2671524 </td><td> 0.02313318</td><td> 0.2006818 </td></tr>\n",
       "\t<tr><td>-0.1111502 </td><td> 0.24465154</td><td>-0.3131799 </td><td> 0.05311899</td><td> 0.3998728 </td></tr>\n",
       "\t<tr><td> 0.9087795 </td><td> 1.00278698</td><td> 0.9993436 </td><td> 0.86979305</td><td> 1.1895003 </td></tr>\n",
       "\t<tr><td>-2.1497247 </td><td>-1.74338286</td><td>-2.1429158 </td><td>-2.12656363</td><td>-1.7986844 </td></tr>\n",
       "\t<tr><td> 1.3268316 </td><td> 1.50376236</td><td> 2.0833872 </td><td> 1.43098804</td><td> 2.6013578 </td></tr>\n",
       "\t<tr><td>-0.1968025 </td><td>-0.02171044</td><td>-0.2671524 </td><td> 0.02313318</td><td> 0.2006818 </td></tr>\n",
       "\t<tr><td>-0.1111502 </td><td> 0.24465154</td><td>-0.3131799 </td><td> 0.05311899</td><td> 0.3998728 </td></tr>\n",
       "\t<tr><td> 0.9087795 </td><td> 1.00278698</td><td> 0.9993436 </td><td> 0.86979305</td><td> 1.1895003 </td></tr>\n",
       "\t<tr><td>-2.1497247 </td><td>-1.74338286</td><td>-2.1429158 </td><td>-2.12656363</td><td>-1.7986844 </td></tr>\n",
       "\t<tr><td> 1.3268316 </td><td> 1.50376236</td><td> 2.0833872 </td><td> 1.43098804</td><td> 2.6013578 </td></tr>\n",
       "\t<tr><td>-0.1968025 </td><td>-0.02171044</td><td>-0.2671524 </td><td> 0.02313318</td><td> 0.2006818 </td></tr>\n",
       "\t<tr><td>-0.1111502 </td><td> 0.24465154</td><td>-0.3131799 </td><td> 0.05311899</td><td> 0.3998728 </td></tr>\n",
       "\t<tr><td> 0.9087795 </td><td> 1.00278698</td><td> 0.9993436 </td><td> 0.86979305</td><td> 1.1895003 </td></tr>\n",
       "\t<tr><td>-2.1497247 </td><td>-1.74338286</td><td>-2.1429158 </td><td>-2.12656363</td><td>-1.7986844 </td></tr>\n",
       "\t<tr><td> 1.3268316 </td><td> 1.50376236</td><td> 2.0833872 </td><td> 1.43098804</td><td> 2.6013578 </td></tr>\n",
       "\t<tr><td>-0.1968025 </td><td>-0.02171044</td><td>-0.2671524 </td><td> 0.02313318</td><td> 0.2006818 </td></tr>\n",
       "\t<tr><td>-0.1111502 </td><td> 0.24465154</td><td>-0.3131799 </td><td> 0.05311899</td><td> 0.3998728 </td></tr>\n",
       "\t<tr><td> 0.9087795 </td><td> 1.00278698</td><td> 0.9993436 </td><td> 0.86979305</td><td> 1.1895003 </td></tr>\n",
       "\t<tr><td>-2.1497247 </td><td>-1.74338286</td><td>-2.1429158 </td><td>-2.12656363</td><td>-1.7986844 </td></tr>\n",
       "\t<tr><td> 1.3268316 </td><td> 1.50376236</td><td> 2.0833872 </td><td> 1.43098804</td><td> 2.6013578 </td></tr>\n",
       "\t<tr><td>-0.1968025 </td><td>-0.02171044</td><td>-0.2671524 </td><td> 0.02313318</td><td> 0.2006818 </td></tr>\n",
       "\t<tr><td>-0.1111502 </td><td> 0.24465154</td><td>-0.3131799 </td><td> 0.05311899</td><td> 0.3998728 </td></tr>\n",
       "\t<tr><td> 0.9087795 </td><td> 1.00278698</td><td> 0.9993436 </td><td> 0.86979305</td><td> 1.1895003 </td></tr>\n",
       "</tbody>\n",
       "</table>\n"
      ],
      "text/latex": [
       "\\begin{tabular}{lllll}\n",
       "\t -2.1497247  & -1.74338286 & -2.1429158  & -2.12656363 & -1.7986844 \\\\\n",
       "\t  1.3268316  &  1.50376236 &  2.0833872  &  1.43098804 &  2.6013578 \\\\\n",
       "\t -0.1968025  & -0.02171044 & -0.2671524  &  0.02313318 &  0.2006818 \\\\\n",
       "\t -0.1111502  &  0.24465154 & -0.3131799  &  0.05311899 &  0.3998728 \\\\\n",
       "\t  0.9087795  &  1.00278698 &  0.9993436  &  0.86979305 &  1.1895003 \\\\\n",
       "\t -2.1497247  & -1.74338286 & -2.1429158  & -2.12656363 & -1.7986844 \\\\\n",
       "\t  1.3268316  &  1.50376236 &  2.0833872  &  1.43098804 &  2.6013578 \\\\\n",
       "\t -0.1968025  & -0.02171044 & -0.2671524  &  0.02313318 &  0.2006818 \\\\\n",
       "\t -0.1111502  &  0.24465154 & -0.3131799  &  0.05311899 &  0.3998728 \\\\\n",
       "\t  0.9087795  &  1.00278698 &  0.9993436  &  0.86979305 &  1.1895003 \\\\\n",
       "\t -2.1497247  & -1.74338286 & -2.1429158  & -2.12656363 & -1.7986844 \\\\\n",
       "\t  1.3268316  &  1.50376236 &  2.0833872  &  1.43098804 &  2.6013578 \\\\\n",
       "\t -0.1968025  & -0.02171044 & -0.2671524  &  0.02313318 &  0.2006818 \\\\\n",
       "\t -0.1111502  &  0.24465154 & -0.3131799  &  0.05311899 &  0.3998728 \\\\\n",
       "\t  0.9087795  &  1.00278698 &  0.9993436  &  0.86979305 &  1.1895003 \\\\\n",
       "\t -2.1497247  & -1.74338286 & -2.1429158  & -2.12656363 & -1.7986844 \\\\\n",
       "\t  1.3268316  &  1.50376236 &  2.0833872  &  1.43098804 &  2.6013578 \\\\\n",
       "\t -0.1968025  & -0.02171044 & -0.2671524  &  0.02313318 &  0.2006818 \\\\\n",
       "\t -0.1111502  &  0.24465154 & -0.3131799  &  0.05311899 &  0.3998728 \\\\\n",
       "\t  0.9087795  &  1.00278698 &  0.9993436  &  0.86979305 &  1.1895003 \\\\\n",
       "\t -2.1497247  & -1.74338286 & -2.1429158  & -2.12656363 & -1.7986844 \\\\\n",
       "\t  1.3268316  &  1.50376236 &  2.0833872  &  1.43098804 &  2.6013578 \\\\\n",
       "\t -0.1968025  & -0.02171044 & -0.2671524  &  0.02313318 &  0.2006818 \\\\\n",
       "\t -0.1111502  &  0.24465154 & -0.3131799  &  0.05311899 &  0.3998728 \\\\\n",
       "\t  0.9087795  &  1.00278698 &  0.9993436  &  0.86979305 &  1.1895003 \\\\\n",
       "\\end{tabular}\n"
      ],
      "text/markdown": [
       "\n",
       "| -2.1497247  | -1.74338286 | -2.1429158  | -2.12656363 | -1.7986844  |\n",
       "|  1.3268316  |  1.50376236 |  2.0833872  |  1.43098804 |  2.6013578  |\n",
       "| -0.1968025  | -0.02171044 | -0.2671524  |  0.02313318 |  0.2006818  |\n",
       "| -0.1111502  |  0.24465154 | -0.3131799  |  0.05311899 |  0.3998728  |\n",
       "|  0.9087795  |  1.00278698 |  0.9993436  |  0.86979305 |  1.1895003  |\n",
       "| -2.1497247  | -1.74338286 | -2.1429158  | -2.12656363 | -1.7986844  |\n",
       "|  1.3268316  |  1.50376236 |  2.0833872  |  1.43098804 |  2.6013578  |\n",
       "| -0.1968025  | -0.02171044 | -0.2671524  |  0.02313318 |  0.2006818  |\n",
       "| -0.1111502  |  0.24465154 | -0.3131799  |  0.05311899 |  0.3998728  |\n",
       "|  0.9087795  |  1.00278698 |  0.9993436  |  0.86979305 |  1.1895003  |\n",
       "| -2.1497247  | -1.74338286 | -2.1429158  | -2.12656363 | -1.7986844  |\n",
       "|  1.3268316  |  1.50376236 |  2.0833872  |  1.43098804 |  2.6013578  |\n",
       "| -0.1968025  | -0.02171044 | -0.2671524  |  0.02313318 |  0.2006818  |\n",
       "| -0.1111502  |  0.24465154 | -0.3131799  |  0.05311899 |  0.3998728  |\n",
       "|  0.9087795  |  1.00278698 |  0.9993436  |  0.86979305 |  1.1895003  |\n",
       "| -2.1497247  | -1.74338286 | -2.1429158  | -2.12656363 | -1.7986844  |\n",
       "|  1.3268316  |  1.50376236 |  2.0833872  |  1.43098804 |  2.6013578  |\n",
       "| -0.1968025  | -0.02171044 | -0.2671524  |  0.02313318 |  0.2006818  |\n",
       "| -0.1111502  |  0.24465154 | -0.3131799  |  0.05311899 |  0.3998728  |\n",
       "|  0.9087795  |  1.00278698 |  0.9993436  |  0.86979305 |  1.1895003  |\n",
       "| -2.1497247  | -1.74338286 | -2.1429158  | -2.12656363 | -1.7986844  |\n",
       "|  1.3268316  |  1.50376236 |  2.0833872  |  1.43098804 |  2.6013578  |\n",
       "| -0.1968025  | -0.02171044 | -0.2671524  |  0.02313318 |  0.2006818  |\n",
       "| -0.1111502  |  0.24465154 | -0.3131799  |  0.05311899 |  0.3998728  |\n",
       "|  0.9087795  |  1.00278698 |  0.9993436  |  0.86979305 |  1.1895003  |\n",
       "\n"
      ],
      "text/plain": [
       "      [,1]       [,2]        [,3]       [,4]        [,5]      \n",
       " [1,] -2.1497247 -1.74338286 -2.1429158 -2.12656363 -1.7986844\n",
       " [2,]  1.3268316  1.50376236  2.0833872  1.43098804  2.6013578\n",
       " [3,] -0.1968025 -0.02171044 -0.2671524  0.02313318  0.2006818\n",
       " [4,] -0.1111502  0.24465154 -0.3131799  0.05311899  0.3998728\n",
       " [5,]  0.9087795  1.00278698  0.9993436  0.86979305  1.1895003\n",
       " [6,] -2.1497247 -1.74338286 -2.1429158 -2.12656363 -1.7986844\n",
       " [7,]  1.3268316  1.50376236  2.0833872  1.43098804  2.6013578\n",
       " [8,] -0.1968025 -0.02171044 -0.2671524  0.02313318  0.2006818\n",
       " [9,] -0.1111502  0.24465154 -0.3131799  0.05311899  0.3998728\n",
       "[10,]  0.9087795  1.00278698  0.9993436  0.86979305  1.1895003\n",
       "[11,] -2.1497247 -1.74338286 -2.1429158 -2.12656363 -1.7986844\n",
       "[12,]  1.3268316  1.50376236  2.0833872  1.43098804  2.6013578\n",
       "[13,] -0.1968025 -0.02171044 -0.2671524  0.02313318  0.2006818\n",
       "[14,] -0.1111502  0.24465154 -0.3131799  0.05311899  0.3998728\n",
       "[15,]  0.9087795  1.00278698  0.9993436  0.86979305  1.1895003\n",
       "[16,] -2.1497247 -1.74338286 -2.1429158 -2.12656363 -1.7986844\n",
       "[17,]  1.3268316  1.50376236  2.0833872  1.43098804  2.6013578\n",
       "[18,] -0.1968025 -0.02171044 -0.2671524  0.02313318  0.2006818\n",
       "[19,] -0.1111502  0.24465154 -0.3131799  0.05311899  0.3998728\n",
       "[20,]  0.9087795  1.00278698  0.9993436  0.86979305  1.1895003\n",
       "[21,] -2.1497247 -1.74338286 -2.1429158 -2.12656363 -1.7986844\n",
       "[22,]  1.3268316  1.50376236  2.0833872  1.43098804  2.6013578\n",
       "[23,] -0.1968025 -0.02171044 -0.2671524  0.02313318  0.2006818\n",
       "[24,] -0.1111502  0.24465154 -0.3131799  0.05311899  0.3998728\n",
       "[25,]  0.9087795  1.00278698  0.9993436  0.86979305  1.1895003"
      ]
     },
     "metadata": {},
     "output_type": "display_data"
    }
   ],
   "source": [
    "mat <- matrix(rnorm(100), nrow = 5)\n",
    "\n",
    "summ2 <- function(x) {\n",
    "    matrix(c(\n",
    "        min(x), max(x), mean(x), median(x), sd(x)\n",
    "    ), nrow=5, ncol=5)\n",
    "}\n",
    "\n",
    "apply(mat, 1, summ2)\n",
    "# mat"
   ]
  },
  {
   "cell_type": "markdown",
   "id": "precise-energy",
   "metadata": {},
   "source": [
    "3)  Consider the list created below. Write a short script using lapply() to test which elements in the list are\n",
    "functions. Then return only those list elements which are functions and assign this result to variable\n",
    "listSub. Make sure that the function you create will work with arbitrary lists. It is not acceptable to just\n",
    "figure out yourself which elements contain functions and subset bigList below. Make it automated and\n",
    "flexible."
   ]
  },
  {
   "cell_type": "code",
   "execution_count": 97,
   "id": "early-insertion",
   "metadata": {},
   "outputs": [],
   "source": [
    "##Q3\n",
    "bigList <- list(x = 1:8, y = data.frame(norm = rnorm(5, 0, 1)), z = function(x) {x}, \n",
    "                t1 = function(x, y) {x + y ^ exp(x)}, char = \"This is a character\",\n",
    "                t2 = function(lambda) {lambda ^ (1 / pi)})"
   ]
  },
  {
   "cell_type": "code",
   "execution_count": 172,
   "id": "documentary-community",
   "metadata": {},
   "outputs": [
    {
     "data": {
      "text/html": [
       "<dl>\n",
       "\t<dt>$z</dt>\n",
       "\t\t<dd><pre class=language-r><code>function (x) \n",
       "{\n",
       "<span style=white-space:pre-wrap>    x</span>\n",
       "}</code></pre></dd>\n",
       "\t<dt>$t1</dt>\n",
       "\t\t<dd><pre class=language-r><code>function (x, y) \n",
       "{\n",
       "<span style=white-space:pre-wrap>    x + y^exp(x)</span>\n",
       "}</code></pre></dd>\n",
       "\t<dt>$t2</dt>\n",
       "\t\t<dd><pre class=language-r><code>function (lambda) \n",
       "{\n",
       "<span style=white-space:pre-wrap>    lambda^(1/pi)</span>\n",
       "}</code></pre></dd>\n",
       "</dl>\n"
      ],
      "text/latex": [
       "\\begin{description}\n",
       "\\item[\\$z] \\begin{minted}{r}\n",
       "function (x) \n",
       "\\{\n",
       "    x\n",
       "\\}\n",
       "\\end{minted}\n",
       "\\item[\\$t1] \\begin{minted}{r}\n",
       "function (x, y) \n",
       "\\{\n",
       "    x + y\\textasciicircum{}exp(x)\n",
       "\\}\n",
       "\\end{minted}\n",
       "\\item[\\$t2] \\begin{minted}{r}\n",
       "function (lambda) \n",
       "\\{\n",
       "    lambda\\textasciicircum{}(1/pi)\n",
       "\\}\n",
       "\\end{minted}\n",
       "\\end{description}\n"
      ],
      "text/markdown": [
       "$z\n",
       ":   ```r\n",
       "function (x) \n",
       "{\n",
       "    x\n",
       "}\n",
       "```\n",
       "$t1\n",
       ":   ```r\n",
       "function (x, y) \n",
       "{\n",
       "    x + y^exp(x)\n",
       "}\n",
       "```\n",
       "$t2\n",
       ":   ```r\n",
       "function (lambda) \n",
       "{\n",
       "    lambda^(1/pi)\n",
       "}\n",
       "```\n",
       "\n",
       "\n"
      ],
      "text/plain": [
       "$z\n",
       "function(x) {x}\n",
       "\n",
       "$t1\n",
       "function(x, y) {x + y ^ exp(x)}\n",
       "\n",
       "$t2\n",
       "function(lambda) {lambda ^ (1 / pi)}\n"
      ]
     },
     "metadata": {},
     "output_type": "display_data"
    }
   ],
   "source": [
    "listSub <- lapply(bigList, function(x) {if(typeof(x) == 'closure') x})\n",
    "listSub <- listSub[lengths(listSub) != 0]\n",
    "listSub"
   ]
  },
  {
   "cell_type": "markdown",
   "id": "virtual-speech",
   "metadata": {},
   "source": [
    "4) Using lapply() on more complicated objects and returing results: You’ll want to use the Lab4.R file\n",
    "on Canvas in order to recreate the list of dataframes below. To do: use lapply() to iterate over the list of\n",
    "dataframes and return the row of the data.frame containing the maximum value of x, but only if the\n",
    "maximum value is greater than or equal to 5. If it is less than 5, return NULL."
   ]
  },
  {
   "cell_type": "code",
   "execution_count": 171,
   "id": "dried-spiritual",
   "metadata": {},
   "outputs": [
    {
     "data": {
      "text/html": [
       "<ol>\n",
       "\t<li>4</li>\n",
       "\t<li>4</li>\n",
       "\t<li>2</li>\n",
       "\t<li>NULL</li>\n",
       "\t<li>1</li>\n",
       "\t<li>1</li>\n",
       "</ol>\n"
      ],
      "text/latex": [
       "\\begin{enumerate}\n",
       "\\item 4\n",
       "\\item 4\n",
       "\\item 2\n",
       "\\item NULL\n",
       "\\item 1\n",
       "\\item 1\n",
       "\\end{enumerate}\n"
      ],
      "text/markdown": [
       "1. 4\n",
       "2. 4\n",
       "3. 2\n",
       "4. NULL\n",
       "5. 1\n",
       "6. 1\n",
       "\n",
       "\n"
      ],
      "text/plain": [
       "[[1]]\n",
       "[1] 4\n",
       "\n",
       "[[2]]\n",
       "[1] 4\n",
       "\n",
       "[[3]]\n",
       "[1] 2\n",
       "\n",
       "[[4]]\n",
       "NULL\n",
       "\n",
       "[[5]]\n",
       "[1] 1\n",
       "\n",
       "[[6]]\n",
       "[1] 1\n"
      ]
     },
     "metadata": {},
     "output_type": "display_data"
    }
   ],
   "source": [
    "##Q4\n",
    "set.seed(123)\n",
    "datList <- lapply(1:6, function(t) {\n",
    "  n <- floor(runif(1, 5, 10))\n",
    "  data.frame(ID = 1:n, x = rnorm(n, 0, 5))})\n",
    "\n",
    "res <- lapply(datList, function(mat) { if(mat[mat$x == max(mat$x),]$ID < 5) mat[mat$x == max(mat$x),]$ID})\n",
    "res"
   ]
  },
  {
   "cell_type": "markdown",
   "id": "wooden-player",
   "metadata": {},
   "source": [
    "Finally, take the result and bind together the results by row using do.call() with the appropriate function\n",
    "arguments. What happens to the NULL list elements?\n",
    "\n",
    "**The NULL element is removed.**"
   ]
  },
  {
   "cell_type": "code",
   "execution_count": 176,
   "id": "decent-airplane",
   "metadata": {},
   "outputs": [
    {
     "data": {
      "text/html": [
       "<table>\n",
       "<tbody>\n",
       "\t<tr><td>4</td></tr>\n",
       "\t<tr><td>4</td></tr>\n",
       "\t<tr><td>2</td></tr>\n",
       "\t<tr><td>1</td></tr>\n",
       "\t<tr><td>1</td></tr>\n",
       "</tbody>\n",
       "</table>\n"
      ],
      "text/latex": [
       "\\begin{tabular}{l}\n",
       "\t 4\\\\\n",
       "\t 4\\\\\n",
       "\t 2\\\\\n",
       "\t 1\\\\\n",
       "\t 1\\\\\n",
       "\\end{tabular}\n"
      ],
      "text/markdown": [
       "\n",
       "| 4 |\n",
       "| 4 |\n",
       "| 2 |\n",
       "| 1 |\n",
       "| 1 |\n",
       "\n"
      ],
      "text/plain": [
       "     [,1]\n",
       "[1,] 4   \n",
       "[2,] 4   \n",
       "[3,] 2   \n",
       "[4,] 1   \n",
       "[5,] 1   "
      ]
     },
     "metadata": {},
     "output_type": "display_data"
    }
   ],
   "source": [
    "do.call(\"rbind\", res)"
   ]
  },
  {
   "cell_type": "code",
   "execution_count": 185,
   "id": "prepared-oracle",
   "metadata": {},
   "outputs": [],
   "source": [
    "?factor"
   ]
  },
  {
   "cell_type": "markdown",
   "id": "flying-organizer",
   "metadata": {},
   "source": [
    "5) Create a simple factor variable in R and name it factor1. Give it three levels of your choice. Then, run\n",
    "typeof() on this factor. Explain (in your own words) the output you receive. You can read about factors in\n",
    "R by typing ?factor in the console and hitting enter. The R package forcats is also very helpful for working\n",
    "with factors. You can read about it here.\n",
    "\n",
    "**`typeof(factor1)` gives integer as the items stored in the object are encoded as integers**"
   ]
  },
  {
   "cell_type": "code",
   "execution_count": 189,
   "id": "beautiful-palmer",
   "metadata": {},
   "outputs": [
    {
     "data": {
      "text/html": [
       "'integer'"
      ],
      "text/latex": [
       "'integer'"
      ],
      "text/markdown": [
       "'integer'"
      ],
      "text/plain": [
       "[1] \"integer\""
      ]
     },
     "metadata": {},
     "output_type": "display_data"
    }
   ],
   "source": [
    "factor1 <- factor(c(\"blue\", \"green\", \"yellow\", \"red\"), levels = c(\"red\", \"green\", \"blue\"), ordered=TRUE);\n",
    "\n",
    "typeof(factor1)"
   ]
  },
  {
   "cell_type": "code",
   "execution_count": 184,
   "id": "prompt-transfer",
   "metadata": {},
   "outputs": [
    {
     "data": {
      "text/html": [
       "<ol class=list-inline>\n",
       "\t<li>blue</li>\n",
       "\t<li>green</li>\n",
       "\t<li>&lt;NA&gt;</li>\n",
       "\t<li>red</li>\n",
       "</ol>\n",
       "\n",
       "<details>\n",
       "\t<summary style=display:list-item;cursor:pointer>\n",
       "\t\t<strong>Levels</strong>:\n",
       "\t</summary>\n",
       "\t<ol class=list-inline>\n",
       "\t\t<li>'red'</li>\n",
       "\t\t<li>'green'</li>\n",
       "\t\t<li>'blue'</li>\n",
       "\t</ol>\n",
       "</details>"
      ],
      "text/latex": [
       "\\begin{enumerate*}\n",
       "\\item blue\n",
       "\\item green\n",
       "\\item <NA>\n",
       "\\item red\n",
       "\\end{enumerate*}\n",
       "\n",
       "\\emph{Levels}: \\begin{enumerate*}\n",
       "\\item 'red'\n",
       "\\item 'green'\n",
       "\\item 'blue'\n",
       "\\end{enumerate*}\n"
      ],
      "text/markdown": [
       "1. blue\n",
       "2. green\n",
       "3. &lt;NA&gt;\n",
       "4. red\n",
       "\n",
       "\n",
       "\n",
       "**Levels**: 1. 'red'\n",
       "2. 'green'\n",
       "3. 'blue'\n",
       "\n",
       "\n"
      ],
      "text/plain": [
       "[1] blue  green <NA>  red  \n",
       "Levels: red < green < blue"
      ]
     },
     "metadata": {},
     "output_type": "display_data"
    }
   ],
   "source": [
    "factor1"
   ]
  },
  {
   "cell_type": "code",
   "execution_count": null,
   "id": "caring-throw",
   "metadata": {},
   "outputs": [],
   "source": []
  }
 ],
 "metadata": {
  "kernelspec": {
   "display_name": "R",
   "language": "R",
   "name": "ir"
  },
  "language_info": {
   "codemirror_mode": "r",
   "file_extension": ".r",
   "mimetype": "text/x-r-source",
   "name": "R",
   "pygments_lexer": "r",
   "version": "3.6.1"
  }
 },
 "nbformat": 4,
 "nbformat_minor": 5
}
