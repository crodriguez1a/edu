{
 "cells": [
  {
   "cell_type": "code",
   "execution_count": 86,
   "id": "1666e00f",
   "metadata": {},
   "outputs": [],
   "source": [
    "library('rlist')\n",
    "library(DescTools)"
   ]
  },
  {
   "cell_type": "markdown",
   "id": "fb205a0a",
   "metadata": {},
   "source": [
    "# 3\n",
    "Consider the Gini index, classification error, and cross-entropy in a\n",
    "simple classification setting with two classes. Create a single plot\n",
    "that displays each of these quantities as a function of $\\hat{p}_{m1}$. The xaxis\n",
    "should display $\\hat{p}_{m1}$, ranging from 0 to 1, and the y-axis should\n",
    "display the value of the Gini index, classification error, and entropy.\n",
    "\n",
    "*Hint: In a setting with two classes, $\\hat{p}_{m1} = 1− \\hat{p}_{m2}$. You could make\n",
    "this plot by hand, but it will be much easier to make in R.*"
   ]
  },
  {
   "cell_type": "code",
   "execution_count": 87,
   "id": "3c0791d4",
   "metadata": {},
   "outputs": [],
   "source": [
    "p_m1 <- seq(0,1, 0.1)\n",
    "p_m2 = -p_m1 + 1\n",
    "\n",
    "# gini index (p.312 - since k is just 2, skip iteration and just add\n",
    "G <- (p_m1 * (1 - p_m1) \n",
    "         + p_m2 * (1 - p_m2))\n",
    "\n",
    "# classification error (p. 312)\n",
    "E <- 1 - pmax(p_m1, p_m2)\n",
    "\n",
    "# cross-entropy (p.312)\n",
    "D <- -((p_m1 * log(p_m1) \n",
    "            + p_m2 * log(p_m2)))"
   ]
  },
  {
   "cell_type": "code",
   "execution_count": 88,
   "id": "f81b2f58",
   "metadata": {},
   "outputs": [
    {
     "data": {
      "text/html": [
       "0.525"
      ],
      "text/latex": [
       "0.525"
      ],
      "text/markdown": [
       "0.525"
      ],
      "text/plain": [
       "[1] 0.525"
      ]
     },
     "metadata": {},
     "output_type": "display_data"
    }
   ],
   "source": [
    "# coeff\n",
    "Gini(p_m1, p_m2)"
   ]
  },
  {
   "cell_type": "code",
   "execution_count": 89,
   "id": "ec486e83",
   "metadata": {},
   "outputs": [
    {
     "data": {
      "image/png": "[encoded data removed]",
      "text/plain": [
       "plot without title"
      ]
     },
     "metadata": {
      "image/png": {
       "height": 420,
       "width": 420
      }
     },
     "output_type": "display_data"
    }
   ],
   "source": [
    "plot(p_m1, G, type = 'l', col='red', lwd=2, ylim = c(0, 0.8))\n",
    "lines(p_m1, E, type = 'l', col='blue', lwd=2)\n",
    "lines(p_m1, D, type = 'l', col='green', lwd=2)\n",
    "\n",
    "legend(\n",
    "    x='topleft',\n",
    "    legend=c('Gini Index', 'Classification Error', 'Cross Entropy'), \n",
    "    col=c('red', 'blue', 'green'),\n",
    "    lwd=3\n",
    ")"
   ]
  },
  {
   "cell_type": "markdown",
   "id": "5b86bfcc",
   "metadata": {},
   "source": [
    "# 5\n",
    "\n",
    "Suppose we produce ten bootstrapped samples from a data set\n",
    "containing red and green classes. We then apply a classification tree\n",
    "to each bootstrapped sample and, for a specific value of X, produce\n",
    "10 estimates of P(Class is Red|X):\n",
    "\n",
    "0.1, 0.15, 0.2, 0.2, 0.55, 0.6, 0.6, 0.65, 0.7, and 0.75.\n",
    "\n",
    "There are two common ways to combine these results together into a\n",
    "single class prediction. One is the majority vote approach discussed in\n",
    "this chapter. The second approach is to classify based on the average\n",
    "probability. In this example, what is the final classification under each\n",
    "of these two approaches?\n",
    "\n",
    "1. Final classification under majority vote approach is Red\n",
    "2. Final classificaition under average probability is **not** Red"
   ]
  },
  {
   "cell_type": "code",
   "execution_count": 90,
   "id": "c8aa9e25",
   "metadata": {},
   "outputs": [],
   "source": [
    "pred <- c(0.1, 0.15, 0.2, 0.2, 0.55, 0.6, 0.6, 0.65, 0.7, 0.75)"
   ]
  },
  {
   "cell_type": "code",
   "execution_count": 91,
   "id": "b84b4d5e",
   "metadata": {},
   "outputs": [],
   "source": [
    "is_red <- ifelse(pred > 0.5, 1, 0)"
   ]
  },
  {
   "cell_type": "code",
   "execution_count": 92,
   "id": "f21e2445",
   "metadata": {},
   "outputs": [
    {
     "data": {
      "text/plain": [
       "is_red\n",
       "0 1 \n",
       "4 6 "
      ]
     },
     "metadata": {},
     "output_type": "display_data"
    }
   ],
   "source": [
    "#  majority vote: the overall prediction is the most commonly occurring majority class among the B predictions. \n",
    "table(is_red)"
   ]
  },
  {
   "cell_type": "code",
   "execution_count": 93,
   "id": "75388d6b",
   "metadata": {},
   "outputs": [
    {
     "data": {
      "text/html": [
       "'NOT RED'"
      ],
      "text/latex": [
       "'NOT RED'"
      ],
      "text/markdown": [
       "'NOT RED'"
      ],
      "text/plain": [
       "[1] \"NOT RED\""
      ]
     },
     "metadata": {},
     "output_type": "display_data"
    }
   ],
   "source": [
    "ifelse(mean(pred) > 0.5, 'RED', 'NOT RED')"
   ]
  },
  {
   "cell_type": "markdown",
   "id": "97141fa2",
   "metadata": {},
   "source": [
    "# 7\n",
    "\n",
    "In the lab, we applied random forests to the Boston data using mtry=6\n",
    "and using ntree=25 and ntree=500. \n",
    "\n",
    "Create a plot displaying the test\n",
    "error resulting from random forests on this data set for a more comprehensive\n",
    "range of values for mtry and ntree. You can model your\n",
    "plot after Figure 8.10. Describe the results obtained.\n",
    "\n",
    "- When searching values for `ntree`, the smallest MSE achieved was 18.1 when `ntree=136`\n",
    "- When searching values for `mtry`, the smallest MSE achieved was ~19 when `mtry=3`"
   ]
  },
  {
   "cell_type": "code",
   "execution_count": 214,
   "id": "95c376fc",
   "metadata": {},
   "outputs": [],
   "source": [
    "# ref: p.329\n",
    "library(randomForest)\n",
    "library(MASS)\n",
    "\n",
    "set.seed(1)\n",
    "\n",
    "train = sample (1: nrow(Boston ), nrow(Boston )/2)\n",
    "test = Boston[-train , \"medv\"]"
   ]
  },
  {
   "cell_type": "code",
   "execution_count": null,
   "id": "a28c486a",
   "metadata": {},
   "outputs": [],
   "source": [
    "ERR <- c()\n",
    "\n",
    "# ntree search space\n",
    "NTREE <- 25:500\n",
    "\n",
    "for (ntree in NTREE) {\n",
    "    rf.boston = randomForest(medv~., data=Boston, subset=train, mtry=6, ntree=ntree, importance=TRUE)\n",
    "    yhat.rf = predict(rf.boston, newdata=Boston[-train ,])\n",
    "\n",
    "    MSE <- mean((yhat.rf - test)^2)\n",
    "    ERR <- list.append(ERR, MSE)\n",
    "} "
   ]
  },
  {
   "cell_type": "code",
   "execution_count": 95,
   "id": "21832536",
   "metadata": {},
   "outputs": [
    {
     "data": {
      "text/html": [
       "18.1064339261452"
      ],
      "text/latex": [
       "18.1064339261452"
      ],
      "text/markdown": [
       "18.1064339261452"
      ],
      "text/plain": [
       "[1] 18.10643"
      ]
     },
     "metadata": {},
     "output_type": "display_data"
    },
    {
     "data": {
      "text/html": [
       "136"
      ],
      "text/latex": [
       "136"
      ],
      "text/markdown": [
       "136"
      ],
      "text/plain": [
       "[1] 136"
      ]
     },
     "metadata": {},
     "output_type": "display_data"
    }
   ],
   "source": [
    "min(ERR)\n",
    "\n",
    "best.ntree <- which(ERR==min(ERR))\n",
    "best.ntree"
   ]
  },
  {
   "cell_type": "code",
   "execution_count": 96,
   "id": "8a40021e",
   "metadata": {},
   "outputs": [
    {
     "data": {
      "image/png": "[encoded data removed]",
      "text/plain": [
       "plot without title"
      ]
     },
     "metadata": {
      "image/png": {
       "height": 420,
       "width": 420
      }
     },
     "output_type": "display_data"
    }
   ],
   "source": [
    "plot(NTREE, ERR, col='blue', lwd=2, type='l')"
   ]
  },
  {
   "cell_type": "code",
   "execution_count": 305,
   "id": "b350995e",
   "metadata": {},
   "outputs": [],
   "source": [
    "MTRY <- 1:13\n",
    "mtry.err = c()\n",
    "\n",
    "for (mtry in MTRY) {\n",
    "    rf.boston = randomForest(medv~., data=Boston, subset=train, mtry=mtry, ntree=best.ntree, importance=TRUE)\n",
    "    yhat.rf = predict(rf.boston, newdata=Boston[-train ,])\n",
    "\n",
    "    MSE <- mean((yhat.rf - test)^2)\n",
    "    mtry.err <- list.append(mtry.err, MSE)\n",
    "}"
   ]
  },
  {
   "cell_type": "code",
   "execution_count": 293,
   "id": "3b3c3c34",
   "metadata": {},
   "outputs": [
    {
     "data": {
      "image/png": "[encoded data removed]",
      "text/plain": [
       "plot without title"
      ]
     },
     "metadata": {
      "image/png": {
       "height": 420,
       "width": 420
      }
     },
     "output_type": "display_data"
    }
   ],
   "source": [
    "plot(MTRY, mtry.err, col='blue', lwd=2, type='l')"
   ]
  },
  {
   "cell_type": "code",
   "execution_count": 295,
   "id": "f6201b76",
   "metadata": {},
   "outputs": [
    {
     "data": {
      "text/html": [
       "18.0424695186485"
      ],
      "text/latex": [
       "18.0424695186485"
      ],
      "text/markdown": [
       "18.0424695186485"
      ],
      "text/plain": [
       "[1] 18.04247"
      ]
     },
     "metadata": {},
     "output_type": "display_data"
    },
    {
     "data": {
      "text/html": [
       "4"
      ],
      "text/latex": [
       "4"
      ],
      "text/markdown": [
       "4"
      ],
      "text/plain": [
       "[1] 4"
      ]
     },
     "metadata": {},
     "output_type": "display_data"
    }
   ],
   "source": [
    "min(mtry.err)\n",
    "best.mtry <- which(mtry.err==min(mtry.err))\n",
    "best.mtry"
   ]
  },
  {
   "cell_type": "code",
   "execution_count": 296,
   "id": "cd091d7c",
   "metadata": {},
   "outputs": [
    {
     "data": {
      "image/png": "[encoded data removed]",
      "text/plain": [
       "plot without title"
      ]
     },
     "metadata": {
      "image/png": {
       "height": 420,
       "width": 420
      }
     },
     "output_type": "display_data"
    }
   ],
   "source": [
    "rf.boston = randomForest(medv~., data=Boston, subset=train, mtry=best.mtry, ntree=best.ntree, importance=TRUE)\n",
    "\n",
    "yhat.bag = predict(rf.boston, newdata=Boston[-train ,])\n",
    "plot(yhat.rf, test, col='blue')\n",
    "abline(0,1, col='red', lwd=2)"
   ]
  },
  {
   "cell_type": "markdown",
   "id": "4f60558e",
   "metadata": {},
   "source": [
    "# 8\n",
    "\n",
    "In the lab, a classification tree was applied to the Carseats data set after\n",
    "converting Sales into a qualitative response variable. Now we will\n",
    "seek to predict Sales using regression trees and related approaches,\n",
    "treating the response as a quantitative variable."
   ]
  },
  {
   "cell_type": "markdown",
   "id": "48f4661c",
   "metadata": {},
   "source": [
    "### (a) \n",
    "Split the data set into a training set and a test set."
   ]
  },
  {
   "cell_type": "code",
   "execution_count": 149,
   "id": "6a459789",
   "metadata": {},
   "outputs": [],
   "source": [
    "# p. 324\n",
    "library(ISLR)"
   ]
  },
  {
   "cell_type": "code",
   "execution_count": 251,
   "id": "4868e5b9",
   "metadata": {},
   "outputs": [],
   "source": [
    "Carseats <- ISLR::Carseats"
   ]
  },
  {
   "cell_type": "code",
   "execution_count": 252,
   "id": "9f97ab90",
   "metadata": {},
   "outputs": [
    {
     "data": {
      "text/html": [
       "<table class=\"dataframe\">\n",
       "<caption>A data.frame: 6 × 11</caption>\n",
       "<thead>\n",
       "\t<tr><th></th><th scope=col>Sales</th><th scope=col>CompPrice</th><th scope=col>Income</th><th scope=col>Advertising</th><th scope=col>Population</th><th scope=col>Price</th><th scope=col>ShelveLoc</th><th scope=col>Age</th><th scope=col>Education</th><th scope=col>Urban</th><th scope=col>US</th></tr>\n",
       "\t<tr><th></th><th scope=col>&lt;dbl&gt;</th><th scope=col>&lt;dbl&gt;</th><th scope=col>&lt;dbl&gt;</th><th scope=col>&lt;dbl&gt;</th><th scope=col>&lt;dbl&gt;</th><th scope=col>&lt;dbl&gt;</th><th scope=col>&lt;fct&gt;</th><th scope=col>&lt;dbl&gt;</th><th scope=col>&lt;dbl&gt;</th><th scope=col>&lt;fct&gt;</th><th scope=col>&lt;fct&gt;</th></tr>\n",
       "</thead>\n",
       "<tbody>\n",
       "\t<tr><th scope=row>1</th><td> 9.50</td><td>138</td><td> 73</td><td>11</td><td>276</td><td>120</td><td>Bad   </td><td>42</td><td>17</td><td>Yes</td><td>Yes</td></tr>\n",
       "\t<tr><th scope=row>2</th><td>11.22</td><td>111</td><td> 48</td><td>16</td><td>260</td><td> 83</td><td>Good  </td><td>65</td><td>10</td><td>Yes</td><td>Yes</td></tr>\n",
       "\t<tr><th scope=row>3</th><td>10.06</td><td>113</td><td> 35</td><td>10</td><td>269</td><td> 80</td><td>Medium</td><td>59</td><td>12</td><td>Yes</td><td>Yes</td></tr>\n",
       "\t<tr><th scope=row>4</th><td> 7.40</td><td>117</td><td>100</td><td> 4</td><td>466</td><td> 97</td><td>Medium</td><td>55</td><td>14</td><td>Yes</td><td>Yes</td></tr>\n",
       "\t<tr><th scope=row>5</th><td> 4.15</td><td>141</td><td> 64</td><td> 3</td><td>340</td><td>128</td><td>Bad   </td><td>38</td><td>13</td><td>Yes</td><td>No </td></tr>\n",
       "\t<tr><th scope=row>6</th><td>10.81</td><td>124</td><td>113</td><td>13</td><td>501</td><td> 72</td><td>Bad   </td><td>78</td><td>16</td><td>No </td><td>Yes</td></tr>\n",
       "</tbody>\n",
       "</table>\n"
      ],
      "text/latex": [
       "A data.frame: 6 × 11\n",
       "\\begin{tabular}{r|lllllllllll}\n",
       "  & Sales & CompPrice & Income & Advertising & Population & Price & ShelveLoc & Age & Education & Urban & US\\\\\n",
       "  & <dbl> & <dbl> & <dbl> & <dbl> & <dbl> & <dbl> & <fct> & <dbl> & <dbl> & <fct> & <fct>\\\\\n",
       "\\hline\n",
       "\t1 &  9.50 & 138 &  73 & 11 & 276 & 120 & Bad    & 42 & 17 & Yes & Yes\\\\\n",
       "\t2 & 11.22 & 111 &  48 & 16 & 260 &  83 & Good   & 65 & 10 & Yes & Yes\\\\\n",
       "\t3 & 10.06 & 113 &  35 & 10 & 269 &  80 & Medium & 59 & 12 & Yes & Yes\\\\\n",
       "\t4 &  7.40 & 117 & 100 &  4 & 466 &  97 & Medium & 55 & 14 & Yes & Yes\\\\\n",
       "\t5 &  4.15 & 141 &  64 &  3 & 340 & 128 & Bad    & 38 & 13 & Yes & No \\\\\n",
       "\t6 & 10.81 & 124 & 113 & 13 & 501 &  72 & Bad    & 78 & 16 & No  & Yes\\\\\n",
       "\\end{tabular}\n"
      ],
      "text/markdown": [
       "\n",
       "A data.frame: 6 × 11\n",
       "\n",
       "| <!--/--> | Sales &lt;dbl&gt; | CompPrice &lt;dbl&gt; | Income &lt;dbl&gt; | Advertising &lt;dbl&gt; | Population &lt;dbl&gt; | Price &lt;dbl&gt; | ShelveLoc &lt;fct&gt; | Age &lt;dbl&gt; | Education &lt;dbl&gt; | Urban &lt;fct&gt; | US &lt;fct&gt; |\n",
       "|---|---|---|---|---|---|---|---|---|---|---|---|\n",
       "| 1 |  9.50 | 138 |  73 | 11 | 276 | 120 | Bad    | 42 | 17 | Yes | Yes |\n",
       "| 2 | 11.22 | 111 |  48 | 16 | 260 |  83 | Good   | 65 | 10 | Yes | Yes |\n",
       "| 3 | 10.06 | 113 |  35 | 10 | 269 |  80 | Medium | 59 | 12 | Yes | Yes |\n",
       "| 4 |  7.40 | 117 | 100 |  4 | 466 |  97 | Medium | 55 | 14 | Yes | Yes |\n",
       "| 5 |  4.15 | 141 |  64 |  3 | 340 | 128 | Bad    | 38 | 13 | Yes | No  |\n",
       "| 6 | 10.81 | 124 | 113 | 13 | 501 |  72 | Bad    | 78 | 16 | No  | Yes |\n",
       "\n"
      ],
      "text/plain": [
       "  Sales CompPrice Income Advertising Population Price ShelveLoc Age Education\n",
       "1  9.50 138        73    11          276        120   Bad       42  17       \n",
       "2 11.22 111        48    16          260         83   Good      65  10       \n",
       "3 10.06 113        35    10          269         80   Medium    59  12       \n",
       "4  7.40 117       100     4          466         97   Medium    55  14       \n",
       "5  4.15 141        64     3          340        128   Bad       38  13       \n",
       "6 10.81 124       113    13          501         72   Bad       78  16       \n",
       "  Urban US \n",
       "1 Yes   Yes\n",
       "2 Yes   Yes\n",
       "3 Yes   Yes\n",
       "4 Yes   Yes\n",
       "5 Yes   No \n",
       "6 No    Yes"
      ]
     },
     "metadata": {},
     "output_type": "display_data"
    }
   ],
   "source": [
    "head(Carseats)"
   ]
  },
  {
   "cell_type": "code",
   "execution_count": 253,
   "id": "85de8e42",
   "metadata": {},
   "outputs": [],
   "source": [
    "cs.train = sample(nrow(Carseats ), nrow(Carseats )* 0.7)\n",
    "X_train = Carseats[cs.train, ]\n",
    "X_test = Carseats[-cs.train, ]\n",
    "y_test = Carseats$Sales[-cs.train]"
   ]
  },
  {
   "cell_type": "markdown",
   "id": "179dfece",
   "metadata": {},
   "source": [
    "### (b) \n",
    "Fit a regression tree to the training set. Plot the tree, and interpret\n",
    "the results. What test MSE do you obtain?\n",
    "\n",
    "- MSE is 3.71"
   ]
  },
  {
   "cell_type": "code",
   "execution_count": 256,
   "id": "82deea9a",
   "metadata": {},
   "outputs": [],
   "source": [
    "# install.packages('tree')"
   ]
  },
  {
   "cell_type": "code",
   "execution_count": 257,
   "id": "961cf65d",
   "metadata": {},
   "outputs": [
    {
     "data": {
      "text/html": [
       "3.71347613827649"
      ],
      "text/latex": [
       "3.71347613827649"
      ],
      "text/markdown": [
       "3.71347613827649"
      ],
      "text/plain": [
       "[1] 3.713476"
      ]
     },
     "metadata": {},
     "output_type": "display_data"
    },
    {
     "data": {
      "image/png": "[encoded data removed]",
      "text/plain": [
       "plot without title"
      ]
     },
     "metadata": {
      "image/png": {
       "height": 420,
       "width": 420
      }
     },
     "output_type": "display_data"
    }
   ],
   "source": [
    "library(tree)\n",
    "\n",
    "tree.carseats = tree(Sales~., X_train)\n",
    "yhat.carseats = predict(tree.carseats, newdata=X_test)\n",
    "MSE <- mean((yhat.carseats - y_test)^2)\n",
    "MSE\n",
    "\n",
    "plot(tree.carseats)\n",
    "text(tree.carseats ,pretty =0)"
   ]
  },
  {
   "cell_type": "markdown",
   "id": "81811204",
   "metadata": {},
   "source": [
    "### (c) \n",
    "\n",
    "Use cross-validation in order to determine the optimal level of\n",
    "tree complexity. Does pruning the tree improve the test MSE?\n",
    "\n",
    "- In this case, reducing complexity via pruning raises MSE to 4.7"
   ]
  },
  {
   "cell_type": "code",
   "execution_count": 271,
   "id": "81b260d4",
   "metadata": {},
   "outputs": [
    {
     "data": {
      "image/png": "[encoded data removed]",
      "text/plain": [
       "plot without title"
      ]
     },
     "metadata": {
      "image/png": {
       "height": 420,
       "width": 420
      }
     },
     "output_type": "display_data"
    }
   ],
   "source": [
    "set.seed (3)\n",
    "cv.carseats = cv.tree(tree.carseats )\n",
    "plot(cv.carseats$size ,cv.carseats$dev ,type='b')"
   ]
  },
  {
   "cell_type": "code",
   "execution_count": 272,
   "id": "a2e445b7",
   "metadata": {},
   "outputs": [
    {
     "data": {
      "image/png": "[encoded data removed]",
      "text/plain": [
       "plot without title"
      ]
     },
     "metadata": {
      "image/png": {
       "height": 420,
       "width": 420
      }
     },
     "output_type": "display_data"
    }
   ],
   "source": [
    "prune.carseats = prune.tree(tree.carseats, best=5)\n",
    "plot(prune.carseats)\n",
    "text(prune.carseats, pretty=0)"
   ]
  },
  {
   "cell_type": "code",
   "execution_count": 273,
   "id": "3c6203a8",
   "metadata": {},
   "outputs": [],
   "source": [
    "library(glue)"
   ]
  },
  {
   "cell_type": "code",
   "execution_count": 274,
   "id": "ac1f17cf",
   "metadata": {},
   "outputs": [
    {
     "data": {
      "text/html": [
       "<span style=white-space:pre-wrap>'MSE:  4.7160992005164'</span>"
      ],
      "text/latex": [
       "'MSE:  4.7160992005164'"
      ],
      "text/markdown": [
       "<span style=white-space:pre-wrap>'MSE:  4.7160992005164'</span>"
      ],
      "text/plain": [
       "MSE:  4.7160992005164"
      ]
     },
     "metadata": {},
     "output_type": "display_data"
    }
   ],
   "source": [
    "yhat=predict(prune.carseats, newdata=X_test)\n",
    "\n",
    "glue('MSE:  {mean((yhat-y_test)^2)}')"
   ]
  },
  {
   "cell_type": "markdown",
   "id": "3f2016fb",
   "metadata": {},
   "source": [
    "### (d) \n",
    "\n",
    "Use the bagging approach in order to analyze this data. What\n",
    "test MSE do you obtain? Use the `importance()` function to determine\n",
    "which variables are most important.\n",
    "\n",
    "- MSE is ~2.3"
   ]
  },
  {
   "cell_type": "code",
   "execution_count": 306,
   "id": "fb221ab7",
   "metadata": {},
   "outputs": [
    {
     "data": {
      "text/plain": [
       "\n",
       "Call:\n",
       " randomForest(formula = Sales ~ ., data = X_train, importance = TRUE,      mtry = length(names(Carseats)) - 1) \n",
       "               Type of random forest: regression\n",
       "                     Number of trees: 500\n",
       "No. of variables tried at each split: 10\n",
       "\n",
       "          Mean of squared residuals: 2.720361\n",
       "                    % Var explained: 66.16"
      ]
     },
     "metadata": {},
     "output_type": "display_data"
    }
   ],
   "source": [
    "# The argument mtry=13 indicates that all N predictors should be considered\n",
    "# for each split of the tree—in other words, that bagging should be done.\n",
    "\n",
    "bag.carseats = randomForest(Sales~., X_train, importance=TRUE, mtry=length(names(Carseats))-1)\n",
    "bag.carseats"
   ]
  },
  {
   "cell_type": "code",
   "execution_count": 307,
   "id": "06d2583d",
   "metadata": {},
   "outputs": [
    {
     "data": {
      "text/html": [
       "<span style=white-space:pre-wrap>'MSE:  2.30716662598099'</span>"
      ],
      "text/latex": [
       "'MSE:  2.30716662598099'"
      ],
      "text/markdown": [
       "<span style=white-space:pre-wrap>'MSE:  2.30716662598099'</span>"
      ],
      "text/plain": [
       "MSE:  2.30716662598099"
      ]
     },
     "metadata": {},
     "output_type": "display_data"
    }
   ],
   "source": [
    "set.seed(456)\n",
    "bag.yhat=predict(bag.carseats, newdata=X_test)\n",
    "glue('MSE:  {mean((bag.yhat-y_test)^2)}')"
   ]
  },
  {
   "cell_type": "code",
   "execution_count": 308,
   "id": "000af34b",
   "metadata": {},
   "outputs": [
    {
     "data": {
      "text/html": [
       "<table class=\"dataframe\">\n",
       "<caption>A matrix: 10 × 2 of type dbl</caption>\n",
       "<thead>\n",
       "\t<tr><th></th><th scope=col>%IncMSE</th><th scope=col>IncNodePurity</th></tr>\n",
       "</thead>\n",
       "<tbody>\n",
       "\t<tr><th scope=row>CompPrice</th><td>31.0385199</td><td>232.391615</td></tr>\n",
       "\t<tr><th scope=row>Income</th><td> 9.1886260</td><td>128.702201</td></tr>\n",
       "\t<tr><th scope=row>Advertising</th><td>16.6570140</td><td>127.598156</td></tr>\n",
       "\t<tr><th scope=row>Population</th><td>-2.4411584</td><td> 74.484649</td></tr>\n",
       "\t<tr><th scope=row>Price</th><td>60.2588084</td><td>605.606061</td></tr>\n",
       "\t<tr><th scope=row>ShelveLoc</th><td>73.9653451</td><td>704.032052</td></tr>\n",
       "\t<tr><th scope=row>Age</th><td>22.3731506</td><td>243.981151</td></tr>\n",
       "\t<tr><th scope=row>Education</th><td>-0.5509030</td><td> 54.849218</td></tr>\n",
       "\t<tr><th scope=row>Urban</th><td>-0.9654085</td><td>  9.719784</td></tr>\n",
       "\t<tr><th scope=row>US</th><td> 1.9669998</td><td>  9.391051</td></tr>\n",
       "</tbody>\n",
       "</table>\n"
      ],
      "text/latex": [
       "A matrix: 10 × 2 of type dbl\n",
       "\\begin{tabular}{r|ll}\n",
       "  & \\%IncMSE & IncNodePurity\\\\\n",
       "\\hline\n",
       "\tCompPrice & 31.0385199 & 232.391615\\\\\n",
       "\tIncome &  9.1886260 & 128.702201\\\\\n",
       "\tAdvertising & 16.6570140 & 127.598156\\\\\n",
       "\tPopulation & -2.4411584 &  74.484649\\\\\n",
       "\tPrice & 60.2588084 & 605.606061\\\\\n",
       "\tShelveLoc & 73.9653451 & 704.032052\\\\\n",
       "\tAge & 22.3731506 & 243.981151\\\\\n",
       "\tEducation & -0.5509030 &  54.849218\\\\\n",
       "\tUrban & -0.9654085 &   9.719784\\\\\n",
       "\tUS &  1.9669998 &   9.391051\\\\\n",
       "\\end{tabular}\n"
      ],
      "text/markdown": [
       "\n",
       "A matrix: 10 × 2 of type dbl\n",
       "\n",
       "| <!--/--> | %IncMSE | IncNodePurity |\n",
       "|---|---|---|\n",
       "| CompPrice | 31.0385199 | 232.391615 |\n",
       "| Income |  9.1886260 | 128.702201 |\n",
       "| Advertising | 16.6570140 | 127.598156 |\n",
       "| Population | -2.4411584 |  74.484649 |\n",
       "| Price | 60.2588084 | 605.606061 |\n",
       "| ShelveLoc | 73.9653451 | 704.032052 |\n",
       "| Age | 22.3731506 | 243.981151 |\n",
       "| Education | -0.5509030 |  54.849218 |\n",
       "| Urban | -0.9654085 |   9.719784 |\n",
       "| US |  1.9669998 |   9.391051 |\n",
       "\n"
      ],
      "text/plain": [
       "            %IncMSE    IncNodePurity\n",
       "CompPrice   31.0385199 232.391615   \n",
       "Income       9.1886260 128.702201   \n",
       "Advertising 16.6570140 127.598156   \n",
       "Population  -2.4411584  74.484649   \n",
       "Price       60.2588084 605.606061   \n",
       "ShelveLoc   73.9653451 704.032052   \n",
       "Age         22.3731506 243.981151   \n",
       "Education   -0.5509030  54.849218   \n",
       "Urban       -0.9654085   9.719784   \n",
       "US           1.9669998   9.391051   "
      ]
     },
     "metadata": {},
     "output_type": "display_data"
    }
   ],
   "source": [
    "importance(bag.carseats)"
   ]
  },
  {
   "cell_type": "code",
   "execution_count": 309,
   "id": "2b6af115",
   "metadata": {},
   "outputs": [
    {
     "data": {
      "image/png": "[encoded data removed]",
      "text/plain": [
       "plot without title"
      ]
     },
     "metadata": {
      "image/png": {
       "height": 420,
       "width": 420
      }
     },
     "output_type": "display_data"
    }
   ],
   "source": [
    "varImpPlot(bag.carseats)"
   ]
  },
  {
   "cell_type": "markdown",
   "id": "80ae856b",
   "metadata": {},
   "source": [
    "### (e) \n",
    "\n",
    "Use random forests to analyze this data. What test MSE do you\n",
    "obtain? Use the `importance()` function to determine which variables\n",
    "aremost important. Describe the effect of m, the number of\n",
    "variables considered at each split, on the error rate\n",
    "obtained.\n",
    "\n",
    "- MSE 2.54"
   ]
  },
  {
   "cell_type": "code",
   "execution_count": 310,
   "id": "85c3294f",
   "metadata": {},
   "outputs": [
    {
     "data": {
      "text/plain": [
       "\n",
       "Call:\n",
       " randomForest(formula = Sales ~ ., data = X_train, importance = TRUE) \n",
       "               Type of random forest: regression\n",
       "                     Number of trees: 500\n",
       "No. of variables tried at each split: 3\n",
       "\n",
       "          Mean of squared residuals: 3.120401\n",
       "                    % Var explained: 61.19"
      ]
     },
     "metadata": {},
     "output_type": "display_data"
    }
   ],
   "source": [
    "rf.carseats = randomForest(Sales~., X_train, importance=TRUE)\n",
    "rf.carseats"
   ]
  },
  {
   "cell_type": "code",
   "execution_count": 311,
   "id": "c5fcb22b",
   "metadata": {},
   "outputs": [
    {
     "data": {
      "text/html": [
       "<span style=white-space:pre-wrap>'MSE:  2.54965813963631'</span>"
      ],
      "text/latex": [
       "'MSE:  2.54965813963631'"
      ],
      "text/markdown": [
       "<span style=white-space:pre-wrap>'MSE:  2.54965813963631'</span>"
      ],
      "text/plain": [
       "MSE:  2.54965813963631"
      ]
     },
     "metadata": {},
     "output_type": "display_data"
    }
   ],
   "source": [
    "set.seed(123)\n",
    "rf.yhat=predict(rf.carseats, newdata=X_test)\n",
    "glue('MSE:  {mean((rf.yhat-y_test)^2)}')"
   ]
  },
  {
   "cell_type": "code",
   "execution_count": 314,
   "id": "23e06fae",
   "metadata": {},
   "outputs": [
    {
     "data": {
      "text/html": [
       "<table class=\"dataframe\">\n",
       "<caption>A matrix: 10 × 2 of type dbl</caption>\n",
       "<thead>\n",
       "\t<tr><th></th><th scope=col>%IncMSE</th><th scope=col>IncNodePurity</th></tr>\n",
       "</thead>\n",
       "<tbody>\n",
       "\t<tr><th scope=row>CompPrice</th><td>15.1093727</td><td>206.42240</td></tr>\n",
       "\t<tr><th scope=row>Income</th><td> 3.3555986</td><td>173.89783</td></tr>\n",
       "\t<tr><th scope=row>Advertising</th><td>10.2956849</td><td>153.59460</td></tr>\n",
       "\t<tr><th scope=row>Population</th><td>-0.4343049</td><td>134.10322</td></tr>\n",
       "\t<tr><th scope=row>Price</th><td>37.5275405</td><td>506.94383</td></tr>\n",
       "\t<tr><th scope=row>ShelveLoc</th><td>50.5006501</td><td>550.29268</td></tr>\n",
       "\t<tr><th scope=row>Age</th><td>15.4681358</td><td>255.46049</td></tr>\n",
       "\t<tr><th scope=row>Education</th><td> 2.4777830</td><td> 97.28203</td></tr>\n",
       "\t<tr><th scope=row>Urban</th><td>-1.2359067</td><td> 20.01901</td></tr>\n",
       "\t<tr><th scope=row>US</th><td> 1.9396684</td><td> 26.20185</td></tr>\n",
       "</tbody>\n",
       "</table>\n"
      ],
      "text/latex": [
       "A matrix: 10 × 2 of type dbl\n",
       "\\begin{tabular}{r|ll}\n",
       "  & \\%IncMSE & IncNodePurity\\\\\n",
       "\\hline\n",
       "\tCompPrice & 15.1093727 & 206.42240\\\\\n",
       "\tIncome &  3.3555986 & 173.89783\\\\\n",
       "\tAdvertising & 10.2956849 & 153.59460\\\\\n",
       "\tPopulation & -0.4343049 & 134.10322\\\\\n",
       "\tPrice & 37.5275405 & 506.94383\\\\\n",
       "\tShelveLoc & 50.5006501 & 550.29268\\\\\n",
       "\tAge & 15.4681358 & 255.46049\\\\\n",
       "\tEducation &  2.4777830 &  97.28203\\\\\n",
       "\tUrban & -1.2359067 &  20.01901\\\\\n",
       "\tUS &  1.9396684 &  26.20185\\\\\n",
       "\\end{tabular}\n"
      ],
      "text/markdown": [
       "\n",
       "A matrix: 10 × 2 of type dbl\n",
       "\n",
       "| <!--/--> | %IncMSE | IncNodePurity |\n",
       "|---|---|---|\n",
       "| CompPrice | 15.1093727 | 206.42240 |\n",
       "| Income |  3.3555986 | 173.89783 |\n",
       "| Advertising | 10.2956849 | 153.59460 |\n",
       "| Population | -0.4343049 | 134.10322 |\n",
       "| Price | 37.5275405 | 506.94383 |\n",
       "| ShelveLoc | 50.5006501 | 550.29268 |\n",
       "| Age | 15.4681358 | 255.46049 |\n",
       "| Education |  2.4777830 |  97.28203 |\n",
       "| Urban | -1.2359067 |  20.01901 |\n",
       "| US |  1.9396684 |  26.20185 |\n",
       "\n"
      ],
      "text/plain": [
       "            %IncMSE    IncNodePurity\n",
       "CompPrice   15.1093727 206.42240    \n",
       "Income       3.3555986 173.89783    \n",
       "Advertising 10.2956849 153.59460    \n",
       "Population  -0.4343049 134.10322    \n",
       "Price       37.5275405 506.94383    \n",
       "ShelveLoc   50.5006501 550.29268    \n",
       "Age         15.4681358 255.46049    \n",
       "Education    2.4777830  97.28203    \n",
       "Urban       -1.2359067  20.01901    \n",
       "US           1.9396684  26.20185    "
      ]
     },
     "metadata": {},
     "output_type": "display_data"
    }
   ],
   "source": [
    "importance(rf.carseats)"
   ]
  },
  {
   "cell_type": "code",
   "execution_count": 315,
   "id": "874433ad",
   "metadata": {},
   "outputs": [
    {
     "data": {
      "image/png": "[encoded data removed]",
      "text/plain": [
       "plot without title"
      ]
     },
     "metadata": {
      "image/png": {
       "height": 420,
       "width": 420
      }
     },
     "output_type": "display_data"
    }
   ],
   "source": [
    "varImpPlot(rf.carseats)"
   ]
  },
  {
   "cell_type": "code",
   "execution_count": null,
   "id": "e440baf4",
   "metadata": {},
   "outputs": [],
   "source": []
  }
 ],
 "metadata": {
  "kernelspec": {
   "display_name": "R",
   "language": "R",
   "name": "ir"
  },
  "language_info": {
   "codemirror_mode": "r",
   "file_extension": ".r",
   "mimetype": "text/x-r-source",
   "name": "R",
   "pygments_lexer": "r",
   "version": "4.2.1"
  }
 },
 "nbformat": 4,
 "nbformat_minor": 5
}
