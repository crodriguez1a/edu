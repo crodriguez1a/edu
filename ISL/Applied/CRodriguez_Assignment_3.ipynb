{
 "cells": [
  {
   "cell_type": "markdown",
   "id": "revised-headquarters",
   "metadata": {},
   "source": [
    "# 1a. What is the result of the following code?\n",
    "\n",
    "On line one, we assign the `nth` function to a particular instance of `paste` with three responsibilities. First, it generates a vector of integers using the range 1:12. Second, it generates a vector of corresponding suffixes, repeating a single suffix (“th”) for the last nine items in the vector. Lastly, it collates the two vectors using the separator we provide, which in this case is none.\n",
    "\n",
    "On line two, we provide the past function with a vector of abbreviated months. Then, for the second argument, we provide `nth`. Last we tell our `paste` function to use a single as its separator.\n",
    "\n",
    "Line three is identical to line one except that we collapse each item in the vector output using a semi-colon.\n"
   ]
  },
  {
   "cell_type": "code",
   "execution_count": 12,
   "id": "activated-differential",
   "metadata": {},
   "outputs": [
    {
     "data": {
      "text/html": [
       "<ol class=list-inline>\n",
       "\t<li>'Jan 1st'</li>\n",
       "\t<li>'Feb 2nd'</li>\n",
       "\t<li>'Mar 3rd'</li>\n",
       "\t<li>'Apr 4th'</li>\n",
       "\t<li>'May 5th'</li>\n",
       "\t<li>'Jun 6th'</li>\n",
       "\t<li>'Jul 7th'</li>\n",
       "\t<li>'Aug 8th'</li>\n",
       "\t<li>'Sep 9th'</li>\n",
       "\t<li>'Oct 10th'</li>\n",
       "\t<li>'Nov 11th'</li>\n",
       "\t<li>'Dec 12th'</li>\n",
       "</ol>\n"
      ],
      "text/latex": [
       "\\begin{enumerate*}\n",
       "\\item 'Jan 1st'\n",
       "\\item 'Feb 2nd'\n",
       "\\item 'Mar 3rd'\n",
       "\\item 'Apr 4th'\n",
       "\\item 'May 5th'\n",
       "\\item 'Jun 6th'\n",
       "\\item 'Jul 7th'\n",
       "\\item 'Aug 8th'\n",
       "\\item 'Sep 9th'\n",
       "\\item 'Oct 10th'\n",
       "\\item 'Nov 11th'\n",
       "\\item 'Dec 12th'\n",
       "\\end{enumerate*}\n"
      ],
      "text/markdown": [
       "1. 'Jan 1st'\n",
       "2. 'Feb 2nd'\n",
       "3. 'Mar 3rd'\n",
       "4. 'Apr 4th'\n",
       "5. 'May 5th'\n",
       "6. 'Jun 6th'\n",
       "7. 'Jul 7th'\n",
       "8. 'Aug 8th'\n",
       "9. 'Sep 9th'\n",
       "10. 'Oct 10th'\n",
       "11. 'Nov 11th'\n",
       "12. 'Dec 12th'\n",
       "\n",
       "\n"
      ],
      "text/plain": [
       " [1] \"Jan 1st\"  \"Feb 2nd\"  \"Mar 3rd\"  \"Apr 4th\"  \"May 5th\"  \"Jun 6th\" \n",
       " [7] \"Jul 7th\"  \"Aug 8th\"  \"Sep 9th\"  \"Oct 10th\" \"Nov 11th\" \"Dec 12th\""
      ]
     },
     "metadata": {},
     "output_type": "display_data"
    },
    {
     "data": {
      "text/html": [
       "'Jan 1st; Feb 2nd; Mar 3rd; Apr 4th; May 5th; Jun 6th; Jul 7th; Aug 8th; Sep 9th; Oct 10th; Nov 11th; Dec 12th'"
      ],
      "text/latex": [
       "'Jan 1st; Feb 2nd; Mar 3rd; Apr 4th; May 5th; Jun 6th; Jul 7th; Aug 8th; Sep 9th; Oct 10th; Nov 11th; Dec 12th'"
      ],
      "text/markdown": [
       "'Jan 1st; Feb 2nd; Mar 3rd; Apr 4th; May 5th; Jun 6th; Jul 7th; Aug 8th; Sep 9th; Oct 10th; Nov 11th; Dec 12th'"
      ],
      "text/plain": [
       "[1] \"Jan 1st; Feb 2nd; Mar 3rd; Apr 4th; May 5th; Jun 6th; Jul 7th; Aug 8th; Sep 9th; Oct 10th; Nov 11th; Dec 12th\""
      ]
     },
     "metadata": {},
     "output_type": "display_data"
    }
   ],
   "source": [
    "nth <- paste(1:12, c(\"st\", \"nd\", \"rd\", rep(\"th\", 9)), sep=\"\")\n",
    "paste(month.abb, nth, sep=\" \")\n",
    "paste(month.abb, nth, sep=\" \", collapse=\"; \")"
   ]
  },
  {
   "cell_type": "markdown",
   "id": "compact-smoke",
   "metadata": {},
   "source": [
    "# 1b. Explain the difference between the last two `paste()` calls above. What does `collapse` do?\n",
    "\n",
    "The difference between line 2 and 3 are that in line 3 add the collapse argument which collapses the vector of strings into The difference between lines 2 and 3 is that line 3 adds the collapse argument, which collapses the vector of strings into a single string with each item delineated by the character provided."
   ]
  },
  {
   "cell_type": "markdown",
   "id": "alternate-interaction",
   "metadata": {},
   "source": [
    "# 1c. What do you expect the following code to do?\n",
    "\n",
    "I expect to generate a single string of all abbreviated months delineated by a semi-colon followed by a space."
   ]
  },
  {
   "cell_type": "code",
   "execution_count": 13,
   "id": "altered-holocaust",
   "metadata": {},
   "outputs": [
    {
     "data": {
      "text/html": [
       "'Jan; Feb; Mar; Apr; May; Jun; Jul; Aug; Sep; Oct; Nov; Dec'"
      ],
      "text/latex": [
       "'Jan; Feb; Mar; Apr; May; Jun; Jul; Aug; Sep; Oct; Nov; Dec'"
      ],
      "text/markdown": [
       "'Jan; Feb; Mar; Apr; May; Jun; Jul; Aug; Sep; Oct; Nov; Dec'"
      ],
      "text/plain": [
       "[1] \"Jan; Feb; Mar; Apr; May; Jun; Jul; Aug; Sep; Oct; Nov; Dec\""
      ]
     },
     "metadata": {},
     "output_type": "display_data"
    }
   ],
   "source": [
    "paste(month.abb, collapse=\"; \")"
   ]
  },
  {
   "cell_type": "markdown",
   "id": "cardiac-statement",
   "metadata": {},
   "source": [
    "# 1d. Create a JSON string denoting an object specified by keys and values"
   ]
  },
  {
   "cell_type": "code",
   "execution_count": 14,
   "id": "prostate-annotation",
   "metadata": {},
   "outputs": [],
   "source": [
    "keys <- c(\"country\", \"city\", \"zipcode\", \"address\", \"DOB\", \"occupation\", \"degree\")\n",
    "values <- c(\"US\", \"Indianapolis\", \"46202\", \"410 W Tenth St.\", \"01/01/207\", \"Data Scientist\", \"PhD\")"
   ]
  },
  {
   "cell_type": "code",
   "execution_count": 29,
   "id": "suspended-bradford",
   "metadata": {},
   "outputs": [
    {
     "data": {
      "text/html": [
       "'{ country : US, city : Indianapolis, zipcode : 46202, address : 410 W Tenth St., DOB : 01/01/207, occupation : Data Scientist, degree : PhD }'"
      ],
      "text/latex": [
       "'\\{ country : US, city : Indianapolis, zipcode : 46202, address : 410 W Tenth St., DOB : 01/01/207, occupation : Data Scientist, degree : PhD \\}'"
      ],
      "text/markdown": [
       "'{ country : US, city : Indianapolis, zipcode : 46202, address : 410 W Tenth St., DOB : 01/01/207, occupation : Data Scientist, degree : PhD }'"
      ],
      "text/plain": [
       "[1] \"{ country : US, city : Indianapolis, zipcode : 46202, address : 410 W Tenth St., DOB : 01/01/207, occupation : Data Scientist, degree : PhD }\""
      ]
     },
     "metadata": {},
     "output_type": "display_data"
    }
   ],
   "source": [
    "kv = paste(keys, values, sep=\" : \", collapse=\", \")\n",
    "paste(\"{\", kv, s=\"}\")"
   ]
  },
  {
   "cell_type": "markdown",
   "id": "genuine-pipeline",
   "metadata": {},
   "source": [
    "# 2) Write three ways to come up with all odd integers between 1 and 35 (including 1 and 35)"
   ]
  },
  {
   "cell_type": "code",
   "execution_count": 37,
   "id": "regional-desktop",
   "metadata": {},
   "outputs": [
    {
     "data": {
      "text/html": [
       "<ol class=list-inline>\n",
       "\t<li>1</li>\n",
       "\t<li>3</li>\n",
       "\t<li>5</li>\n",
       "\t<li>7</li>\n",
       "\t<li>9</li>\n",
       "\t<li>11</li>\n",
       "\t<li>13</li>\n",
       "\t<li>15</li>\n",
       "\t<li>17</li>\n",
       "\t<li>19</li>\n",
       "\t<li>21</li>\n",
       "\t<li>23</li>\n",
       "\t<li>25</li>\n",
       "\t<li>27</li>\n",
       "\t<li>29</li>\n",
       "\t<li>31</li>\n",
       "\t<li>33</li>\n",
       "\t<li>35</li>\n",
       "</ol>\n"
      ],
      "text/latex": [
       "\\begin{enumerate*}\n",
       "\\item 1\n",
       "\\item 3\n",
       "\\item 5\n",
       "\\item 7\n",
       "\\item 9\n",
       "\\item 11\n",
       "\\item 13\n",
       "\\item 15\n",
       "\\item 17\n",
       "\\item 19\n",
       "\\item 21\n",
       "\\item 23\n",
       "\\item 25\n",
       "\\item 27\n",
       "\\item 29\n",
       "\\item 31\n",
       "\\item 33\n",
       "\\item 35\n",
       "\\end{enumerate*}\n"
      ],
      "text/markdown": [
       "1. 1\n",
       "2. 3\n",
       "3. 5\n",
       "4. 7\n",
       "5. 9\n",
       "6. 11\n",
       "7. 13\n",
       "8. 15\n",
       "9. 17\n",
       "10. 19\n",
       "11. 21\n",
       "12. 23\n",
       "13. 25\n",
       "14. 27\n",
       "15. 29\n",
       "16. 31\n",
       "17. 33\n",
       "18. 35\n",
       "\n",
       "\n"
      ],
      "text/plain": [
       " [1]  1  3  5  7  9 11 13 15 17 19 21 23 25 27 29 31 33 35"
      ]
     },
     "metadata": {},
     "output_type": "display_data"
    }
   ],
   "source": [
    "seq(1, 35, 2)"
   ]
  },
  {
   "cell_type": "code",
   "execution_count": 50,
   "id": "expanded-conservation",
   "metadata": {},
   "outputs": [
    {
     "data": {
      "text/html": [
       "<ol class=list-inline>\n",
       "\t<li>1</li>\n",
       "\t<li>3</li>\n",
       "\t<li>5</li>\n",
       "\t<li>7</li>\n",
       "\t<li>9</li>\n",
       "\t<li>11</li>\n",
       "\t<li>13</li>\n",
       "\t<li>15</li>\n",
       "\t<li>17</li>\n",
       "\t<li>19</li>\n",
       "\t<li>21</li>\n",
       "\t<li>23</li>\n",
       "\t<li>25</li>\n",
       "\t<li>27</li>\n",
       "\t<li>29</li>\n",
       "\t<li>31</li>\n",
       "\t<li>33</li>\n",
       "\t<li>35</li>\n",
       "</ol>\n"
      ],
      "text/latex": [
       "\\begin{enumerate*}\n",
       "\\item 1\n",
       "\\item 3\n",
       "\\item 5\n",
       "\\item 7\n",
       "\\item 9\n",
       "\\item 11\n",
       "\\item 13\n",
       "\\item 15\n",
       "\\item 17\n",
       "\\item 19\n",
       "\\item 21\n",
       "\\item 23\n",
       "\\item 25\n",
       "\\item 27\n",
       "\\item 29\n",
       "\\item 31\n",
       "\\item 33\n",
       "\\item 35\n",
       "\\end{enumerate*}\n"
      ],
      "text/markdown": [
       "1. 1\n",
       "2. 3\n",
       "3. 5\n",
       "4. 7\n",
       "5. 9\n",
       "6. 11\n",
       "7. 13\n",
       "8. 15\n",
       "9. 17\n",
       "10. 19\n",
       "11. 21\n",
       "12. 23\n",
       "13. 25\n",
       "14. 27\n",
       "15. 29\n",
       "16. 31\n",
       "17. 33\n",
       "18. 35\n",
       "\n",
       "\n"
      ],
      "text/plain": [
       " [1]  1  3  5  7  9 11 13 15 17 19 21 23 25 27 29 31 33 35"
      ]
     },
     "metadata": {},
     "output_type": "display_data"
    }
   ],
   "source": [
    "seq(1, 35, length = 35/2)"
   ]
  },
  {
   "cell_type": "code",
   "execution_count": 71,
   "id": "bronze-clinic",
   "metadata": {},
   "outputs": [
    {
     "data": {
      "text/html": [
       "<ol class=list-inline>\n",
       "\t<li>1</li>\n",
       "\t<li>3</li>\n",
       "\t<li>5</li>\n",
       "\t<li>7</li>\n",
       "\t<li>9</li>\n",
       "\t<li>11</li>\n",
       "\t<li>13</li>\n",
       "\t<li>15</li>\n",
       "\t<li>17</li>\n",
       "\t<li>19</li>\n",
       "\t<li>21</li>\n",
       "\t<li>23</li>\n",
       "\t<li>25</li>\n",
       "\t<li>27</li>\n",
       "\t<li>29</li>\n",
       "\t<li>31</li>\n",
       "\t<li>33</li>\n",
       "\t<li>35</li>\n",
       "</ol>\n"
      ],
      "text/latex": [
       "\\begin{enumerate*}\n",
       "\\item 1\n",
       "\\item 3\n",
       "\\item 5\n",
       "\\item 7\n",
       "\\item 9\n",
       "\\item 11\n",
       "\\item 13\n",
       "\\item 15\n",
       "\\item 17\n",
       "\\item 19\n",
       "\\item 21\n",
       "\\item 23\n",
       "\\item 25\n",
       "\\item 27\n",
       "\\item 29\n",
       "\\item 31\n",
       "\\item 33\n",
       "\\item 35\n",
       "\\end{enumerate*}\n"
      ],
      "text/markdown": [
       "1. 1\n",
       "2. 3\n",
       "3. 5\n",
       "4. 7\n",
       "5. 9\n",
       "6. 11\n",
       "7. 13\n",
       "8. 15\n",
       "9. 17\n",
       "10. 19\n",
       "11. 21\n",
       "12. 23\n",
       "13. 25\n",
       "14. 27\n",
       "15. 29\n",
       "16. 31\n",
       "17. 33\n",
       "18. 35\n",
       "\n",
       "\n"
      ],
      "text/plain": [
       " [1]  1  3  5  7  9 11 13 15 17 19 21 23 25 27 29 31 33 35"
      ]
     },
     "metadata": {},
     "output_type": "display_data"
    }
   ],
   "source": [
    "seq(1, by=2, len=18)"
   ]
  },
  {
   "cell_type": "markdown",
   "id": "voluntary-saturday",
   "metadata": {},
   "source": [
    "3) Using the **ChickWeight** dataset, provide a histogram of the weight\n",
    "variable using base R graphics. Please provide multiple plots by changing\n",
    "the number of breaks or where breaks should be placed (argument\n",
    "breaks), and decide on an appropriate display. Please provide a boxplot of\n",
    "the weight variable by Diet - use the boxplot() function do this. Do you see\n",
    "anything about this data that is worth noting? Finally, use R (perhaps the R\n",
    "documentation facilities to answer): is it likely that each row of ChickWeight\n",
    "is collected from a separate chicken?\n",
    "\n",
    "It is worth noting that diets 1 and 2 tend to include chicks with lower weights overall. \n",
    "According to the documentation, there is a unique identifier for thie chick. Chicks are grouped by diet and only their final weight is recorded within a diet.  It is likely that each row represents a unique chick, unless the same chicks had their weights recorded after each of the diets."
   ]
  },
  {
   "cell_type": "code",
   "execution_count": 129,
   "id": "important-danish",
   "metadata": {},
   "outputs": [],
   "source": [
    "?ChickWeight"
   ]
  },
  {
   "cell_type": "code",
   "execution_count": 76,
   "id": "liable-yemen",
   "metadata": {},
   "outputs": [
    {
     "data": {
      "text/plain": [
       "   Min. 1st Qu.  Median    Mean 3rd Qu.    Max. \n",
       "   35.0    63.0   103.0   121.8   163.8   373.0 "
      ]
     },
     "metadata": {},
     "output_type": "display_data"
    }
   ],
   "source": [
    "summary(ChickWeight$weight)"
   ]
  },
  {
   "cell_type": "code",
   "execution_count": 77,
   "id": "charitable-hacker",
   "metadata": {},
   "outputs": [
    {
     "data": {
      "image/png": "[encoded data removed]",
      "text/plain": [
       "Plot with title \"Histogram of ChickWeight$weight\""
      ]
     },
     "metadata": {},
     "output_type": "display_data"
    }
   ],
   "source": [
    "hist(ChickWeight$weight)"
   ]
  },
  {
   "cell_type": "code",
   "execution_count": 80,
   "id": "prime-columbia",
   "metadata": {},
   "outputs": [
    {
     "data": {
      "image/png": "[encoded data removed]",
      "text/plain": [
       "Plot with title \"Histogram of ChickWeight$weight\""
      ]
     },
     "metadata": {},
     "output_type": "display_data"
    }
   ],
   "source": [
    "hist(ChickWeight$weight, breaks=20)"
   ]
  },
  {
   "cell_type": "code",
   "execution_count": 96,
   "id": "civilian-subsection",
   "metadata": {},
   "outputs": [
    {
     "data": {
      "image/png": "[encoded data removed]",
      "text/plain": [
       "Plot with title \"Histogram of ChickWeight$weight\""
      ]
     },
     "metadata": {},
     "output_type": "display_data"
    }
   ],
   "source": [
    "hist(ChickWeight$weight, breaks=4)"
   ]
  },
  {
   "cell_type": "code",
   "execution_count": 128,
   "id": "becoming-combining",
   "metadata": {},
   "outputs": [
    {
     "data": {
      "image/png": "[encoded data removed]",
      "text/plain": [
       "plot without title"
      ]
     },
     "metadata": {},
     "output_type": "display_data"
    },
    {
     "data": {
      "image/png": "[encoded data removed]",
      "text/plain": [
       "plot without title"
      ]
     },
     "metadata": {},
     "output_type": "display_data"
    },
    {
     "data": {
      "image/png": "[encoded data removed]",
      "text/plain": [
       "plot without title"
      ]
     },
     "metadata": {},
     "output_type": "display_data"
    },
    {
     "data": {
      "image/png": "[encoded data removed]",
      "text/plain": [
       "plot without title"
      ]
     },
     "metadata": {},
     "output_type": "display_data"
    }
   ],
   "source": [
    "for (item in unique(ChickWeight$Diet)){\n",
    "    diet <- ChickWeight[ChickWeight$Diet == item, ]\n",
    "    boxplot(diet$weight, xlab=paste(\"Diet\", item))\n",
    "}"
   ]
  },
  {
   "cell_type": "code",
   "execution_count": 126,
   "id": "actual-marijuana",
   "metadata": {},
   "outputs": [],
   "source": [
    "?boxplot"
   ]
  },
  {
   "cell_type": "code",
   "execution_count": null,
   "id": "piano-gregory",
   "metadata": {},
   "outputs": [],
   "source": []
  }
 ],
 "metadata": {
  "kernelspec": {
   "display_name": "R",
   "language": "R",
   "name": "ir"
  },
  "language_info": {
   "codemirror_mode": "r",
   "file_extension": ".r",
   "mimetype": "text/x-r-source",
   "name": "R",
   "pygments_lexer": "r",
   "version": "3.6.1"
  }
 },
 "nbformat": 4,
 "nbformat_minor": 5
}
