{
 "cells": [
  {
   "cell_type": "code",
   "execution_count": 144,
   "id": "lucky-creek",
   "metadata": {},
   "outputs": [],
   "source": [
    "import pandas as pd"
   ]
  },
  {
   "cell_type": "code",
   "execution_count": 148,
   "id": "binary-giant",
   "metadata": {},
   "outputs": [
    {
     "data": {
      "text/html": [
       "<div>\n",
       "<style scoped>\n",
       "    .dataframe tbody tr th:only-of-type {\n",
       "        vertical-align: middle;\n",
       "    }\n",
       "\n",
       "    .dataframe tbody tr th {\n",
       "        vertical-align: top;\n",
       "    }\n",
       "\n",
       "    .dataframe thead th {\n",
       "        text-align: right;\n",
       "    }\n",
       "</style>\n",
       "<table border=\"1\" class=\"dataframe\">\n",
       "  <thead>\n",
       "    <tr style=\"text-align: right;\">\n",
       "      <th></th>\n",
       "      <th>Obs.</th>\n",
       "      <th>X1</th>\n",
       "      <th>X2</th>\n",
       "      <th>X3</th>\n",
       "      <th>Y</th>\n",
       "    </tr>\n",
       "  </thead>\n",
       "  <tbody>\n",
       "    <tr>\n",
       "      <th>0</th>\n",
       "      <td>1</td>\n",
       "      <td>0</td>\n",
       "      <td>3</td>\n",
       "      <td>0</td>\n",
       "      <td>Red</td>\n",
       "    </tr>\n",
       "    <tr>\n",
       "      <th>1</th>\n",
       "      <td>2</td>\n",
       "      <td>2</td>\n",
       "      <td>0</td>\n",
       "      <td>0</td>\n",
       "      <td>Red</td>\n",
       "    </tr>\n",
       "    <tr>\n",
       "      <th>2</th>\n",
       "      <td>3</td>\n",
       "      <td>0</td>\n",
       "      <td>1</td>\n",
       "      <td>3</td>\n",
       "      <td>Red</td>\n",
       "    </tr>\n",
       "    <tr>\n",
       "      <th>3</th>\n",
       "      <td>4</td>\n",
       "      <td>0</td>\n",
       "      <td>1</td>\n",
       "      <td>2</td>\n",
       "      <td>Green</td>\n",
       "    </tr>\n",
       "    <tr>\n",
       "      <th>4</th>\n",
       "      <td>5</td>\n",
       "      <td>-1</td>\n",
       "      <td>0</td>\n",
       "      <td>1</td>\n",
       "      <td>Green</td>\n",
       "    </tr>\n",
       "    <tr>\n",
       "      <th>5</th>\n",
       "      <td>6</td>\n",
       "      <td>1</td>\n",
       "      <td>1</td>\n",
       "      <td>1</td>\n",
       "      <td>Red</td>\n",
       "    </tr>\n",
       "  </tbody>\n",
       "</table>\n",
       "</div>"
      ],
      "text/plain": [
       "   Obs.  X1  X2  X3      Y\n",
       "0     1   0   3   0    Red\n",
       "1     2   2   0   0    Red\n",
       "2     3   0   1   3    Red\n",
       "3     4   0   1   2  Green\n",
       "4     5  -1   0   1  Green\n",
       "5     6   1   1   1    Red"
      ]
     },
     "execution_count": 148,
     "metadata": {},
     "output_type": "execute_result"
    }
   ],
   "source": [
    "cols = ['Obs.','X1','X2','X3','Y']\n",
    "\n",
    "df = pd.DataFrame([\n",
    "    (1, 0, 3, 0, 'Red'),\n",
    "    (2, 2, 0, 0, 'Red'),\n",
    "    (3, 0, 1, 3, 'Red'),\n",
    "    (4, 0, 1, 2, 'Green'),\n",
    "    (5, -1, 0, 1, 'Green'),\n",
    "    (6, 1, 1, 1, 'Red')\n",
    "], columns = cols)\n",
    "df"
   ]
  },
  {
   "cell_type": "code",
   "execution_count": 149,
   "id": "behavioral-meaning",
   "metadata": {},
   "outputs": [],
   "source": [
    "df.to_csv('data/ex_27.csv')"
   ]
  },
  {
   "cell_type": "code",
   "execution_count": 159,
   "id": "swiss-conference",
   "metadata": {},
   "outputs": [],
   "source": [
    "X = df[['X1', 'X2', 'X3']]\n",
    "y = df.Y"
   ]
  },
  {
   "cell_type": "code",
   "execution_count": 200,
   "id": "helpful-april",
   "metadata": {},
   "outputs": [],
   "source": [
    "from sklearn.neighbors import KNeighborsClassifier\n",
    "from sklearn.model_selection import train_test_split"
   ]
  },
  {
   "cell_type": "code",
   "execution_count": 201,
   "id": "encouraging-ultimate",
   "metadata": {},
   "outputs": [
    {
     "data": {
      "text/html": [
       "<div>\n",
       "<style scoped>\n",
       "    .dataframe tbody tr th:only-of-type {\n",
       "        vertical-align: middle;\n",
       "    }\n",
       "\n",
       "    .dataframe tbody tr th {\n",
       "        vertical-align: top;\n",
       "    }\n",
       "\n",
       "    .dataframe thead th {\n",
       "        text-align: right;\n",
       "    }\n",
       "</style>\n",
       "<table border=\"1\" class=\"dataframe\">\n",
       "  <thead>\n",
       "    <tr style=\"text-align: right;\">\n",
       "      <th></th>\n",
       "      <th>X1</th>\n",
       "      <th>X2</th>\n",
       "      <th>X3</th>\n",
       "    </tr>\n",
       "  </thead>\n",
       "  <tbody>\n",
       "    <tr>\n",
       "      <th>0</th>\n",
       "      <td>0</td>\n",
       "      <td>0</td>\n",
       "      <td>0</td>\n",
       "    </tr>\n",
       "  </tbody>\n",
       "</table>\n",
       "</div>"
      ],
      "text/plain": [
       "   X1  X2  X3\n",
       "0   0   0   0"
      ]
     },
     "execution_count": 201,
     "metadata": {},
     "output_type": "execute_result"
    }
   ],
   "source": [
    "X_test = pd.DataFrame(np.array([(0,0,0)]), columns=['X1', 'X2', 'X3'])\n",
    "X_test"
   ]
  },
  {
   "cell_type": "code",
   "execution_count": 207,
   "id": "amateur-exclusive",
   "metadata": {},
   "outputs": [
    {
     "name": "stdout",
     "output_type": "stream",
     "text": [
      "Obs. 1\n",
      "Eucl:  3.0\n",
      "--\n",
      "Obs. 2\n",
      "Eucl:  2.0\n",
      "--\n",
      "Obs. 3\n",
      "Eucl:  3.1623\n",
      "--\n",
      "Obs. 4\n",
      "Eucl:  2.2361\n",
      "--\n",
      "Obs. 5\n",
      "Eucl:  1.4142\n",
      "--\n",
      "Obs. 6\n",
      "Eucl:  1.7321\n",
      "--\n"
     ]
    }
   ],
   "source": [
    "b = X_test.to_numpy()\n",
    "for i in range(1, len(df)+1):\n",
    "    print('Obs.', i)\n",
    "    a = df[df['Obs.']==i][['X1', 'X2', 'X3']].to_numpy()\n",
    "    dist = np.linalg.norm(a-b)\n",
    "    print('Eucl: ', round(dist, 4))\n",
    "    print('--')"
   ]
  },
  {
   "cell_type": "code",
   "execution_count": 202,
   "id": "ordinary-extension",
   "metadata": {},
   "outputs": [],
   "source": [
    "def fit_k(X_train, y_train, X_test, k):\n",
    "    knn = KNeighborsClassifier(n_neighbors=k)\n",
    "    knn.fit(X_train, y_train)\n",
    "  \n",
    "    return knn.predict(X_test)"
   ]
  },
  {
   "cell_type": "code",
   "execution_count": 203,
   "id": "featured-airline",
   "metadata": {},
   "outputs": [
    {
     "data": {
      "text/plain": [
       "array(['Green'], dtype=object)"
      ]
     },
     "execution_count": 203,
     "metadata": {},
     "output_type": "execute_result"
    }
   ],
   "source": [
    "fit_k(X, y, X_test, 1)"
   ]
  },
  {
   "cell_type": "code",
   "execution_count": 204,
   "id": "color-pollution",
   "metadata": {},
   "outputs": [
    {
     "data": {
      "text/plain": [
       "array(['Red'], dtype=object)"
      ]
     },
     "execution_count": 204,
     "metadata": {},
     "output_type": "execute_result"
    }
   ],
   "source": [
    "fit_k(X, y, X_test, 3)"
   ]
  },
  {
   "cell_type": "code",
   "execution_count": null,
   "id": "advanced-lighter",
   "metadata": {},
   "outputs": [],
   "source": []
  }
 ],
 "metadata": {
  "kernelspec": {
   "display_name": "Python 3",
   "language": "python",
   "name": "python3"
  },
  "language_info": {
   "codemirror_mode": {
    "name": "ipython",
    "version": 3
   },
   "file_extension": ".py",
   "mimetype": "text/x-python",
   "name": "python",
   "nbconvert_exporter": "python",
   "pygments_lexer": "ipython3",
   "version": "3.7.6"
  }
 },
 "nbformat": 4,
 "nbformat_minor": 5
}
