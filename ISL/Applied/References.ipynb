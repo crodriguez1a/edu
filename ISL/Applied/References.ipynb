{
 "cells": [
  {
   "cell_type": "markdown",
   "id": "alien-miller",
   "metadata": {},
   "source": [
    "# References\n",
    "\n",
    "https://data.library.virginia.edu/diagnostic-plots/\n",
    "\n",
    "https://www.learnbymarketing.com/tutorials/explaining-the-lm-summary-in-r/\n",
    "\n",
    "https://rpubs.com/aaronsc32/regression-confidence-prediction-intervals#:~:text=Confidence%20(Mean)%20Intervals&text=To%20find%20the%20confidence%20interval,to%20output%20the%20mean%20interval.\n"
   ]
  },
  {
   "cell_type": "code",
   "execution_count": null,
   "id": "animated-relaxation",
   "metadata": {},
   "outputs": [],
   "source": []
  }
 ],
 "metadata": {
  "kernelspec": {
   "display_name": "R",
   "language": "R",
   "name": "ir"
  },
  "language_info": {
   "codemirror_mode": "r",
   "file_extension": ".r",
   "mimetype": "text/x-r-source",
   "name": "R",
   "pygments_lexer": "r",
   "version": "3.6.1"
  }
 },
 "nbformat": 4,
 "nbformat_minor": 5
}
